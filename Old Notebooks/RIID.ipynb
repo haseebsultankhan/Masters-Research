{
 "cells": [
  {
   "cell_type": "code",
   "execution_count": 1,
   "metadata": {},
   "outputs": [],
   "source": [
    "import pandas as pd\n",
    "import numpy as np\n",
    "import feather\n"
   ]
  },
  {
   "cell_type": "code",
   "execution_count": 2,
   "metadata": {},
   "outputs": [
    {
     "data": {
      "text/html": [
       "<div>\n",
       "<style scoped>\n",
       "    .dataframe tbody tr th:only-of-type {\n",
       "        vertical-align: middle;\n",
       "    }\n",
       "\n",
       "    .dataframe tbody tr th {\n",
       "        vertical-align: top;\n",
       "    }\n",
       "\n",
       "    .dataframe thead th {\n",
       "        text-align: right;\n",
       "    }\n",
       "</style>\n",
       "<table border=\"1\" class=\"dataframe\">\n",
       "  <thead>\n",
       "    <tr style=\"text-align: right;\">\n",
       "      <th></th>\n",
       "      <th>timestamp</th>\n",
       "      <th>solving_id</th>\n",
       "      <th>question_id</th>\n",
       "      <th>user_answer</th>\n",
       "      <th>elapsed_time</th>\n",
       "      <th>user_iD</th>\n",
       "    </tr>\n",
       "  </thead>\n",
       "  <tbody>\n",
       "    <tr>\n",
       "      <th>0</th>\n",
       "      <td>1565096190868</td>\n",
       "      <td>1</td>\n",
       "      <td>q5012</td>\n",
       "      <td>b</td>\n",
       "      <td>38000</td>\n",
       "      <td>0</td>\n",
       "    </tr>\n",
       "    <tr>\n",
       "      <th>1</th>\n",
       "      <td>1565096221062</td>\n",
       "      <td>2</td>\n",
       "      <td>q4706</td>\n",
       "      <td>c</td>\n",
       "      <td>24000</td>\n",
       "      <td>0</td>\n",
       "    </tr>\n",
       "    <tr>\n",
       "      <th>2</th>\n",
       "      <td>1565096293432</td>\n",
       "      <td>3</td>\n",
       "      <td>q4366</td>\n",
       "      <td>b</td>\n",
       "      <td>68000</td>\n",
       "      <td>0</td>\n",
       "    </tr>\n",
       "    <tr>\n",
       "      <th>3</th>\n",
       "      <td>1565096339668</td>\n",
       "      <td>4</td>\n",
       "      <td>q4829</td>\n",
       "      <td>a</td>\n",
       "      <td>42000</td>\n",
       "      <td>0</td>\n",
       "    </tr>\n",
       "    <tr>\n",
       "      <th>4</th>\n",
       "      <td>1565096401774</td>\n",
       "      <td>5</td>\n",
       "      <td>q6528</td>\n",
       "      <td>b</td>\n",
       "      <td>59000</td>\n",
       "      <td>0</td>\n",
       "    </tr>\n",
       "    <tr>\n",
       "      <th>5</th>\n",
       "      <td>1565096463370</td>\n",
       "      <td>6</td>\n",
       "      <td>q4793</td>\n",
       "      <td>a</td>\n",
       "      <td>58000</td>\n",
       "      <td>0</td>\n",
       "    </tr>\n",
       "    <tr>\n",
       "      <th>6</th>\n",
       "      <td>1565096501746</td>\n",
       "      <td>7</td>\n",
       "      <td>q6488</td>\n",
       "      <td>a</td>\n",
       "      <td>35000</td>\n",
       "      <td>0</td>\n",
       "    </tr>\n",
       "    <tr>\n",
       "      <th>7</th>\n",
       "      <td>1565097101361</td>\n",
       "      <td>8</td>\n",
       "      <td>q356</td>\n",
       "      <td>b</td>\n",
       "      <td>23000</td>\n",
       "      <td>0</td>\n",
       "    </tr>\n",
       "    <tr>\n",
       "      <th>8</th>\n",
       "      <td>1565097171393</td>\n",
       "      <td>9</td>\n",
       "      <td>q1382</td>\n",
       "      <td>c</td>\n",
       "      <td>22000</td>\n",
       "      <td>0</td>\n",
       "    </tr>\n",
       "    <tr>\n",
       "      <th>9</th>\n",
       "      <td>1565097240758</td>\n",
       "      <td>10</td>\n",
       "      <td>q830</td>\n",
       "      <td>b</td>\n",
       "      <td>25000</td>\n",
       "      <td>0</td>\n",
       "    </tr>\n",
       "  </tbody>\n",
       "</table>\n",
       "</div>"
      ],
      "text/plain": [
       "       timestamp  solving_id question_id user_answer  elapsed_time  user_iD\n",
       "0  1565096190868           1       q5012           b         38000        0\n",
       "1  1565096221062           2       q4706           c         24000        0\n",
       "2  1565096293432           3       q4366           b         68000        0\n",
       "3  1565096339668           4       q4829           a         42000        0\n",
       "4  1565096401774           5       q6528           b         59000        0\n",
       "5  1565096463370           6       q4793           a         58000        0\n",
       "6  1565096501746           7       q6488           a         35000        0\n",
       "7  1565097101361           8        q356           b         23000        0\n",
       "8  1565097171393           9       q1382           c         22000        0\n",
       "9  1565097240758          10        q830           b         25000        0"
      ]
     },
     "execution_count": 2,
     "metadata": {},
     "output_type": "execute_result"
    }
   ],
   "source": [
    "# Read ftr file into a pandas dataframe\n",
    "KT1 = pd.read_feather(\"C:/Users/user1/Desktop/Concatinate/KT1.ftr\")\n",
    "\n",
    "# Take a look at the first 100 rows\n",
    "KT1.head(10)"
   ]
  },
  {
   "cell_type": "code",
   "execution_count": 61,
   "metadata": {},
   "outputs": [
    {
     "data": {
      "text/html": [
       "<div>\n",
       "<style scoped>\n",
       "    .dataframe tbody tr th:only-of-type {\n",
       "        vertical-align: middle;\n",
       "    }\n",
       "\n",
       "    .dataframe tbody tr th {\n",
       "        vertical-align: top;\n",
       "    }\n",
       "\n",
       "    .dataframe thead th {\n",
       "        text-align: right;\n",
       "    }\n",
       "</style>\n",
       "<table border=\"1\" class=\"dataframe\">\n",
       "  <thead>\n",
       "    <tr style=\"text-align: right;\">\n",
       "      <th></th>\n",
       "      <th>timestamp</th>\n",
       "      <th>action_type</th>\n",
       "      <th>item_id</th>\n",
       "      <th>source</th>\n",
       "      <th>user_answer</th>\n",
       "      <th>platform</th>\n",
       "      <th>user_iD</th>\n",
       "    </tr>\n",
       "  </thead>\n",
       "  <tbody>\n",
       "    <tr>\n",
       "      <th>0</th>\n",
       "      <td>1565096151269</td>\n",
       "      <td>enter</td>\n",
       "      <td>b3544</td>\n",
       "      <td>diagnosis</td>\n",
       "      <td>None</td>\n",
       "      <td>mobile</td>\n",
       "      <td>0</td>\n",
       "    </tr>\n",
       "    <tr>\n",
       "      <th>1</th>\n",
       "      <td>1565096187972</td>\n",
       "      <td>respond</td>\n",
       "      <td>q5012</td>\n",
       "      <td>diagnosis</td>\n",
       "      <td>b</td>\n",
       "      <td>mobile</td>\n",
       "      <td>0</td>\n",
       "    </tr>\n",
       "    <tr>\n",
       "      <th>2</th>\n",
       "      <td>1565096194904</td>\n",
       "      <td>submit</td>\n",
       "      <td>b3544</td>\n",
       "      <td>diagnosis</td>\n",
       "      <td>None</td>\n",
       "      <td>mobile</td>\n",
       "      <td>0</td>\n",
       "    </tr>\n",
       "    <tr>\n",
       "      <th>3</th>\n",
       "      <td>1565096195001</td>\n",
       "      <td>enter</td>\n",
       "      <td>b3238</td>\n",
       "      <td>diagnosis</td>\n",
       "      <td>None</td>\n",
       "      <td>mobile</td>\n",
       "      <td>0</td>\n",
       "    </tr>\n",
       "    <tr>\n",
       "      <th>4</th>\n",
       "      <td>1565096218682</td>\n",
       "      <td>respond</td>\n",
       "      <td>q4706</td>\n",
       "      <td>diagnosis</td>\n",
       "      <td>c</td>\n",
       "      <td>mobile</td>\n",
       "      <td>0</td>\n",
       "    </tr>\n",
       "    <tr>\n",
       "      <th>5</th>\n",
       "      <td>1565096223029</td>\n",
       "      <td>submit</td>\n",
       "      <td>b3238</td>\n",
       "      <td>diagnosis</td>\n",
       "      <td>None</td>\n",
       "      <td>mobile</td>\n",
       "      <td>0</td>\n",
       "    </tr>\n",
       "    <tr>\n",
       "      <th>6</th>\n",
       "      <td>1565096223119</td>\n",
       "      <td>enter</td>\n",
       "      <td>b2898</td>\n",
       "      <td>diagnosis</td>\n",
       "      <td>None</td>\n",
       "      <td>mobile</td>\n",
       "      <td>0</td>\n",
       "    </tr>\n",
       "    <tr>\n",
       "      <th>7</th>\n",
       "      <td>1565096290094</td>\n",
       "      <td>respond</td>\n",
       "      <td>q4366</td>\n",
       "      <td>diagnosis</td>\n",
       "      <td>b</td>\n",
       "      <td>mobile</td>\n",
       "      <td>0</td>\n",
       "    </tr>\n",
       "    <tr>\n",
       "      <th>8</th>\n",
       "      <td>1565096295925</td>\n",
       "      <td>submit</td>\n",
       "      <td>b2898</td>\n",
       "      <td>diagnosis</td>\n",
       "      <td>None</td>\n",
       "      <td>mobile</td>\n",
       "      <td>0</td>\n",
       "    </tr>\n",
       "    <tr>\n",
       "      <th>9</th>\n",
       "      <td>1565096296012</td>\n",
       "      <td>enter</td>\n",
       "      <td>b3361</td>\n",
       "      <td>diagnosis</td>\n",
       "      <td>None</td>\n",
       "      <td>mobile</td>\n",
       "      <td>0</td>\n",
       "    </tr>\n",
       "    <tr>\n",
       "      <th>10</th>\n",
       "      <td>1565096337361</td>\n",
       "      <td>respond</td>\n",
       "      <td>q4829</td>\n",
       "      <td>diagnosis</td>\n",
       "      <td>a</td>\n",
       "      <td>mobile</td>\n",
       "      <td>0</td>\n",
       "    </tr>\n",
       "    <tr>\n",
       "      <th>11</th>\n",
       "      <td>1565096341309</td>\n",
       "      <td>submit</td>\n",
       "      <td>b3361</td>\n",
       "      <td>diagnosis</td>\n",
       "      <td>None</td>\n",
       "      <td>mobile</td>\n",
       "      <td>0</td>\n",
       "    </tr>\n",
       "    <tr>\n",
       "      <th>12</th>\n",
       "      <td>1565096341395</td>\n",
       "      <td>enter</td>\n",
       "      <td>b5060</td>\n",
       "      <td>diagnosis</td>\n",
       "      <td>None</td>\n",
       "      <td>mobile</td>\n",
       "      <td>0</td>\n",
       "    </tr>\n",
       "    <tr>\n",
       "      <th>13</th>\n",
       "      <td>1565096395328</td>\n",
       "      <td>respond</td>\n",
       "      <td>q6528</td>\n",
       "      <td>diagnosis</td>\n",
       "      <td>b</td>\n",
       "      <td>mobile</td>\n",
       "      <td>0</td>\n",
       "    </tr>\n",
       "    <tr>\n",
       "      <th>14</th>\n",
       "      <td>1565096403465</td>\n",
       "      <td>submit</td>\n",
       "      <td>b5060</td>\n",
       "      <td>diagnosis</td>\n",
       "      <td>None</td>\n",
       "      <td>mobile</td>\n",
       "      <td>0</td>\n",
       "    </tr>\n",
       "    <tr>\n",
       "      <th>15</th>\n",
       "      <td>1565096403559</td>\n",
       "      <td>enter</td>\n",
       "      <td>b3325</td>\n",
       "      <td>diagnosis</td>\n",
       "      <td>None</td>\n",
       "      <td>mobile</td>\n",
       "      <td>0</td>\n",
       "    </tr>\n",
       "    <tr>\n",
       "      <th>16</th>\n",
       "      <td>1565096461374</td>\n",
       "      <td>respond</td>\n",
       "      <td>q4793</td>\n",
       "      <td>diagnosis</td>\n",
       "      <td>a</td>\n",
       "      <td>mobile</td>\n",
       "      <td>0</td>\n",
       "    </tr>\n",
       "    <tr>\n",
       "      <th>17</th>\n",
       "      <td>1565096465406</td>\n",
       "      <td>submit</td>\n",
       "      <td>b3325</td>\n",
       "      <td>diagnosis</td>\n",
       "      <td>None</td>\n",
       "      <td>mobile</td>\n",
       "      <td>0</td>\n",
       "    </tr>\n",
       "    <tr>\n",
       "      <th>18</th>\n",
       "      <td>1565096465497</td>\n",
       "      <td>enter</td>\n",
       "      <td>b5020</td>\n",
       "      <td>diagnosis</td>\n",
       "      <td>None</td>\n",
       "      <td>mobile</td>\n",
       "      <td>0</td>\n",
       "    </tr>\n",
       "    <tr>\n",
       "      <th>19</th>\n",
       "      <td>1565096499772</td>\n",
       "      <td>respond</td>\n",
       "      <td>q6488</td>\n",
       "      <td>diagnosis</td>\n",
       "      <td>a</td>\n",
       "      <td>mobile</td>\n",
       "      <td>0</td>\n",
       "    </tr>\n",
       "    <tr>\n",
       "      <th>20</th>\n",
       "      <td>1565096504384</td>\n",
       "      <td>submit</td>\n",
       "      <td>b5020</td>\n",
       "      <td>diagnosis</td>\n",
       "      <td>None</td>\n",
       "      <td>mobile</td>\n",
       "      <td>0</td>\n",
       "    </tr>\n",
       "    <tr>\n",
       "      <th>21</th>\n",
       "      <td>1565097076398</td>\n",
       "      <td>enter</td>\n",
       "      <td>b356</td>\n",
       "      <td>sprint</td>\n",
       "      <td>None</td>\n",
       "      <td>mobile</td>\n",
       "      <td>0</td>\n",
       "    </tr>\n",
       "    <tr>\n",
       "      <th>22</th>\n",
       "      <td>1565097095356</td>\n",
       "      <td>respond</td>\n",
       "      <td>q356</td>\n",
       "      <td>sprint</td>\n",
       "      <td>b</td>\n",
       "      <td>mobile</td>\n",
       "      <td>0</td>\n",
       "    </tr>\n",
       "    <tr>\n",
       "      <th>23</th>\n",
       "      <td>1565097102642</td>\n",
       "      <td>submit</td>\n",
       "      <td>b356</td>\n",
       "      <td>sprint</td>\n",
       "      <td>None</td>\n",
       "      <td>mobile</td>\n",
       "      <td>0</td>\n",
       "    </tr>\n",
       "    <tr>\n",
       "      <th>24</th>\n",
       "      <td>1565097147947</td>\n",
       "      <td>enter</td>\n",
       "      <td>b1382</td>\n",
       "      <td>sprint</td>\n",
       "      <td>None</td>\n",
       "      <td>mobile</td>\n",
       "      <td>0</td>\n",
       "    </tr>\n",
       "    <tr>\n",
       "      <th>25</th>\n",
       "      <td>1565097168971</td>\n",
       "      <td>respond</td>\n",
       "      <td>q1382</td>\n",
       "      <td>sprint</td>\n",
       "      <td>c</td>\n",
       "      <td>mobile</td>\n",
       "      <td>0</td>\n",
       "    </tr>\n",
       "    <tr>\n",
       "      <th>26</th>\n",
       "      <td>1565097172778</td>\n",
       "      <td>submit</td>\n",
       "      <td>b1382</td>\n",
       "      <td>sprint</td>\n",
       "      <td>None</td>\n",
       "      <td>mobile</td>\n",
       "      <td>0</td>\n",
       "    </tr>\n",
       "    <tr>\n",
       "      <th>27</th>\n",
       "      <td>1565097213786</td>\n",
       "      <td>enter</td>\n",
       "      <td>b830</td>\n",
       "      <td>sprint</td>\n",
       "      <td>None</td>\n",
       "      <td>mobile</td>\n",
       "      <td>0</td>\n",
       "    </tr>\n",
       "    <tr>\n",
       "      <th>28</th>\n",
       "      <td>1565097238650</td>\n",
       "      <td>respond</td>\n",
       "      <td>q830</td>\n",
       "      <td>sprint</td>\n",
       "      <td>b</td>\n",
       "      <td>mobile</td>\n",
       "      <td>0</td>\n",
       "    </tr>\n",
       "    <tr>\n",
       "      <th>29</th>\n",
       "      <td>1565097241501</td>\n",
       "      <td>submit</td>\n",
       "      <td>b830</td>\n",
       "      <td>sprint</td>\n",
       "      <td>None</td>\n",
       "      <td>mobile</td>\n",
       "      <td>0</td>\n",
       "    </tr>\n",
       "    <tr>\n",
       "      <th>30</th>\n",
       "      <td>1565097273496</td>\n",
       "      <td>enter</td>\n",
       "      <td>b8312</td>\n",
       "      <td>sprint</td>\n",
       "      <td>None</td>\n",
       "      <td>mobile</td>\n",
       "      <td>0</td>\n",
       "    </tr>\n",
       "    <tr>\n",
       "      <th>31</th>\n",
       "      <td>1565097295733</td>\n",
       "      <td>respond</td>\n",
       "      <td>q11259</td>\n",
       "      <td>sprint</td>\n",
       "      <td>b</td>\n",
       "      <td>mobile</td>\n",
       "      <td>0</td>\n",
       "    </tr>\n",
       "    <tr>\n",
       "      <th>32</th>\n",
       "      <td>1565097298840</td>\n",
       "      <td>submit</td>\n",
       "      <td>b8312</td>\n",
       "      <td>sprint</td>\n",
       "      <td>None</td>\n",
       "      <td>mobile</td>\n",
       "      <td>0</td>\n",
       "    </tr>\n",
       "    <tr>\n",
       "      <th>33</th>\n",
       "      <td>1565097325534</td>\n",
       "      <td>enter</td>\n",
       "      <td>b1092</td>\n",
       "      <td>sprint</td>\n",
       "      <td>None</td>\n",
       "      <td>mobile</td>\n",
       "      <td>0</td>\n",
       "    </tr>\n",
       "    <tr>\n",
       "      <th>34</th>\n",
       "      <td>1565097344934</td>\n",
       "      <td>respond</td>\n",
       "      <td>q1092</td>\n",
       "      <td>sprint</td>\n",
       "      <td>a</td>\n",
       "      <td>mobile</td>\n",
       "      <td>0</td>\n",
       "    </tr>\n",
       "    <tr>\n",
       "      <th>35</th>\n",
       "      <td>1565097348085</td>\n",
       "      <td>submit</td>\n",
       "      <td>b1092</td>\n",
       "      <td>sprint</td>\n",
       "      <td>None</td>\n",
       "      <td>mobile</td>\n",
       "      <td>0</td>\n",
       "    </tr>\n",
       "    <tr>\n",
       "      <th>36</th>\n",
       "      <td>1565097372666</td>\n",
       "      <td>enter</td>\n",
       "      <td>b524</td>\n",
       "      <td>sprint</td>\n",
       "      <td>None</td>\n",
       "      <td>mobile</td>\n",
       "      <td>0</td>\n",
       "    </tr>\n",
       "    <tr>\n",
       "      <th>37</th>\n",
       "      <td>1565097394176</td>\n",
       "      <td>respond</td>\n",
       "      <td>q524</td>\n",
       "      <td>sprint</td>\n",
       "      <td>a</td>\n",
       "      <td>mobile</td>\n",
       "      <td>0</td>\n",
       "    </tr>\n",
       "    <tr>\n",
       "      <th>38</th>\n",
       "      <td>1565097397355</td>\n",
       "      <td>submit</td>\n",
       "      <td>b524</td>\n",
       "      <td>sprint</td>\n",
       "      <td>None</td>\n",
       "      <td>mobile</td>\n",
       "      <td>0</td>\n",
       "    </tr>\n",
       "    <tr>\n",
       "      <th>39</th>\n",
       "      <td>1565097424640</td>\n",
       "      <td>enter</td>\n",
       "      <td>b485</td>\n",
       "      <td>sprint</td>\n",
       "      <td>None</td>\n",
       "      <td>mobile</td>\n",
       "      <td>0</td>\n",
       "    </tr>\n",
       "    <tr>\n",
       "      <th>40</th>\n",
       "      <td>1565097445208</td>\n",
       "      <td>respond</td>\n",
       "      <td>q485</td>\n",
       "      <td>sprint</td>\n",
       "      <td>c</td>\n",
       "      <td>mobile</td>\n",
       "      <td>0</td>\n",
       "    </tr>\n",
       "    <tr>\n",
       "      <th>41</th>\n",
       "      <td>1565097448675</td>\n",
       "      <td>submit</td>\n",
       "      <td>b485</td>\n",
       "      <td>sprint</td>\n",
       "      <td>None</td>\n",
       "      <td>mobile</td>\n",
       "      <td>0</td>\n",
       "    </tr>\n",
       "    <tr>\n",
       "      <th>42</th>\n",
       "      <td>1565097471941</td>\n",
       "      <td>enter</td>\n",
       "      <td>b8314</td>\n",
       "      <td>sprint</td>\n",
       "      <td>None</td>\n",
       "      <td>mobile</td>\n",
       "      <td>0</td>\n",
       "    </tr>\n",
       "    <tr>\n",
       "      <th>43</th>\n",
       "      <td>1565097494280</td>\n",
       "      <td>respond</td>\n",
       "      <td>q11261</td>\n",
       "      <td>sprint</td>\n",
       "      <td>b</td>\n",
       "      <td>mobile</td>\n",
       "      <td>0</td>\n",
       "    </tr>\n",
       "    <tr>\n",
       "      <th>44</th>\n",
       "      <td>1565097497903</td>\n",
       "      <td>submit</td>\n",
       "      <td>b8314</td>\n",
       "      <td>sprint</td>\n",
       "      <td>None</td>\n",
       "      <td>mobile</td>\n",
       "      <td>0</td>\n",
       "    </tr>\n",
       "    <tr>\n",
       "      <th>45</th>\n",
       "      <td>1565097523360</td>\n",
       "      <td>enter</td>\n",
       "      <td>b1329</td>\n",
       "      <td>sprint</td>\n",
       "      <td>None</td>\n",
       "      <td>mobile</td>\n",
       "      <td>0</td>\n",
       "    </tr>\n",
       "    <tr>\n",
       "      <th>46</th>\n",
       "      <td>1565097542398</td>\n",
       "      <td>respond</td>\n",
       "      <td>q1329</td>\n",
       "      <td>sprint</td>\n",
       "      <td>b</td>\n",
       "      <td>mobile</td>\n",
       "      <td>0</td>\n",
       "    </tr>\n",
       "    <tr>\n",
       "      <th>47</th>\n",
       "      <td>1565097546025</td>\n",
       "      <td>submit</td>\n",
       "      <td>b1329</td>\n",
       "      <td>sprint</td>\n",
       "      <td>None</td>\n",
       "      <td>mobile</td>\n",
       "      <td>0</td>\n",
       "    </tr>\n",
       "    <tr>\n",
       "      <th>48</th>\n",
       "      <td>1565097568316</td>\n",
       "      <td>enter</td>\n",
       "      <td>b1204</td>\n",
       "      <td>sprint</td>\n",
       "      <td>None</td>\n",
       "      <td>mobile</td>\n",
       "      <td>0</td>\n",
       "    </tr>\n",
       "    <tr>\n",
       "      <th>49</th>\n",
       "      <td>1565097586444</td>\n",
       "      <td>respond</td>\n",
       "      <td>q1204</td>\n",
       "      <td>sprint</td>\n",
       "      <td>c</td>\n",
       "      <td>mobile</td>\n",
       "      <td>0</td>\n",
       "    </tr>\n",
       "  </tbody>\n",
       "</table>\n",
       "</div>"
      ],
      "text/plain": [
       "        timestamp action_type item_id     source user_answer platform  user_iD\n",
       "0   1565096151269       enter   b3544  diagnosis        None   mobile        0\n",
       "1   1565096187972     respond   q5012  diagnosis           b   mobile        0\n",
       "2   1565096194904      submit   b3544  diagnosis        None   mobile        0\n",
       "3   1565096195001       enter   b3238  diagnosis        None   mobile        0\n",
       "4   1565096218682     respond   q4706  diagnosis           c   mobile        0\n",
       "5   1565096223029      submit   b3238  diagnosis        None   mobile        0\n",
       "6   1565096223119       enter   b2898  diagnosis        None   mobile        0\n",
       "7   1565096290094     respond   q4366  diagnosis           b   mobile        0\n",
       "8   1565096295925      submit   b2898  diagnosis        None   mobile        0\n",
       "9   1565096296012       enter   b3361  diagnosis        None   mobile        0\n",
       "10  1565096337361     respond   q4829  diagnosis           a   mobile        0\n",
       "11  1565096341309      submit   b3361  diagnosis        None   mobile        0\n",
       "12  1565096341395       enter   b5060  diagnosis        None   mobile        0\n",
       "13  1565096395328     respond   q6528  diagnosis           b   mobile        0\n",
       "14  1565096403465      submit   b5060  diagnosis        None   mobile        0\n",
       "15  1565096403559       enter   b3325  diagnosis        None   mobile        0\n",
       "16  1565096461374     respond   q4793  diagnosis           a   mobile        0\n",
       "17  1565096465406      submit   b3325  diagnosis        None   mobile        0\n",
       "18  1565096465497       enter   b5020  diagnosis        None   mobile        0\n",
       "19  1565096499772     respond   q6488  diagnosis           a   mobile        0\n",
       "20  1565096504384      submit   b5020  diagnosis        None   mobile        0\n",
       "21  1565097076398       enter    b356     sprint        None   mobile        0\n",
       "22  1565097095356     respond    q356     sprint           b   mobile        0\n",
       "23  1565097102642      submit    b356     sprint        None   mobile        0\n",
       "24  1565097147947       enter   b1382     sprint        None   mobile        0\n",
       "25  1565097168971     respond   q1382     sprint           c   mobile        0\n",
       "26  1565097172778      submit   b1382     sprint        None   mobile        0\n",
       "27  1565097213786       enter    b830     sprint        None   mobile        0\n",
       "28  1565097238650     respond    q830     sprint           b   mobile        0\n",
       "29  1565097241501      submit    b830     sprint        None   mobile        0\n",
       "30  1565097273496       enter   b8312     sprint        None   mobile        0\n",
       "31  1565097295733     respond  q11259     sprint           b   mobile        0\n",
       "32  1565097298840      submit   b8312     sprint        None   mobile        0\n",
       "33  1565097325534       enter   b1092     sprint        None   mobile        0\n",
       "34  1565097344934     respond   q1092     sprint           a   mobile        0\n",
       "35  1565097348085      submit   b1092     sprint        None   mobile        0\n",
       "36  1565097372666       enter    b524     sprint        None   mobile        0\n",
       "37  1565097394176     respond    q524     sprint           a   mobile        0\n",
       "38  1565097397355      submit    b524     sprint        None   mobile        0\n",
       "39  1565097424640       enter    b485     sprint        None   mobile        0\n",
       "40  1565097445208     respond    q485     sprint           c   mobile        0\n",
       "41  1565097448675      submit    b485     sprint        None   mobile        0\n",
       "42  1565097471941       enter   b8314     sprint        None   mobile        0\n",
       "43  1565097494280     respond  q11261     sprint           b   mobile        0\n",
       "44  1565097497903      submit   b8314     sprint        None   mobile        0\n",
       "45  1565097523360       enter   b1329     sprint        None   mobile        0\n",
       "46  1565097542398     respond   q1329     sprint           b   mobile        0\n",
       "47  1565097546025      submit   b1329     sprint        None   mobile        0\n",
       "48  1565097568316       enter   b1204     sprint        None   mobile        0\n",
       "49  1565097586444     respond   q1204     sprint           c   mobile        0"
      ]
     },
     "execution_count": 61,
     "metadata": {},
     "output_type": "execute_result"
    }
   ],
   "source": [
    "# Read ftr file into a pandas dataframe\n",
    "KT2 = pd.read_feather(\"C:/Users/user1/Desktop/Concatinate/KT2.ftr\")\n",
    "\n",
    "# Take a look at the first 100 rows\n",
    "KT2.head(50)"
   ]
  },
  {
   "cell_type": "code",
   "execution_count": 4,
   "metadata": {},
   "outputs": [
    {
     "data": {
      "text/html": [
       "<div>\n",
       "<style scoped>\n",
       "    .dataframe tbody tr th:only-of-type {\n",
       "        vertical-align: middle;\n",
       "    }\n",
       "\n",
       "    .dataframe tbody tr th {\n",
       "        vertical-align: top;\n",
       "    }\n",
       "\n",
       "    .dataframe thead th {\n",
       "        text-align: right;\n",
       "    }\n",
       "</style>\n",
       "<table border=\"1\" class=\"dataframe\">\n",
       "  <thead>\n",
       "    <tr style=\"text-align: right;\">\n",
       "      <th></th>\n",
       "      <th>timestamp</th>\n",
       "      <th>action_type</th>\n",
       "      <th>item_id</th>\n",
       "      <th>source</th>\n",
       "      <th>user_answer</th>\n",
       "      <th>platform</th>\n",
       "      <th>user_iD</th>\n",
       "    </tr>\n",
       "  </thead>\n",
       "  <tbody>\n",
       "    <tr>\n",
       "      <th>0</th>\n",
       "      <td>1565096151269</td>\n",
       "      <td>enter</td>\n",
       "      <td>b3544</td>\n",
       "      <td>diagnosis</td>\n",
       "      <td>None</td>\n",
       "      <td>mobile</td>\n",
       "      <td>0</td>\n",
       "    </tr>\n",
       "    <tr>\n",
       "      <th>1</th>\n",
       "      <td>1565096187972</td>\n",
       "      <td>respond</td>\n",
       "      <td>q5012</td>\n",
       "      <td>diagnosis</td>\n",
       "      <td>b</td>\n",
       "      <td>mobile</td>\n",
       "      <td>0</td>\n",
       "    </tr>\n",
       "    <tr>\n",
       "      <th>2</th>\n",
       "      <td>1565096194904</td>\n",
       "      <td>submit</td>\n",
       "      <td>b3544</td>\n",
       "      <td>diagnosis</td>\n",
       "      <td>None</td>\n",
       "      <td>mobile</td>\n",
       "      <td>0</td>\n",
       "    </tr>\n",
       "    <tr>\n",
       "      <th>3</th>\n",
       "      <td>1565096195001</td>\n",
       "      <td>enter</td>\n",
       "      <td>b3238</td>\n",
       "      <td>diagnosis</td>\n",
       "      <td>None</td>\n",
       "      <td>mobile</td>\n",
       "      <td>0</td>\n",
       "    </tr>\n",
       "    <tr>\n",
       "      <th>4</th>\n",
       "      <td>1565096218682</td>\n",
       "      <td>respond</td>\n",
       "      <td>q4706</td>\n",
       "      <td>diagnosis</td>\n",
       "      <td>c</td>\n",
       "      <td>mobile</td>\n",
       "      <td>0</td>\n",
       "    </tr>\n",
       "    <tr>\n",
       "      <th>5</th>\n",
       "      <td>1565096223029</td>\n",
       "      <td>submit</td>\n",
       "      <td>b3238</td>\n",
       "      <td>diagnosis</td>\n",
       "      <td>None</td>\n",
       "      <td>mobile</td>\n",
       "      <td>0</td>\n",
       "    </tr>\n",
       "    <tr>\n",
       "      <th>6</th>\n",
       "      <td>1565096223119</td>\n",
       "      <td>enter</td>\n",
       "      <td>b2898</td>\n",
       "      <td>diagnosis</td>\n",
       "      <td>None</td>\n",
       "      <td>mobile</td>\n",
       "      <td>0</td>\n",
       "    </tr>\n",
       "    <tr>\n",
       "      <th>7</th>\n",
       "      <td>1565096290094</td>\n",
       "      <td>respond</td>\n",
       "      <td>q4366</td>\n",
       "      <td>diagnosis</td>\n",
       "      <td>b</td>\n",
       "      <td>mobile</td>\n",
       "      <td>0</td>\n",
       "    </tr>\n",
       "    <tr>\n",
       "      <th>8</th>\n",
       "      <td>1565096295925</td>\n",
       "      <td>submit</td>\n",
       "      <td>b2898</td>\n",
       "      <td>diagnosis</td>\n",
       "      <td>None</td>\n",
       "      <td>mobile</td>\n",
       "      <td>0</td>\n",
       "    </tr>\n",
       "    <tr>\n",
       "      <th>9</th>\n",
       "      <td>1565096296012</td>\n",
       "      <td>enter</td>\n",
       "      <td>b3361</td>\n",
       "      <td>diagnosis</td>\n",
       "      <td>None</td>\n",
       "      <td>mobile</td>\n",
       "      <td>0</td>\n",
       "    </tr>\n",
       "  </tbody>\n",
       "</table>\n",
       "</div>"
      ],
      "text/plain": [
       "       timestamp action_type item_id     source user_answer platform  user_iD\n",
       "0  1565096151269       enter   b3544  diagnosis        None   mobile        0\n",
       "1  1565096187972     respond   q5012  diagnosis           b   mobile        0\n",
       "2  1565096194904      submit   b3544  diagnosis        None   mobile        0\n",
       "3  1565096195001       enter   b3238  diagnosis        None   mobile        0\n",
       "4  1565096218682     respond   q4706  diagnosis           c   mobile        0\n",
       "5  1565096223029      submit   b3238  diagnosis        None   mobile        0\n",
       "6  1565096223119       enter   b2898  diagnosis        None   mobile        0\n",
       "7  1565096290094     respond   q4366  diagnosis           b   mobile        0\n",
       "8  1565096295925      submit   b2898  diagnosis        None   mobile        0\n",
       "9  1565096296012       enter   b3361  diagnosis        None   mobile        0"
      ]
     },
     "execution_count": 4,
     "metadata": {},
     "output_type": "execute_result"
    }
   ],
   "source": [
    "# Read ftr file into a pandas dataframe\n",
    "KT3 = pd.read_feather(\"C:/Users/user1/Desktop/Concatinate/KT3.ftr\")\n",
    "\n",
    "# Take a look at the first 100 rows\n",
    "KT3.head(10)"
   ]
  },
  {
   "cell_type": "code",
   "execution_count": 5,
   "metadata": {},
   "outputs": [
    {
     "data": {
      "text/html": [
       "<div>\n",
       "<style scoped>\n",
       "    .dataframe tbody tr th:only-of-type {\n",
       "        vertical-align: middle;\n",
       "    }\n",
       "\n",
       "    .dataframe tbody tr th {\n",
       "        vertical-align: top;\n",
       "    }\n",
       "\n",
       "    .dataframe thead th {\n",
       "        text-align: right;\n",
       "    }\n",
       "</style>\n",
       "<table border=\"1\" class=\"dataframe\">\n",
       "  <thead>\n",
       "    <tr style=\"text-align: right;\">\n",
       "      <th></th>\n",
       "      <th>timestamp</th>\n",
       "      <th>action_type</th>\n",
       "      <th>item_id</th>\n",
       "      <th>cursor_time</th>\n",
       "      <th>source</th>\n",
       "      <th>user_answer</th>\n",
       "      <th>platform</th>\n",
       "      <th>user_iD</th>\n",
       "    </tr>\n",
       "  </thead>\n",
       "  <tbody>\n",
       "    <tr>\n",
       "      <th>0</th>\n",
       "      <td>1565096151269</td>\n",
       "      <td>enter</td>\n",
       "      <td>b3544</td>\n",
       "      <td>NaN</td>\n",
       "      <td>diagnosis</td>\n",
       "      <td>None</td>\n",
       "      <td>mobile</td>\n",
       "      <td>0</td>\n",
       "    </tr>\n",
       "    <tr>\n",
       "      <th>1</th>\n",
       "      <td>1565096187972</td>\n",
       "      <td>respond</td>\n",
       "      <td>q5012</td>\n",
       "      <td>NaN</td>\n",
       "      <td>diagnosis</td>\n",
       "      <td>b</td>\n",
       "      <td>mobile</td>\n",
       "      <td>0</td>\n",
       "    </tr>\n",
       "    <tr>\n",
       "      <th>2</th>\n",
       "      <td>1565096194904</td>\n",
       "      <td>submit</td>\n",
       "      <td>b3544</td>\n",
       "      <td>NaN</td>\n",
       "      <td>diagnosis</td>\n",
       "      <td>None</td>\n",
       "      <td>mobile</td>\n",
       "      <td>0</td>\n",
       "    </tr>\n",
       "    <tr>\n",
       "      <th>3</th>\n",
       "      <td>1565096195001</td>\n",
       "      <td>enter</td>\n",
       "      <td>b3238</td>\n",
       "      <td>NaN</td>\n",
       "      <td>diagnosis</td>\n",
       "      <td>None</td>\n",
       "      <td>mobile</td>\n",
       "      <td>0</td>\n",
       "    </tr>\n",
       "    <tr>\n",
       "      <th>4</th>\n",
       "      <td>1565096218682</td>\n",
       "      <td>respond</td>\n",
       "      <td>q4706</td>\n",
       "      <td>NaN</td>\n",
       "      <td>diagnosis</td>\n",
       "      <td>c</td>\n",
       "      <td>mobile</td>\n",
       "      <td>0</td>\n",
       "    </tr>\n",
       "    <tr>\n",
       "      <th>5</th>\n",
       "      <td>1565096223029</td>\n",
       "      <td>submit</td>\n",
       "      <td>b3238</td>\n",
       "      <td>NaN</td>\n",
       "      <td>diagnosis</td>\n",
       "      <td>None</td>\n",
       "      <td>mobile</td>\n",
       "      <td>0</td>\n",
       "    </tr>\n",
       "    <tr>\n",
       "      <th>6</th>\n",
       "      <td>1565096223119</td>\n",
       "      <td>enter</td>\n",
       "      <td>b2898</td>\n",
       "      <td>NaN</td>\n",
       "      <td>diagnosis</td>\n",
       "      <td>None</td>\n",
       "      <td>mobile</td>\n",
       "      <td>0</td>\n",
       "    </tr>\n",
       "    <tr>\n",
       "      <th>7</th>\n",
       "      <td>1565096290094</td>\n",
       "      <td>respond</td>\n",
       "      <td>q4366</td>\n",
       "      <td>NaN</td>\n",
       "      <td>diagnosis</td>\n",
       "      <td>b</td>\n",
       "      <td>mobile</td>\n",
       "      <td>0</td>\n",
       "    </tr>\n",
       "    <tr>\n",
       "      <th>8</th>\n",
       "      <td>1565096295925</td>\n",
       "      <td>submit</td>\n",
       "      <td>b2898</td>\n",
       "      <td>NaN</td>\n",
       "      <td>diagnosis</td>\n",
       "      <td>None</td>\n",
       "      <td>mobile</td>\n",
       "      <td>0</td>\n",
       "    </tr>\n",
       "    <tr>\n",
       "      <th>9</th>\n",
       "      <td>1565096296012</td>\n",
       "      <td>enter</td>\n",
       "      <td>b3361</td>\n",
       "      <td>NaN</td>\n",
       "      <td>diagnosis</td>\n",
       "      <td>None</td>\n",
       "      <td>mobile</td>\n",
       "      <td>0</td>\n",
       "    </tr>\n",
       "  </tbody>\n",
       "</table>\n",
       "</div>"
      ],
      "text/plain": [
       "       timestamp action_type item_id  cursor_time     source user_answer  \\\n",
       "0  1565096151269       enter   b3544          NaN  diagnosis        None   \n",
       "1  1565096187972     respond   q5012          NaN  diagnosis           b   \n",
       "2  1565096194904      submit   b3544          NaN  diagnosis        None   \n",
       "3  1565096195001       enter   b3238          NaN  diagnosis        None   \n",
       "4  1565096218682     respond   q4706          NaN  diagnosis           c   \n",
       "5  1565096223029      submit   b3238          NaN  diagnosis        None   \n",
       "6  1565096223119       enter   b2898          NaN  diagnosis        None   \n",
       "7  1565096290094     respond   q4366          NaN  diagnosis           b   \n",
       "8  1565096295925      submit   b2898          NaN  diagnosis        None   \n",
       "9  1565096296012       enter   b3361          NaN  diagnosis        None   \n",
       "\n",
       "  platform  user_iD  \n",
       "0   mobile        0  \n",
       "1   mobile        0  \n",
       "2   mobile        0  \n",
       "3   mobile        0  \n",
       "4   mobile        0  \n",
       "5   mobile        0  \n",
       "6   mobile        0  \n",
       "7   mobile        0  \n",
       "8   mobile        0  \n",
       "9   mobile        0  "
      ]
     },
     "execution_count": 5,
     "metadata": {},
     "output_type": "execute_result"
    }
   ],
   "source": [
    "# Read ftr file into a pandas dataframe\n",
    "KT4 = pd.read_feather(\"C:/Users/user1/Desktop/Concatinate/KT4.ftr\")\n",
    "\n",
    "# Take a look at the first 100 rows\n",
    "KT4.head(10)"
   ]
  },
  {
   "cell_type": "code",
   "execution_count": 6,
   "metadata": {},
   "outputs": [],
   "source": [
    "#CHECKING COLUMNS DTYPES OF EACH DATASET"
   ]
  },
  {
   "cell_type": "code",
   "execution_count": 7,
   "metadata": {},
   "outputs": [
    {
     "data": {
      "text/plain": [
       "timestamp        int64\n",
       "solving_id       int64\n",
       "question_id     object\n",
       "user_answer     object\n",
       "elapsed_time     int64\n",
       "user_iD          int64\n",
       "dtype: object"
      ]
     },
     "execution_count": 7,
     "metadata": {},
     "output_type": "execute_result"
    }
   ],
   "source": [
    "KT1.dtypes"
   ]
  },
  {
   "cell_type": "code",
   "execution_count": 8,
   "metadata": {},
   "outputs": [
    {
     "data": {
      "text/plain": [
       "timestamp       int64\n",
       "action_type    object\n",
       "item_id        object\n",
       "source         object\n",
       "user_answer    object\n",
       "platform       object\n",
       "user_iD         int64\n",
       "dtype: object"
      ]
     },
     "execution_count": 8,
     "metadata": {},
     "output_type": "execute_result"
    }
   ],
   "source": [
    "KT2.dtypes"
   ]
  },
  {
   "cell_type": "code",
   "execution_count": 9,
   "metadata": {},
   "outputs": [
    {
     "data": {
      "text/plain": [
       "timestamp       int64\n",
       "action_type    object\n",
       "item_id        object\n",
       "source         object\n",
       "user_answer    object\n",
       "platform       object\n",
       "user_iD         int64\n",
       "dtype: object"
      ]
     },
     "execution_count": 9,
     "metadata": {},
     "output_type": "execute_result"
    }
   ],
   "source": [
    "KT3.dtypes"
   ]
  },
  {
   "cell_type": "code",
   "execution_count": 10,
   "metadata": {},
   "outputs": [
    {
     "data": {
      "text/plain": [
       "timestamp        int64\n",
       "action_type     object\n",
       "item_id         object\n",
       "cursor_time    float64\n",
       "source          object\n",
       "user_answer     object\n",
       "platform        object\n",
       "user_iD          int64\n",
       "dtype: object"
      ]
     },
     "execution_count": 10,
     "metadata": {},
     "output_type": "execute_result"
    }
   ],
   "source": [
    "KT4.dtypes"
   ]
  },
  {
   "cell_type": "code",
   "execution_count": 11,
   "metadata": {},
   "outputs": [],
   "source": [
    "#CHECKING THE MISSING VALUES PERCENTAGES IN EACH DATASET"
   ]
  },
  {
   "cell_type": "code",
   "execution_count": 12,
   "metadata": {},
   "outputs": [],
   "source": [
    "percent_missing_KT1 = KT1.isnull().sum() * 100 / len(KT1)\n",
    "missing_value_KT1 = pd.DataFrame({#'column_name': KT1.columns,\n",
    "                                 'KT1 Missing Values in Percentage': percent_missing_KT1})"
   ]
  },
  {
   "cell_type": "code",
   "execution_count": 13,
   "metadata": {},
   "outputs": [
    {
     "name": "stdout",
     "output_type": "stream",
     "text": [
      "              KT1 Missing Values in Percentage\n",
      "timestamp                             0.000000\n",
      "solving_id                            0.000000\n",
      "question_id                           0.000000\n",
      "user_answer                           0.029011\n",
      "elapsed_time                          0.000000\n",
      "user_iD                               0.000000\n"
     ]
    }
   ],
   "source": [
    "print(missing_value_KT1)"
   ]
  },
  {
   "cell_type": "code",
   "execution_count": 14,
   "metadata": {},
   "outputs": [],
   "source": [
    "percent_missing_KT2 = KT2.isnull().sum() * 100 / len(KT2)\n",
    "missing_value_KT2 = pd.DataFrame({#'column_name': KT2.columns,\n",
    "                                 'KT2 Missing Values in Percentage': percent_missing_KT2})"
   ]
  },
  {
   "cell_type": "code",
   "execution_count": 15,
   "metadata": {},
   "outputs": [
    {
     "name": "stdout",
     "output_type": "stream",
     "text": [
      "             KT2 Missing Values in Percentage\n",
      "timestamp                            0.000000\n",
      "action_type                          0.000000\n",
      "item_id                              0.000000\n",
      "source                               0.000000\n",
      "user_answer                         58.509173\n",
      "platform                             0.000000\n",
      "user_iD                              0.000000\n"
     ]
    }
   ],
   "source": [
    "print(missing_value_KT2)"
   ]
  },
  {
   "cell_type": "code",
   "execution_count": 16,
   "metadata": {},
   "outputs": [],
   "source": [
    "percent_missing_KT3 = KT3.isnull().sum() * 100 / len(KT3)\n",
    "missing_value_KT3 = pd.DataFrame({#'column_name': KT3.columns,\n",
    "                                 'KT3 Missing Values in Percentage': percent_missing_KT3})"
   ]
  },
  {
   "cell_type": "code",
   "execution_count": 17,
   "metadata": {},
   "outputs": [
    {
     "name": "stdout",
     "output_type": "stream",
     "text": [
      "             KT3 Missing Values in Percentage\n",
      "timestamp                            0.000000\n",
      "action_type                          0.000000\n",
      "item_id                              0.000000\n",
      "source                               0.000000\n",
      "user_answer                         73.804964\n",
      "platform                             0.000000\n",
      "user_iD                              0.000000\n"
     ]
    }
   ],
   "source": [
    "print(missing_value_KT3)"
   ]
  },
  {
   "cell_type": "code",
   "execution_count": 18,
   "metadata": {},
   "outputs": [],
   "source": [
    "percent_missing_KT4 = KT4.isnull().sum() * 100 / len(KT4)\n",
    "missing_value_KT4 = pd.DataFrame({#'column_name': KT4.columns,\n",
    "                                 'KT4 Missing Values in Percentage': percent_missing_KT4})"
   ]
  },
  {
   "cell_type": "code",
   "execution_count": 19,
   "metadata": {},
   "outputs": [
    {
     "name": "stdout",
     "output_type": "stream",
     "text": [
      "             KT4 Missing Values in Percentage\n",
      "timestamp                            0.000000\n",
      "action_type                          0.000000\n",
      "item_id                              0.000000\n",
      "cursor_time                         71.633057\n",
      "source                               0.021540\n",
      "user_answer                         78.514322\n",
      "platform                             0.021540\n",
      "user_iD                              0.000000\n"
     ]
    }
   ],
   "source": [
    "print(missing_value_KT4)"
   ]
  },
  {
   "cell_type": "code",
   "execution_count": 20,
   "metadata": {},
   "outputs": [],
   "source": [
    "#Checking Duplicates"
   ]
  },
  {
   "cell_type": "code",
   "execution_count": 21,
   "metadata": {},
   "outputs": [],
   "source": [
    "#ANALYZING KT1 DATASET"
   ]
  },
  {
   "cell_type": "code",
   "execution_count": 22,
   "metadata": {},
   "outputs": [
    {
     "data": {
      "text/plain": [
       "0           False\n",
       "1           False\n",
       "2           False\n",
       "3           False\n",
       "4           False\n",
       "            ...  \n",
       "95293921    False\n",
       "95293922    False\n",
       "95293923    False\n",
       "95293924    False\n",
       "95293925    False\n",
       "Length: 95293926, dtype: bool"
      ]
     },
     "execution_count": 22,
     "metadata": {},
     "output_type": "execute_result"
    }
   ],
   "source": [
    "KT1.duplicated()"
   ]
  },
  {
   "cell_type": "code",
   "execution_count": 23,
   "metadata": {},
   "outputs": [
    {
     "data": {
      "text/plain": [
       "4983"
      ]
     },
     "execution_count": 23,
     "metadata": {},
     "output_type": "execute_result"
    }
   ],
   "source": [
    "KT1.duplicated().sum()"
   ]
  },
  {
   "cell_type": "code",
   "execution_count": 24,
   "metadata": {},
   "outputs": [
    {
     "data": {
      "text/plain": [
       "3044385"
      ]
     },
     "execution_count": 24,
     "metadata": {},
     "output_type": "execute_result"
    }
   ],
   "source": [
    "KT1['timestamp'].duplicated().sum()"
   ]
  },
  {
   "cell_type": "code",
   "execution_count": 25,
   "metadata": {},
   "outputs": [
    {
     "data": {
      "text/plain": [
       "95260794"
      ]
     },
     "execution_count": 25,
     "metadata": {},
     "output_type": "execute_result"
    }
   ],
   "source": [
    "KT1['solving_id'].duplicated().sum()"
   ]
  },
  {
   "cell_type": "code",
   "execution_count": 26,
   "metadata": {},
   "outputs": [
    {
     "data": {
      "text/plain": [
       "95281642"
      ]
     },
     "execution_count": 26,
     "metadata": {},
     "output_type": "execute_result"
    }
   ],
   "source": [
    "KT1['question_id'].duplicated().sum()"
   ]
  },
  {
   "cell_type": "code",
   "execution_count": 27,
   "metadata": {},
   "outputs": [
    {
     "data": {
      "text/plain": [
       "95293921"
      ]
     },
     "execution_count": 27,
     "metadata": {},
     "output_type": "execute_result"
    }
   ],
   "source": [
    "KT1['user_answer'].duplicated().sum()  #THIS WILL HAVE MANY DUPLICATES AS ITS AN MCQs BASED QUIZ AND OPTIONS will be shown duplicated"
   ]
  },
  {
   "cell_type": "code",
   "execution_count": 28,
   "metadata": {},
   "outputs": [
    {
     "data": {
      "text/plain": [
       "95284628"
      ]
     },
     "execution_count": 28,
     "metadata": {},
     "output_type": "execute_result"
    }
   ],
   "source": [
    "KT1['elapsed_time'].duplicated().sum()"
   ]
  },
  {
   "cell_type": "code",
   "execution_count": 29,
   "metadata": {},
   "outputs": [
    {
     "data": {
      "text/plain": [
       "94509617"
      ]
     },
     "execution_count": 29,
     "metadata": {},
     "output_type": "execute_result"
    }
   ],
   "source": [
    "KT1['user_iD'].duplicated().sum()"
   ]
  },
  {
   "cell_type": "code",
   "execution_count": 30,
   "metadata": {},
   "outputs": [],
   "source": [
    "#Analyzing KT2 Dataset"
   ]
  },
  {
   "cell_type": "code",
   "execution_count": 31,
   "metadata": {},
   "outputs": [
    {
     "data": {
      "text/plain": [
       "0           False\n",
       "1           False\n",
       "2           False\n",
       "3           False\n",
       "4           False\n",
       "            ...  \n",
       "56360597    False\n",
       "56360598    False\n",
       "56360599    False\n",
       "56360600    False\n",
       "56360601    False\n",
       "Length: 56360602, dtype: bool"
      ]
     },
     "execution_count": 31,
     "metadata": {},
     "output_type": "execute_result"
    }
   ],
   "source": [
    "KT2.duplicated()"
   ]
  },
  {
   "cell_type": "code",
   "execution_count": 32,
   "metadata": {},
   "outputs": [
    {
     "data": {
      "text/plain": [
       "75778"
      ]
     },
     "execution_count": 32,
     "metadata": {},
     "output_type": "execute_result"
    }
   ],
   "source": [
    "KT2.duplicated().sum()"
   ]
  },
  {
   "cell_type": "code",
   "execution_count": 33,
   "metadata": {},
   "outputs": [
    {
     "data": {
      "text/plain": [
       "136262"
      ]
     },
     "execution_count": 33,
     "metadata": {},
     "output_type": "execute_result"
    }
   ],
   "source": [
    "KT2['timestamp'].duplicated().sum()"
   ]
  },
  {
   "cell_type": "code",
   "execution_count": 34,
   "metadata": {},
   "outputs": [
    {
     "data": {
      "text/plain": [
       "56360599"
      ]
     },
     "execution_count": 34,
     "metadata": {},
     "output_type": "execute_result"
    }
   ],
   "source": [
    "KT2['action_type'].duplicated().sum()"
   ]
  },
  {
   "cell_type": "code",
   "execution_count": 35,
   "metadata": {},
   "outputs": [
    {
     "data": {
      "text/plain": [
       "56340571"
      ]
     },
     "execution_count": 35,
     "metadata": {},
     "output_type": "execute_result"
    }
   ],
   "source": [
    "KT2['item_id'].duplicated().sum()"
   ]
  },
  {
   "cell_type": "code",
   "execution_count": 36,
   "metadata": {},
   "outputs": [
    {
     "data": {
      "text/plain": [
       "56360595"
      ]
     },
     "execution_count": 36,
     "metadata": {},
     "output_type": "execute_result"
    }
   ],
   "source": [
    "KT2['source'].duplicated().sum()"
   ]
  },
  {
   "cell_type": "code",
   "execution_count": 37,
   "metadata": {},
   "outputs": [
    {
     "data": {
      "text/plain": [
       "56360597"
      ]
     },
     "execution_count": 37,
     "metadata": {},
     "output_type": "execute_result"
    }
   ],
   "source": [
    "KT2['user_answer'].duplicated().sum()"
   ]
  },
  {
   "cell_type": "code",
   "execution_count": 38,
   "metadata": {},
   "outputs": [
    {
     "data": {
      "text/plain": [
       "56360600"
      ]
     },
     "execution_count": 38,
     "metadata": {},
     "output_type": "execute_result"
    }
   ],
   "source": [
    "KT2['platform'].duplicated().sum()"
   ]
  },
  {
   "cell_type": "code",
   "execution_count": 39,
   "metadata": {},
   "outputs": [
    {
     "data": {
      "text/plain": [
       "56063158"
      ]
     },
     "execution_count": 39,
     "metadata": {},
     "output_type": "execute_result"
    }
   ],
   "source": [
    "KT2['user_iD'].duplicated().sum()"
   ]
  },
  {
   "cell_type": "code",
   "execution_count": 40,
   "metadata": {},
   "outputs": [],
   "source": [
    "#ANALZING KT3 DATASET"
   ]
  },
  {
   "cell_type": "code",
   "execution_count": 41,
   "metadata": {},
   "outputs": [
    {
     "data": {
      "text/plain": [
       "0           False\n",
       "1           False\n",
       "2           False\n",
       "3           False\n",
       "4           False\n",
       "            ...  \n",
       "89270649    False\n",
       "89270650    False\n",
       "89270651    False\n",
       "89270652    False\n",
       "89270653    False\n",
       "Length: 89270654, dtype: bool"
      ]
     },
     "execution_count": 41,
     "metadata": {},
     "output_type": "execute_result"
    }
   ],
   "source": [
    "KT3.duplicated()"
   ]
  },
  {
   "cell_type": "code",
   "execution_count": 42,
   "metadata": {},
   "outputs": [
    {
     "data": {
      "text/plain": [
       "75778"
      ]
     },
     "execution_count": 42,
     "metadata": {},
     "output_type": "execute_result"
    }
   ],
   "source": [
    "KT3.duplicated().sum()"
   ]
  },
  {
   "cell_type": "code",
   "execution_count": 43,
   "metadata": {},
   "outputs": [
    {
     "data": {
      "text/plain": [
       "225677"
      ]
     },
     "execution_count": 43,
     "metadata": {},
     "output_type": "execute_result"
    }
   ],
   "source": [
    "KT3['timestamp'].duplicated().sum()"
   ]
  },
  {
   "cell_type": "code",
   "execution_count": 44,
   "metadata": {},
   "outputs": [
    {
     "data": {
      "text/plain": [
       "89270650"
      ]
     },
     "execution_count": 44,
     "metadata": {},
     "output_type": "execute_result"
    }
   ],
   "source": [
    "KT3['action_type'].duplicated().sum()"
   ]
  },
  {
   "cell_type": "code",
   "execution_count": 45,
   "metadata": {},
   "outputs": [
    {
     "data": {
      "text/plain": [
       "89241156"
      ]
     },
     "execution_count": 45,
     "metadata": {},
     "output_type": "execute_result"
    }
   ],
   "source": [
    "KT3['item_id'].duplicated().sum()"
   ]
  },
  {
   "cell_type": "code",
   "execution_count": 46,
   "metadata": {},
   "outputs": [
    {
     "data": {
      "text/plain": [
       "89270646"
      ]
     },
     "execution_count": 46,
     "metadata": {},
     "output_type": "execute_result"
    }
   ],
   "source": [
    "KT3['source'].duplicated().sum()"
   ]
  },
  {
   "cell_type": "code",
   "execution_count": 47,
   "metadata": {},
   "outputs": [
    {
     "data": {
      "text/plain": [
       "89270649"
      ]
     },
     "execution_count": 47,
     "metadata": {},
     "output_type": "execute_result"
    }
   ],
   "source": [
    "KT3['user_answer'].duplicated().sum()"
   ]
  },
  {
   "cell_type": "code",
   "execution_count": 48,
   "metadata": {},
   "outputs": [
    {
     "data": {
      "text/plain": [
       "89270652"
      ]
     },
     "execution_count": 48,
     "metadata": {},
     "output_type": "execute_result"
    }
   ],
   "source": [
    "KT3['platform'].duplicated().sum()"
   ]
  },
  {
   "cell_type": "code",
   "execution_count": 49,
   "metadata": {},
   "outputs": [
    {
     "data": {
      "text/plain": [
       "88972739"
      ]
     },
     "execution_count": 49,
     "metadata": {},
     "output_type": "execute_result"
    }
   ],
   "source": [
    "KT3['user_iD'].duplicated().sum()"
   ]
  },
  {
   "cell_type": "code",
   "execution_count": 50,
   "metadata": {},
   "outputs": [],
   "source": [
    "#Analyzing KT4 Dataset"
   ]
  },
  {
   "cell_type": "code",
   "execution_count": 51,
   "metadata": {},
   "outputs": [
    {
     "data": {
      "text/plain": [
       "0            False\n",
       "1            False\n",
       "2            False\n",
       "3            False\n",
       "4            False\n",
       "             ...  \n",
       "131441533    False\n",
       "131441534    False\n",
       "131441535    False\n",
       "131441536    False\n",
       "131441537    False\n",
       "Length: 131441538, dtype: bool"
      ]
     },
     "execution_count": 51,
     "metadata": {},
     "output_type": "execute_result"
    }
   ],
   "source": [
    "KT4.duplicated()"
   ]
  },
  {
   "cell_type": "code",
   "execution_count": 52,
   "metadata": {},
   "outputs": [
    {
     "data": {
      "text/plain": [
       "461237"
      ]
     },
     "execution_count": 52,
     "metadata": {},
     "output_type": "execute_result"
    }
   ],
   "source": [
    "KT4.duplicated().sum()"
   ]
  },
  {
   "cell_type": "code",
   "execution_count": 53,
   "metadata": {},
   "outputs": [
    {
     "data": {
      "text/plain": [
       "4111879"
      ]
     },
     "execution_count": 53,
     "metadata": {},
     "output_type": "execute_result"
    }
   ],
   "source": [
    "KT4['timestamp'].duplicated().sum()"
   ]
  },
  {
   "cell_type": "code",
   "execution_count": 54,
   "metadata": {},
   "outputs": [
    {
     "data": {
      "text/plain": [
       "131441525"
      ]
     },
     "execution_count": 54,
     "metadata": {},
     "output_type": "execute_result"
    }
   ],
   "source": [
    "KT4['action_type'].duplicated().sum()"
   ]
  },
  {
   "cell_type": "code",
   "execution_count": 55,
   "metadata": {},
   "outputs": [
    {
     "data": {
      "text/plain": [
       "131411896"
      ]
     },
     "execution_count": 55,
     "metadata": {},
     "output_type": "execute_result"
    }
   ],
   "source": [
    "KT4['item_id'].duplicated().sum()"
   ]
  },
  {
   "cell_type": "code",
   "execution_count": 56,
   "metadata": {},
   "outputs": [
    {
     "data": {
      "text/plain": [
       "131055370"
      ]
     },
     "execution_count": 56,
     "metadata": {},
     "output_type": "execute_result"
    }
   ],
   "source": [
    "KT4['cursor_time'].duplicated().sum()"
   ]
  },
  {
   "cell_type": "code",
   "execution_count": 57,
   "metadata": {},
   "outputs": [
    {
     "data": {
      "text/plain": [
       "131441529"
      ]
     },
     "execution_count": 57,
     "metadata": {},
     "output_type": "execute_result"
    }
   ],
   "source": [
    "KT4['source'].duplicated().sum()"
   ]
  },
  {
   "cell_type": "code",
   "execution_count": 58,
   "metadata": {},
   "outputs": [
    {
     "data": {
      "text/plain": [
       "131441533"
      ]
     },
     "execution_count": 58,
     "metadata": {},
     "output_type": "execute_result"
    }
   ],
   "source": [
    "KT4['user_answer'].duplicated().sum()"
   ]
  },
  {
   "cell_type": "code",
   "execution_count": 59,
   "metadata": {},
   "outputs": [
    {
     "data": {
      "text/plain": [
       "131441535"
      ]
     },
     "execution_count": 59,
     "metadata": {},
     "output_type": "execute_result"
    }
   ],
   "source": [
    "KT4['platform'].duplicated().sum()"
   ]
  },
  {
   "cell_type": "code",
   "execution_count": 60,
   "metadata": {},
   "outputs": [
    {
     "data": {
      "text/plain": [
       "131143623"
      ]
     },
     "execution_count": 60,
     "metadata": {},
     "output_type": "execute_result"
    }
   ],
   "source": [
    "KT4['user_iD'].duplicated().sum()"
   ]
  }
 ],
 "metadata": {
  "kernelspec": {
   "display_name": "Python 3",
   "language": "python",
   "name": "python3"
  },
  "language_info": {
   "codemirror_mode": {
    "name": "ipython",
    "version": 3
   },
   "file_extension": ".py",
   "mimetype": "text/x-python",
   "name": "python",
   "nbconvert_exporter": "python",
   "pygments_lexer": "ipython3",
   "version": "3.8.3"
  }
 },
 "nbformat": 4,
 "nbformat_minor": 4
}
