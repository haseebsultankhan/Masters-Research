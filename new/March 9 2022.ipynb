{
 "cells": [
  {
   "cell_type": "code",
   "execution_count": 1,
   "id": "f941582f",
   "metadata": {},
   "outputs": [],
   "source": [
    "import pandas as pd\n",
    "import numpy as np\n",
    "import seaborn as sns\n",
    "#import sagemaker\n",
    "#import boto3\n",
    "import matplotlib.pyplot as plt \n",
    "pd.set_option('display.max_columns',None) # To display all columns\n",
    "pd.set_option('display.max_rows',None) # To display all columns\n",
    "#client = boto3.client('s3')\n",
    "import feather\n",
    "import matplotlib.pyplot as plt\n",
    "from matplotlib.ticker import FuncFormatter\n",
    "from functools import reduce\n",
    "from datetime import datetime\n",
    "from dateutil.relativedelta import relativedelta\n",
    "import seaborn as sns\n",
    "sns.set()"
   ]
  },
  {
   "cell_type": "code",
   "execution_count": 2,
   "id": "96fe435e",
   "metadata": {},
   "outputs": [],
   "source": [
    "df = pd.read_feather('Dataframe27.ftr')"
   ]
  },
  {
   "cell_type": "code",
   "execution_count": 3,
   "id": "7d7fd29c",
   "metadata": {},
   "outputs": [
    {
     "data": {
      "text/html": [
       "<div>\n",
       "<style scoped>\n",
       "    .dataframe tbody tr th:only-of-type {\n",
       "        vertical-align: middle;\n",
       "    }\n",
       "\n",
       "    .dataframe tbody tr th {\n",
       "        vertical-align: top;\n",
       "    }\n",
       "\n",
       "    .dataframe thead th {\n",
       "        text-align: right;\n",
       "    }\n",
       "</style>\n",
       "<table border=\"1\" class=\"dataframe\">\n",
       "  <thead>\n",
       "    <tr style=\"text-align: right;\">\n",
       "      <th></th>\n",
       "      <th>user_iD</th>\n",
       "      <th>question_id</th>\n",
       "      <th>user_answer</th>\n",
       "      <th>correct_answer</th>\n",
       "      <th>correct</th>\n",
       "      <th>elapsed_time</th>\n",
       "      <th>solving_id</th>\n",
       "      <th>explanation_id</th>\n",
       "      <th>bundle_id</th>\n",
       "      <th>timestamp</th>\n",
       "      <th>deployed_at</th>\n",
       "    </tr>\n",
       "  </thead>\n",
       "  <tbody>\n",
       "    <tr>\n",
       "      <th>0</th>\n",
       "      <td>50</td>\n",
       "      <td>3</td>\n",
       "      <td>b</td>\n",
       "      <td>b</td>\n",
       "      <td>1.0</td>\n",
       "      <td>23.0</td>\n",
       "      <td>1729</td>\n",
       "      <td>3</td>\n",
       "      <td>3</td>\n",
       "      <td>1560337981670</td>\n",
       "      <td>2019-05-17 11:40:22.784</td>\n",
       "    </tr>\n",
       "    <tr>\n",
       "      <th>1</th>\n",
       "      <td>50</td>\n",
       "      <td>4</td>\n",
       "      <td>b</td>\n",
       "      <td>b</td>\n",
       "      <td>1.0</td>\n",
       "      <td>29.0</td>\n",
       "      <td>2109</td>\n",
       "      <td>4</td>\n",
       "      <td>4</td>\n",
       "      <td>1560769502979</td>\n",
       "      <td>2019-05-17 11:40:25.357</td>\n",
       "    </tr>\n",
       "    <tr>\n",
       "      <th>2</th>\n",
       "      <td>50</td>\n",
       "      <td>5</td>\n",
       "      <td>c</td>\n",
       "      <td>c</td>\n",
       "      <td>1.0</td>\n",
       "      <td>24.0</td>\n",
       "      <td>1883</td>\n",
       "      <td>5</td>\n",
       "      <td>5</td>\n",
       "      <td>1560513025097</td>\n",
       "      <td>2019-05-17 11:40:28.439</td>\n",
       "    </tr>\n",
       "    <tr>\n",
       "      <th>3</th>\n",
       "      <td>50</td>\n",
       "      <td>7</td>\n",
       "      <td>d</td>\n",
       "      <td>d</td>\n",
       "      <td>1.0</td>\n",
       "      <td>23.0</td>\n",
       "      <td>1747</td>\n",
       "      <td>7</td>\n",
       "      <td>7</td>\n",
       "      <td>1560339686648</td>\n",
       "      <td>2019-05-17 11:40:33.992</td>\n",
       "    </tr>\n",
       "    <tr>\n",
       "      <th>4</th>\n",
       "      <td>50</td>\n",
       "      <td>29</td>\n",
       "      <td>d</td>\n",
       "      <td>d</td>\n",
       "      <td>1.0</td>\n",
       "      <td>19.0</td>\n",
       "      <td>3905</td>\n",
       "      <td>29</td>\n",
       "      <td>29</td>\n",
       "      <td>1571227991581</td>\n",
       "      <td>2019-09-17 02:45:04.653</td>\n",
       "    </tr>\n",
       "  </tbody>\n",
       "</table>\n",
       "</div>"
      ],
      "text/plain": [
       "   user_iD  question_id user_answer correct_answer  correct  elapsed_time  \\\n",
       "0       50            3           b              b      1.0          23.0   \n",
       "1       50            4           b              b      1.0          29.0   \n",
       "2       50            5           c              c      1.0          24.0   \n",
       "3       50            7           d              d      1.0          23.0   \n",
       "4       50           29           d              d      1.0          19.0   \n",
       "\n",
       "   solving_id  explanation_id  bundle_id      timestamp  \\\n",
       "0        1729               3          3  1560337981670   \n",
       "1        2109               4          4  1560769502979   \n",
       "2        1883               5          5  1560513025097   \n",
       "3        1747               7          7  1560339686648   \n",
       "4        3905              29         29  1571227991581   \n",
       "\n",
       "              deployed_at  \n",
       "0 2019-05-17 11:40:22.784  \n",
       "1 2019-05-17 11:40:25.357  \n",
       "2 2019-05-17 11:40:28.439  \n",
       "3 2019-05-17 11:40:33.992  \n",
       "4 2019-09-17 02:45:04.653  "
      ]
     },
     "execution_count": 3,
     "metadata": {},
     "output_type": "execute_result"
    }
   ],
   "source": [
    "df.head()"
   ]
  },
  {
   "cell_type": "code",
   "execution_count": 8,
   "id": "21f26a95",
   "metadata": {},
   "outputs": [],
   "source": [
    "df_Bundle = df.groupby(['user_iD'], as_index=False , sort=False)['bundle_id'].count()\n",
    "\n",
    "df_Bundle = df_Bundle.rename(columns={'bundle_id': 'Bundles_Count'})   "
   ]
  },
  {
   "cell_type": "code",
   "execution_count": 9,
   "id": "400c59d4",
   "metadata": {},
   "outputs": [
    {
     "data": {
      "text/html": [
       "<div>\n",
       "<style scoped>\n",
       "    .dataframe tbody tr th:only-of-type {\n",
       "        vertical-align: middle;\n",
       "    }\n",
       "\n",
       "    .dataframe tbody tr th {\n",
       "        vertical-align: top;\n",
       "    }\n",
       "\n",
       "    .dataframe thead th {\n",
       "        text-align: right;\n",
       "    }\n",
       "</style>\n",
       "<table border=\"1\" class=\"dataframe\">\n",
       "  <thead>\n",
       "    <tr style=\"text-align: right;\">\n",
       "      <th></th>\n",
       "      <th>user_iD</th>\n",
       "      <th>Bundles_Count</th>\n",
       "    </tr>\n",
       "  </thead>\n",
       "  <tbody>\n",
       "    <tr>\n",
       "      <th>0</th>\n",
       "      <td>50</td>\n",
       "      <td>4570</td>\n",
       "    </tr>\n",
       "    <tr>\n",
       "      <th>1</th>\n",
       "      <td>58</td>\n",
       "      <td>5191</td>\n",
       "    </tr>\n",
       "    <tr>\n",
       "      <th>2</th>\n",
       "      <td>98</td>\n",
       "      <td>4731</td>\n",
       "    </tr>\n",
       "    <tr>\n",
       "      <th>3</th>\n",
       "      <td>99</td>\n",
       "      <td>39</td>\n",
       "    </tr>\n",
       "    <tr>\n",
       "      <th>4</th>\n",
       "      <td>103</td>\n",
       "      <td>6</td>\n",
       "    </tr>\n",
       "  </tbody>\n",
       "</table>\n",
       "</div>"
      ],
      "text/plain": [
       "   user_iD  Bundles_Count\n",
       "0       50           4570\n",
       "1       58           5191\n",
       "2       98           4731\n",
       "3       99             39\n",
       "4      103              6"
      ]
     },
     "execution_count": 9,
     "metadata": {},
     "output_type": "execute_result"
    }
   ],
   "source": [
    "df_Bundle.head()"
   ]
  },
  {
   "cell_type": "code",
   "execution_count": 14,
   "id": "1ee17af7",
   "metadata": {},
   "outputs": [
    {
     "data": {
      "text/plain": [
       "(27884, 2)"
      ]
     },
     "execution_count": 14,
     "metadata": {},
     "output_type": "execute_result"
    }
   ],
   "source": [
    "df_Bundle.shape"
   ]
  },
  {
   "cell_type": "code",
   "execution_count": 12,
   "id": "f5ff1dcb",
   "metadata": {},
   "outputs": [
    {
     "data": {
      "text/plain": [
       "count    27884.000000\n",
       "mean       157.832807\n",
       "std        650.709964\n",
       "min          2.000000\n",
       "25%          5.000000\n",
       "50%          8.000000\n",
       "75%         27.000000\n",
       "max      11125.000000\n",
       "Name: Bundles_Count, dtype: float64"
      ]
     },
     "execution_count": 12,
     "metadata": {},
     "output_type": "execute_result"
    }
   ],
   "source": [
    "df_Bundle['Bundles_Count'].describe()"
   ]
  },
  {
   "cell_type": "code",
   "execution_count": 20,
   "id": "2db9d7af",
   "metadata": {},
   "outputs": [
    {
     "data": {
      "text/plain": [
       "8.0"
      ]
     },
     "execution_count": 20,
     "metadata": {},
     "output_type": "execute_result"
    }
   ],
   "source": [
    "df_Bundle['Bundles_Count'].median()"
   ]
  },
  {
   "cell_type": "code",
   "execution_count": 15,
   "id": "92d83cfa",
   "metadata": {},
   "outputs": [],
   "source": [
    "df2 = pd.read_feather('Bundlesinfo.ftr')"
   ]
  },
  {
   "cell_type": "code",
   "execution_count": 16,
   "id": "5db81baf",
   "metadata": {},
   "outputs": [
    {
     "data": {
      "image/png": "[encoded data removed]",
      "text/plain": [
       "<Figure size 576x576 with 1 Axes>"
      ]
     },
     "metadata": {},
     "output_type": "display_data"
    }
   ],
   "source": [
    "#Build and train the model\n",
    "from sklearn.cluster import KMeans\n",
    "model = KMeans(n_clusters=2)\n",
    "model.fit(df2)\n",
    "\n",
    "#See the predictions\n",
    "model.labels_\n",
    "model.cluster_centers_\n",
    "\n",
    "#PLot the predictions against the original data set\n",
    "fig = plt.figure(figsize=(8, 8))\n",
    "#ax = fig.add_subplot(111)\n",
    "plt.scatter(df2['user_iD'], df2['b1'],cmap='rainbow',\n",
    "           linewidths=1, alpha=.7,\n",
    "           edgecolor='k'\n",
    "           )\n",
    "plt.show()"
   ]
  },
  {
   "cell_type": "code",
   "execution_count": 17,
   "id": "dad8650e",
   "metadata": {},
   "outputs": [
    {
     "name": "stderr",
     "output_type": "stream",
     "text": [
      "<ipython-input-17-a5d360735d05>:21: SettingWithCopyWarning: \n",
      "A value is trying to be set on a copy of a slice from a DataFrame.\n",
      "Try using .loc[row_indexer,col_indexer] = value instead\n",
      "\n",
      "See the caveats in the documentation: https://pandas.pydata.org/pandas-docs/stable/user_guide/indexing.html#returning-a-view-versus-a-copy\n",
      "  df_train['labels'] = kmeans.labels_\n"
     ]
    }
   ],
   "source": [
    "from sklearn.cluster import KMeans\n",
    "import numpy as np\n",
    "import pandas as pd\n",
    "\n",
    "df = pd.read_feather('Bundles.ftr')\n",
    "\n",
    "# It's common to split your data into train and test groups See  \n",
    "# https://scikit-learn.org/stable/modules/generated/sklearn.model_selection.train_test_split.html for more info.\n",
    "df_train = df.head(500)\n",
    "\n",
    "# put all of the feature columns into a list of lists\n",
    "x_list = []\n",
    "for idx, row in df_train.iterrows():\n",
    "    x_list.append(row.iloc[1:].tolist())\n",
    "# put our feature lists into np arrray\n",
    "X = np.array(x_list)\n",
    "# fit the data, tweak params as needed\n",
    "kmeans = KMeans(n_clusters=10, random_state=0).fit(X)\n",
    "\n",
    "# assign cluster labels to df\n",
    "df_train['labels'] = kmeans.labels_"
   ]
  },
  {
   "cell_type": "code",
   "execution_count": 18,
   "id": "ae0e6c74",
   "metadata": {},
   "outputs": [
    {
     "data": {
      "text/plain": [
       "1    415\n",
       "5     57\n",
       "7      9\n",
       "3      5\n",
       "0      4\n",
       "2      3\n",
       "6      3\n",
       "9      2\n",
       "4      1\n",
       "8      1\n",
       "Name: labels, dtype: int64"
      ]
     },
     "execution_count": 18,
     "metadata": {},
     "output_type": "execute_result"
    }
   ],
   "source": [
    "df_train['labels'].value_counts()"
   ]
  },
  {
   "cell_type": "code",
   "execution_count": 19,
   "id": "41dc54b5",
   "metadata": {},
   "outputs": [
    {
     "data": {
      "text/plain": [
       "array([1])"
      ]
     },
     "execution_count": 19,
     "metadata": {},
     "output_type": "execute_result"
    }
   ],
   "source": [
    "kmeans.predict([df.iloc[999:1000, 1:].values.flatten().tolist()])"
   ]
  },
  {
   "cell_type": "code",
   "execution_count": null,
   "id": "58b2743a",
   "metadata": {},
   "outputs": [],
   "source": []
  }
 ],
 "metadata": {
  "kernelspec": {
   "display_name": "Python 3",
   "language": "python",
   "name": "python3"
  },
  "language_info": {
   "codemirror_mode": {
    "name": "ipython",
    "version": 3
   },
   "file_extension": ".py",
   "mimetype": "text/x-python",
   "name": "python",
   "nbconvert_exporter": "python",
   "pygments_lexer": "ipython3",
   "version": "3.8.8"
  }
 },
 "nbformat": 4,
 "nbformat_minor": 5
}
