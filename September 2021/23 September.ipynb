{
 "cells": [
  {
   "cell_type": "code",
   "execution_count": 1,
   "id": "5ce7b9f0",
   "metadata": {},
   "outputs": [],
   "source": [
    "import pandas as pd\n",
    "import numpy as np\n",
    "import seaborn as sns\n",
    "import matplotlib.pyplot as plt \n",
    "pd.set_option('display.max_columns',None) # To display all columns\n",
    "pd.set_option('display.max_rows',None) # To display all columns\n",
    "import feather\n",
    "import matplotlib.pyplot as plt\n",
    "from matplotlib.ticker import FuncFormatter\n",
    "import numpy as np\n",
    "import pandas as pd\n",
    "import glob\n",
    "import warnings\n",
    "warnings.filterwarnings('ignore')\n",
    "from functools import reduce"
   ]
  },
  {
   "cell_type": "code",
   "execution_count": 2,
   "id": "81a5122c",
   "metadata": {},
   "outputs": [],
   "source": [
    "KT1 = pd.read_feather('C:/Users/PC1/Desktop/HASEEB August 2021/KT1.ftr')\n",
    "KT3 = pd.read_feather('C:/Users/PC1/Desktop/HASEEB August 2021/KT3.ftr')\n",
    "questions_df = pd.read_csv('C:/Users/PC1/Desktop/HASEEB August 2021/questions.csv')\n",
    "Users = pd.read_feather('C:/Users/PC1/Desktop/HASEEB August 2021/Output.ftr')"
   ]
  },
  {
   "cell_type": "code",
   "execution_count": 4,
   "id": "cec57d40",
   "metadata": {},
   "outputs": [],
   "source": [
    "KT1['elapsed_time']= KT1.elapsed_time.div(1000)"
   ]
  },
  {
   "cell_type": "code",
   "execution_count": 5,
   "id": "adb66757",
   "metadata": {},
   "outputs": [
    {
     "data": {
      "text/html": [
       "<div>\n",
       "<style scoped>\n",
       "    .dataframe tbody tr th:only-of-type {\n",
       "        vertical-align: middle;\n",
       "    }\n",
       "\n",
       "    .dataframe tbody tr th {\n",
       "        vertical-align: top;\n",
       "    }\n",
       "\n",
       "    .dataframe thead th {\n",
       "        text-align: right;\n",
       "    }\n",
       "</style>\n",
       "<table border=\"1\" class=\"dataframe\">\n",
       "  <thead>\n",
       "    <tr style=\"text-align: right;\">\n",
       "      <th></th>\n",
       "      <th>timestamp</th>\n",
       "      <th>solving_id</th>\n",
       "      <th>question_id</th>\n",
       "      <th>user_answer</th>\n",
       "      <th>elapsed_time</th>\n",
       "      <th>user_iD</th>\n",
       "    </tr>\n",
       "  </thead>\n",
       "  <tbody>\n",
       "    <tr>\n",
       "      <th>0</th>\n",
       "      <td>1565096190868</td>\n",
       "      <td>1</td>\n",
       "      <td>q5012</td>\n",
       "      <td>b</td>\n",
       "      <td>38.0</td>\n",
       "      <td>1</td>\n",
       "    </tr>\n",
       "    <tr>\n",
       "      <th>1</th>\n",
       "      <td>1565096221062</td>\n",
       "      <td>2</td>\n",
       "      <td>q4706</td>\n",
       "      <td>c</td>\n",
       "      <td>24.0</td>\n",
       "      <td>1</td>\n",
       "    </tr>\n",
       "    <tr>\n",
       "      <th>2</th>\n",
       "      <td>1565096293432</td>\n",
       "      <td>3</td>\n",
       "      <td>q4366</td>\n",
       "      <td>b</td>\n",
       "      <td>68.0</td>\n",
       "      <td>1</td>\n",
       "    </tr>\n",
       "    <tr>\n",
       "      <th>3</th>\n",
       "      <td>1565096339668</td>\n",
       "      <td>4</td>\n",
       "      <td>q4829</td>\n",
       "      <td>a</td>\n",
       "      <td>42.0</td>\n",
       "      <td>1</td>\n",
       "    </tr>\n",
       "    <tr>\n",
       "      <th>4</th>\n",
       "      <td>1565096401774</td>\n",
       "      <td>5</td>\n",
       "      <td>q6528</td>\n",
       "      <td>b</td>\n",
       "      <td>59.0</td>\n",
       "      <td>1</td>\n",
       "    </tr>\n",
       "  </tbody>\n",
       "</table>\n",
       "</div>"
      ],
      "text/plain": [
       "       timestamp  solving_id question_id user_answer  elapsed_time  user_iD\n",
       "0  1565096190868           1       q5012           b          38.0        1\n",
       "1  1565096221062           2       q4706           c          24.0        1\n",
       "2  1565096293432           3       q4366           b          68.0        1\n",
       "3  1565096339668           4       q4829           a          42.0        1\n",
       "4  1565096401774           5       q6528           b          59.0        1"
      ]
     },
     "execution_count": 5,
     "metadata": {},
     "output_type": "execute_result"
    }
   ],
   "source": [
    "KT1.head()"
   ]
  },
  {
   "cell_type": "code",
   "execution_count": 7,
   "id": "f2812674",
   "metadata": {},
   "outputs": [],
   "source": [
    "Elapsed_time= KT1.groupby('user_iD' , sort=False)['elapsed_time'].median()"
   ]
  },
  {
   "cell_type": "code",
   "execution_count": 8,
   "id": "47c6d491",
   "metadata": {},
   "outputs": [],
   "source": [
    "Elapsed_time.to_csv('Elapsed.csv')"
   ]
  },
  {
   "cell_type": "code",
   "execution_count": 9,
   "id": "ccf2cc8d",
   "metadata": {},
   "outputs": [],
   "source": [
    "Times = pd.read_csv('Elapsed.csv')"
   ]
  },
  {
   "cell_type": "code",
   "execution_count": 10,
   "id": "5ee626f7",
   "metadata": {},
   "outputs": [
    {
     "name": "stdout",
     "output_type": "stream",
     "text": [
      "289886\n"
     ]
    }
   ],
   "source": [
    "print(len(Times.elapsed_time))"
   ]
  },
  {
   "cell_type": "code",
   "execution_count": 11,
   "id": "2645dcb5",
   "metadata": {},
   "outputs": [
    {
     "data": {
      "text/plain": [
       "count    289886.000000\n",
       "mean         24.851545\n",
       "std          35.202065\n",
       "min           0.000000\n",
       "25%          18.500000\n",
       "50%          22.500000\n",
       "75%          28.000000\n",
       "max       11285.000000\n",
       "Name: elapsed_time, dtype: float64"
      ]
     },
     "execution_count": 11,
     "metadata": {},
     "output_type": "execute_result"
    }
   ],
   "source": [
    "Times[\"elapsed_time\"].describe()"
   ]
  },
  {
   "cell_type": "code",
   "execution_count": 12,
   "id": "43c8fff9",
   "metadata": {},
   "outputs": [
    {
     "data": {
      "text/plain": [
       "count    61100.000000\n",
       "mean       480.745876\n",
       "std       1004.493383\n",
       "min         30.000000\n",
       "25%         61.000000\n",
       "50%        149.000000\n",
       "75%        455.000000\n",
       "max      34379.000000\n",
       "Name: Total Questions Attempted, dtype: float64"
      ]
     },
     "execution_count": 12,
     "metadata": {},
     "output_type": "execute_result"
    }
   ],
   "source": [
    "Users[\"Total Questions Attempted\"].describe()"
   ]
  },
  {
   "cell_type": "code",
   "execution_count": null,
   "id": "6cda1f87",
   "metadata": {},
   "outputs": [],
   "source": []
  }
 ],
 "metadata": {
  "kernelspec": {
   "display_name": "Python 3",
   "language": "python",
   "name": "python3"
  },
  "language_info": {
   "codemirror_mode": {
    "name": "ipython",
    "version": 3
   },
   "file_extension": ".py",
   "mimetype": "text/x-python",
   "name": "python",
   "nbconvert_exporter": "python",
   "pygments_lexer": "ipython3",
   "version": "3.8.8"
  }
 },
 "nbformat": 4,
 "nbformat_minor": 5
}
