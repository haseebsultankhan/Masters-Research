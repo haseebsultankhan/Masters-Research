{
 "cells": [
  {
   "cell_type": "code",
   "execution_count": 1,
   "metadata": {},
   "outputs": [],
   "source": [
    "import os\n",
    "from glob import iglob\n",
    "from shutil import copy2"
   ]
  },
  {
   "cell_type": "code",
   "execution_count": 2,
   "metadata": {},
   "outputs": [],
   "source": [
    "SRC = \"D:/Haseeb Data\"\n",
    "DST = \"C:/Users/PC1/Desktop/DATASET\"\n",
    "DRY_RUN = False"
   ]
  },
  {
   "cell_type": "code",
   "execution_count": 3,
   "metadata": {},
   "outputs": [],
   "source": [
    "for upath in iglob(os.path.join(SRC, \"KT*/u*.csv\")):\n",
    "    uname = os.path.basename(upath)\n",
    "    src = list(iglob(os.path.join(SRC, \"KT*\" , uname)))\n",
    "    if len(src) == 4:\n",
    "        for src in src:\n",
    "            dirname,uname = os.path.split(src)\n",
    "            ktname = os.path.basename(dirname)\n",
    "            dst= os.path.join(DST, ktname , uname)\n",
    "            #print(src , \"=>\" , dst)\n",
    "            if not DRY_RUN:\n",
    "                os.makedirs(os.path.dirname(dst), exist_ok=True)\n",
    "                copy2(src, dst)"
   ]
  }
 ],
 "metadata": {
  "kernelspec": {
   "display_name": "Python 3",
   "language": "python",
   "name": "python3"
  },
  "language_info": {
   "codemirror_mode": {
    "name": "ipython",
    "version": 3
   },
   "file_extension": ".py",
   "mimetype": "text/x-python",
   "name": "python",
   "nbconvert_exporter": "python",
   "pygments_lexer": "ipython3",
   "version": "3.8.8"
  }
 },
 "nbformat": 4,
 "nbformat_minor": 4
}
