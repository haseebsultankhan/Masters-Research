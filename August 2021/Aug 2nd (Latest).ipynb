{
 "cells": [
  {
   "cell_type": "raw",
   "id": "e110e914",
   "metadata": {},
   "source": [
    "import pandas as pd\n",
    "import numpy as np\n",
    "import seaborn as sns\n",
    "import sagemaker\n",
    "import boto3\n",
    "import matplotlib.pyplot as plt \n",
    "pd.set_option('display.max_columns',None) # To display all columns\n",
    "pd.set_option('display.max_rows',None) # To display all columns\n",
    "client = boto3.client('s3')\n",
    "import feather\n",
    "import matplotlib.pyplot as plt\n",
    "from matplotlib.ticker import FuncFormatter"
   ]
  },
  {
   "cell_type": "code",
   "execution_count": null,
   "id": "ac29bbfd",
   "metadata": {},
   "outputs": [],
   "source": []
  },
  {
   "cell_type": "code",
   "execution_count": 2,
   "id": "5d946f34",
   "metadata": {},
   "outputs": [],
   "source": [
    "path1= 's3://haseebdata/EDNET DATA/Ednet feather files/KT1.ftr'\n",
    "path3 = 's3://haseebdata/EDNET DATA/Ednet feather files/KT3.ftr'"
   ]
  },
  {
   "cell_type": "code",
   "execution_count": 3,
   "id": "82757fff",
   "metadata": {},
   "outputs": [],
   "source": [
    "KT1 = pd.read_feather(path1)\n",
    "KT3 = pd.read_feather(path3)"
   ]
  },
  {
   "cell_type": "code",
   "execution_count": 4,
   "id": "bec787ea",
   "metadata": {},
   "outputs": [],
   "source": [
    "questions = pd.read_csv('s3://haseebdata/EDNET DATA/EDNET Content CSV/questions.csv')"
   ]
  },
  {
   "cell_type": "code",
   "execution_count": 5,
   "id": "b5135c2a",
   "metadata": {},
   "outputs": [
    {
     "data": {
      "text/html": [
       "<div>\n",
       "<style scoped>\n",
       "    .dataframe tbody tr th:only-of-type {\n",
       "        vertical-align: middle;\n",
       "    }\n",
       "\n",
       "    .dataframe tbody tr th {\n",
       "        vertical-align: top;\n",
       "    }\n",
       "\n",
       "    .dataframe thead th {\n",
       "        text-align: right;\n",
       "    }\n",
       "</style>\n",
       "<table border=\"1\" class=\"dataframe\">\n",
       "  <thead>\n",
       "    <tr style=\"text-align: right;\">\n",
       "      <th></th>\n",
       "      <th>timestamp</th>\n",
       "      <th>solving_id</th>\n",
       "      <th>question_id</th>\n",
       "      <th>user_answer</th>\n",
       "      <th>elapsed_time</th>\n",
       "      <th>user_iD</th>\n",
       "    </tr>\n",
       "  </thead>\n",
       "  <tbody>\n",
       "    <tr>\n",
       "      <th>0</th>\n",
       "      <td>1565096190868</td>\n",
       "      <td>1</td>\n",
       "      <td>q5012</td>\n",
       "      <td>b</td>\n",
       "      <td>38000</td>\n",
       "      <td>1</td>\n",
       "    </tr>\n",
       "    <tr>\n",
       "      <th>1</th>\n",
       "      <td>1565096221062</td>\n",
       "      <td>2</td>\n",
       "      <td>q4706</td>\n",
       "      <td>c</td>\n",
       "      <td>24000</td>\n",
       "      <td>1</td>\n",
       "    </tr>\n",
       "    <tr>\n",
       "      <th>2</th>\n",
       "      <td>1565096293432</td>\n",
       "      <td>3</td>\n",
       "      <td>q4366</td>\n",
       "      <td>b</td>\n",
       "      <td>68000</td>\n",
       "      <td>1</td>\n",
       "    </tr>\n",
       "    <tr>\n",
       "      <th>3</th>\n",
       "      <td>1565096339668</td>\n",
       "      <td>4</td>\n",
       "      <td>q4829</td>\n",
       "      <td>a</td>\n",
       "      <td>42000</td>\n",
       "      <td>1</td>\n",
       "    </tr>\n",
       "    <tr>\n",
       "      <th>4</th>\n",
       "      <td>1565096401774</td>\n",
       "      <td>5</td>\n",
       "      <td>q6528</td>\n",
       "      <td>b</td>\n",
       "      <td>59000</td>\n",
       "      <td>1</td>\n",
       "    </tr>\n",
       "  </tbody>\n",
       "</table>\n",
       "</div>"
      ],
      "text/plain": [
       "       timestamp  solving_id question_id user_answer  elapsed_time  user_iD\n",
       "0  1565096190868           1       q5012           b         38000        1\n",
       "1  1565096221062           2       q4706           c         24000        1\n",
       "2  1565096293432           3       q4366           b         68000        1\n",
       "3  1565096339668           4       q4829           a         42000        1\n",
       "4  1565096401774           5       q6528           b         59000        1"
      ]
     },
     "execution_count": 5,
     "metadata": {},
     "output_type": "execute_result"
    }
   ],
   "source": [
    "KT1.head()"
   ]
  },
  {
   "cell_type": "code",
   "execution_count": 6,
   "id": "946703a0",
   "metadata": {},
   "outputs": [
    {
     "data": {
      "text/html": [
       "<div>\n",
       "<style scoped>\n",
       "    .dataframe tbody tr th:only-of-type {\n",
       "        vertical-align: middle;\n",
       "    }\n",
       "\n",
       "    .dataframe tbody tr th {\n",
       "        vertical-align: top;\n",
       "    }\n",
       "\n",
       "    .dataframe thead th {\n",
       "        text-align: right;\n",
       "    }\n",
       "</style>\n",
       "<table border=\"1\" class=\"dataframe\">\n",
       "  <thead>\n",
       "    <tr style=\"text-align: right;\">\n",
       "      <th></th>\n",
       "      <th>timestamp</th>\n",
       "      <th>action_type</th>\n",
       "      <th>item_id</th>\n",
       "      <th>source</th>\n",
       "      <th>user_answer</th>\n",
       "      <th>platform</th>\n",
       "      <th>user_iD</th>\n",
       "    </tr>\n",
       "  </thead>\n",
       "  <tbody>\n",
       "    <tr>\n",
       "      <th>0</th>\n",
       "      <td>2019-08-06 12:55:51.269</td>\n",
       "      <td>enter</td>\n",
       "      <td>b3544</td>\n",
       "      <td>diagnosis</td>\n",
       "      <td>None</td>\n",
       "      <td>mobile</td>\n",
       "      <td>1</td>\n",
       "    </tr>\n",
       "    <tr>\n",
       "      <th>1</th>\n",
       "      <td>2019-08-06 12:56:27.972</td>\n",
       "      <td>respond</td>\n",
       "      <td>q5012</td>\n",
       "      <td>diagnosis</td>\n",
       "      <td>b</td>\n",
       "      <td>mobile</td>\n",
       "      <td>1</td>\n",
       "    </tr>\n",
       "    <tr>\n",
       "      <th>2</th>\n",
       "      <td>2019-08-06 12:56:34.904</td>\n",
       "      <td>submit</td>\n",
       "      <td>b3544</td>\n",
       "      <td>diagnosis</td>\n",
       "      <td>None</td>\n",
       "      <td>mobile</td>\n",
       "      <td>1</td>\n",
       "    </tr>\n",
       "    <tr>\n",
       "      <th>3</th>\n",
       "      <td>2019-08-06 12:56:35.001</td>\n",
       "      <td>enter</td>\n",
       "      <td>b3238</td>\n",
       "      <td>diagnosis</td>\n",
       "      <td>None</td>\n",
       "      <td>mobile</td>\n",
       "      <td>1</td>\n",
       "    </tr>\n",
       "    <tr>\n",
       "      <th>4</th>\n",
       "      <td>2019-08-06 12:56:58.682</td>\n",
       "      <td>respond</td>\n",
       "      <td>q4706</td>\n",
       "      <td>diagnosis</td>\n",
       "      <td>c</td>\n",
       "      <td>mobile</td>\n",
       "      <td>1</td>\n",
       "    </tr>\n",
       "  </tbody>\n",
       "</table>\n",
       "</div>"
      ],
      "text/plain": [
       "                timestamp action_type item_id     source user_answer platform  \\\n",
       "0 2019-08-06 12:55:51.269       enter   b3544  diagnosis        None   mobile   \n",
       "1 2019-08-06 12:56:27.972     respond   q5012  diagnosis           b   mobile   \n",
       "2 2019-08-06 12:56:34.904      submit   b3544  diagnosis        None   mobile   \n",
       "3 2019-08-06 12:56:35.001       enter   b3238  diagnosis        None   mobile   \n",
       "4 2019-08-06 12:56:58.682     respond   q4706  diagnosis           c   mobile   \n",
       "\n",
       "   user_iD  \n",
       "0        1  \n",
       "1        1  \n",
       "2        1  \n",
       "3        1  \n",
       "4        1  "
      ]
     },
     "execution_count": 6,
     "metadata": {},
     "output_type": "execute_result"
    }
   ],
   "source": [
    "KT3.head()"
   ]
  },
  {
   "cell_type": "code",
   "execution_count": 7,
   "id": "324d8af4",
   "metadata": {},
   "outputs": [
    {
     "data": {
      "text/html": [
       "<div>\n",
       "<style scoped>\n",
       "    .dataframe tbody tr th:only-of-type {\n",
       "        vertical-align: middle;\n",
       "    }\n",
       "\n",
       "    .dataframe tbody tr th {\n",
       "        vertical-align: top;\n",
       "    }\n",
       "\n",
       "    .dataframe thead th {\n",
       "        text-align: right;\n",
       "    }\n",
       "</style>\n",
       "<table border=\"1\" class=\"dataframe\">\n",
       "  <thead>\n",
       "    <tr style=\"text-align: right;\">\n",
       "      <th></th>\n",
       "      <th>question_id</th>\n",
       "      <th>bundle_id</th>\n",
       "      <th>explanation_id</th>\n",
       "      <th>correct_answer</th>\n",
       "      <th>part</th>\n",
       "      <th>tags</th>\n",
       "      <th>deployed_at</th>\n",
       "    </tr>\n",
       "  </thead>\n",
       "  <tbody>\n",
       "    <tr>\n",
       "      <th>0</th>\n",
       "      <td>q1</td>\n",
       "      <td>b1</td>\n",
       "      <td>e1</td>\n",
       "      <td>b</td>\n",
       "      <td>1</td>\n",
       "      <td>1;2;179;181</td>\n",
       "      <td>1558093217098</td>\n",
       "    </tr>\n",
       "    <tr>\n",
       "      <th>1</th>\n",
       "      <td>q2</td>\n",
       "      <td>b2</td>\n",
       "      <td>e2</td>\n",
       "      <td>a</td>\n",
       "      <td>1</td>\n",
       "      <td>15;2;182</td>\n",
       "      <td>1558093219720</td>\n",
       "    </tr>\n",
       "    <tr>\n",
       "      <th>2</th>\n",
       "      <td>q3</td>\n",
       "      <td>b3</td>\n",
       "      <td>e3</td>\n",
       "      <td>b</td>\n",
       "      <td>1</td>\n",
       "      <td>14;2;179;183</td>\n",
       "      <td>1558093222784</td>\n",
       "    </tr>\n",
       "    <tr>\n",
       "      <th>3</th>\n",
       "      <td>q4</td>\n",
       "      <td>b4</td>\n",
       "      <td>e4</td>\n",
       "      <td>b</td>\n",
       "      <td>1</td>\n",
       "      <td>9;2;179;184</td>\n",
       "      <td>1558093225357</td>\n",
       "    </tr>\n",
       "    <tr>\n",
       "      <th>4</th>\n",
       "      <td>q5</td>\n",
       "      <td>b5</td>\n",
       "      <td>e5</td>\n",
       "      <td>c</td>\n",
       "      <td>1</td>\n",
       "      <td>8;2;179;181</td>\n",
       "      <td>1558093228439</td>\n",
       "    </tr>\n",
       "  </tbody>\n",
       "</table>\n",
       "</div>"
      ],
      "text/plain": [
       "  question_id bundle_id explanation_id correct_answer  part          tags  \\\n",
       "0          q1        b1             e1              b     1   1;2;179;181   \n",
       "1          q2        b2             e2              a     1      15;2;182   \n",
       "2          q3        b3             e3              b     1  14;2;179;183   \n",
       "3          q4        b4             e4              b     1   9;2;179;184   \n",
       "4          q5        b5             e5              c     1   8;2;179;181   \n",
       "\n",
       "     deployed_at  \n",
       "0  1558093217098  \n",
       "1  1558093219720  \n",
       "2  1558093222784  \n",
       "3  1558093225357  \n",
       "4  1558093228439  "
      ]
     },
     "execution_count": 7,
     "metadata": {},
     "output_type": "execute_result"
    }
   ],
   "source": [
    "questions.head()"
   ]
  },
  {
   "cell_type": "code",
   "execution_count": 8,
   "id": "5734cd47",
   "metadata": {},
   "outputs": [],
   "source": [
    "K3_userid_counts = KT3.user_iD.value_counts()\n",
    "mask = K3_userid_counts >= 30\n",
    "KT3_userids = mask[mask].index\n",
    "\n",
    "K3 = KT3[KT3.user_iD.isin(KT3_userids)]"
   ]
  },
  {
   "cell_type": "code",
   "execution_count": 9,
   "id": "bd17848d",
   "metadata": {},
   "outputs": [
    {
     "data": {
      "text/html": [
       "<div>\n",
       "<style scoped>\n",
       "    .dataframe tbody tr th:only-of-type {\n",
       "        vertical-align: middle;\n",
       "    }\n",
       "\n",
       "    .dataframe tbody tr th {\n",
       "        vertical-align: top;\n",
       "    }\n",
       "\n",
       "    .dataframe thead th {\n",
       "        text-align: right;\n",
       "    }\n",
       "</style>\n",
       "<table border=\"1\" class=\"dataframe\">\n",
       "  <thead>\n",
       "    <tr style=\"text-align: right;\">\n",
       "      <th></th>\n",
       "      <th>timestamp</th>\n",
       "      <th>action_type</th>\n",
       "      <th>item_id</th>\n",
       "      <th>source</th>\n",
       "      <th>user_answer</th>\n",
       "      <th>platform</th>\n",
       "      <th>user_iD</th>\n",
       "    </tr>\n",
       "  </thead>\n",
       "  <tbody>\n",
       "    <tr>\n",
       "      <th>0</th>\n",
       "      <td>2019-08-06 12:55:51.269</td>\n",
       "      <td>enter</td>\n",
       "      <td>b3544</td>\n",
       "      <td>diagnosis</td>\n",
       "      <td>None</td>\n",
       "      <td>mobile</td>\n",
       "      <td>1</td>\n",
       "    </tr>\n",
       "    <tr>\n",
       "      <th>1</th>\n",
       "      <td>2019-08-06 12:56:27.972</td>\n",
       "      <td>respond</td>\n",
       "      <td>q5012</td>\n",
       "      <td>diagnosis</td>\n",
       "      <td>b</td>\n",
       "      <td>mobile</td>\n",
       "      <td>1</td>\n",
       "    </tr>\n",
       "    <tr>\n",
       "      <th>2</th>\n",
       "      <td>2019-08-06 12:56:34.904</td>\n",
       "      <td>submit</td>\n",
       "      <td>b3544</td>\n",
       "      <td>diagnosis</td>\n",
       "      <td>None</td>\n",
       "      <td>mobile</td>\n",
       "      <td>1</td>\n",
       "    </tr>\n",
       "    <tr>\n",
       "      <th>3</th>\n",
       "      <td>2019-08-06 12:56:35.001</td>\n",
       "      <td>enter</td>\n",
       "      <td>b3238</td>\n",
       "      <td>diagnosis</td>\n",
       "      <td>None</td>\n",
       "      <td>mobile</td>\n",
       "      <td>1</td>\n",
       "    </tr>\n",
       "    <tr>\n",
       "      <th>4</th>\n",
       "      <td>2019-08-06 12:56:58.682</td>\n",
       "      <td>respond</td>\n",
       "      <td>q4706</td>\n",
       "      <td>diagnosis</td>\n",
       "      <td>c</td>\n",
       "      <td>mobile</td>\n",
       "      <td>1</td>\n",
       "    </tr>\n",
       "  </tbody>\n",
       "</table>\n",
       "</div>"
      ],
      "text/plain": [
       "                timestamp action_type item_id     source user_answer platform  \\\n",
       "0 2019-08-06 12:55:51.269       enter   b3544  diagnosis        None   mobile   \n",
       "1 2019-08-06 12:56:27.972     respond   q5012  diagnosis           b   mobile   \n",
       "2 2019-08-06 12:56:34.904      submit   b3544  diagnosis        None   mobile   \n",
       "3 2019-08-06 12:56:35.001       enter   b3238  diagnosis        None   mobile   \n",
       "4 2019-08-06 12:56:58.682     respond   q4706  diagnosis           c   mobile   \n",
       "\n",
       "   user_iD  \n",
       "0        1  \n",
       "1        1  \n",
       "2        1  \n",
       "3        1  \n",
       "4        1  "
      ]
     },
     "execution_count": 9,
     "metadata": {},
     "output_type": "execute_result"
    }
   ],
   "source": [
    "K3.head()"
   ]
  },
  {
   "cell_type": "code",
   "execution_count": 10,
   "id": "85b6ab7c",
   "metadata": {},
   "outputs": [
    {
     "data": {
      "text/html": [
       "<div>\n",
       "<style scoped>\n",
       "    .dataframe tbody tr th:only-of-type {\n",
       "        vertical-align: middle;\n",
       "    }\n",
       "\n",
       "    .dataframe tbody tr th {\n",
       "        vertical-align: top;\n",
       "    }\n",
       "\n",
       "    .dataframe thead th {\n",
       "        text-align: right;\n",
       "    }\n",
       "</style>\n",
       "<table border=\"1\" class=\"dataframe\">\n",
       "  <thead>\n",
       "    <tr style=\"text-align: right;\">\n",
       "      <th></th>\n",
       "      <th>timestamp</th>\n",
       "      <th>action_type</th>\n",
       "      <th>item_id</th>\n",
       "      <th>source</th>\n",
       "      <th>user_answer</th>\n",
       "      <th>platform</th>\n",
       "      <th>user_iD</th>\n",
       "    </tr>\n",
       "  </thead>\n",
       "  <tbody>\n",
       "    <tr>\n",
       "      <th>1</th>\n",
       "      <td>2019-08-06 12:56:27.972</td>\n",
       "      <td>respond</td>\n",
       "      <td>q5012</td>\n",
       "      <td>diagnosis</td>\n",
       "      <td>b</td>\n",
       "      <td>mobile</td>\n",
       "      <td>1</td>\n",
       "    </tr>\n",
       "    <tr>\n",
       "      <th>4</th>\n",
       "      <td>2019-08-06 12:56:58.682</td>\n",
       "      <td>respond</td>\n",
       "      <td>q4706</td>\n",
       "      <td>diagnosis</td>\n",
       "      <td>c</td>\n",
       "      <td>mobile</td>\n",
       "      <td>1</td>\n",
       "    </tr>\n",
       "    <tr>\n",
       "      <th>7</th>\n",
       "      <td>2019-08-06 12:58:10.094</td>\n",
       "      <td>respond</td>\n",
       "      <td>q4366</td>\n",
       "      <td>diagnosis</td>\n",
       "      <td>b</td>\n",
       "      <td>mobile</td>\n",
       "      <td>1</td>\n",
       "    </tr>\n",
       "    <tr>\n",
       "      <th>10</th>\n",
       "      <td>2019-08-06 12:58:57.361</td>\n",
       "      <td>respond</td>\n",
       "      <td>q4829</td>\n",
       "      <td>diagnosis</td>\n",
       "      <td>a</td>\n",
       "      <td>mobile</td>\n",
       "      <td>1</td>\n",
       "    </tr>\n",
       "    <tr>\n",
       "      <th>13</th>\n",
       "      <td>2019-08-06 12:59:55.328</td>\n",
       "      <td>respond</td>\n",
       "      <td>q6528</td>\n",
       "      <td>diagnosis</td>\n",
       "      <td>b</td>\n",
       "      <td>mobile</td>\n",
       "      <td>1</td>\n",
       "    </tr>\n",
       "  </tbody>\n",
       "</table>\n",
       "</div>"
      ],
      "text/plain": [
       "                 timestamp action_type item_id     source user_answer  \\\n",
       "1  2019-08-06 12:56:27.972     respond   q5012  diagnosis           b   \n",
       "4  2019-08-06 12:56:58.682     respond   q4706  diagnosis           c   \n",
       "7  2019-08-06 12:58:10.094     respond   q4366  diagnosis           b   \n",
       "10 2019-08-06 12:58:57.361     respond   q4829  diagnosis           a   \n",
       "13 2019-08-06 12:59:55.328     respond   q6528  diagnosis           b   \n",
       "\n",
       "   platform  user_iD  \n",
       "1    mobile        1  \n",
       "4    mobile        1  \n",
       "7    mobile        1  \n",
       "10   mobile        1  \n",
       "13   mobile        1  "
      ]
     },
     "execution_count": 10,
     "metadata": {},
     "output_type": "execute_result"
    }
   ],
   "source": [
    "A = K3.loc[K3['action_type'].isin(['respond'])]\n",
    "A.head()"
   ]
  },
  {
   "cell_type": "code",
   "execution_count": 12,
   "id": "116a0f6a",
   "metadata": {},
   "outputs": [
    {
     "data": {
      "image/png": "[encoded data removed]",
      "text/plain": [
       "<Figure size 1440x720 with 1 Axes>"
      ]
     },
     "metadata": {
      "needs_background": "light"
     },
     "output_type": "display_data"
    }
   ],
   "source": [
    "cids = A.user_iD.value_counts()[:50]\n",
    "\n",
    "fig = plt.figure(figsize=(20,10))\n",
    "ax = cids.plot.bar()\n",
    "plt.title(\"Fifty most active USER'S\")\n",
    "plt.xticks(rotation=90)\n",
    "ax.get_yaxis().set_major_formatter(FuncFormatter(lambda x, p: format(int(x), ','))) #add thousands separator\n",
    "plt.xlabel('USERS')\n",
    "plt.ylabel('Interactions')\n",
    "plt.show()\n"
   ]
  },
  {
   "cell_type": "code",
   "execution_count": 13,
   "id": "882303de",
   "metadata": {},
   "outputs": [
    {
     "data": {
      "image/png": "[encoded data removed]",
      "text/plain": [
       "<Figure size 1440x720 with 1 Axes>"
      ]
     },
     "metadata": {
      "needs_background": "light"
     },
     "output_type": "display_data"
    }
   ],
   "source": [
    "cids = A.user_iD.value_counts()[50:100]\n",
    "\n",
    "fig = plt.figure(figsize=(20,10))\n",
    "ax = cids.plot.bar()\n",
    "plt.title(\"Fifty to hundred most active USER'S\")\n",
    "plt.xticks(rotation=90)\n",
    "ax.get_yaxis().set_major_formatter(FuncFormatter(lambda x, p: format(int(x), ','))) #add thousands separator\n",
    "plt.xlabel('USERS')\n",
    "plt.ylabel('Interactions')\n",
    "plt.show()\n"
   ]
  },
  {
   "cell_type": "code",
   "execution_count": null,
   "id": "c314dd2b",
   "metadata": {},
   "outputs": [],
   "source": [
    "output_dict1 = {\"bundle_id\": [], \"question_id\": [], \"correct\": [], \"incorrect\": []}\n",
    "#output_dict2 = {\"bundle_id\": [], \"question_count\": [], \"correct\": [], \"incorrect\": []}\n",
    "for b_id in qDF['bundle_id'].unique():\n",
    "    output_dict2['bundle_id'].append(b_id)\n",
    "    output_dict2['question_count'].append(0)\n",
    "    output_dict2['correct'].append(0)\n",
    "    output_dict2['incorrect'].append(0)\n",
    "    qDF_filtered_by_bundle = qDF.loc[qDF[\"bundle_id\"]==b_id]\n",
    "    item_counts = rDF['item_id'].value_counts()\n",
    "    for _, qDF_row in qDF_filtered_by_bundle.iterrows():\n",
    "        question = qDF_row['question_id']\n",
    "        rDF_filtered_by_question = rDF.loc[rDF[\"item_id\"]==question]\n",
    "        original_answer = qDF_row['correct_answer']\n",
    "        output_dict2['question_count'][-1] += 1\n",
    "        for _, rDF_row in rDF_filtered_by_question.iterrows():\n",
    "            user_answer = rDF_row['user_answer']\n",
    "            if question not in output_dict1['question_id']:\n",
    "                output_dict1['bundle_id'].append(b_id)\n",
    "                output_dict1['question_id'].append(question)\n",
    "                output_dict1['correct'].append(0)\n",
    "                output_dict1['incorrect'].append(0)\n",
    "            if user_answer == original_answer:\n",
    "                output_dict1['correct'][output_dict1['question_id'].index(question)] += 1\n",
    "                output_dict2['correct'][-1] += 1\n",
    "            else:\n",
    "                output_dict1['incorrect'][output_dict1['question_id'].index(question)] += 1\n",
    "                output_dict2['incorrect'][-1] += 1\n",
    "        \n",
    "output1 = pd.DataFrame(data=output_dict1)\n",
    "output2 = pd.DataFrame(data=output_dict2)"
   ]
  },
  {
   "cell_type": "code",
   "execution_count": 17,
   "id": "46b9925e",
   "metadata": {},
   "outputs": [
    {
     "data": {
      "text/plain": [
       "<AxesSubplot:>"
      ]
     },
     "execution_count": 17,
     "metadata": {},
     "output_type": "execute_result"
    },
    {
     "data": {
      "image/png": "[encoded data removed]",
      "text/plain": [
       "<Figure size 432x288 with 1 Axes>"
      ]
     },
     "metadata": {
      "needs_background": "light"
     },
     "output_type": "display_data"
    }
   ],
   "source": [
    "K3['timestamp'].hist(bins = 100)"
   ]
  },
  {
   "cell_type": "code",
   "execution_count": 27,
   "id": "1c1a40be",
   "metadata": {},
   "outputs": [
    {
     "name": "stdout",
     "output_type": "stream",
     "text": [
      "29498\n"
     ]
    }
   ],
   "source": [
    "Z= len(pd.value_counts(K3['item_id']))\n",
    "print(Z)"
   ]
  },
  {
   "cell_type": "code",
   "execution_count": null,
   "id": "95f517fe",
   "metadata": {},
   "outputs": [],
   "source": [
    "output_dict1 = {\"User_id\": [], \"question_id\": [], \"correct\": [], \"incorrect\": []}"
   ]
  },
  {
   "cell_type": "code",
   "execution_count": null,
   "id": "541495ad",
   "metadata": {},
   "outputs": [],
   "source": [
    "counter_u100 = 0\n",
    "for key, item_id in User100['item_id'].iteritems():\n",
    "    try:\n",
    "        if User100.loc[key, 'user_answer'] == questions.loc[questions['question_id'] == item_id, 'correct_answer'].values[0]:\n",
    "            counter_u100 += 1\n",
    "        else:\n",
    "            pass  # put here whatever you want to do if the answer is wrong\n",
    "    except Exception:\n",
    "        pass # put here whatever you want to do if the question id from DF(B) is not in DF(questions)"
   ]
  }
 ],
 "metadata": {
  "kernelspec": {
   "display_name": "conda_python3",
   "language": "python",
   "name": "conda_python3"
  },
  "language_info": {
   "codemirror_mode": {
    "name": "ipython",
    "version": 3
   },
   "file_extension": ".py",
   "mimetype": "text/x-python",
   "name": "python",
   "nbconvert_exporter": "python",
   "pygments_lexer": "ipython3",
   "version": "3.6.13"
  }
 },
 "nbformat": 4,
 "nbformat_minor": 5
}
