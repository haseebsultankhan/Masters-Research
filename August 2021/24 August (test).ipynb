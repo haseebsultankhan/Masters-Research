{
 "cells": [
  {
   "cell_type": "code",
   "execution_count": 1,
   "id": "e4119e75",
   "metadata": {},
   "outputs": [],
   "source": [
    "import pandas as pd\n",
    "import numpy as np\n",
    "import seaborn as sns\n",
    "import matplotlib.pyplot as plt \n",
    "pd.set_option('display.max_columns',None) # To display all columns\n",
    "pd.set_option('display.max_rows',None) # To display all columns\n",
    "import feather\n",
    "import matplotlib.pyplot as plt\n",
    "from matplotlib.ticker import FuncFormatter\n",
    "import numpy as np\n",
    "import pandas as pd\n",
    "import glob\n",
    "import warnings\n",
    "warnings.filterwarnings('ignore')\n",
    "from functools import reduce"
   ]
  },
  {
   "cell_type": "code",
   "execution_count": 2,
   "id": "b2898a11",
   "metadata": {},
   "outputs": [],
   "source": [
    "KT1 = pd.read_feather('DEMOKT1.ftr')\n",
    "#KT3 = pd.read_feather('KT3.ftr')"
   ]
  },
  {
   "cell_type": "code",
   "execution_count": 3,
   "id": "1cb75937",
   "metadata": {},
   "outputs": [],
   "source": [
    "questions_df = pd.read_csv('questions.csv')"
   ]
  },
  {
   "cell_type": "code",
   "execution_count": 4,
   "id": "02261644",
   "metadata": {},
   "outputs": [
    {
     "data": {
      "text/html": [
       "<div>\n",
       "<style scoped>\n",
       "    .dataframe tbody tr th:only-of-type {\n",
       "        vertical-align: middle;\n",
       "    }\n",
       "\n",
       "    .dataframe tbody tr th {\n",
       "        vertical-align: top;\n",
       "    }\n",
       "\n",
       "    .dataframe thead th {\n",
       "        text-align: right;\n",
       "    }\n",
       "</style>\n",
       "<table border=\"1\" class=\"dataframe\">\n",
       "  <thead>\n",
       "    <tr style=\"text-align: right;\">\n",
       "      <th></th>\n",
       "      <th>timestamp</th>\n",
       "      <th>solving_id</th>\n",
       "      <th>question_id</th>\n",
       "      <th>user_answer</th>\n",
       "      <th>elapsed_time</th>\n",
       "      <th>user_iD</th>\n",
       "    </tr>\n",
       "  </thead>\n",
       "  <tbody>\n",
       "    <tr>\n",
       "      <th>0</th>\n",
       "      <td>1565096190868</td>\n",
       "      <td>1</td>\n",
       "      <td>q5012</td>\n",
       "      <td>b</td>\n",
       "      <td>38000</td>\n",
       "      <td>1</td>\n",
       "    </tr>\n",
       "    <tr>\n",
       "      <th>1</th>\n",
       "      <td>1565096221062</td>\n",
       "      <td>2</td>\n",
       "      <td>q4706</td>\n",
       "      <td>c</td>\n",
       "      <td>24000</td>\n",
       "      <td>1</td>\n",
       "    </tr>\n",
       "    <tr>\n",
       "      <th>2</th>\n",
       "      <td>1565096293432</td>\n",
       "      <td>3</td>\n",
       "      <td>q4366</td>\n",
       "      <td>b</td>\n",
       "      <td>68000</td>\n",
       "      <td>1</td>\n",
       "    </tr>\n",
       "    <tr>\n",
       "      <th>3</th>\n",
       "      <td>1565096339668</td>\n",
       "      <td>4</td>\n",
       "      <td>q4829</td>\n",
       "      <td>a</td>\n",
       "      <td>42000</td>\n",
       "      <td>1</td>\n",
       "    </tr>\n",
       "    <tr>\n",
       "      <th>4</th>\n",
       "      <td>1565096401774</td>\n",
       "      <td>5</td>\n",
       "      <td>q6528</td>\n",
       "      <td>b</td>\n",
       "      <td>59000</td>\n",
       "      <td>1</td>\n",
       "    </tr>\n",
       "  </tbody>\n",
       "</table>\n",
       "</div>"
      ],
      "text/plain": [
       "       timestamp  solving_id question_id user_answer  elapsed_time  user_iD\n",
       "0  1565096190868           1       q5012           b         38000        1\n",
       "1  1565096221062           2       q4706           c         24000        1\n",
       "2  1565096293432           3       q4366           b         68000        1\n",
       "3  1565096339668           4       q4829           a         42000        1\n",
       "4  1565096401774           5       q6528           b         59000        1"
      ]
     },
     "execution_count": 4,
     "metadata": {},
     "output_type": "execute_result"
    }
   ],
   "source": [
    "KT1.head()"
   ]
  },
  {
   "cell_type": "code",
   "execution_count": 5,
   "id": "2ad8ba4f",
   "metadata": {},
   "outputs": [
    {
     "data": {
      "text/plain": [
       "array([ 1, 10, 11, 12, 13, 14, 15, 16, 17, 18, 19,  2, 20, 21, 22, 23, 24,\n",
       "       25, 26, 28, 29,  3, 30,  4,  5,  6,  7,  8,  9], dtype=int32)"
      ]
     },
     "execution_count": 5,
     "metadata": {},
     "output_type": "execute_result"
    }
   ],
   "source": [
    "KT1['user_iD'].unique()"
   ]
  },
  {
   "cell_type": "code",
   "execution_count": 6,
   "id": "99b163cc",
   "metadata": {},
   "outputs": [],
   "source": [
    "questions_df.bundle_id = questions_df.bundle_id.str.slice(start=1)\n",
    "questions_df.explanation_id = questions_df.explanation_id.str.slice(start=1)\n",
    "questions_df.deployed_at = pd.to_datetime(questions_df.deployed_at, unit='ms')\n",
    "dfq = questions_df[['question_id', 'correct_answer', 'bundle_id', 'explanation_id' , 'part', 'tags', 'deployed_at']]\n",
    "#dfq.head()"
   ]
  },
  {
   "cell_type": "code",
   "execution_count": 7,
   "id": "5d45f5d7",
   "metadata": {},
   "outputs": [],
   "source": [
    "# subset df for notnull question_id rows only (only work with rows that have questions)\n",
    "df2 = KT1[KT1['question_id'].notnull()]"
   ]
  },
  {
   "cell_type": "code",
   "execution_count": 8,
   "id": "fdc5ded9",
   "metadata": {},
   "outputs": [],
   "source": [
    "# left join student dataframe and answer key dataframe on the 'question_id' column \n",
    "dfm = pd.merge(df2, dfq,  how='left', left_on=['question_id'], right_on = ['question_id'])"
   ]
  },
  {
   "cell_type": "code",
   "execution_count": 9,
   "id": "a2fab6f6",
   "metadata": {},
   "outputs": [
    {
     "data": {
      "text/html": [
       "<div>\n",
       "<style scoped>\n",
       "    .dataframe tbody tr th:only-of-type {\n",
       "        vertical-align: middle;\n",
       "    }\n",
       "\n",
       "    .dataframe tbody tr th {\n",
       "        vertical-align: top;\n",
       "    }\n",
       "\n",
       "    .dataframe thead th {\n",
       "        text-align: right;\n",
       "    }\n",
       "</style>\n",
       "<table border=\"1\" class=\"dataframe\">\n",
       "  <thead>\n",
       "    <tr style=\"text-align: right;\">\n",
       "      <th></th>\n",
       "      <th>timestamp</th>\n",
       "      <th>solving_id</th>\n",
       "      <th>question_id</th>\n",
       "      <th>user_answer</th>\n",
       "      <th>elapsed_time</th>\n",
       "      <th>user_iD</th>\n",
       "      <th>correct_answer</th>\n",
       "      <th>bundle_id</th>\n",
       "      <th>explanation_id</th>\n",
       "      <th>part</th>\n",
       "      <th>tags</th>\n",
       "      <th>deployed_at</th>\n",
       "    </tr>\n",
       "  </thead>\n",
       "  <tbody>\n",
       "    <tr>\n",
       "      <th>0</th>\n",
       "      <td>1565096190868</td>\n",
       "      <td>1</td>\n",
       "      <td>q5012</td>\n",
       "      <td>b</td>\n",
       "      <td>38000</td>\n",
       "      <td>1</td>\n",
       "      <td>c</td>\n",
       "      <td>3544</td>\n",
       "      <td>3544</td>\n",
       "      <td>5</td>\n",
       "      <td>74</td>\n",
       "      <td>2019-09-17 02:43:28.616</td>\n",
       "    </tr>\n",
       "    <tr>\n",
       "      <th>1</th>\n",
       "      <td>1565096221062</td>\n",
       "      <td>2</td>\n",
       "      <td>q4706</td>\n",
       "      <td>c</td>\n",
       "      <td>24000</td>\n",
       "      <td>1</td>\n",
       "      <td>c</td>\n",
       "      <td>3238</td>\n",
       "      <td>3238</td>\n",
       "      <td>5</td>\n",
       "      <td>71</td>\n",
       "      <td>2019-10-30 05:34:30.723</td>\n",
       "    </tr>\n",
       "    <tr>\n",
       "      <th>2</th>\n",
       "      <td>1565096293432</td>\n",
       "      <td>3</td>\n",
       "      <td>q4366</td>\n",
       "      <td>b</td>\n",
       "      <td>68000</td>\n",
       "      <td>1</td>\n",
       "      <td>b</td>\n",
       "      <td>2898</td>\n",
       "      <td>2898</td>\n",
       "      <td>5</td>\n",
       "      <td>103</td>\n",
       "      <td>2019-10-30 05:37:51.451</td>\n",
       "    </tr>\n",
       "    <tr>\n",
       "      <th>3</th>\n",
       "      <td>1565096339668</td>\n",
       "      <td>4</td>\n",
       "      <td>q4829</td>\n",
       "      <td>a</td>\n",
       "      <td>42000</td>\n",
       "      <td>1</td>\n",
       "      <td>c</td>\n",
       "      <td>3361</td>\n",
       "      <td>3361</td>\n",
       "      <td>5</td>\n",
       "      <td>83</td>\n",
       "      <td>2019-06-24 09:24:51.347</td>\n",
       "    </tr>\n",
       "    <tr>\n",
       "      <th>4</th>\n",
       "      <td>1565096401774</td>\n",
       "      <td>5</td>\n",
       "      <td>q6528</td>\n",
       "      <td>b</td>\n",
       "      <td>59000</td>\n",
       "      <td>1</td>\n",
       "      <td>d</td>\n",
       "      <td>5060</td>\n",
       "      <td>5060</td>\n",
       "      <td>5</td>\n",
       "      <td>90</td>\n",
       "      <td>2019-10-17 03:03:15.009</td>\n",
       "    </tr>\n",
       "  </tbody>\n",
       "</table>\n",
       "</div>"
      ],
      "text/plain": [
       "       timestamp  solving_id question_id user_answer  elapsed_time  user_iD  \\\n",
       "0  1565096190868           1       q5012           b         38000        1   \n",
       "1  1565096221062           2       q4706           c         24000        1   \n",
       "2  1565096293432           3       q4366           b         68000        1   \n",
       "3  1565096339668           4       q4829           a         42000        1   \n",
       "4  1565096401774           5       q6528           b         59000        1   \n",
       "\n",
       "  correct_answer bundle_id explanation_id  part tags             deployed_at  \n",
       "0              c      3544           3544     5   74 2019-09-17 02:43:28.616  \n",
       "1              c      3238           3238     5   71 2019-10-30 05:34:30.723  \n",
       "2              b      2898           2898     5  103 2019-10-30 05:37:51.451  \n",
       "3              c      3361           3361     5   83 2019-06-24 09:24:51.347  \n",
       "4              d      5060           5060     5   90 2019-10-17 03:03:15.009  "
      ]
     },
     "execution_count": 9,
     "metadata": {},
     "output_type": "execute_result"
    }
   ],
   "source": [
    "dfm.head()"
   ]
  },
  {
   "cell_type": "code",
   "execution_count": 10,
   "id": "eb11f91c",
   "metadata": {},
   "outputs": [
    {
     "data": {
      "text/plain": [
       "array([ 1, 10, 11, 12, 13, 14, 15, 16, 17, 18, 19,  2, 20, 21, 22, 23, 24,\n",
       "       25, 26, 28, 29,  3, 30,  4,  5,  6,  7,  8,  9], dtype=int32)"
      ]
     },
     "execution_count": 10,
     "metadata": {},
     "output_type": "execute_result"
    }
   ],
   "source": [
    "dfm['user_iD'].unique()"
   ]
  },
  {
   "cell_type": "code",
   "execution_count": 11,
   "id": "babe1b5d",
   "metadata": {},
   "outputs": [],
   "source": [
    "# create a 'correct' column\n",
    "dfm['correct'] = np.nan\n",
    "\n",
    "# loop - if user answers == correct answer, then dfq['correct'][_]= 1\n",
    "length_df = dfm['user_iD'].count()\n",
    "count = 0\n",
    "for i in range(length_df):\n",
    "    if dfm['user_answer'][count] == dfm['correct_answer'][count]:\n",
    "        dfm['correct'][count] = 1\n",
    "    if dfm['user_answer'][count] != dfm['correct_answer'][count]:\n",
    "        dfm['correct'][count] = 0\n",
    "    count+=1"
   ]
  },
  {
   "cell_type": "code",
   "execution_count": 13,
   "id": "9df1ad7f",
   "metadata": {},
   "outputs": [
    {
     "data": {
      "text/plain": [
       "array([ 1, 10, 11, 12, 13, 14, 15, 16, 17, 18, 19,  2, 20, 21, 22, 23, 24,\n",
       "       25, 26, 28, 29,  3, 30,  4,  5,  6,  7,  8,  9], dtype=int32)"
      ]
     },
     "execution_count": 13,
     "metadata": {},
     "output_type": "execute_result"
    }
   ],
   "source": [
    "dfm['user_iD'].unique()"
   ]
  },
  {
   "cell_type": "code",
   "execution_count": 17,
   "id": "bc303228",
   "metadata": {},
   "outputs": [
    {
     "data": {
      "text/html": [
       "<div>\n",
       "<style scoped>\n",
       "    .dataframe tbody tr th:only-of-type {\n",
       "        vertical-align: middle;\n",
       "    }\n",
       "\n",
       "    .dataframe tbody tr th {\n",
       "        vertical-align: top;\n",
       "    }\n",
       "\n",
       "    .dataframe thead th {\n",
       "        text-align: right;\n",
       "    }\n",
       "</style>\n",
       "<table border=\"1\" class=\"dataframe\">\n",
       "  <thead>\n",
       "    <tr style=\"text-align: right;\">\n",
       "      <th></th>\n",
       "      <th>user_iD</th>\n",
       "      <th>Total Questions Attempted</th>\n",
       "    </tr>\n",
       "  </thead>\n",
       "  <tbody>\n",
       "    <tr>\n",
       "      <th>0</th>\n",
       "      <td>1</td>\n",
       "      <td>1082</td>\n",
       "    </tr>\n",
       "    <tr>\n",
       "      <th>1</th>\n",
       "      <td>10</td>\n",
       "      <td>16</td>\n",
       "    </tr>\n",
       "    <tr>\n",
       "      <th>2</th>\n",
       "      <td>11</td>\n",
       "      <td>4681</td>\n",
       "    </tr>\n",
       "    <tr>\n",
       "      <th>3</th>\n",
       "      <td>12</td>\n",
       "      <td>59</td>\n",
       "    </tr>\n",
       "    <tr>\n",
       "      <th>4</th>\n",
       "      <td>13</td>\n",
       "      <td>59</td>\n",
       "    </tr>\n",
       "  </tbody>\n",
       "</table>\n",
       "</div>"
      ],
      "text/plain": [
       "   user_iD  Total Questions Attempted\n",
       "0        1                       1082\n",
       "1       10                         16\n",
       "2       11                       4681\n",
       "3       12                         59\n",
       "4       13                         59"
      ]
     },
     "execution_count": 17,
     "metadata": {},
     "output_type": "execute_result"
    }
   ],
   "source": [
    "df_total_questions_attempted = dfm.groupby(['user_iD'], as_index=False , sort=False)['question_id'].count()\n",
    "\n",
    "df_total_questions_attempted = df_total_questions_attempted.rename(columns={'question_id': 'Total Questions Attempted'})\n",
    "\n",
    "df_total_questions_attempted.head()                                                                "
   ]
  },
  {
   "cell_type": "code",
   "execution_count": 18,
   "id": "9d9f43ac",
   "metadata": {},
   "outputs": [
    {
     "data": {
      "text/plain": [
       "array([ 1, 10, 11, 12, 13, 14, 15, 16, 17, 18, 19,  2, 20, 21, 22, 23, 24,\n",
       "       25, 26, 28, 29,  3, 30,  4,  5,  6,  7,  8,  9])"
      ]
     },
     "execution_count": 18,
     "metadata": {},
     "output_type": "execute_result"
    }
   ],
   "source": [
    "df_total_questions_attempted['user_iD'].unique()"
   ]
  },
  {
   "cell_type": "code",
   "execution_count": 19,
   "id": "d87b3574",
   "metadata": {},
   "outputs": [
    {
     "data": {
      "text/html": [
       "<div>\n",
       "<style scoped>\n",
       "    .dataframe tbody tr th:only-of-type {\n",
       "        vertical-align: middle;\n",
       "    }\n",
       "\n",
       "    .dataframe tbody tr th {\n",
       "        vertical-align: top;\n",
       "    }\n",
       "\n",
       "    .dataframe thead th {\n",
       "        text-align: right;\n",
       "    }\n",
       "</style>\n",
       "<table border=\"1\" class=\"dataframe\">\n",
       "  <thead>\n",
       "    <tr style=\"text-align: right;\">\n",
       "      <th></th>\n",
       "      <th>user_iD</th>\n",
       "      <th>Corrected</th>\n",
       "    </tr>\n",
       "  </thead>\n",
       "  <tbody>\n",
       "    <tr>\n",
       "      <th>0</th>\n",
       "      <td>1</td>\n",
       "      <td>753</td>\n",
       "    </tr>\n",
       "    <tr>\n",
       "      <th>1</th>\n",
       "      <td>10</td>\n",
       "      <td>9</td>\n",
       "    </tr>\n",
       "    <tr>\n",
       "      <th>2</th>\n",
       "      <td>11</td>\n",
       "      <td>3224</td>\n",
       "    </tr>\n",
       "    <tr>\n",
       "      <th>3</th>\n",
       "      <td>12</td>\n",
       "      <td>31</td>\n",
       "    </tr>\n",
       "    <tr>\n",
       "      <th>4</th>\n",
       "      <td>13</td>\n",
       "      <td>33</td>\n",
       "    </tr>\n",
       "  </tbody>\n",
       "</table>\n",
       "</div>"
      ],
      "text/plain": [
       "   user_iD  Corrected\n",
       "0        1        753\n",
       "1       10          9\n",
       "2       11       3224\n",
       "3       12         31\n",
       "4       13         33"
      ]
     },
     "execution_count": 19,
     "metadata": {},
     "output_type": "execute_result"
    }
   ],
   "source": [
    "df_correct = dfm[dfm['correct']==1].groupby(['user_iD'], as_index=False, sort=False)['question_id'].count()\n",
    "\n",
    "df_correct = df_correct.rename(columns={'question_id': 'Corrected'})\n",
    "\n",
    "df_correct.head()"
   ]
  },
  {
   "cell_type": "code",
   "execution_count": 20,
   "id": "77cf077a",
   "metadata": {},
   "outputs": [
    {
     "data": {
      "text/html": [
       "<div>\n",
       "<style scoped>\n",
       "    .dataframe tbody tr th:only-of-type {\n",
       "        vertical-align: middle;\n",
       "    }\n",
       "\n",
       "    .dataframe tbody tr th {\n",
       "        vertical-align: top;\n",
       "    }\n",
       "\n",
       "    .dataframe thead th {\n",
       "        text-align: right;\n",
       "    }\n",
       "</style>\n",
       "<table border=\"1\" class=\"dataframe\">\n",
       "  <thead>\n",
       "    <tr style=\"text-align: right;\">\n",
       "      <th></th>\n",
       "      <th>user_iD</th>\n",
       "      <th>Incorrected</th>\n",
       "    </tr>\n",
       "  </thead>\n",
       "  <tbody>\n",
       "    <tr>\n",
       "      <th>0</th>\n",
       "      <td>1</td>\n",
       "      <td>329</td>\n",
       "    </tr>\n",
       "    <tr>\n",
       "      <th>1</th>\n",
       "      <td>10</td>\n",
       "      <td>7</td>\n",
       "    </tr>\n",
       "    <tr>\n",
       "      <th>2</th>\n",
       "      <td>11</td>\n",
       "      <td>1457</td>\n",
       "    </tr>\n",
       "    <tr>\n",
       "      <th>3</th>\n",
       "      <td>12</td>\n",
       "      <td>28</td>\n",
       "    </tr>\n",
       "    <tr>\n",
       "      <th>4</th>\n",
       "      <td>13</td>\n",
       "      <td>26</td>\n",
       "    </tr>\n",
       "  </tbody>\n",
       "</table>\n",
       "</div>"
      ],
      "text/plain": [
       "   user_iD  Incorrected\n",
       "0        1          329\n",
       "1       10            7\n",
       "2       11         1457\n",
       "3       12           28\n",
       "4       13           26"
      ]
     },
     "execution_count": 20,
     "metadata": {},
     "output_type": "execute_result"
    }
   ],
   "source": [
    "df_incorrect = dfm[dfm['correct']==0].groupby(['user_iD'], as_index=False, sort=False)['question_id'].count()\n",
    "\n",
    "df_incorrect = df_incorrect.rename(columns={'question_id': 'Incorrected'})\n",
    "\n",
    "df_incorrect.head()"
   ]
  },
  {
   "cell_type": "code",
   "execution_count": 21,
   "id": "2db271fc",
   "metadata": {},
   "outputs": [],
   "source": [
    "dfs = [df_total_questions_attempted, df_correct, df_incorrect]\n",
    "df_final = reduce(lambda left,right: pd.merge(left,right,on='user_iD'), dfs)"
   ]
  },
  {
   "cell_type": "code",
   "execution_count": 22,
   "id": "45da08bd",
   "metadata": {},
   "outputs": [
    {
     "data": {
      "text/html": [
       "<div>\n",
       "<style scoped>\n",
       "    .dataframe tbody tr th:only-of-type {\n",
       "        vertical-align: middle;\n",
       "    }\n",
       "\n",
       "    .dataframe tbody tr th {\n",
       "        vertical-align: top;\n",
       "    }\n",
       "\n",
       "    .dataframe thead th {\n",
       "        text-align: right;\n",
       "    }\n",
       "</style>\n",
       "<table border=\"1\" class=\"dataframe\">\n",
       "  <thead>\n",
       "    <tr style=\"text-align: right;\">\n",
       "      <th></th>\n",
       "      <th>user_iD</th>\n",
       "      <th>Total Questions Attempted</th>\n",
       "      <th>Corrected</th>\n",
       "      <th>Incorrected</th>\n",
       "    </tr>\n",
       "  </thead>\n",
       "  <tbody>\n",
       "    <tr>\n",
       "      <th>0</th>\n",
       "      <td>1</td>\n",
       "      <td>1082</td>\n",
       "      <td>753</td>\n",
       "      <td>329</td>\n",
       "    </tr>\n",
       "    <tr>\n",
       "      <th>1</th>\n",
       "      <td>10</td>\n",
       "      <td>16</td>\n",
       "      <td>9</td>\n",
       "      <td>7</td>\n",
       "    </tr>\n",
       "    <tr>\n",
       "      <th>2</th>\n",
       "      <td>11</td>\n",
       "      <td>4681</td>\n",
       "      <td>3224</td>\n",
       "      <td>1457</td>\n",
       "    </tr>\n",
       "    <tr>\n",
       "      <th>3</th>\n",
       "      <td>12</td>\n",
       "      <td>59</td>\n",
       "      <td>31</td>\n",
       "      <td>28</td>\n",
       "    </tr>\n",
       "    <tr>\n",
       "      <th>4</th>\n",
       "      <td>13</td>\n",
       "      <td>59</td>\n",
       "      <td>33</td>\n",
       "      <td>26</td>\n",
       "    </tr>\n",
       "  </tbody>\n",
       "</table>\n",
       "</div>"
      ],
      "text/plain": [
       "   user_iD  Total Questions Attempted  Corrected  Incorrected\n",
       "0        1                       1082        753          329\n",
       "1       10                         16          9            7\n",
       "2       11                       4681       3224         1457\n",
       "3       12                         59         31           28\n",
       "4       13                         59         33           26"
      ]
     },
     "execution_count": 22,
     "metadata": {},
     "output_type": "execute_result"
    }
   ],
   "source": [
    "df_final.head()"
   ]
  },
  {
   "cell_type": "code",
   "execution_count": 23,
   "id": "a01fc858",
   "metadata": {},
   "outputs": [
    {
     "data": {
      "text/html": [
       "<div>\n",
       "<style scoped>\n",
       "    .dataframe tbody tr th:only-of-type {\n",
       "        vertical-align: middle;\n",
       "    }\n",
       "\n",
       "    .dataframe tbody tr th {\n",
       "        vertical-align: top;\n",
       "    }\n",
       "\n",
       "    .dataframe thead th {\n",
       "        text-align: right;\n",
       "    }\n",
       "</style>\n",
       "<table border=\"1\" class=\"dataframe\">\n",
       "  <thead>\n",
       "    <tr style=\"text-align: right;\">\n",
       "      <th></th>\n",
       "      <th>user_iD</th>\n",
       "      <th>Total Questions Attempted</th>\n",
       "      <th>Corrected</th>\n",
       "      <th>Incorrected</th>\n",
       "      <th>Percentage</th>\n",
       "    </tr>\n",
       "  </thead>\n",
       "  <tbody>\n",
       "    <tr>\n",
       "      <th>0</th>\n",
       "      <td>1</td>\n",
       "      <td>1082</td>\n",
       "      <td>753</td>\n",
       "      <td>329</td>\n",
       "      <td>69.593346</td>\n",
       "    </tr>\n",
       "    <tr>\n",
       "      <th>1</th>\n",
       "      <td>10</td>\n",
       "      <td>16</td>\n",
       "      <td>9</td>\n",
       "      <td>7</td>\n",
       "      <td>56.250000</td>\n",
       "    </tr>\n",
       "    <tr>\n",
       "      <th>2</th>\n",
       "      <td>11</td>\n",
       "      <td>4681</td>\n",
       "      <td>3224</td>\n",
       "      <td>1457</td>\n",
       "      <td>68.874172</td>\n",
       "    </tr>\n",
       "    <tr>\n",
       "      <th>3</th>\n",
       "      <td>12</td>\n",
       "      <td>59</td>\n",
       "      <td>31</td>\n",
       "      <td>28</td>\n",
       "      <td>52.542373</td>\n",
       "    </tr>\n",
       "    <tr>\n",
       "      <th>4</th>\n",
       "      <td>13</td>\n",
       "      <td>59</td>\n",
       "      <td>33</td>\n",
       "      <td>26</td>\n",
       "      <td>55.932203</td>\n",
       "    </tr>\n",
       "  </tbody>\n",
       "</table>\n",
       "</div>"
      ],
      "text/plain": [
       "   user_iD  Total Questions Attempted  Corrected  Incorrected  Percentage\n",
       "0        1                       1082        753          329   69.593346\n",
       "1       10                         16          9            7   56.250000\n",
       "2       11                       4681       3224         1457   68.874172\n",
       "3       12                         59         31           28   52.542373\n",
       "4       13                         59         33           26   55.932203"
      ]
     },
     "execution_count": 23,
     "metadata": {},
     "output_type": "execute_result"
    }
   ],
   "source": [
    "df_final['Percentage'] = (df_final['Corrected'] / df_final['Total Questions Attempted']) *100\n",
    "df_final.head()"
   ]
  },
  {
   "cell_type": "code",
   "execution_count": 24,
   "id": "c02c0d02",
   "metadata": {},
   "outputs": [
    {
     "data": {
      "text/plain": [
       "<AxesSubplot:xlabel='user_iD'>"
      ]
     },
     "execution_count": 24,
     "metadata": {},
     "output_type": "execute_result"
    },
    {
     "data": {
      "image/png": "[encoded data removed]",
      "text/plain": [
       "<Figure size 1080x720 with 1 Axes>"
      ]
     },
     "metadata": {
      "needs_background": "light"
     },
     "output_type": "display_data"
    }
   ],
   "source": [
    "df_final.plot(x=\"user_iD\", y=[\"Percentage\"], kind=\"bar\",figsize=(15,10) , rot=0)"
   ]
  },
  {
   "cell_type": "code",
   "execution_count": 25,
   "id": "a8360bb6",
   "metadata": {},
   "outputs": [],
   "source": [
    "Users_50_percent_more = df_final.loc[df_final['Percentage'] >= 50]"
   ]
  },
  {
   "cell_type": "code",
   "execution_count": 27,
   "id": "b51c1537",
   "metadata": {},
   "outputs": [
    {
     "data": {
      "text/plain": [
       "<AxesSubplot:xlabel='user_iD'>"
      ]
     },
     "execution_count": 27,
     "metadata": {},
     "output_type": "execute_result"
    },
    {
     "data": {
      "image/png": "[encoded data removed]",
      "text/plain": [
       "<Figure size 1080x720 with 1 Axes>"
      ]
     },
     "metadata": {
      "needs_background": "light"
     },
     "output_type": "display_data"
    }
   ],
   "source": [
    "Users_50_percent_more.plot(x=\"user_iD\", y=[\"Percentage\"], kind=\"bar\",figsize=(15,10) , rot=0)"
   ]
  },
  {
   "cell_type": "code",
   "execution_count": 28,
   "id": "ae1c76a9",
   "metadata": {},
   "outputs": [],
   "source": [
    "dfm['elapsed_time']= dfm.elapsed_time.div(1000)"
   ]
  },
  {
   "cell_type": "code",
   "execution_count": 32,
   "id": "fb533115",
   "metadata": {},
   "outputs": [],
   "source": [
    "Elapsed_time= dfm.groupby('user_iD' , sort=False)['elapsed_time'].mean()"
   ]
  },
  {
   "cell_type": "code",
   "execution_count": 33,
   "id": "193d71f0",
   "metadata": {},
   "outputs": [
    {
     "data": {
      "text/plain": [
       "Text(0.5, 0, 'USERS')"
      ]
     },
     "execution_count": 33,
     "metadata": {},
     "output_type": "execute_result"
    },
    {
     "data": {
      "image/png": "[encoded data removed]",
      "text/plain": [
       "<Figure size 1080x720 with 1 Axes>"
      ]
     },
     "metadata": {
      "needs_background": "light"
     },
     "output_type": "display_data"
    }
   ],
   "source": [
    "Elapsed_time.plot(kind=\"bar\",figsize=(15,10) , rot=0)\n",
    "plt.ylabel('AVERAGE SECONDS')\n",
    "plt.xlabel('USERS')"
   ]
  },
  {
   "cell_type": "code",
   "execution_count": null,
   "id": "c3a9bacc",
   "metadata": {},
   "outputs": [],
   "source": []
  }
 ],
 "metadata": {
  "kernelspec": {
   "display_name": "conda_python3",
   "language": "python",
   "name": "conda_python3"
  },
  "language_info": {
   "codemirror_mode": {
    "name": "ipython",
    "version": 3
   },
   "file_extension": ".py",
   "mimetype": "text/x-python",
   "name": "python",
   "nbconvert_exporter": "python",
   "pygments_lexer": "ipython3",
   "version": "3.6.13"
  }
 },
 "nbformat": 4,
 "nbformat_minor": 5
}
