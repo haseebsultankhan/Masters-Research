{
 "cells": [
  {
   "cell_type": "code",
   "execution_count": 1,
   "metadata": {},
   "outputs": [],
   "source": [
    "import pandas as pd\n",
    "import numpy as np\n",
    "import matplotlib.pyplot as plt\n",
    "import seaborn as sns\n",
    "sns.set()\n",
    "%matplotlib inline\n",
    "# Adjusting column and row numbers to be shown\n",
    "pd.set_option('display.max_columns',None)\n",
    "pd.set_option('display.max_rows',None)\n",
    "import feather"
   ]
  },
  {
   "cell_type": "code",
   "execution_count": 32,
   "metadata": {},
   "outputs": [],
   "source": [
    "import glob\n",
    "questions = pd.read_csv(r'E:/Haseeb Data/DEMO TEST DATA/questions.csv')\n",
    "path = r'E:/Haseeb Data/DEMO TEST DATA/KT3/' \n",
    "all_files = glob.glob(path + \"/*.csv\")\n"
   ]
  },
  {
   "cell_type": "code",
   "execution_count": 33,
   "metadata": {},
   "outputs": [],
   "source": [
    "B = pd.read_csv(r'E:/Haseeb Data/DEMO TEST DATA/KT3/u1.csv')"
   ]
  },
  {
   "cell_type": "code",
   "execution_count": 34,
   "metadata": {},
   "outputs": [
    {
     "data": {
      "text/html": [
       "<div>\n",
       "<style scoped>\n",
       "    .dataframe tbody tr th:only-of-type {\n",
       "        vertical-align: middle;\n",
       "    }\n",
       "\n",
       "    .dataframe tbody tr th {\n",
       "        vertical-align: top;\n",
       "    }\n",
       "\n",
       "    .dataframe thead th {\n",
       "        text-align: right;\n",
       "    }\n",
       "</style>\n",
       "<table border=\"1\" class=\"dataframe\">\n",
       "  <thead>\n",
       "    <tr style=\"text-align: right;\">\n",
       "      <th></th>\n",
       "      <th>timestamp</th>\n",
       "      <th>action_type</th>\n",
       "      <th>item_id</th>\n",
       "      <th>source</th>\n",
       "      <th>user_answer</th>\n",
       "      <th>platform</th>\n",
       "    </tr>\n",
       "  </thead>\n",
       "  <tbody>\n",
       "    <tr>\n",
       "      <th>0</th>\n",
       "      <td>1565096151269</td>\n",
       "      <td>enter</td>\n",
       "      <td>b3544</td>\n",
       "      <td>diagnosis</td>\n",
       "      <td>NaN</td>\n",
       "      <td>mobile</td>\n",
       "    </tr>\n",
       "    <tr>\n",
       "      <th>1</th>\n",
       "      <td>1565096187972</td>\n",
       "      <td>respond</td>\n",
       "      <td>q5012</td>\n",
       "      <td>diagnosis</td>\n",
       "      <td>b</td>\n",
       "      <td>mobile</td>\n",
       "    </tr>\n",
       "    <tr>\n",
       "      <th>2</th>\n",
       "      <td>1565096194904</td>\n",
       "      <td>submit</td>\n",
       "      <td>b3544</td>\n",
       "      <td>diagnosis</td>\n",
       "      <td>NaN</td>\n",
       "      <td>mobile</td>\n",
       "    </tr>\n",
       "    <tr>\n",
       "      <th>3</th>\n",
       "      <td>1565096195001</td>\n",
       "      <td>enter</td>\n",
       "      <td>b3238</td>\n",
       "      <td>diagnosis</td>\n",
       "      <td>NaN</td>\n",
       "      <td>mobile</td>\n",
       "    </tr>\n",
       "    <tr>\n",
       "      <th>4</th>\n",
       "      <td>1565096218682</td>\n",
       "      <td>respond</td>\n",
       "      <td>q4706</td>\n",
       "      <td>diagnosis</td>\n",
       "      <td>c</td>\n",
       "      <td>mobile</td>\n",
       "    </tr>\n",
       "  </tbody>\n",
       "</table>\n",
       "</div>"
      ],
      "text/plain": [
       "       timestamp action_type item_id     source user_answer platform\n",
       "0  1565096151269       enter   b3544  diagnosis         NaN   mobile\n",
       "1  1565096187972     respond   q5012  diagnosis           b   mobile\n",
       "2  1565096194904      submit   b3544  diagnosis         NaN   mobile\n",
       "3  1565096195001       enter   b3238  diagnosis         NaN   mobile\n",
       "4  1565096218682     respond   q4706  diagnosis           c   mobile"
      ]
     },
     "execution_count": 34,
     "metadata": {},
     "output_type": "execute_result"
    }
   ],
   "source": [
    "B.head()"
   ]
  },
  {
   "cell_type": "code",
   "execution_count": 37,
   "metadata": {},
   "outputs": [
    {
     "ename": "IndentationError",
     "evalue": "expected an indented block (<ipython-input-37-cf15c1b62b80>, line 3)",
     "output_type": "error",
     "traceback": [
      "\u001b[1;36m  File \u001b[1;32m\"<ipython-input-37-cf15c1b62b80>\"\u001b[1;36m, line \u001b[1;32m3\u001b[0m\n\u001b[1;33m    try:\u001b[0m\n\u001b[1;37m    ^\u001b[0m\n\u001b[1;31mIndentationError\u001b[0m\u001b[1;31m:\u001b[0m expected an indented block\n"
     ]
    }
   ],
   "source": [
    "    counter = 0\n",
    "for key, item_id in B['item_id' == respond].iteritems():\n",
    "    try:\n",
    "        if B.loc[key, 'user_answer'] == questions.loc[questions['question_id'] == item_id, 'correct_answer'].values[0]:\n",
    "            counter += 1\n",
    "        else:\n",
    "            pass  \n",
    "    except Exception:\n",
    "        pass"
   ]
  },
  {
   "cell_type": "code",
   "execution_count": 38,
   "metadata": {},
   "outputs": [
    {
     "ename": "NameError",
     "evalue": "name 'respond' is not defined",
     "output_type": "error",
     "traceback": [
      "\u001b[1;31m---------------------------------------------------------------------------\u001b[0m",
      "\u001b[1;31mNameError\u001b[0m                                 Traceback (most recent call last)",
      "\u001b[1;32m<ipython-input-38-94b072922f11>\u001b[0m in \u001b[0;36m<module>\u001b[1;34m\u001b[0m\n\u001b[0;32m      1\u001b[0m \u001b[0mcounter\u001b[0m \u001b[1;33m=\u001b[0m \u001b[1;36m0\u001b[0m\u001b[1;33m\u001b[0m\u001b[1;33m\u001b[0m\u001b[0m\n\u001b[1;32m----> 2\u001b[1;33m \u001b[1;32mfor\u001b[0m \u001b[0mkey\u001b[0m\u001b[1;33m,\u001b[0m \u001b[0mitem_id\u001b[0m \u001b[1;32min\u001b[0m \u001b[0mB\u001b[0m\u001b[1;33m[\u001b[0m\u001b[1;34m'item_id'\u001b[0m \u001b[1;33m==\u001b[0m \u001b[0mrespond\u001b[0m\u001b[1;33m]\u001b[0m\u001b[1;33m.\u001b[0m\u001b[0miteritems\u001b[0m\u001b[1;33m(\u001b[0m\u001b[1;33m)\u001b[0m\u001b[1;33m:\u001b[0m\u001b[1;33m\u001b[0m\u001b[1;33m\u001b[0m\u001b[0m\n\u001b[0m\u001b[0;32m      3\u001b[0m     \u001b[1;32mtry\u001b[0m\u001b[1;33m:\u001b[0m\u001b[1;33m\u001b[0m\u001b[1;33m\u001b[0m\u001b[0m\n\u001b[0;32m      4\u001b[0m         \u001b[1;32mif\u001b[0m \u001b[0mB\u001b[0m\u001b[1;33m.\u001b[0m\u001b[0mloc\u001b[0m\u001b[1;33m[\u001b[0m\u001b[0mkey\u001b[0m\u001b[1;33m,\u001b[0m \u001b[1;34m'user_answer'\u001b[0m\u001b[1;33m]\u001b[0m \u001b[1;33m==\u001b[0m \u001b[0mquestions\u001b[0m\u001b[1;33m.\u001b[0m\u001b[0mloc\u001b[0m\u001b[1;33m[\u001b[0m\u001b[0mquestions\u001b[0m\u001b[1;33m[\u001b[0m\u001b[1;34m'question_id'\u001b[0m\u001b[1;33m]\u001b[0m \u001b[1;33m==\u001b[0m \u001b[0mitem_id\u001b[0m\u001b[1;33m,\u001b[0m \u001b[1;34m'correct_answer'\u001b[0m\u001b[1;33m]\u001b[0m\u001b[1;33m.\u001b[0m\u001b[0mvalues\u001b[0m\u001b[1;33m[\u001b[0m\u001b[1;36m0\u001b[0m\u001b[1;33m]\u001b[0m\u001b[1;33m:\u001b[0m\u001b[1;33m\u001b[0m\u001b[1;33m\u001b[0m\u001b[0m\n\u001b[0;32m      5\u001b[0m             \u001b[0mcounter\u001b[0m \u001b[1;33m+=\u001b[0m \u001b[1;36m1\u001b[0m\u001b[1;33m\u001b[0m\u001b[1;33m\u001b[0m\u001b[0m\n",
      "\u001b[1;31mNameError\u001b[0m: name 'respond' is not defined"
     ]
    }
   ],
   "source": [
    "counter = 0\n",
    "for key, item_id in B['item_id' == respond].iteritems():\n",
    "    try:\n",
    "        if B.loc[key, 'user_answer'] == questions.loc[questions['question_id'] == item_id, 'correct_answer'].values[0]:\n",
    "            counter += 1\n",
    "        else:\n",
    "            pass  # put here whatever you want to do if the answer is wrong\n",
    "    except Exception:\n",
    "        pass  # put h"
   ]
  },
  {
   "cell_type": "code",
   "execution_count": null,
   "metadata": {},
   "outputs": [],
   "source": [
    "correct_answers = {}\n",
    "for _idx, row in questions.iterrows():\n",
    "    "
   ]
  },
  {
   "cell_type": "code",
   "execution_count": 15,
   "metadata": {},
   "outputs": [
    {
     "name": "stdout",
     "output_type": "stream",
     "text": [
      "Processing 1\n",
      "Processing 10\n",
      "Processing 11\n",
      "Processing 12\n",
      "Processing 13\n",
      "Processing 14\n",
      "Processing 15\n",
      "Processing 3\n",
      "Processing 4\n",
      "Processing 5\n",
      "Results: []\n",
      "Errors: [\"Error processing E:/Haseeb Data/DEMO TEST DATA/KT3\\\\u1.csv: 'b3544'\", \"Error processing E:/Haseeb Data/DEMO TEST DATA/KT3\\\\u10.csv: 'b7922'\", \"Error processing E:/Haseeb Data/DEMO TEST DATA/KT3\\\\u11.csv: 'b2516'\", \"Error processing E:/Haseeb Data/DEMO TEST DATA/KT3\\\\u12.csv: 'b6983'\", \"Error processing E:/Haseeb Data/DEMO TEST DATA/KT3\\\\u13.csv: 'b4811'\", \"Error processing E:/Haseeb Data/DEMO TEST DATA/KT3\\\\u14.csv: 'b4330'\", \"Error processing E:/Haseeb Data/DEMO TEST DATA/KT3\\\\u15.csv: 'b3811'\", \"Error processing E:/Haseeb Data/DEMO TEST DATA/KT3\\\\u3.csv: 'b2952'\", \"Error processing E:/Haseeb Data/DEMO TEST DATA/KT3\\\\u4.csv: 'b3709'\", \"Error processing E:/Haseeb Data/DEMO TEST DATA/KT3\\\\u5.csv: 'b5298'\"]\n"
     ]
    }
   ],
   "source": [
    "# make a dict of the correct answers, for speed:\n",
    "correct_answers = {}\n",
    "for _idx, row in questions.iterrows():\n",
    "  correct_answers[row['question_id']] = row['correct_answer']\n",
    "\n",
    "#del questions  # optional, can help if memory is tight\n",
    "\n",
    "results = []  # can be a dataframe instead\n",
    "errors = []\n",
    "\n",
    "all_files = all_files[:10]  # only process first 10 for testing\n",
    "\n",
    "for filename in all_files:\n",
    "  try:\n",
    "    df = pd.read_csv(filename, ',', index_col=None, header=0)\n",
    "    user_id = filename.split('\\\\u')[-1].split('.')[0]\n",
    "    print(\"Processing %s\" % user_id)\n",
    "  \n",
    "    counter = 0\n",
    "    for _idx, row in df.iterrows():\n",
    "        if row['user_answer'] == correct_answers[row['item_id']]:\n",
    "            counter += 1\n",
    "\n",
    "    total = pd.value_counts(df['item_id'])\n",
    "    results.append((filename, user_id, counter, total))\n",
    "  except Exception as e:\n",
    "    errors.append(\"Error processing %s: %s\" % (filename, e))\n",
    "\n",
    "  #del df  # optional, can help if memory is tight\n",
    "\n",
    "print(\"Results:\", results)\n",
    "print(\"Errors:\", errors)"
   ]
  },
  {
   "cell_type": "code",
   "execution_count": null,
   "metadata": {},
   "outputs": [],
   "source": []
  }
 ],
 "metadata": {
  "kernelspec": {
   "display_name": "Python 3",
   "language": "python",
   "name": "python3"
  },
  "language_info": {
   "codemirror_mode": {
    "name": "ipython",
    "version": 3
   },
   "file_extension": ".py",
   "mimetype": "text/x-python",
   "name": "python",
   "nbconvert_exporter": "python",
   "pygments_lexer": "ipython3",
   "version": "3.8.5"
  }
 },
 "nbformat": 4,
 "nbformat_minor": 4
}
