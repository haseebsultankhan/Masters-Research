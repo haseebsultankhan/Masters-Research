{
 "cells": [
  {
   "cell_type": "code",
   "execution_count": 1,
   "id": "e1ced32e",
   "metadata": {},
   "outputs": [],
   "source": [
    "import pandas as pd\n",
    "import numpy as np\n",
    "import seaborn as sns\n",
    "import matplotlib.pyplot as plt \n",
    "pd.set_option('display.max_columns',None) # To display all columns\n",
    "pd.set_option('display.max_rows',None) # To display all columns\n",
    "import feather\n",
    "import matplotlib.pyplot as plt\n",
    "from matplotlib.ticker import FuncFormatter\n",
    "import numpy as np\n",
    "import pandas as pd\n",
    "import glob\n",
    "import warnings\n",
    "warnings.filterwarnings('ignore')\n",
    "from functools import reduce"
   ]
  },
  {
   "cell_type": "code",
   "execution_count": 2,
   "id": "3c19b056",
   "metadata": {},
   "outputs": [],
   "source": [
    "KT1 = pd.read_feather('KT1.ftr')\n",
    "\n",
    "K1_userid_counts = KT1.user_iD.value_counts()\n",
    "mask = K1_userid_counts >= 30\n",
    "KT1_userids = mask[mask].index\n",
    "\n",
    "K1 = KT1[KT1.user_iD.isin(KT1_userids)]"
   ]
  },
  {
   "cell_type": "code",
   "execution_count": 3,
   "id": "acced726",
   "metadata": {},
   "outputs": [],
   "source": [
    "KT3 = pd.read_feather('KT3.ftr')\n",
    "questions_df = pd.read_csv('questions.csv')\n",
    "Users = pd.read_feather('Output.ftr')"
   ]
  },
  {
   "cell_type": "code",
   "execution_count": 4,
   "id": "d499f27a",
   "metadata": {},
   "outputs": [],
   "source": [
    "K1['elapsed_time']= K1.elapsed_time.div(1000)   #DIVDING THE ELAPSED TIME by 1000 to further check the mean elapsed time by each user"
   ]
  },
  {
   "cell_type": "code",
   "execution_count": 19,
   "id": "315d9c05",
   "metadata": {},
   "outputs": [
    {
     "data": {
      "text/html": [
       "<div>\n",
       "<style scoped>\n",
       "    .dataframe tbody tr th:only-of-type {\n",
       "        vertical-align: middle;\n",
       "    }\n",
       "\n",
       "    .dataframe tbody tr th {\n",
       "        vertical-align: top;\n",
       "    }\n",
       "\n",
       "    .dataframe thead th {\n",
       "        text-align: right;\n",
       "    }\n",
       "</style>\n",
       "<table border=\"1\" class=\"dataframe\">\n",
       "  <thead>\n",
       "    <tr style=\"text-align: right;\">\n",
       "      <th></th>\n",
       "      <th>timestamp</th>\n",
       "      <th>solving_id</th>\n",
       "      <th>question_id</th>\n",
       "      <th>user_answer</th>\n",
       "      <th>elapsed_time</th>\n",
       "      <th>user_iD</th>\n",
       "    </tr>\n",
       "  </thead>\n",
       "  <tbody>\n",
       "    <tr>\n",
       "      <th>0</th>\n",
       "      <td>1565096190868</td>\n",
       "      <td>1</td>\n",
       "      <td>q5012</td>\n",
       "      <td>b</td>\n",
       "      <td>38.0</td>\n",
       "      <td>1</td>\n",
       "    </tr>\n",
       "    <tr>\n",
       "      <th>1</th>\n",
       "      <td>1565096221062</td>\n",
       "      <td>2</td>\n",
       "      <td>q4706</td>\n",
       "      <td>c</td>\n",
       "      <td>24.0</td>\n",
       "      <td>1</td>\n",
       "    </tr>\n",
       "    <tr>\n",
       "      <th>2</th>\n",
       "      <td>1565096293432</td>\n",
       "      <td>3</td>\n",
       "      <td>q4366</td>\n",
       "      <td>b</td>\n",
       "      <td>68.0</td>\n",
       "      <td>1</td>\n",
       "    </tr>\n",
       "    <tr>\n",
       "      <th>3</th>\n",
       "      <td>1565096339668</td>\n",
       "      <td>4</td>\n",
       "      <td>q4829</td>\n",
       "      <td>a</td>\n",
       "      <td>42.0</td>\n",
       "      <td>1</td>\n",
       "    </tr>\n",
       "    <tr>\n",
       "      <th>4</th>\n",
       "      <td>1565096401774</td>\n",
       "      <td>5</td>\n",
       "      <td>q6528</td>\n",
       "      <td>b</td>\n",
       "      <td>59.0</td>\n",
       "      <td>1</td>\n",
       "    </tr>\n",
       "  </tbody>\n",
       "</table>\n",
       "</div>"
      ],
      "text/plain": [
       "       timestamp  solving_id question_id user_answer  elapsed_time  user_iD\n",
       "0  1565096190868           1       q5012           b          38.0        1\n",
       "1  1565096221062           2       q4706           c          24.0        1\n",
       "2  1565096293432           3       q4366           b          68.0        1\n",
       "3  1565096339668           4       q4829           a          42.0        1\n",
       "4  1565096401774           5       q6528           b          59.0        1"
      ]
     },
     "execution_count": 19,
     "metadata": {},
     "output_type": "execute_result"
    }
   ],
   "source": [
    "K1.head()"
   ]
  },
  {
   "cell_type": "code",
   "execution_count": 21,
   "id": "f72af865",
   "metadata": {},
   "outputs": [
    {
     "data": {
      "text/plain": [
       "count    2.937368e+07\n",
       "mean     2.823671e+01\n",
       "std      8.227296e+01\n",
       "min      0.000000e+00\n",
       "25%      1.700000e+01\n",
       "50%      2.300000e+01\n",
       "75%      3.266600e+01\n",
       "max      1.782080e+05\n",
       "Name: elapsed_time, dtype: float64"
      ]
     },
     "execution_count": 21,
     "metadata": {},
     "output_type": "execute_result"
    }
   ],
   "source": [
    "K1['elapsed_time'].describe()"
   ]
  },
  {
   "cell_type": "code",
   "execution_count": 25,
   "id": "89615354",
   "metadata": {},
   "outputs": [],
   "source": [
    "Elapsed_time= K1.groupby('user_iD' , sort=False)['elapsed_time'].median()"
   ]
  },
  {
   "cell_type": "code",
   "execution_count": 26,
   "id": "62c26e86",
   "metadata": {},
   "outputs": [],
   "source": [
    "Elapsed_time.to_csv('Elapsedtime.csv')\n",
    "#Time = pd.read_csv('Elapsed_time.csv')"
   ]
  },
  {
   "cell_type": "code",
   "execution_count": 2,
   "id": "1f616024",
   "metadata": {},
   "outputs": [],
   "source": [
    "#Elapsed_time.to_csv('Elapsedtime.csv')\n",
    "Times = pd.read_csv('Elapsedtime.csv')"
   ]
  },
  {
   "cell_type": "code",
   "execution_count": 28,
   "id": "1670ce5e",
   "metadata": {},
   "outputs": [
    {
     "data": {
      "text/html": [
       "<div>\n",
       "<style scoped>\n",
       "    .dataframe tbody tr th:only-of-type {\n",
       "        vertical-align: middle;\n",
       "    }\n",
       "\n",
       "    .dataframe tbody tr th {\n",
       "        vertical-align: top;\n",
       "    }\n",
       "\n",
       "    .dataframe thead th {\n",
       "        text-align: right;\n",
       "    }\n",
       "</style>\n",
       "<table border=\"1\" class=\"dataframe\">\n",
       "  <thead>\n",
       "    <tr style=\"text-align: right;\">\n",
       "      <th></th>\n",
       "      <th>user_iD</th>\n",
       "      <th>elapsed_time</th>\n",
       "    </tr>\n",
       "  </thead>\n",
       "  <tbody>\n",
       "    <tr>\n",
       "      <th>0</th>\n",
       "      <td>1</td>\n",
       "      <td>36.75</td>\n",
       "    </tr>\n",
       "    <tr>\n",
       "      <th>1</th>\n",
       "      <td>100</td>\n",
       "      <td>34.50</td>\n",
       "    </tr>\n",
       "    <tr>\n",
       "      <th>2</th>\n",
       "      <td>1000</td>\n",
       "      <td>34.00</td>\n",
       "    </tr>\n",
       "    <tr>\n",
       "      <th>3</th>\n",
       "      <td>10004</td>\n",
       "      <td>25.00</td>\n",
       "    </tr>\n",
       "    <tr>\n",
       "      <th>4</th>\n",
       "      <td>100043</td>\n",
       "      <td>35.00</td>\n",
       "    </tr>\n",
       "  </tbody>\n",
       "</table>\n",
       "</div>"
      ],
      "text/plain": [
       "   user_iD  elapsed_time\n",
       "0        1         36.75\n",
       "1      100         34.50\n",
       "2     1000         34.00\n",
       "3    10004         25.00\n",
       "4   100043         35.00"
      ]
     },
     "execution_count": 28,
     "metadata": {},
     "output_type": "execute_result"
    }
   ],
   "source": [
    "Times.head()"
   ]
  },
  {
   "cell_type": "code",
   "execution_count": 30,
   "id": "37244d4a",
   "metadata": {},
   "outputs": [
    {
     "data": {
      "text/plain": [
       "count    61103.000000\n",
       "mean        23.245063\n",
       "std          6.933344\n",
       "min          0.000000\n",
       "25%         19.000000\n",
       "50%         22.000000\n",
       "75%         26.000000\n",
       "max        356.500000\n",
       "Name: elapsed_time, dtype: float64"
      ]
     },
     "execution_count": 30,
     "metadata": {},
     "output_type": "execute_result"
    }
   ],
   "source": [
    "Times[\"elapsed_time\"].describe()"
   ]
  },
  {
   "cell_type": "code",
   "execution_count": 8,
   "id": "fa805219",
   "metadata": {},
   "outputs": [],
   "source": [
    "dfs = [Users, Time]\n",
    "df = reduce(lambda left,right: pd.merge(left,right,on='user_iD'), dfs)"
   ]
  },
  {
   "cell_type": "code",
   "execution_count": 9,
   "id": "937d8e04",
   "metadata": {},
   "outputs": [
    {
     "data": {
      "text/html": [
       "<div>\n",
       "<style scoped>\n",
       "    .dataframe tbody tr th:only-of-type {\n",
       "        vertical-align: middle;\n",
       "    }\n",
       "\n",
       "    .dataframe tbody tr th {\n",
       "        vertical-align: top;\n",
       "    }\n",
       "\n",
       "    .dataframe thead th {\n",
       "        text-align: right;\n",
       "    }\n",
       "</style>\n",
       "<table border=\"1\" class=\"dataframe\">\n",
       "  <thead>\n",
       "    <tr style=\"text-align: right;\">\n",
       "      <th></th>\n",
       "      <th>user_iD</th>\n",
       "      <th>Total Questions Attempted</th>\n",
       "      <th>Corrected</th>\n",
       "      <th>Incorrected</th>\n",
       "      <th>Percentage</th>\n",
       "      <th>elapsed_time</th>\n",
       "    </tr>\n",
       "  </thead>\n",
       "  <tbody>\n",
       "    <tr>\n",
       "      <th>0</th>\n",
       "      <td>1</td>\n",
       "      <td>1082</td>\n",
       "      <td>753</td>\n",
       "      <td>329</td>\n",
       "      <td>69.593346</td>\n",
       "      <td>49.578442</td>\n",
       "    </tr>\n",
       "    <tr>\n",
       "      <th>1</th>\n",
       "      <td>100</td>\n",
       "      <td>33</td>\n",
       "      <td>18</td>\n",
       "      <td>15</td>\n",
       "      <td>54.545455</td>\n",
       "      <td>33.151485</td>\n",
       "    </tr>\n",
       "    <tr>\n",
       "      <th>2</th>\n",
       "      <td>1000</td>\n",
       "      <td>1488</td>\n",
       "      <td>930</td>\n",
       "      <td>558</td>\n",
       "      <td>62.500000</td>\n",
       "      <td>41.128524</td>\n",
       "    </tr>\n",
       "    <tr>\n",
       "      <th>3</th>\n",
       "      <td>10004</td>\n",
       "      <td>2486</td>\n",
       "      <td>1790</td>\n",
       "      <td>696</td>\n",
       "      <td>72.003218</td>\n",
       "      <td>31.960975</td>\n",
       "    </tr>\n",
       "    <tr>\n",
       "      <th>4</th>\n",
       "      <td>100043</td>\n",
       "      <td>714</td>\n",
       "      <td>328</td>\n",
       "      <td>386</td>\n",
       "      <td>45.938375</td>\n",
       "      <td>40.501387</td>\n",
       "    </tr>\n",
       "  </tbody>\n",
       "</table>\n",
       "</div>"
      ],
      "text/plain": [
       "   user_iD  Total Questions Attempted  Corrected  Incorrected  Percentage  \\\n",
       "0        1                       1082        753          329   69.593346   \n",
       "1      100                         33         18           15   54.545455   \n",
       "2     1000                       1488        930          558   62.500000   \n",
       "3    10004                       2486       1790          696   72.003218   \n",
       "4   100043                        714        328          386   45.938375   \n",
       "\n",
       "   elapsed_time  \n",
       "0     49.578442  \n",
       "1     33.151485  \n",
       "2     41.128524  \n",
       "3     31.960975  \n",
       "4     40.501387  "
      ]
     },
     "execution_count": 9,
     "metadata": {},
     "output_type": "execute_result"
    }
   ],
   "source": [
    "df.head()"
   ]
  },
  {
   "cell_type": "code",
   "execution_count": 10,
   "id": "a45f7731",
   "metadata": {},
   "outputs": [],
   "source": [
    "df.to_feather('UsersPerformance.ftr')"
   ]
  },
  {
   "cell_type": "code",
   "execution_count": 11,
   "id": "ce831378",
   "metadata": {},
   "outputs": [
    {
     "data": {
      "text/plain": [
       "count    61100.000000\n",
       "mean       480.745876\n",
       "std       1004.493383\n",
       "min         30.000000\n",
       "25%         61.000000\n",
       "50%        149.000000\n",
       "75%        455.000000\n",
       "max      34379.000000\n",
       "Name: Total Questions Attempted, dtype: float64"
      ]
     },
     "execution_count": 11,
     "metadata": {},
     "output_type": "execute_result"
    }
   ],
   "source": [
    "df[\"Total Questions Attempted\"].describe()"
   ]
  },
  {
   "cell_type": "code",
   "execution_count": 12,
   "id": "00bbbef4",
   "metadata": {},
   "outputs": [
    {
     "data": {
      "text/plain": [
       "count    61100.000000\n",
       "mean        27.301892\n",
       "std         26.685021\n",
       "min          0.000000\n",
       "25%         21.216216\n",
       "50%         25.127001\n",
       "75%         30.487373\n",
       "max       5170.523810\n",
       "Name: elapsed_time, dtype: float64"
      ]
     },
     "execution_count": 12,
     "metadata": {},
     "output_type": "execute_result"
    }
   ],
   "source": [
    "df[\"elapsed_time\"].describe()"
   ]
  },
  {
   "cell_type": "code",
   "execution_count": null,
   "id": "25620282",
   "metadata": {},
   "outputs": [],
   "source": []
  }
 ],
 "metadata": {
  "kernelspec": {
   "display_name": "Python 3",
   "language": "python",
   "name": "python3"
  },
  "language_info": {
   "codemirror_mode": {
    "name": "ipython",
    "version": 3
   },
   "file_extension": ".py",
   "mimetype": "text/x-python",
   "name": "python",
   "nbconvert_exporter": "python",
   "pygments_lexer": "ipython3",
   "version": "3.8.8"
  }
 },
 "nbformat": 4,
 "nbformat_minor": 5
}
