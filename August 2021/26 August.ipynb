{
 "cells": [
  {
   "cell_type": "code",
   "execution_count": 8,
   "id": "f6ae0eef",
   "metadata": {},
   "outputs": [],
   "source": [
    "import pandas as pd\n",
    "import numpy as np\n",
    "import seaborn as sns\n",
    "#import sagemaker\n",
    "#import boto3\n",
    "import matplotlib.pyplot as plt \n",
    "pd.set_option('display.max_columns',None) # To display all columns\n",
    "pd.set_option('display.max_rows',None) # To display all columns\n",
    "#client = boto3.client('s3')\n",
    "import feather\n",
    "import matplotlib.pyplot as plt\n",
    "from matplotlib.ticker import FuncFormatter"
   ]
  },
  {
   "cell_type": "code",
   "execution_count": 9,
   "id": "2a7a0a08",
   "metadata": {},
   "outputs": [],
   "source": [
    "#A = pd.read_feather('s3://haseebdata/EDNET DATA/Ednet feather files/KT3.ftr')\n",
    "KT1=pd.read_feather('KT1.ftr')\n",
    "questions_df = pd.read_csv('questions.csv')"
   ]
  },
  {
   "cell_type": "code",
   "execution_count": 10,
   "id": "d341d516",
   "metadata": {},
   "outputs": [],
   "source": [
    "K1_userid_counts = KT1.user_iD.value_counts()\n",
    "mask = K1_userid_counts >= 30\n",
    "KT1_userids = mask[mask].index\n",
    "\n",
    "K1 = KT1[KT1.user_iD.isin(KT1_userids)]"
   ]
  },
  {
   "cell_type": "code",
   "execution_count": 11,
   "id": "adeb665c",
   "metadata": {},
   "outputs": [
    {
     "data": {
      "text/html": [
       "<div>\n",
       "<style scoped>\n",
       "    .dataframe tbody tr th:only-of-type {\n",
       "        vertical-align: middle;\n",
       "    }\n",
       "\n",
       "    .dataframe tbody tr th {\n",
       "        vertical-align: top;\n",
       "    }\n",
       "\n",
       "    .dataframe thead th {\n",
       "        text-align: right;\n",
       "    }\n",
       "</style>\n",
       "<table border=\"1\" class=\"dataframe\">\n",
       "  <thead>\n",
       "    <tr style=\"text-align: right;\">\n",
       "      <th></th>\n",
       "      <th>timestamp</th>\n",
       "      <th>solving_id</th>\n",
       "      <th>question_id</th>\n",
       "      <th>user_answer</th>\n",
       "      <th>elapsed_time</th>\n",
       "      <th>user_iD</th>\n",
       "    </tr>\n",
       "  </thead>\n",
       "  <tbody>\n",
       "    <tr>\n",
       "      <th>0</th>\n",
       "      <td>1565096190868</td>\n",
       "      <td>1</td>\n",
       "      <td>q5012</td>\n",
       "      <td>b</td>\n",
       "      <td>38000</td>\n",
       "      <td>1</td>\n",
       "    </tr>\n",
       "    <tr>\n",
       "      <th>1</th>\n",
       "      <td>1565096221062</td>\n",
       "      <td>2</td>\n",
       "      <td>q4706</td>\n",
       "      <td>c</td>\n",
       "      <td>24000</td>\n",
       "      <td>1</td>\n",
       "    </tr>\n",
       "    <tr>\n",
       "      <th>2</th>\n",
       "      <td>1565096293432</td>\n",
       "      <td>3</td>\n",
       "      <td>q4366</td>\n",
       "      <td>b</td>\n",
       "      <td>68000</td>\n",
       "      <td>1</td>\n",
       "    </tr>\n",
       "    <tr>\n",
       "      <th>3</th>\n",
       "      <td>1565096339668</td>\n",
       "      <td>4</td>\n",
       "      <td>q4829</td>\n",
       "      <td>a</td>\n",
       "      <td>42000</td>\n",
       "      <td>1</td>\n",
       "    </tr>\n",
       "    <tr>\n",
       "      <th>4</th>\n",
       "      <td>1565096401774</td>\n",
       "      <td>5</td>\n",
       "      <td>q6528</td>\n",
       "      <td>b</td>\n",
       "      <td>59000</td>\n",
       "      <td>1</td>\n",
       "    </tr>\n",
       "  </tbody>\n",
       "</table>\n",
       "</div>"
      ],
      "text/plain": [
       "       timestamp  solving_id question_id user_answer  elapsed_time  user_iD\n",
       "0  1565096190868           1       q5012           b         38000        1\n",
       "1  1565096221062           2       q4706           c         24000        1\n",
       "2  1565096293432           3       q4366           b         68000        1\n",
       "3  1565096339668           4       q4829           a         42000        1\n",
       "4  1565096401774           5       q6528           b         59000        1"
      ]
     },
     "execution_count": 11,
     "metadata": {},
     "output_type": "execute_result"
    }
   ],
   "source": [
    "K1.head()"
   ]
  },
  {
   "cell_type": "code",
   "execution_count": 12,
   "id": "71216fd5",
   "metadata": {},
   "outputs": [],
   "source": [
    "questions_df.bundle_id = questions_df.bundle_id.str.slice(start=1)\n",
    "questions_df.explanation_id = questions_df.explanation_id.str.slice(start=1)\n",
    "questions_df.deployed_at = pd.to_datetime(questions_df.deployed_at, unit='ms')\n",
    "dfq = questions_df[['question_id', 'correct_answer', 'bundle_id', 'explanation_id' , 'part', 'tags', 'deployed_at']]\n",
    "#dfq.head()"
   ]
  },
  {
   "cell_type": "code",
   "execution_count": 13,
   "id": "06f5e099",
   "metadata": {},
   "outputs": [],
   "source": [
    "# subset df for notnull question_id rows only (only work with rows that have questions)\n",
    "df2 = K1[K1['question_id'].notnull()]"
   ]
  },
  {
   "cell_type": "code",
   "execution_count": 14,
   "id": "a0265515",
   "metadata": {},
   "outputs": [],
   "source": [
    "# left join student dataframe and answer key dataframe on the 'question_id' column \n",
    "dfm = pd.merge(df2, dfq,  how='left', left_on=['question_id'], right_on = ['question_id'])"
   ]
  },
  {
   "cell_type": "code",
   "execution_count": null,
   "id": "349351bf",
   "metadata": {},
   "outputs": [
    {
     "name": "stderr",
     "output_type": "stream",
     "text": [
      "<ipython-input-15-36e70afd317f>:11: SettingWithCopyWarning: \n",
      "A value is trying to be set on a copy of a slice from a DataFrame\n",
      "\n",
      "See the caveats in the documentation: https://pandas.pydata.org/pandas-docs/stable/user_guide/indexing.html#returning-a-view-versus-a-copy\n",
      "  dfm['correct'][count] = 0\n",
      "<ipython-input-15-36e70afd317f>:9: SettingWithCopyWarning: \n",
      "A value is trying to be set on a copy of a slice from a DataFrame\n",
      "\n",
      "See the caveats in the documentation: https://pandas.pydata.org/pandas-docs/stable/user_guide/indexing.html#returning-a-view-versus-a-copy\n",
      "  dfm['correct'][count] = 1\n"
     ]
    }
   ],
   "source": [
    "# create a 'correct' column\n",
    "dfm['correct'] = np.nan\n",
    "\n",
    "# loop - if user answers == correct answer, then dfq['correct'][_]= 1\n",
    "length_df = dfm['user_iD'].count()\n",
    "count = 0\n",
    "for i in range(length_df):\n",
    "    if dfm['user_answer'][count] == dfm['correct_answer'][count]:\n",
    "        dfm['correct'][count] = 1\n",
    "    if dfm['user_answer'][count] != dfm['correct_answer'][count]:\n",
    "        dfm['correct'][count] = 0\n",
    "    count+=1"
   ]
  },
  {
   "cell_type": "code",
   "execution_count": null,
   "id": "cf976526",
   "metadata": {},
   "outputs": [],
   "source": [
    "df_total_questions_attempted = dfm.groupby(['user_iD'], as_index=False , sort=False)['question_id'].count()\n",
    "\n",
    "df_total_questions_attempted = df_total_questions_attempted.rename(columns={'question_id': 'Total Questions Attempted'})\n",
    "\n",
    "df_total_questions_attempted.head()                                                                "
   ]
  },
  {
   "cell_type": "code",
   "execution_count": null,
   "id": "525ca7f3",
   "metadata": {},
   "outputs": [],
   "source": [
    "df_correct = dfm[dfm['correct']==1].groupby(['user_iD'], as_index=False, sort=False)['question_id'].count()\n",
    "\n",
    "df_correct = df_correct.rename(columns={'question_id': 'Corrected'})\n",
    "\n",
    "df_correct.head()"
   ]
  },
  {
   "cell_type": "code",
   "execution_count": null,
   "id": "02b3988a",
   "metadata": {},
   "outputs": [],
   "source": [
    "df_incorrect = dfm[dfm['correct']==0].groupby(['user_iD'], as_index=False, sort=False)['question_id'].count()\n",
    "\n",
    "df_incorrect = df_incorrect.rename(columns={'question_id': 'Incorrected'})\n",
    "\n",
    "df_incorrect.head()"
   ]
  },
  {
   "cell_type": "code",
   "execution_count": null,
   "id": "4b286b1d",
   "metadata": {},
   "outputs": [],
   "source": [
    "dfs = [df_total_questions_attempted, df_correct, df_incorrect]\n",
    "df_final = reduce(lambda left,right: pd.merge(left,right,on='user_iD'), dfs)"
   ]
  },
  {
   "cell_type": "code",
   "execution_count": null,
   "id": "abe15b37",
   "metadata": {},
   "outputs": [],
   "source": [
    "df_final['Percentage'] = (df_final['Corrected'] / df_final['Total Questions Attempted']) *100\n",
    "df_final.head()"
   ]
  },
  {
   "cell_type": "code",
   "execution_count": null,
   "id": "a39ca68d",
   "metadata": {},
   "outputs": [],
   "source": [
    "df_final.to_feather('Users.ftr')"
   ]
  }
 ],
 "metadata": {
  "kernelspec": {
   "display_name": "Python 3",
   "language": "python",
   "name": "python3"
  },
  "language_info": {
   "codemirror_mode": {
    "name": "ipython",
    "version": 3
   },
   "file_extension": ".py",
   "mimetype": "text/x-python",
   "name": "python",
   "nbconvert_exporter": "python",
   "pygments_lexer": "ipython3",
   "version": "3.8.8"
  }
 },
 "nbformat": 4,
 "nbformat_minor": 5
}
