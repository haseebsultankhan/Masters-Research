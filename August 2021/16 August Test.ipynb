{
 "cells": [
  {
   "cell_type": "code",
   "execution_count": 15,
   "id": "d2e606aa",
   "metadata": {},
   "outputs": [],
   "source": [
    "import pandas as pd\n",
    "import numpy as np\n",
    "import seaborn as sns\n",
    "import matplotlib.pyplot as plt \n",
    "pd.set_option('display.max_columns',None) # To display all columns\n",
    "pd.set_option('display.max_rows',None) # To display all columns\n",
    "import feather\n",
    "import matplotlib.pyplot as plt\n",
    "from matplotlib.ticker import FuncFormatter\n",
    "import numpy as np\n",
    "import pandas as pd\n",
    "import glob\n",
    "import warnings\n",
    "warnings.filterwarnings('ignore')\n",
    "from functools import reduce"
   ]
  },
  {
   "cell_type": "code",
   "execution_count": 16,
   "id": "4eced8f2",
   "metadata": {},
   "outputs": [],
   "source": [
    "KT1 = pd.read_feather('KT1.ftr')\n",
    "#KT3 = pd.read_feather('KT3.ftr')"
   ]
  },
  {
   "cell_type": "code",
   "execution_count": 27,
   "id": "7991e5a5",
   "metadata": {},
   "outputs": [],
   "source": [
    "KT3 = pd.read_feather('KT3.ftr')\n",
    "K3_userid_counts = KT3.user_iD.value_counts()\n",
    "mask = K1_userid_counts >= 30\n",
    "KT3_userids = mask[mask].index\n",
    "\n",
    "K3 = KT3[KT3.user_iD.isin(KT3_userids)]"
   ]
  },
  {
   "cell_type": "code",
   "execution_count": 31,
   "id": "34d85212",
   "metadata": {},
   "outputs": [],
   "source": [
    "K3 = K3.loc[K3['action_type'].isin(['respond'])]"
   ]
  },
  {
   "cell_type": "code",
   "execution_count": 32,
   "id": "2c3eb99f",
   "metadata": {},
   "outputs": [
    {
     "data": {
      "text/html": [
       "<div>\n",
       "<style scoped>\n",
       "    .dataframe tbody tr th:only-of-type {\n",
       "        vertical-align: middle;\n",
       "    }\n",
       "\n",
       "    .dataframe tbody tr th {\n",
       "        vertical-align: top;\n",
       "    }\n",
       "\n",
       "    .dataframe thead th {\n",
       "        text-align: right;\n",
       "    }\n",
       "</style>\n",
       "<table border=\"1\" class=\"dataframe\">\n",
       "  <thead>\n",
       "    <tr style=\"text-align: right;\">\n",
       "      <th></th>\n",
       "      <th>timestamp</th>\n",
       "      <th>action_type</th>\n",
       "      <th>item_id</th>\n",
       "      <th>source</th>\n",
       "      <th>user_answer</th>\n",
       "      <th>platform</th>\n",
       "      <th>user_iD</th>\n",
       "    </tr>\n",
       "  </thead>\n",
       "  <tbody>\n",
       "    <tr>\n",
       "      <th>1</th>\n",
       "      <td>1565096187972</td>\n",
       "      <td>respond</td>\n",
       "      <td>q5012</td>\n",
       "      <td>diagnosis</td>\n",
       "      <td>b</td>\n",
       "      <td>mobile</td>\n",
       "      <td>1</td>\n",
       "    </tr>\n",
       "    <tr>\n",
       "      <th>4</th>\n",
       "      <td>1565096218682</td>\n",
       "      <td>respond</td>\n",
       "      <td>q4706</td>\n",
       "      <td>diagnosis</td>\n",
       "      <td>c</td>\n",
       "      <td>mobile</td>\n",
       "      <td>1</td>\n",
       "    </tr>\n",
       "    <tr>\n",
       "      <th>7</th>\n",
       "      <td>1565096290094</td>\n",
       "      <td>respond</td>\n",
       "      <td>q4366</td>\n",
       "      <td>diagnosis</td>\n",
       "      <td>b</td>\n",
       "      <td>mobile</td>\n",
       "      <td>1</td>\n",
       "    </tr>\n",
       "    <tr>\n",
       "      <th>10</th>\n",
       "      <td>1565096337361</td>\n",
       "      <td>respond</td>\n",
       "      <td>q4829</td>\n",
       "      <td>diagnosis</td>\n",
       "      <td>a</td>\n",
       "      <td>mobile</td>\n",
       "      <td>1</td>\n",
       "    </tr>\n",
       "    <tr>\n",
       "      <th>13</th>\n",
       "      <td>1565096395328</td>\n",
       "      <td>respond</td>\n",
       "      <td>q6528</td>\n",
       "      <td>diagnosis</td>\n",
       "      <td>b</td>\n",
       "      <td>mobile</td>\n",
       "      <td>1</td>\n",
       "    </tr>\n",
       "  </tbody>\n",
       "</table>\n",
       "</div>"
      ],
      "text/plain": [
       "        timestamp action_type item_id     source user_answer platform  user_iD\n",
       "1   1565096187972     respond   q5012  diagnosis           b   mobile        1\n",
       "4   1565096218682     respond   q4706  diagnosis           c   mobile        1\n",
       "7   1565096290094     respond   q4366  diagnosis           b   mobile        1\n",
       "10  1565096337361     respond   q4829  diagnosis           a   mobile        1\n",
       "13  1565096395328     respond   q6528  diagnosis           b   mobile        1"
      ]
     },
     "execution_count": 32,
     "metadata": {},
     "output_type": "execute_result"
    }
   ],
   "source": [
    "K3.head()"
   ]
  },
  {
   "cell_type": "code",
   "execution_count": 17,
   "id": "a77bd7d3",
   "metadata": {},
   "outputs": [],
   "source": [
    "K1_userid_counts = KT1.user_iD.value_counts()\n",
    "mask = K1_userid_counts >= 30\n",
    "KT1_userids = mask[mask].index\n",
    "\n",
    "K1 = KT1[KT1.user_iD.isin(KT1_userids)]"
   ]
  },
  {
   "cell_type": "code",
   "execution_count": 18,
   "id": "2b48906f",
   "metadata": {},
   "outputs": [
    {
     "data": {
      "text/html": [
       "<div>\n",
       "<style scoped>\n",
       "    .dataframe tbody tr th:only-of-type {\n",
       "        vertical-align: middle;\n",
       "    }\n",
       "\n",
       "    .dataframe tbody tr th {\n",
       "        vertical-align: top;\n",
       "    }\n",
       "\n",
       "    .dataframe thead th {\n",
       "        text-align: right;\n",
       "    }\n",
       "</style>\n",
       "<table border=\"1\" class=\"dataframe\">\n",
       "  <thead>\n",
       "    <tr style=\"text-align: right;\">\n",
       "      <th></th>\n",
       "      <th>question_id</th>\n",
       "      <th>bundle_id</th>\n",
       "      <th>explanation_id</th>\n",
       "      <th>correct_answer</th>\n",
       "      <th>part</th>\n",
       "      <th>tags</th>\n",
       "      <th>deployed_at</th>\n",
       "    </tr>\n",
       "  </thead>\n",
       "  <tbody>\n",
       "    <tr>\n",
       "      <th>0</th>\n",
       "      <td>q1</td>\n",
       "      <td>b1</td>\n",
       "      <td>e1</td>\n",
       "      <td>b</td>\n",
       "      <td>1</td>\n",
       "      <td>1;2;179;181</td>\n",
       "      <td>1558093217098</td>\n",
       "    </tr>\n",
       "    <tr>\n",
       "      <th>1</th>\n",
       "      <td>q2</td>\n",
       "      <td>b2</td>\n",
       "      <td>e2</td>\n",
       "      <td>a</td>\n",
       "      <td>1</td>\n",
       "      <td>15;2;182</td>\n",
       "      <td>1558093219720</td>\n",
       "    </tr>\n",
       "    <tr>\n",
       "      <th>2</th>\n",
       "      <td>q3</td>\n",
       "      <td>b3</td>\n",
       "      <td>e3</td>\n",
       "      <td>b</td>\n",
       "      <td>1</td>\n",
       "      <td>14;2;179;183</td>\n",
       "      <td>1558093222784</td>\n",
       "    </tr>\n",
       "    <tr>\n",
       "      <th>3</th>\n",
       "      <td>q4</td>\n",
       "      <td>b4</td>\n",
       "      <td>e4</td>\n",
       "      <td>b</td>\n",
       "      <td>1</td>\n",
       "      <td>9;2;179;184</td>\n",
       "      <td>1558093225357</td>\n",
       "    </tr>\n",
       "    <tr>\n",
       "      <th>4</th>\n",
       "      <td>q5</td>\n",
       "      <td>b5</td>\n",
       "      <td>e5</td>\n",
       "      <td>c</td>\n",
       "      <td>1</td>\n",
       "      <td>8;2;179;181</td>\n",
       "      <td>1558093228439</td>\n",
       "    </tr>\n",
       "  </tbody>\n",
       "</table>\n",
       "</div>"
      ],
      "text/plain": [
       "  question_id bundle_id explanation_id correct_answer  part          tags  \\\n",
       "0          q1        b1             e1              b     1   1;2;179;181   \n",
       "1          q2        b2             e2              a     1      15;2;182   \n",
       "2          q3        b3             e3              b     1  14;2;179;183   \n",
       "3          q4        b4             e4              b     1   9;2;179;184   \n",
       "4          q5        b5             e5              c     1   8;2;179;181   \n",
       "\n",
       "     deployed_at  \n",
       "0  1558093217098  \n",
       "1  1558093219720  \n",
       "2  1558093222784  \n",
       "3  1558093225357  \n",
       "4  1558093228439  "
      ]
     },
     "execution_count": 18,
     "metadata": {},
     "output_type": "execute_result"
    }
   ],
   "source": [
    "questions_df = pd.read_csv('questions.csv')\n",
    "questions_df.head()"
   ]
  },
  {
   "cell_type": "code",
   "execution_count": 19,
   "id": "78b8c383",
   "metadata": {},
   "outputs": [
    {
     "data": {
      "text/html": [
       "<div>\n",
       "<style scoped>\n",
       "    .dataframe tbody tr th:only-of-type {\n",
       "        vertical-align: middle;\n",
       "    }\n",
       "\n",
       "    .dataframe tbody tr th {\n",
       "        vertical-align: top;\n",
       "    }\n",
       "\n",
       "    .dataframe thead th {\n",
       "        text-align: right;\n",
       "    }\n",
       "</style>\n",
       "<table border=\"1\" class=\"dataframe\">\n",
       "  <thead>\n",
       "    <tr style=\"text-align: right;\">\n",
       "      <th></th>\n",
       "      <th>timestamp</th>\n",
       "      <th>solving_id</th>\n",
       "      <th>question_id</th>\n",
       "      <th>user_answer</th>\n",
       "      <th>elapsed_time</th>\n",
       "      <th>user_iD</th>\n",
       "    </tr>\n",
       "  </thead>\n",
       "  <tbody>\n",
       "    <tr>\n",
       "      <th>0</th>\n",
       "      <td>1565096190868</td>\n",
       "      <td>1</td>\n",
       "      <td>q5012</td>\n",
       "      <td>b</td>\n",
       "      <td>38000</td>\n",
       "      <td>1</td>\n",
       "    </tr>\n",
       "    <tr>\n",
       "      <th>1</th>\n",
       "      <td>1565096221062</td>\n",
       "      <td>2</td>\n",
       "      <td>q4706</td>\n",
       "      <td>c</td>\n",
       "      <td>24000</td>\n",
       "      <td>1</td>\n",
       "    </tr>\n",
       "    <tr>\n",
       "      <th>2</th>\n",
       "      <td>1565096293432</td>\n",
       "      <td>3</td>\n",
       "      <td>q4366</td>\n",
       "      <td>b</td>\n",
       "      <td>68000</td>\n",
       "      <td>1</td>\n",
       "    </tr>\n",
       "    <tr>\n",
       "      <th>3</th>\n",
       "      <td>1565096339668</td>\n",
       "      <td>4</td>\n",
       "      <td>q4829</td>\n",
       "      <td>a</td>\n",
       "      <td>42000</td>\n",
       "      <td>1</td>\n",
       "    </tr>\n",
       "    <tr>\n",
       "      <th>4</th>\n",
       "      <td>1565096401774</td>\n",
       "      <td>5</td>\n",
       "      <td>q6528</td>\n",
       "      <td>b</td>\n",
       "      <td>59000</td>\n",
       "      <td>1</td>\n",
       "    </tr>\n",
       "  </tbody>\n",
       "</table>\n",
       "</div>"
      ],
      "text/plain": [
       "       timestamp  solving_id question_id user_answer  elapsed_time  user_iD\n",
       "0  1565096190868           1       q5012           b         38000        1\n",
       "1  1565096221062           2       q4706           c         24000        1\n",
       "2  1565096293432           3       q4366           b         68000        1\n",
       "3  1565096339668           4       q4829           a         42000        1\n",
       "4  1565096401774           5       q6528           b         59000        1"
      ]
     },
     "execution_count": 19,
     "metadata": {},
     "output_type": "execute_result"
    }
   ],
   "source": [
    "K1.head()"
   ]
  },
  {
   "cell_type": "code",
   "execution_count": 20,
   "id": "66db6619",
   "metadata": {},
   "outputs": [
    {
     "data": {
      "text/html": [
       "<div>\n",
       "<style scoped>\n",
       "    .dataframe tbody tr th:only-of-type {\n",
       "        vertical-align: middle;\n",
       "    }\n",
       "\n",
       "    .dataframe tbody tr th {\n",
       "        vertical-align: top;\n",
       "    }\n",
       "\n",
       "    .dataframe thead th {\n",
       "        text-align: right;\n",
       "    }\n",
       "</style>\n",
       "<table border=\"1\" class=\"dataframe\">\n",
       "  <thead>\n",
       "    <tr style=\"text-align: right;\">\n",
       "      <th></th>\n",
       "      <th>question_id</th>\n",
       "      <th>correct_answer</th>\n",
       "      <th>bundle_id</th>\n",
       "      <th>explanation_id</th>\n",
       "      <th>part</th>\n",
       "      <th>tags</th>\n",
       "      <th>deployed_at</th>\n",
       "    </tr>\n",
       "  </thead>\n",
       "  <tbody>\n",
       "    <tr>\n",
       "      <th>0</th>\n",
       "      <td>q1</td>\n",
       "      <td>b</td>\n",
       "      <td>1</td>\n",
       "      <td>1</td>\n",
       "      <td>1</td>\n",
       "      <td>1;2;179;181</td>\n",
       "      <td>2019-05-17 11:40:17.098</td>\n",
       "    </tr>\n",
       "    <tr>\n",
       "      <th>1</th>\n",
       "      <td>q2</td>\n",
       "      <td>a</td>\n",
       "      <td>2</td>\n",
       "      <td>2</td>\n",
       "      <td>1</td>\n",
       "      <td>15;2;182</td>\n",
       "      <td>2019-05-17 11:40:19.720</td>\n",
       "    </tr>\n",
       "    <tr>\n",
       "      <th>2</th>\n",
       "      <td>q3</td>\n",
       "      <td>b</td>\n",
       "      <td>3</td>\n",
       "      <td>3</td>\n",
       "      <td>1</td>\n",
       "      <td>14;2;179;183</td>\n",
       "      <td>2019-05-17 11:40:22.784</td>\n",
       "    </tr>\n",
       "    <tr>\n",
       "      <th>3</th>\n",
       "      <td>q4</td>\n",
       "      <td>b</td>\n",
       "      <td>4</td>\n",
       "      <td>4</td>\n",
       "      <td>1</td>\n",
       "      <td>9;2;179;184</td>\n",
       "      <td>2019-05-17 11:40:25.357</td>\n",
       "    </tr>\n",
       "    <tr>\n",
       "      <th>4</th>\n",
       "      <td>q5</td>\n",
       "      <td>c</td>\n",
       "      <td>5</td>\n",
       "      <td>5</td>\n",
       "      <td>1</td>\n",
       "      <td>8;2;179;181</td>\n",
       "      <td>2019-05-17 11:40:28.439</td>\n",
       "    </tr>\n",
       "  </tbody>\n",
       "</table>\n",
       "</div>"
      ],
      "text/plain": [
       "  question_id correct_answer bundle_id explanation_id  part          tags  \\\n",
       "0          q1              b         1              1     1   1;2;179;181   \n",
       "1          q2              a         2              2     1      15;2;182   \n",
       "2          q3              b         3              3     1  14;2;179;183   \n",
       "3          q4              b         4              4     1   9;2;179;184   \n",
       "4          q5              c         5              5     1   8;2;179;181   \n",
       "\n",
       "              deployed_at  \n",
       "0 2019-05-17 11:40:17.098  \n",
       "1 2019-05-17 11:40:19.720  \n",
       "2 2019-05-17 11:40:22.784  \n",
       "3 2019-05-17 11:40:25.357  \n",
       "4 2019-05-17 11:40:28.439  "
      ]
     },
     "execution_count": 20,
     "metadata": {},
     "output_type": "execute_result"
    }
   ],
   "source": [
    "questions_df.bundle_id = questions_df.bundle_id.str.slice(start=1)\n",
    "questions_df.explanation_id = questions_df.explanation_id.str.slice(start=1)\n",
    "questions_df.deployed_at = pd.to_datetime(questions_df.deployed_at, unit='ms')\n",
    "dfq = questions_df[['question_id', 'correct_answer', 'bundle_id', 'explanation_id' , 'part', 'tags', 'deployed_at']]\n",
    "dfq.head()"
   ]
  },
  {
   "cell_type": "code",
   "execution_count": 21,
   "id": "4f923ddf",
   "metadata": {},
   "outputs": [],
   "source": [
    "# subset df for notnull question_id rows only (only work with rows that have questions)\n",
    "df2 = K1[K1['question_id'].notnull()]"
   ]
  },
  {
   "cell_type": "code",
   "execution_count": 33,
   "id": "bc9ede55",
   "metadata": {},
   "outputs": [],
   "source": [
    "# subset df for notnull question_id rows only (only work with rows that have questions)\n",
    "df3 = K3[K3['item_id'].notnull()]"
   ]
  },
  {
   "cell_type": "code",
   "execution_count": 24,
   "id": "dcc69179",
   "metadata": {},
   "outputs": [],
   "source": [
    "# left join student dataframe and answer key dataframe on the 'question_id' column \n",
    "dfm = pd.merge(df2, dfq,  how='left', left_on=['question_id'], right_on = ['question_id'])\n",
    "dfm.dropna(axis = 0, how = 'all', inplace = True)"
   ]
  },
  {
   "cell_type": "code",
   "execution_count": 35,
   "id": "a33649a7",
   "metadata": {},
   "outputs": [],
   "source": [
    "# left join student dataframe and answer key dataframe on the 'question_id' column \n",
    "dfm = pd.merge(df3, dfq,  how='left', left_on=['item_id'], right_on = ['question_id'])\n",
    "dfm.dropna(axis = 0, how = 'all', inplace = True)"
   ]
  },
  {
   "cell_type": "code",
   "execution_count": 25,
   "id": "4833e27a",
   "metadata": {},
   "outputs": [
    {
     "data": {
      "text/plain": [
       "timestamp             0\n",
       "solving_id            0\n",
       "question_id           0\n",
       "user_answer       22786\n",
       "elapsed_time          0\n",
       "user_iD               0\n",
       "correct_answer        0\n",
       "bundle_id             0\n",
       "explanation_id        0\n",
       "part                  0\n",
       "tags                  0\n",
       "deployed_at           0\n",
       "dtype: int64"
      ]
     },
     "execution_count": 25,
     "metadata": {},
     "output_type": "execute_result"
    }
   ],
   "source": [
    "dfm.isna().sum()"
   ]
  },
  {
   "cell_type": "code",
   "execution_count": 36,
   "id": "a195edc0",
   "metadata": {},
   "outputs": [
    {
     "data": {
      "text/plain": [
       "timestamp         0\n",
       "action_type       0\n",
       "item_id           0\n",
       "source            0\n",
       "user_answer       0\n",
       "platform          0\n",
       "user_iD           0\n",
       "question_id       0\n",
       "correct_answer    0\n",
       "bundle_id         0\n",
       "explanation_id    0\n",
       "part              0\n",
       "tags              0\n",
       "deployed_at       0\n",
       "dtype: int64"
      ]
     },
     "execution_count": 36,
     "metadata": {},
     "output_type": "execute_result"
    }
   ],
   "source": [
    "dfm.isna().sum()"
   ]
  },
  {
   "cell_type": "code",
   "execution_count": null,
   "id": "c2fcd07e",
   "metadata": {},
   "outputs": [],
   "source": [
    "# create a 'correct' column\n",
    "K1['correct'] = np.nan\n",
    "\n",
    "# loop - if user answers == correct answer, then dfq['correct'][_]= 1\n",
    "length_df = K1['user_iD'].count()\n",
    "count = 0\n",
    "for i in range(length_df):\n",
    "    if K1['user_answer'][count] == dfq['correct_answer'][count]:\n",
    "        K1['correct'][count] = 1\n",
    "    if K1['user_answer'][count] != dfq['correct_answer'][count]:\n",
    "        K1['correct'][count] = 0\n",
    "    count+=1"
   ]
  },
  {
   "cell_type": "code",
   "execution_count": null,
   "id": "c0d88d5f",
   "metadata": {},
   "outputs": [],
   "source": [
    "# inspect new merged dataframe\n",
    "dfm.head()"
   ]
  },
  {
   "cell_type": "code",
   "execution_count": null,
   "id": "7f224a72",
   "metadata": {},
   "outputs": [],
   "source": [
    "df_total_questions_attempted = dfm2.groupby(['user_iD'], as_index=False)['question_id'].count()\n",
    "\n",
    "df_total_questions_attempted = df_total_questions_attempted.rename(columns={'question_id': 'Total Questions Attempted'})\n",
    "\n",
    "df_total_questions_attempted.head()"
   ]
  },
  {
   "cell_type": "code",
   "execution_count": null,
   "id": "71cdc476",
   "metadata": {},
   "outputs": [],
   "source": [
    "df_correct = dfm2[dfm2['user_correct']==1].groupby(['user_iD'], as_index=False)['question_id'].count()\n",
    "\n",
    "df_correct = df_correct.rename(columns={'question_id': 'Corrected'})\n",
    "\n",
    "df_correct.head()"
   ]
  },
  {
   "cell_type": "code",
   "execution_count": null,
   "id": "619beec3",
   "metadata": {},
   "outputs": [],
   "source": [
    "df_incorrect = dfm2[dfm2['user_correct']==0].groupby(['user_iD'], as_index=False)['question_id'].count()\n",
    "\n",
    "df_incorrect = df_incorrect.rename(columns={'question_id': 'InCorrected'})\n",
    "\n",
    "df_incorrect.head()"
   ]
  }
 ],
 "metadata": {
  "kernelspec": {
   "display_name": "Python 3",
   "language": "python",
   "name": "python3"
  },
  "language_info": {
   "codemirror_mode": {
    "name": "ipython",
    "version": 3
   },
   "file_extension": ".py",
   "mimetype": "text/x-python",
   "name": "python",
   "nbconvert_exporter": "python",
   "pygments_lexer": "ipython3",
   "version": "3.8.8"
  }
 },
 "nbformat": 4,
 "nbformat_minor": 5
}
