{
 "cells": [
  {
   "cell_type": "code",
   "execution_count": 1,
   "id": "cdd847cc-6eb3-4807-b5b7-c5390ba1ed9d",
   "metadata": {},
   "outputs": [],
   "source": [
    "import pandas as pd\n",
    "import numpy as np"
   ]
  },
  {
   "cell_type": "code",
   "execution_count": 2,
   "id": "b4207ff2-acd6-447f-a6a0-47319d744539",
   "metadata": {},
   "outputs": [],
   "source": [
    "data = pd.read_feather('Bundles.ftr')"
   ]
  },
  {
   "cell_type": "code",
   "execution_count": 3,
   "id": "85d663ee-ec23-4d60-9eac-5a6fa0ca17c6",
   "metadata": {},
   "outputs": [],
   "source": [
    "data = data.set_index('user_iD')"
   ]
  },
  {
   "cell_type": "code",
   "execution_count": null,
   "id": "4a6dd28c-71fa-4b1a-8f43-99017402a2c9",
   "metadata": {},
   "outputs": [],
   "source": [
    "df = data.mask(data.gt(30), 0)"
   ]
  },
  {
   "cell_type": "code",
   "execution_count": null,
   "id": "7b6da892-7437-4db1-8173-f1914847a526",
   "metadata": {},
   "outputs": [],
   "source": [
    "df= df.replace(0, np.nan)"
   ]
  },
  {
   "cell_type": "code",
   "execution_count": null,
   "id": "98256dbb-b155-4f1b-bb21-5d8da0438eff",
   "metadata": {},
   "outputs": [],
   "source": [
    "df.empty == True"
   ]
  },
  {
   "cell_type": "code",
   "execution_count": null,
   "id": "03d7f2aa-bee1-4bd0-802c-ccb8fa3443bc",
   "metadata": {},
   "outputs": [],
   "source": [
    "df2 = df.dropna(axis=1, how='all')\n",
    "df2.shape"
   ]
  },
  {
   "cell_type": "code",
   "execution_count": null,
   "id": "23fdff80-2a28-4070-ab9e-8ac41c351910",
   "metadata": {},
   "outputs": [],
   "source": [
    "df2= df2.replace(np.nan, 0)\n",
    "df2=df2.astype(int)"
   ]
  },
  {
   "cell_type": "code",
   "execution_count": null,
   "id": "52992ca5-cc02-4a91-b2e5-0cbb1bf42868",
   "metadata": {},
   "outputs": [],
   "source": [
    "from sklearn.cluster import KMeans"
   ]
  },
  {
   "cell_type": "code",
   "execution_count": null,
   "id": "f2740015-b2d6-46e9-b054-27914de9bddd",
   "metadata": {},
   "outputs": [],
   "source": [
    "clustering = KMeans(n_clusters = 4000, random_state = 5)\n",
    "#y_predict containd the cluster labels assiged by KNN\n",
    "y_predict = clustering.fit_predict(df2)\n",
    "sse = clustering.inertia_"
   ]
  },
  {
   "cell_type": "code",
   "execution_count": null,
   "id": "f1c5b1aa-ddf0-4fd8-a54b-e0b4ef175e72",
   "metadata": {},
   "outputs": [],
   "source": [
    "sse"
   ]
  },
  {
   "cell_type": "code",
   "execution_count": null,
   "id": "0f94592e-4305-4c83-a122-958eb6a32ff9",
   "metadata": {},
   "outputs": [],
   "source": []
  },
  {
   "cell_type": "code",
   "execution_count": null,
   "id": "4ee7062f-75f3-4d53-bd16-f8d42ff700b4",
   "metadata": {},
   "outputs": [],
   "source": [
    "import pandas as pd\n",
    "import matplotlib as mpl \n",
    "import matplotlib.pyplot as plt\n",
    "from mpl_toolkits.mplot3d import Axes3D\n",
    "\n",
    "from sklearn.cluster import KMeans\n",
    "from sklearn.datasets import make_blobs\n",
    "from sklearn import datasets\n",
    "\n",
    "from yellowbrick.cluster import KElbowVisualizer, SilhouetteVisualizer"
   ]
  },
  {
   "cell_type": "code",
   "execution_count": null,
   "id": "376fa2b1-a57f-44fa-be3f-f861a23f60e3",
   "metadata": {},
   "outputs": [],
   "source": [
    "k_means = KMeans(n_clusters=4000)\n",
    "k_means.fit(df2)"
   ]
  },
  {
   "cell_type": "code",
   "execution_count": null,
   "id": "faa04b2e-4746-44e6-8315-91028bbd5742",
   "metadata": {},
   "outputs": [],
   "source": [
    "\n",
    "# Plotting a 3d plot using matplotlib to visualize the data points\n",
    "fig = plt.figure(figsize=(7,7))\n",
    "ax = fig.add_subplot(111, projection='3d')\n",
    "\n",
    "# Setting the colors to match cluster results\n",
    "colors = ['red' if label == 0 else 'purple' if label==1 else 'green' for label in k_means.labels_]\n",
    "\n",
    "ax.scatter(df2[:,3], df2[:,0], df2[:,2], c=colors)"
   ]
  }
 ],
 "metadata": {
  "kernelspec": {
   "display_name": "default:Python",
   "language": "python",
   "name": "conda-env-default-py"
  },
  "language_info": {
   "codemirror_mode": {
    "name": "ipython",
    "version": 3
   },
   "file_extension": ".py",
   "mimetype": "text/x-python",
   "name": "python",
   "nbconvert_exporter": "python",
   "pygments_lexer": "ipython3",
   "version": "3.9.10"
  }
 },
 "nbformat": 4,
 "nbformat_minor": 5
}
