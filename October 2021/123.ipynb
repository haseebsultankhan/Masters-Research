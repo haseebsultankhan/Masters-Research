{
 "cells": [
  {
   "cell_type": "code",
   "execution_count": 1,
   "id": "185b09b0-3cf4-4859-9130-74bf1e3b4b72",
   "metadata": {},
   "outputs": [],
   "source": [
    "import pandas as pd\n",
    "import numpy as np\n",
    "import seaborn as sns\n",
    "import matplotlib.pyplot as plt \n",
    "pd.set_option('display.max_columns',None) # To display all columns\n",
    "pd.set_option('display.max_rows',None) # To display all columns\n",
    "import feather\n",
    "import matplotlib.pyplot as plt\n",
    "from matplotlib.ticker import FuncFormatter\n",
    "from functools import reduce"
   ]
  },
  {
   "cell_type": "code",
   "execution_count": 2,
   "id": "5a6c20f3-863f-4f29-92b6-9d6631812e0f",
   "metadata": {},
   "outputs": [
    {
     "name": "stderr",
     "output_type": "stream",
     "text": [
      "C:\\JupyterLab\\resources\\jlab_server\\lib\\site-packages\\IPython\\core\\interactiveshell.py:3444: FutureWarning: In a future version of pandas all arguments of read_csv except for the argument 'filepath_or_buffer' will be keyword-only\n",
      "  exec(code_obj, self.user_global_ns, self.user_ns)\n"
     ]
    }
   ],
   "source": [
    "import glob\n",
    "\n",
    "path = r'C:/Users/PC1/Desktop/DATASET/K1' # use your path\n",
    "all_files = glob.glob(path + \"/*.csv\")\n",
    "\n",
    "li = []\n",
    "\n",
    "for i,filename in enumerate (all_files):\n",
    "    \n",
    "    df = pd.read_csv(filename, ',' ,index_col=None, header=0).assign(user_iD=filename.split(\"\\\\u\")[-1].split(\".\")[0])\n",
    "    #df = pd.read_csv(filename,'|',index_col=None, header=0).assign(user_iD=i)\n",
    "    \n",
    "\n",
    "    li.append(df)"
   ]
  },
  {
   "cell_type": "code",
   "execution_count": 3,
   "id": "50dd384a-9b47-4b8d-bb89-2269fcb0b9e3",
   "metadata": {},
   "outputs": [],
   "source": [
    "data = pd.concat(li, axis=0, ignore_index=True)\n",
    "df = data.copy()"
   ]
  },
  {
   "cell_type": "code",
   "execution_count": 4,
   "id": "3839f22c-6495-458a-a1c3-840e74197d4d",
   "metadata": {},
   "outputs": [],
   "source": [
    "# subset df for notnull question_id rows only (only work with rows that have questions)\n",
    "df2 = df[df['question_id'].notnull()]\n",
    "df2.question_id = df2.question_id.str.slice(start=1)"
   ]
  },
  {
   "cell_type": "code",
   "execution_count": 5,
   "id": "55175641-b5cc-426d-86b6-2b8a5bd3b6e5",
   "metadata": {},
   "outputs": [],
   "source": [
    "df2[\"user_iD\"] = df2[\"user_iD\"].astype(str).astype(int)"
   ]
  },
  {
   "cell_type": "code",
   "execution_count": 6,
   "id": "f5f12193-9b08-42b7-8dea-bb328c2670b7",
   "metadata": {},
   "outputs": [],
   "source": [
    "df2.question_id = df2.question_id.astype(int)"
   ]
  },
  {
   "cell_type": "code",
   "execution_count": 7,
   "id": "cc83cea9-a6cd-4996-84de-0e507995f05a",
   "metadata": {},
   "outputs": [
    {
     "data": {
      "text/plain": [
       "timestamp        int64\n",
       "solving_id       int64\n",
       "question_id      int32\n",
       "user_answer     object\n",
       "elapsed_time     int64\n",
       "user_iD          int32\n",
       "dtype: object"
      ]
     },
     "execution_count": 7,
     "metadata": {},
     "output_type": "execute_result"
    }
   ],
   "source": [
    "df2.dtypes"
   ]
  },
  {
   "cell_type": "code",
   "execution_count": 8,
   "id": "4625df58-2cf5-470a-b597-509f09e05735",
   "metadata": {},
   "outputs": [
    {
     "data": {
      "text/html": [
       "<div>\n",
       "<style scoped>\n",
       "    .dataframe tbody tr th:only-of-type {\n",
       "        vertical-align: middle;\n",
       "    }\n",
       "\n",
       "    .dataframe tbody tr th {\n",
       "        vertical-align: top;\n",
       "    }\n",
       "\n",
       "    .dataframe thead th {\n",
       "        text-align: right;\n",
       "    }\n",
       "</style>\n",
       "<table border=\"1\" class=\"dataframe\">\n",
       "  <thead>\n",
       "    <tr style=\"text-align: right;\">\n",
       "      <th></th>\n",
       "      <th>timestamp</th>\n",
       "      <th>solving_id</th>\n",
       "      <th>question_id</th>\n",
       "      <th>user_answer</th>\n",
       "      <th>elapsed_time</th>\n",
       "      <th>user_iD</th>\n",
       "    </tr>\n",
       "  </thead>\n",
       "  <tbody>\n",
       "    <tr>\n",
       "      <th>0</th>\n",
       "      <td>1565096190868</td>\n",
       "      <td>1</td>\n",
       "      <td>5012</td>\n",
       "      <td>b</td>\n",
       "      <td>38000</td>\n",
       "      <td>1</td>\n",
       "    </tr>\n",
       "    <tr>\n",
       "      <th>1</th>\n",
       "      <td>1565096221062</td>\n",
       "      <td>2</td>\n",
       "      <td>4706</td>\n",
       "      <td>c</td>\n",
       "      <td>24000</td>\n",
       "      <td>1</td>\n",
       "    </tr>\n",
       "    <tr>\n",
       "      <th>2</th>\n",
       "      <td>1565096293432</td>\n",
       "      <td>3</td>\n",
       "      <td>4366</td>\n",
       "      <td>b</td>\n",
       "      <td>68000</td>\n",
       "      <td>1</td>\n",
       "    </tr>\n",
       "    <tr>\n",
       "      <th>3</th>\n",
       "      <td>1565096339668</td>\n",
       "      <td>4</td>\n",
       "      <td>4829</td>\n",
       "      <td>a</td>\n",
       "      <td>42000</td>\n",
       "      <td>1</td>\n",
       "    </tr>\n",
       "    <tr>\n",
       "      <th>4</th>\n",
       "      <td>1565096401774</td>\n",
       "      <td>5</td>\n",
       "      <td>6528</td>\n",
       "      <td>b</td>\n",
       "      <td>59000</td>\n",
       "      <td>1</td>\n",
       "    </tr>\n",
       "  </tbody>\n",
       "</table>\n",
       "</div>"
      ],
      "text/plain": [
       "       timestamp  solving_id  question_id user_answer  elapsed_time  user_iD\n",
       "0  1565096190868           1         5012           b         38000        1\n",
       "1  1565096221062           2         4706           c         24000        1\n",
       "2  1565096293432           3         4366           b         68000        1\n",
       "3  1565096339668           4         4829           a         42000        1\n",
       "4  1565096401774           5         6528           b         59000        1"
      ]
     },
     "execution_count": 8,
     "metadata": {},
     "output_type": "execute_result"
    }
   ],
   "source": [
    "df2.head()"
   ]
  },
  {
   "cell_type": "code",
   "execution_count": 9,
   "id": "1e18a8ea-7b9b-44f5-a8bd-39acc766f9b7",
   "metadata": {},
   "outputs": [],
   "source": [
    "#df2[\"user_iD\"] = df2[\"user_iD\"].astype(str).astype(int)"
   ]
  },
  {
   "cell_type": "code",
   "execution_count": 10,
   "id": "02a10286-66a7-4901-8f0b-723925b657e6",
   "metadata": {},
   "outputs": [
    {
     "data": {
      "text/plain": [
       "timestamp        int64\n",
       "solving_id       int64\n",
       "question_id      int32\n",
       "user_answer     object\n",
       "elapsed_time     int64\n",
       "user_iD          int32\n",
       "dtype: object"
      ]
     },
     "execution_count": 10,
     "metadata": {},
     "output_type": "execute_result"
    }
   ],
   "source": [
    "df2.dtypes"
   ]
  },
  {
   "cell_type": "code",
   "execution_count": 11,
   "id": "f017fe2f-9394-4afa-a2cf-15aae2a19422",
   "metadata": {},
   "outputs": [],
   "source": [
    "df2.to_feather('Df2.ftr')"
   ]
  },
  {
   "cell_type": "code",
   "execution_count": 12,
   "id": "01c6d304-7e6a-443f-b8da-e5ccf5486c90",
   "metadata": {},
   "outputs": [
    {
     "data": {
      "text/plain": [
       "784309"
      ]
     },
     "execution_count": 12,
     "metadata": {},
     "output_type": "execute_result"
    }
   ],
   "source": [
    "df2['user_iD'].nunique()"
   ]
  },
  {
   "cell_type": "code",
   "execution_count": null,
   "id": "2fe5b47d-d49a-4b0b-891a-90a896f2dcd1",
   "metadata": {},
   "outputs": [],
   "source": []
  }
 ],
 "metadata": {
  "kernelspec": {
   "display_name": "Python 3 (ipykernel)",
   "language": "python",
   "name": "python3"
  },
  "language_info": {
   "codemirror_mode": {
    "name": "ipython",
    "version": 3
   },
   "file_extension": ".py",
   "mimetype": "text/x-python",
   "name": "python",
   "nbconvert_exporter": "python",
   "pygments_lexer": "ipython3",
   "version": "3.8.12"
  }
 },
 "nbformat": 4,
 "nbformat_minor": 5
}
