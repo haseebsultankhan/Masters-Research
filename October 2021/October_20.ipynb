{
 "cells": [
  {
   "cell_type": "code",
   "execution_count": 1,
   "id": "9fbdfdd2",
   "metadata": {},
   "outputs": [],
   "source": [
    "import pandas as pd\n",
    "import numpy as np\n",
    "import seaborn as sns\n",
    "import sagemaker\n",
    "import boto3\n",
    "import matplotlib.pyplot as plt \n",
    "pd.set_option('display.max_columns',None) # To display all columns\n",
    "pd.set_option('display.max_rows',None) # To display all columns\n",
    "client = boto3.client('s3')\n",
    "import feather\n",
    "import matplotlib.pyplot as plt\n",
    "from matplotlib.ticker import FuncFormatter\n",
    "from functools import reduce"
   ]
  },
  {
   "cell_type": "code",
   "execution_count": 2,
   "id": "7bd048c8",
   "metadata": {},
   "outputs": [],
   "source": [
    "df=pd.read_feather('s3://haseebdata/Dataset/Dataset.ftr')\n",
    "questions_df = pd.read_feather('s3://haseebdata/Dataset/dfq.ftr')"
   ]
  },
  {
   "cell_type": "code",
   "execution_count": 3,
   "id": "50e5e1cb",
   "metadata": {},
   "outputs": [],
   "source": [
    "df2 = K1[K1['question_id'].notnull()]\n",
    "questions_df.question_id = questions_df.question_id.str.slice(start=1)"
   ]
  },
  {
   "cell_type": "code",
   "execution_count": 6,
   "id": "69a633e3",
   "metadata": {},
   "outputs": [],
   "source": [
    "questions_df.bundle_id = questions_df.bundle_id.str.slice(start=1)\n",
    "questions_df.explanation_id = questions_df.explanation_id.str.slice(start=1)\n",
    "questions_df.deployed_at = pd.to_datetime(questions_df.deployed_at, unit='ms')\n",
    "dfq = questions_df[['question_id', 'correct_answer', 'bundle_id', 'explanation_id' ,  'part', 'tags', 'deployed_at']]\n"
   ]
  },
  {
   "cell_type": "code",
   "execution_count": 7,
   "id": "0e24c3a1",
   "metadata": {},
   "outputs": [],
   "source": [
    "#dfq.to_feather('questions.ftr')"
   ]
  },
  {
   "cell_type": "code",
   "execution_count": 8,
   "id": "8efc52d6",
   "metadata": {},
   "outputs": [],
   "source": [
    "#df2.to_feather('Dataset.ftr')"
   ]
  },
  {
   "cell_type": "code",
   "execution_count": 9,
   "id": "965aeee0",
   "metadata": {},
   "outputs": [
    {
     "data": {
      "text/plain": [
       "784309"
      ]
     },
     "execution_count": 9,
     "metadata": {},
     "output_type": "execute_result"
    }
   ],
   "source": [
    "df['user_iD'].nunique()"
   ]
  },
  {
   "cell_type": "code",
   "execution_count": 10,
   "id": "0f581bcc",
   "metadata": {},
   "outputs": [
    {
     "data": {
      "image/png": "[encoded data removed]",
      "text/plain": [
       "<Figure size 864x432 with 1 Axes>"
      ]
     },
     "metadata": {
      "needs_background": "light"
     },
     "output_type": "display_data"
    }
   ],
   "source": [
    "cids = df.user_iD.value_counts()[:50]\n",
    "\n",
    "fig = plt.figure(figsize=(12,6))\n",
    "ax = cids.plot.bar()\n",
    "plt.title(\"Fifty most active USER'S\")\n",
    "plt.xticks(rotation=90)\n",
    "ax.get_yaxis().set_major_formatter(FuncFormatter(lambda x, p: format(int(x), ','))) #add thousands separator\n",
    "plt.show()"
   ]
  },
  {
   "cell_type": "code",
   "execution_count": 11,
   "id": "61c61dc7",
   "metadata": {},
   "outputs": [
    {
     "data": {
      "text/plain": [
       "timestamp        int64\n",
       "solving_id       int64\n",
       "question_id      int32\n",
       "user_answer     object\n",
       "elapsed_time     int64\n",
       "user_iD          int32\n",
       "dtype: object"
      ]
     },
     "execution_count": 11,
     "metadata": {},
     "output_type": "execute_result"
    }
   ],
   "source": [
    "df.dtypes"
   ]
  },
  {
   "cell_type": "code",
   "execution_count": 13,
   "id": "33386d82",
   "metadata": {},
   "outputs": [
    {
     "data": {
      "text/plain": [
       "question_id                int32\n",
       "correct_answer            object\n",
       "bundle_id                  int32\n",
       "explanation_id             int32\n",
       "part                       int32\n",
       "tags                      object\n",
       "deployed_at       datetime64[ns]\n",
       "dtype: object"
      ]
     },
     "execution_count": 13,
     "metadata": {},
     "output_type": "execute_result"
    }
   ],
   "source": [
    "questions_df.dtypes"
   ]
  },
  {
   "cell_type": "code",
   "execution_count": 14,
   "id": "7088b5b6",
   "metadata": {},
   "outputs": [],
   "source": [
    "# left join student dataframe and answer key dataframe on the 'question_id' column \n",
    "dfm = pd.merge(df, questions_df,  how='left', left_on=['question_id'], right_on = ['question_id'])"
   ]
  },
  {
   "cell_type": "code",
   "execution_count": 15,
   "id": "67ee5b05",
   "metadata": {},
   "outputs": [
    {
     "name": "stderr",
     "output_type": "stream",
     "text": [
      "/home/ec2-user/anaconda3/envs/python3/lib/python3.6/site-packages/ipykernel/__main__.py:11: SettingWithCopyWarning: \n",
      "A value is trying to be set on a copy of a slice from a DataFrame\n",
      "\n",
      "See the caveats in the documentation: https://pandas.pydata.org/pandas-docs/stable/user_guide/indexing.html#returning-a-view-versus-a-copy\n",
      "/home/ec2-user/anaconda3/envs/python3/lib/python3.6/site-packages/ipykernel/__main__.py:9: SettingWithCopyWarning: \n",
      "A value is trying to be set on a copy of a slice from a DataFrame\n",
      "\n",
      "See the caveats in the documentation: https://pandas.pydata.org/pandas-docs/stable/user_guide/indexing.html#returning-a-view-versus-a-copy\n"
     ]
    }
   ],
   "source": [
    "# create a 'correct' column\n",
    "dfm['correct'] = np.nan\n",
    "\n",
    "# loop - if user answers == correct answer, then dfq['correct'][_]= 1\n",
    "length_df = dfm['user_iD'].count()\n",
    "count = 0\n",
    "for i in range(length_df):\n",
    "    if dfm['user_answer'][count] == dfm['correct_answer'][count]:\n",
    "        dfm['correct'][count] = 1\n",
    "    if dfm['user_answer'][count] != dfm['correct_answer'][count]:\n",
    "        dfm['correct'][count] = 0\n",
    "    count+=1"
   ]
  },
  {
   "cell_type": "code",
   "execution_count": 16,
   "id": "26bf08d1",
   "metadata": {},
   "outputs": [
    {
     "data": {
      "text/html": [
       "<div>\n",
       "<style scoped>\n",
       "    .dataframe tbody tr th:only-of-type {\n",
       "        vertical-align: middle;\n",
       "    }\n",
       "\n",
       "    .dataframe tbody tr th {\n",
       "        vertical-align: top;\n",
       "    }\n",
       "\n",
       "    .dataframe thead th {\n",
       "        text-align: right;\n",
       "    }\n",
       "</style>\n",
       "<table border=\"1\" class=\"dataframe\">\n",
       "  <thead>\n",
       "    <tr style=\"text-align: right;\">\n",
       "      <th></th>\n",
       "      <th>timestamp</th>\n",
       "      <th>solving_id</th>\n",
       "      <th>question_id</th>\n",
       "      <th>user_answer</th>\n",
       "      <th>elapsed_time</th>\n",
       "      <th>user_iD</th>\n",
       "      <th>correct_answer</th>\n",
       "      <th>bundle_id</th>\n",
       "      <th>explanation_id</th>\n",
       "      <th>part</th>\n",
       "      <th>tags</th>\n",
       "      <th>deployed_at</th>\n",
       "      <th>correct</th>\n",
       "    </tr>\n",
       "  </thead>\n",
       "  <tbody>\n",
       "    <tr>\n",
       "      <th>0</th>\n",
       "      <td>1565096190868</td>\n",
       "      <td>1</td>\n",
       "      <td>5012</td>\n",
       "      <td>b</td>\n",
       "      <td>38000</td>\n",
       "      <td>1</td>\n",
       "      <td>c</td>\n",
       "      <td>3544</td>\n",
       "      <td>3544</td>\n",
       "      <td>5</td>\n",
       "      <td>74</td>\n",
       "      <td>2019-09-17 02:43:28.616</td>\n",
       "      <td>0.0</td>\n",
       "    </tr>\n",
       "    <tr>\n",
       "      <th>1</th>\n",
       "      <td>1565096221062</td>\n",
       "      <td>2</td>\n",
       "      <td>4706</td>\n",
       "      <td>c</td>\n",
       "      <td>24000</td>\n",
       "      <td>1</td>\n",
       "      <td>c</td>\n",
       "      <td>3238</td>\n",
       "      <td>3238</td>\n",
       "      <td>5</td>\n",
       "      <td>71</td>\n",
       "      <td>2019-10-30 05:34:30.723</td>\n",
       "      <td>1.0</td>\n",
       "    </tr>\n",
       "    <tr>\n",
       "      <th>2</th>\n",
       "      <td>1565096293432</td>\n",
       "      <td>3</td>\n",
       "      <td>4366</td>\n",
       "      <td>b</td>\n",
       "      <td>68000</td>\n",
       "      <td>1</td>\n",
       "      <td>b</td>\n",
       "      <td>2898</td>\n",
       "      <td>2898</td>\n",
       "      <td>5</td>\n",
       "      <td>103</td>\n",
       "      <td>2019-10-30 05:37:51.451</td>\n",
       "      <td>1.0</td>\n",
       "    </tr>\n",
       "    <tr>\n",
       "      <th>3</th>\n",
       "      <td>1565096339668</td>\n",
       "      <td>4</td>\n",
       "      <td>4829</td>\n",
       "      <td>a</td>\n",
       "      <td>42000</td>\n",
       "      <td>1</td>\n",
       "      <td>c</td>\n",
       "      <td>3361</td>\n",
       "      <td>3361</td>\n",
       "      <td>5</td>\n",
       "      <td>83</td>\n",
       "      <td>2019-06-24 09:24:51.347</td>\n",
       "      <td>0.0</td>\n",
       "    </tr>\n",
       "    <tr>\n",
       "      <th>4</th>\n",
       "      <td>1565096401774</td>\n",
       "      <td>5</td>\n",
       "      <td>6528</td>\n",
       "      <td>b</td>\n",
       "      <td>59000</td>\n",
       "      <td>1</td>\n",
       "      <td>d</td>\n",
       "      <td>5060</td>\n",
       "      <td>5060</td>\n",
       "      <td>5</td>\n",
       "      <td>90</td>\n",
       "      <td>2019-10-17 03:03:15.009</td>\n",
       "      <td>0.0</td>\n",
       "    </tr>\n",
       "  </tbody>\n",
       "</table>\n",
       "</div>"
      ],
      "text/plain": [
       "       timestamp  solving_id  question_id user_answer  elapsed_time  user_iD  \\\n",
       "0  1565096190868           1         5012           b         38000        1   \n",
       "1  1565096221062           2         4706           c         24000        1   \n",
       "2  1565096293432           3         4366           b         68000        1   \n",
       "3  1565096339668           4         4829           a         42000        1   \n",
       "4  1565096401774           5         6528           b         59000        1   \n",
       "\n",
       "  correct_answer  bundle_id  explanation_id  part tags  \\\n",
       "0              c       3544            3544     5   74   \n",
       "1              c       3238            3238     5   71   \n",
       "2              b       2898            2898     5  103   \n",
       "3              c       3361            3361     5   83   \n",
       "4              d       5060            5060     5   90   \n",
       "\n",
       "              deployed_at  correct  \n",
       "0 2019-09-17 02:43:28.616      0.0  \n",
       "1 2019-10-30 05:34:30.723      1.0  \n",
       "2 2019-10-30 05:37:51.451      1.0  \n",
       "3 2019-06-24 09:24:51.347      0.0  \n",
       "4 2019-10-17 03:03:15.009      0.0  "
      ]
     },
     "execution_count": 16,
     "metadata": {},
     "output_type": "execute_result"
    }
   ],
   "source": [
    "dfm.head()"
   ]
  },
  {
   "cell_type": "code",
   "execution_count": 17,
   "id": "543f46a5",
   "metadata": {},
   "outputs": [
    {
     "data": {
      "text/plain": [
       "timestamp                  int64\n",
       "solving_id                 int64\n",
       "question_id                int32\n",
       "user_answer               object\n",
       "elapsed_time               int64\n",
       "user_iD                    int32\n",
       "correct_answer            object\n",
       "bundle_id                  int32\n",
       "explanation_id             int32\n",
       "part                       int32\n",
       "tags                      object\n",
       "deployed_at       datetime64[ns]\n",
       "correct                  float64\n",
       "dtype: object"
      ]
     },
     "execution_count": 17,
     "metadata": {},
     "output_type": "execute_result"
    }
   ],
   "source": [
    "dfm.dtypes"
   ]
  },
  {
   "cell_type": "code",
   "execution_count": 18,
   "id": "b5e585f0",
   "metadata": {},
   "outputs": [],
   "source": [
    "dfm.to_feather('EDNET.ftr')"
   ]
  },
  {
   "cell_type": "code",
   "execution_count": 19,
   "id": "02018c33",
   "metadata": {},
   "outputs": [],
   "source": [
    "df_total_questions_attempted = dfm.groupby(['user_iD'], as_index=False , sort=False)['question_id'].count()\n",
    "\n",
    "df_total_questions_attempted = df_total_questions_attempted.rename(columns={'question_id': 'Total Questions Attempted'})                                                               "
   ]
  },
  {
   "cell_type": "code",
   "execution_count": 20,
   "id": "c8421e9e",
   "metadata": {},
   "outputs": [],
   "source": [
    "df_correct = dfm[dfm['correct']==1].groupby(['user_iD'], as_index=False, sort=False)['question_id'].count()\n",
    "\n",
    "df_correct = df_correct.rename(columns={'question_id': 'Corrected'})"
   ]
  },
  {
   "cell_type": "code",
   "execution_count": 21,
   "id": "2aee8f72",
   "metadata": {},
   "outputs": [],
   "source": [
    "df_incorrect = dfm[dfm['correct']==0].groupby(['user_iD'], as_index=False, sort=False)['question_id'].count()\n",
    "\n",
    "df_incorrect = df_incorrect.rename(columns={'question_id': 'Incorrected'})"
   ]
  },
  {
   "cell_type": "code",
   "execution_count": 22,
   "id": "a38a1dab",
   "metadata": {},
   "outputs": [],
   "source": [
    "dfs = [df_total_questions_attempted, df_correct, df_incorrect]\n",
    "df_final = reduce(lambda left,right: pd.merge(left,right,on='user_iD'), dfs)"
   ]
  },
  {
   "cell_type": "code",
   "execution_count": 23,
   "id": "78d2c1b0",
   "metadata": {},
   "outputs": [
    {
     "data": {
      "text/html": [
       "<div>\n",
       "<style scoped>\n",
       "    .dataframe tbody tr th:only-of-type {\n",
       "        vertical-align: middle;\n",
       "    }\n",
       "\n",
       "    .dataframe tbody tr th {\n",
       "        vertical-align: top;\n",
       "    }\n",
       "\n",
       "    .dataframe thead th {\n",
       "        text-align: right;\n",
       "    }\n",
       "</style>\n",
       "<table border=\"1\" class=\"dataframe\">\n",
       "  <thead>\n",
       "    <tr style=\"text-align: right;\">\n",
       "      <th></th>\n",
       "      <th>user_iD</th>\n",
       "      <th>Total Questions Attempted</th>\n",
       "      <th>Corrected</th>\n",
       "      <th>Incorrected</th>\n",
       "      <th>Percentage</th>\n",
       "    </tr>\n",
       "  </thead>\n",
       "  <tbody>\n",
       "    <tr>\n",
       "      <th>0</th>\n",
       "      <td>1</td>\n",
       "      <td>1082</td>\n",
       "      <td>753</td>\n",
       "      <td>329</td>\n",
       "      <td>69.593346</td>\n",
       "    </tr>\n",
       "    <tr>\n",
       "      <th>1</th>\n",
       "      <td>10</td>\n",
       "      <td>16</td>\n",
       "      <td>9</td>\n",
       "      <td>7</td>\n",
       "      <td>56.250000</td>\n",
       "    </tr>\n",
       "    <tr>\n",
       "      <th>2</th>\n",
       "      <td>100</td>\n",
       "      <td>33</td>\n",
       "      <td>18</td>\n",
       "      <td>15</td>\n",
       "      <td>54.545455</td>\n",
       "    </tr>\n",
       "    <tr>\n",
       "      <th>3</th>\n",
       "      <td>1000</td>\n",
       "      <td>1488</td>\n",
       "      <td>930</td>\n",
       "      <td>558</td>\n",
       "      <td>62.500000</td>\n",
       "    </tr>\n",
       "    <tr>\n",
       "      <th>4</th>\n",
       "      <td>10000</td>\n",
       "      <td>405</td>\n",
       "      <td>258</td>\n",
       "      <td>147</td>\n",
       "      <td>63.703704</td>\n",
       "    </tr>\n",
       "  </tbody>\n",
       "</table>\n",
       "</div>"
      ],
      "text/plain": [
       "   user_iD  Total Questions Attempted  Corrected  Incorrected  Percentage\n",
       "0        1                       1082        753          329   69.593346\n",
       "1       10                         16          9            7   56.250000\n",
       "2      100                         33         18           15   54.545455\n",
       "3     1000                       1488        930          558   62.500000\n",
       "4    10000                        405        258          147   63.703704"
      ]
     },
     "execution_count": 23,
     "metadata": {},
     "output_type": "execute_result"
    }
   ],
   "source": [
    "df_final['Percentage'] = (df_final['Corrected'] / df_final['Total Questions Attempted']) *100\n",
    "df_final.head()"
   ]
  },
  {
   "cell_type": "code",
   "execution_count": 24,
   "id": "b35ea85e",
   "metadata": {},
   "outputs": [],
   "source": [
    "df['elapsed_time']= df.elapsed_time.div(1000)   #DIVDING THE ELAPSED TIME by 1000 to further check the mean elapsed time by each user"
   ]
  },
  {
   "cell_type": "code",
   "execution_count": 25,
   "id": "5c164b69",
   "metadata": {},
   "outputs": [],
   "source": [
    "Elapsed_time= df.groupby('user_iD' , sort=False)['elapsed_time'].median()"
   ]
  },
  {
   "cell_type": "code",
   "execution_count": 26,
   "id": "48de2001",
   "metadata": {},
   "outputs": [],
   "source": [
    "dfs = [df_final, Elapsed_time]\n",
    "df2 = reduce(lambda left,right: pd.merge(left,right,on='user_iD'), dfs)"
   ]
  },
  {
   "cell_type": "code",
   "execution_count": 27,
   "id": "09940ce9",
   "metadata": {},
   "outputs": [
    {
     "data": {
      "text/html": [
       "<div>\n",
       "<style scoped>\n",
       "    .dataframe tbody tr th:only-of-type {\n",
       "        vertical-align: middle;\n",
       "    }\n",
       "\n",
       "    .dataframe tbody tr th {\n",
       "        vertical-align: top;\n",
       "    }\n",
       "\n",
       "    .dataframe thead th {\n",
       "        text-align: right;\n",
       "    }\n",
       "</style>\n",
       "<table border=\"1\" class=\"dataframe\">\n",
       "  <thead>\n",
       "    <tr style=\"text-align: right;\">\n",
       "      <th></th>\n",
       "      <th>user_iD</th>\n",
       "      <th>Total Questions Attempted</th>\n",
       "      <th>Corrected</th>\n",
       "      <th>Incorrected</th>\n",
       "      <th>Percentage</th>\n",
       "      <th>elapsed_time</th>\n",
       "    </tr>\n",
       "  </thead>\n",
       "  <tbody>\n",
       "    <tr>\n",
       "      <th>0</th>\n",
       "      <td>1</td>\n",
       "      <td>1082</td>\n",
       "      <td>753</td>\n",
       "      <td>329</td>\n",
       "      <td>69.593346</td>\n",
       "      <td>36.75</td>\n",
       "    </tr>\n",
       "    <tr>\n",
       "      <th>1</th>\n",
       "      <td>10</td>\n",
       "      <td>16</td>\n",
       "      <td>9</td>\n",
       "      <td>7</td>\n",
       "      <td>56.250000</td>\n",
       "      <td>27.75</td>\n",
       "    </tr>\n",
       "    <tr>\n",
       "      <th>2</th>\n",
       "      <td>100</td>\n",
       "      <td>33</td>\n",
       "      <td>18</td>\n",
       "      <td>15</td>\n",
       "      <td>54.545455</td>\n",
       "      <td>34.50</td>\n",
       "    </tr>\n",
       "    <tr>\n",
       "      <th>3</th>\n",
       "      <td>1000</td>\n",
       "      <td>1488</td>\n",
       "      <td>930</td>\n",
       "      <td>558</td>\n",
       "      <td>62.500000</td>\n",
       "      <td>34.00</td>\n",
       "    </tr>\n",
       "    <tr>\n",
       "      <th>4</th>\n",
       "      <td>10000</td>\n",
       "      <td>405</td>\n",
       "      <td>258</td>\n",
       "      <td>147</td>\n",
       "      <td>63.703704</td>\n",
       "      <td>25.00</td>\n",
       "    </tr>\n",
       "  </tbody>\n",
       "</table>\n",
       "</div>"
      ],
      "text/plain": [
       "   user_iD  Total Questions Attempted  Corrected  Incorrected  Percentage  \\\n",
       "0        1                       1082        753          329   69.593346   \n",
       "1       10                         16          9            7   56.250000   \n",
       "2      100                         33         18           15   54.545455   \n",
       "3     1000                       1488        930          558   62.500000   \n",
       "4    10000                        405        258          147   63.703704   \n",
       "\n",
       "   elapsed_time  \n",
       "0         36.75  \n",
       "1         27.75  \n",
       "2         34.50  \n",
       "3         34.00  \n",
       "4         25.00  "
      ]
     },
     "execution_count": 27,
     "metadata": {},
     "output_type": "execute_result"
    }
   ],
   "source": [
    "df2.head()"
   ]
  },
  {
   "cell_type": "code",
   "execution_count": 28,
   "id": "9ed7b6ee",
   "metadata": {},
   "outputs": [],
   "source": [
    "df2.to_feather('All_users_perform.ftr')"
   ]
  },
  {
   "cell_type": "code",
   "execution_count": 29,
   "id": "4964998e",
   "metadata": {},
   "outputs": [
    {
     "name": "stdout",
     "output_type": "stream",
     "text": [
      "ALL DONE\n"
     ]
    }
   ],
   "source": [
    "print(\"ALL DONE\")"
   ]
  },
  {
   "cell_type": "code",
   "execution_count": 30,
   "id": "23db9a50",
   "metadata": {},
   "outputs": [
    {
     "data": {
      "text/plain": [
       "724139"
      ]
     },
     "execution_count": 30,
     "metadata": {},
     "output_type": "execute_result"
    }
   ],
   "source": [
    "df2['user_iD'].nunique()"
   ]
  },
  {
   "cell_type": "code",
   "execution_count": null,
   "id": "e0ad8d35-611b-4eba-ad1c-c7e30be791a4",
   "metadata": {},
   "outputs": [],
   "source": []
  },
  {
   "cell_type": "markdown",
   "id": "02842914-3a06-4c16-b67c-4a77804c101d",
   "metadata": {},
   "source": [
    "## MODELING BEGINS\n"
   ]
  },
  {
   "cell_type": "code",
   "execution_count": null,
   "id": "41ef7efe-cfdd-4056-8c85-0171918ed2cb",
   "metadata": {},
   "outputs": [],
   "source": [
    "dfm=pd.read_feather('EDNET.ftr')"
   ]
  },
  {
   "cell_type": "code",
   "execution_count": 31,
   "id": "e7e33025",
   "metadata": {},
   "outputs": [],
   "source": [
    "# list to store to scores\n",
    "scores = []\n",
    "algo = []"
   ]
  },
  {
   "cell_type": "code",
   "execution_count": 33,
   "id": "af6bb8be",
   "metadata": {},
   "outputs": [],
   "source": [
    "#Split data into testing and training datasets\n",
    "import numpy as np\n",
    "from sklearn.model_selection import train_test_split\n",
    "X = dfm[['user_iD', 'question_id', 'solving_id', 'bundle_id', 'part','elapsed_time']]\n",
    "y = dfm.correct\n",
    "\n",
    "X_train, X_test, y_train, y_test = train_test_split(\n",
    "    X, y, test_size=0.33, random_state=42)"
   ]
  },
  {
   "cell_type": "markdown",
   "id": "86723b75",
   "metadata": {},
   "source": [
    "## MODELING"
   ]
  },
  {
   "cell_type": "code",
   "execution_count": 34,
   "id": "277072fb",
   "metadata": {},
   "outputs": [
    {
     "name": "stdout",
     "output_type": "stream",
     "text": [
      "0.6532601078971104\n"
     ]
    }
   ],
   "source": [
    "from sklearn.linear_model import LogisticRegression\n",
    "lr = LogisticRegression()\n",
    "lr.fit(X_train, y_train)\n",
    "y_pred = lr.predict(X_test)\n",
    "#clf.predict_proba(X_train)\n",
    "print(lr.score(X_test, y_test))\n",
    "scores.append(lr.score(X_test, y_test))\n",
    "algo.append('LogisticRegression')"
   ]
  },
  {
   "cell_type": "code",
   "execution_count": 35,
   "id": "dca44ac0",
   "metadata": {},
   "outputs": [
    {
     "name": "stdout",
     "output_type": "stream",
     "text": [
      "0.6532607756874457\n"
     ]
    }
   ],
   "source": [
    "#clf\n",
    "clf = LogisticRegression(random_state=42).fit(X, y)\n",
    "clf.predict(X_test)\n",
    "clf.predict_proba(X_test)\n",
    "clf.score(X_test, y_test)\n",
    "scores.append(clf.score(X_test, y_test))\n",
    "algo.append('clf')\n",
    "print(clf.score(X_test, y_test))"
   ]
  },
  {
   "cell_type": "code",
   "execution_count": 36,
   "id": "9831de37",
   "metadata": {},
   "outputs": [],
   "source": [
    "# Naive Bayes\n",
    "from sklearn.naive_bayes import GaussianNB\n",
    "nb = GaussianNB()\n",
    "nb.fit(X_train, y_train)\n",
    "y_pred = nb.predict(X_test)\n",
    "nb.score(X,y)\n",
    "scores.append(nb.score(X,y))\n",
    "algo.append('GaussianNB')"
   ]
  },
  {
   "cell_type": "code",
   "execution_count": null,
   "id": "407f85f2",
   "metadata": {},
   "outputs": [],
   "source": [
    "# Stochastic gradient descent\n",
    "from sklearn.linear_model import SGDClassifier\n",
    "sgd = SGDClassifier(loss='modified_huber', shuffle=True, random_state=42)\n",
    "sgd.fit(X_train, y_train)\n",
    "y_pred = sgd.predict(X_test)\n",
    "sgd.score(X,y)\n",
    "scores.append(sgd.score(X,y))\n",
    "algo.append('SGDClassifier')"
   ]
  },
  {
   "cell_type": "code",
   "execution_count": null,
   "id": "39dead77",
   "metadata": {},
   "outputs": [],
   "source": [
    "# KNeighborsClassifier\n",
    "from sklearn.neighbors import KNeighborsClassifier\n",
    "knn = KNeighborsClassifier(n_neighbors=2)\n",
    "knn.fit(X_train, y_train)\n",
    "y_pred = knn.predict(X_test)\n",
    "knn.score(X,y)\n",
    "scores.append(knn.score(X,y))\n",
    "algo.append('KNeighborsClassifier')"
   ]
  },
  {
   "cell_type": "code",
   "execution_count": null,
   "id": "14797d58",
   "metadata": {},
   "outputs": [],
   "source": [
    "# RandomForestClassifier\n",
    "from sklearn.ensemble import RandomForestClassifier\n",
    "rfm = RandomForestClassifier(n_estimators=70, oob_score=True, n_jobs=1, \\\n",
    "                            random_state=42, max_features = None, min_samples_leaf = 30)\n",
    "rfm.fit(X_train, y_train)\n",
    "y_pred = rfm.predict(X_test)\n",
    "rfm.score(X,y)\n",
    "scores.append(rfm.score(X,y))\n",
    "algo.append('RandomForestClassifier')"
   ]
  },
  {
   "cell_type": "code",
   "execution_count": null,
   "id": "640f1155",
   "metadata": {},
   "outputs": [],
   "source": [
    "from sklearn.svm import SVC\n",
    "svm = SVC(kernel='linear', C=0.025, random_state=42)\n",
    "svm.fit(X_train, y_train)\n",
    "y_pred = svm.predict(X_test)\n",
    "svm.score(X,y)\n",
    "scores.append(svm.score(X,y))\n",
    "algo.append('SVC')"
   ]
  },
  {
   "cell_type": "code",
   "execution_count": null,
   "id": "bc3ae48f",
   "metadata": {},
   "outputs": [],
   "source": [
    "print(scores)\n",
    "print(algo)"
   ]
  },
  {
   "cell_type": "code",
   "execution_count": null,
   "id": "92bbb438",
   "metadata": {},
   "outputs": [],
   "source": [
    "'LogisticRegression', 'clf', 'GaussianNB', 'SGDClassifier', 'KNeighborsClassifier', 'RandomForestClassifier', 'SVC']\n",
    "In [34]:\n",
    "fig, ax = plt.subplots()\n",
    "plt.bar(algo, scores)\n",
    "plt.ylabel(\"Score\")\n",
    "plt.xlabel(\"Algorithm\")\n",
    "#plt.title('Algorithm Scores for User ' +str(z)+ ' | Max: '+str(round(max(scores),5)))\n",
    "plt.xticks(rotation=40, ha=\"right\" )\n",
    "\n",
    "ax.grid()"
   ]
  },
  {
   "cell_type": "code",
   "execution_count": null,
   "id": "a5c1df59",
   "metadata": {},
   "outputs": [],
   "source": []
  }
 ],
 "metadata": {
  "kernelspec": {
   "display_name": "Python 3 (ipykernel)",
   "language": "python",
   "name": "python3"
  },
  "language_info": {
   "codemirror_mode": {
    "name": "ipython",
    "version": 3
   },
   "file_extension": ".py",
   "mimetype": "text/x-python",
   "name": "python",
   "nbconvert_exporter": "python",
   "pygments_lexer": "ipython3",
   "version": "3.8.12"
  }
 },
 "nbformat": 4,
 "nbformat_minor": 5
}
