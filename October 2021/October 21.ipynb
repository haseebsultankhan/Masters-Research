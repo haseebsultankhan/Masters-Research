{
 "cells": [
  {
   "cell_type": "code",
   "execution_count": 1,
   "id": "da07946c",
   "metadata": {},
   "outputs": [],
   "source": [
    "#pip install feather-format"
   ]
  },
  {
   "cell_type": "code",
   "execution_count": 2,
   "id": "da49492c-2596-4e0c-8337-84b6be6d8078",
   "metadata": {},
   "outputs": [],
   "source": [
    "import pandas as pd\n",
    "import numpy as np\n",
    "import seaborn as sns\n",
    "#import sagemaker\n",
    "#import boto3\n",
    "import matplotlib.pyplot as plt \n",
    "pd.set_option('display.max_columns',None) # To display all columns\n",
    "pd.set_option('display.max_rows',None) # To display all columns\n",
    "#client = boto3.client('s3')\n",
    "import feather\n",
    "import matplotlib.pyplot as plt\n",
    "from matplotlib.ticker import FuncFormatter\n",
    "from functools import reduce"
   ]
  },
  {
   "cell_type": "code",
   "execution_count": 3,
   "id": "ecc21b37-a284-4852-a3be-2393ddbc66cc",
   "metadata": {},
   "outputs": [],
   "source": [
    "dfm=pd.read_feather('EDNET.ftr')"
   ]
  },
  {
   "cell_type": "code",
   "execution_count": 4,
   "id": "ce5dea1a-0f64-488b-8d2d-b26609c204ee",
   "metadata": {},
   "outputs": [],
   "source": [
    "#pip install -U scikit-learn"
   ]
  },
  {
   "cell_type": "code",
   "execution_count": 5,
   "id": "c2ab1683-fb41-4c6c-874e-264e93258d88",
   "metadata": {},
   "outputs": [],
   "source": [
    "# list to store to scores\n",
    "scores = []\n",
    "algo = []"
   ]
  },
  {
   "cell_type": "code",
   "execution_count": 6,
   "id": "e2cf702e-af91-4d1e-abeb-6936db0fc63b",
   "metadata": {},
   "outputs": [],
   "source": [
    "#Split data into testing and training datasets\n",
    "import numpy as np\n",
    "from sklearn.model_selection import train_test_split\n",
    "X = dfm[['user_iD', 'question_id', 'solving_id', 'bundle_id', 'part','elapsed_time']]\n",
    "y = dfm.correct\n",
    "\n",
    "X_train, X_test, y_train, y_test = train_test_split(\n",
    "    X, y, test_size=0.33, random_state=42)"
   ]
  },
  {
   "cell_type": "code",
   "execution_count": 7,
   "id": "c4ccb710-ccff-4acb-b27b-db75399f22ab",
   "metadata": {},
   "outputs": [
    {
     "name": "stdout",
     "output_type": "stream",
     "text": [
      "0.6532601078971104\n"
     ]
    }
   ],
   "source": [
    "from sklearn.linear_model import LogisticRegression\n",
    "lr = LogisticRegression()\n",
    "lr.fit(X_train, y_train)\n",
    "y_pred = lr.predict(X_test)\n",
    "#clf.predict_proba(X_train)\n",
    "print(lr.score(X_test, y_test))\n",
    "scores.append(lr.score(X_test, y_test))\n",
    "algo.append('LogisticRegression')"
   ]
  },
  {
   "cell_type": "code",
   "execution_count": 8,
   "id": "1b437567-3628-47b6-95d3-dbdeecba9e03",
   "metadata": {},
   "outputs": [
    {
     "name": "stdout",
     "output_type": "stream",
     "text": [
      "0.6532607756874457\n"
     ]
    }
   ],
   "source": [
    "#clf\n",
    "clf = LogisticRegression(random_state=42).fit(X, y)\n",
    "clf.predict(X_test)\n",
    "clf.predict_proba(X_test)\n",
    "clf.score(X_test, y_test)\n",
    "scores.append(clf.score(X_test, y_test))\n",
    "algo.append('clf')\n",
    "print(clf.score(X_test, y_test))"
   ]
  },
  {
   "cell_type": "code",
   "execution_count": 9,
   "id": "81b68dfd-ff51-43df-9502-4c0a9311ea54",
   "metadata": {},
   "outputs": [],
   "source": [
    "# Naive Bayes\n",
    "from sklearn.naive_bayes import GaussianNB\n",
    "nb = GaussianNB()\n",
    "nb.fit(X_train, y_train)\n",
    "y_pred = nb.predict(X_test)\n",
    "nb.score(X,y)\n",
    "scores.append(nb.score(X,y))\n",
    "algo.append('GaussianNB')"
   ]
  },
  {
   "cell_type": "code",
   "execution_count": 10,
   "id": "db34675b-0c46-4d15-8378-9d37ef136c5e",
   "metadata": {},
   "outputs": [],
   "source": [
    "# Stochastic gradient descent\n",
    "from sklearn.linear_model import SGDClassifier\n",
    "sgd = SGDClassifier(loss='modified_huber', shuffle=True, random_state=42)\n",
    "sgd.fit(X_train, y_train)\n",
    "y_pred = sgd.predict(X_test)\n",
    "sgd.score(X,y)\n",
    "scores.append(sgd.score(X,y))\n",
    "algo.append('SGDClassifier')"
   ]
  },
  {
   "cell_type": "code",
   "execution_count": null,
   "id": "5ca87be1-e030-4cb4-8450-ac926f8b96bf",
   "metadata": {},
   "outputs": [
    {
     "name": "stderr",
     "output_type": "stream",
     "text": [
      "C:\\JupyterLab\\resources\\jlab_server\\lib\\site-packages\\sklearn\\base.py:441: UserWarning: X does not have valid feature names, but KNeighborsClassifier was fitted with feature names\n",
      "  warnings.warn(\n"
     ]
    }
   ],
   "source": [
    "# KNeighborsClassifier\n",
    "from sklearn.neighbors import KNeighborsClassifier\n",
    "knn = KNeighborsClassifier(n_neighbors=2)\n",
    "knn.fit(X_train, y_train)\n",
    "y_pred = knn.predict(X_test)\n",
    "knn.score(X,y)\n",
    "scores.append(knn.score(X,y))\n",
    "algo.append('KNeighborsClassifier')"
   ]
  },
  {
   "cell_type": "code",
   "execution_count": null,
   "id": "1b264b7d-0b8d-467a-9b21-9acbc28ba770",
   "metadata": {},
   "outputs": [],
   "source": [
    "# RandomForestClassifier\n",
    "from sklearn.ensemble import RandomForestClassifier\n",
    "rfm = RandomForestClassifier(n_estimators=70, oob_score=True, n_jobs=1, \\\n",
    "                            random_state=42, max_features = None, min_samples_leaf = 30)\n",
    "rfm.fit(X_train, y_train)\n",
    "y_pred = rfm.predict(X_test)\n",
    "rfm.score(X,y)\n",
    "scores.append(rfm.score(X,y))\n",
    "algo.append('RandomForestClassifier')"
   ]
  },
  {
   "cell_type": "code",
   "execution_count": null,
   "id": "9faa29cb-aec9-4e1e-b422-0eb03013d052",
   "metadata": {},
   "outputs": [],
   "source": [
    "from sklearn.svm import SVC\n",
    "svm = SVC(kernel='linear', C=0.025, random_state=42)\n",
    "svm.fit(X_train, y_train)\n",
    "y_pred = svm.predict(X_test)\n",
    "svm.score(X,y)\n",
    "scores.append(svm.score(X,y))\n",
    "algo.append('SVC')"
   ]
  },
  {
   "cell_type": "code",
   "execution_count": null,
   "id": "275c575d-fec0-41a7-83d2-0a198e476a0f",
   "metadata": {},
   "outputs": [],
   "source": [
    "print(scores)\n",
    "print(algo)"
   ]
  },
  {
   "cell_type": "code",
   "execution_count": null,
   "id": "57b537e9-5e48-4950-bac4-bad958ab05fe",
   "metadata": {},
   "outputs": [],
   "source": [
    "'LogisticRegression', 'clf', 'GaussianNB', 'SGDClassifier', 'KNeighborsClassifier', 'RandomForestClassifier', 'SVC']\n",
    "In [34]:\n",
    "fig, ax = plt.subplots()\n",
    "plt.bar(algo, scores)\n",
    "plt.ylabel(\"Score\")\n",
    "plt.xlabel(\"Algorithm\")\n",
    "#plt.title('Algorithm Scores for User ' +str(z)+ ' | Max: '+str(round(max(scores),5)))\n",
    "plt.xticks(rotation=40, ha=\"right\" )\n",
    "\n",
    "ax.grid()"
   ]
  },
  {
   "cell_type": "code",
   "execution_count": null,
   "id": "9d7f886f",
   "metadata": {},
   "outputs": [],
   "source": []
  }
 ],
 "metadata": {
  "kernelspec": {
   "display_name": "Python 3 (ipykernel)",
   "language": "python",
   "name": "python3"
  },
  "language_info": {
   "codemirror_mode": {
    "name": "ipython",
    "version": 3
   },
   "file_extension": ".py",
   "mimetype": "text/x-python",
   "name": "python",
   "nbconvert_exporter": "python",
   "pygments_lexer": "ipython3",
   "version": "3.8.12"
  }
 },
 "nbformat": 4,
 "nbformat_minor": 5
}
