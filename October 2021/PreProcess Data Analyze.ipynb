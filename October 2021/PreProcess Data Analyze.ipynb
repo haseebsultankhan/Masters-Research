{
 "cells": [
  {
   "cell_type": "code",
   "execution_count": 1,
   "id": "1394ec81-c6b8-4234-83d5-d219ede03fca",
   "metadata": {},
   "outputs": [],
   "source": [
    "import pandas as pd\n",
    "import numpy as np\n",
    "import seaborn as sns\n",
    "#import sagemaker\n",
    "#import boto3\n",
    "import matplotlib.pyplot as plt \n",
    "pd.set_option('display.max_columns',None) # To display all columns\n",
    "pd.set_option('display.max_rows',None) # To display all columns\n",
    "#client = boto3.client('s3')\n",
    "import feather\n",
    "import matplotlib.pyplot as plt\n",
    "from matplotlib.ticker import FuncFormatter\n",
    "from functools import reduce"
   ]
  },
  {
   "cell_type": "code",
   "execution_count": 2,
   "id": "68982da9-5fc4-401b-aec2-0b8bedd96897",
   "metadata": {},
   "outputs": [],
   "source": [
    "df=pd.read_feather('C:/Users/PC1/Desktop/FINAL DATASET/Dataset.ftr')\n",
    "questions_df = pd.read_feather('C:/Users/PC1/Desktop/FINAL DATASET/dfq.ftr')"
   ]
  },
  {
   "cell_type": "code",
   "execution_count": 3,
   "id": "4029a340-a0b5-49b4-97b1-f46ad683323b",
   "metadata": {},
   "outputs": [],
   "source": [
    "dfm =pd.read_feather('C:/Users/PC1/Desktop/FINAL DATASET/EDNET.ftr')"
   ]
  },
  {
   "cell_type": "code",
   "execution_count": 4,
   "id": "e16d3ab7-8a79-4d14-8177-5935445ddf17",
   "metadata": {},
   "outputs": [
    {
     "data": {
      "text/html": [
       "<div>\n",
       "<style scoped>\n",
       "    .dataframe tbody tr th:only-of-type {\n",
       "        vertical-align: middle;\n",
       "    }\n",
       "\n",
       "    .dataframe tbody tr th {\n",
       "        vertical-align: top;\n",
       "    }\n",
       "\n",
       "    .dataframe thead th {\n",
       "        text-align: right;\n",
       "    }\n",
       "</style>\n",
       "<table border=\"1\" class=\"dataframe\">\n",
       "  <thead>\n",
       "    <tr style=\"text-align: right;\">\n",
       "      <th></th>\n",
       "      <th>timestamp</th>\n",
       "      <th>solving_id</th>\n",
       "      <th>question_id</th>\n",
       "      <th>user_answer</th>\n",
       "      <th>elapsed_time</th>\n",
       "      <th>user_iD</th>\n",
       "    </tr>\n",
       "  </thead>\n",
       "  <tbody>\n",
       "    <tr>\n",
       "      <th>0</th>\n",
       "      <td>1565096190868</td>\n",
       "      <td>1</td>\n",
       "      <td>5012</td>\n",
       "      <td>b</td>\n",
       "      <td>38000</td>\n",
       "      <td>1</td>\n",
       "    </tr>\n",
       "    <tr>\n",
       "      <th>1</th>\n",
       "      <td>1565096221062</td>\n",
       "      <td>2</td>\n",
       "      <td>4706</td>\n",
       "      <td>c</td>\n",
       "      <td>24000</td>\n",
       "      <td>1</td>\n",
       "    </tr>\n",
       "    <tr>\n",
       "      <th>2</th>\n",
       "      <td>1565096293432</td>\n",
       "      <td>3</td>\n",
       "      <td>4366</td>\n",
       "      <td>b</td>\n",
       "      <td>68000</td>\n",
       "      <td>1</td>\n",
       "    </tr>\n",
       "    <tr>\n",
       "      <th>3</th>\n",
       "      <td>1565096339668</td>\n",
       "      <td>4</td>\n",
       "      <td>4829</td>\n",
       "      <td>a</td>\n",
       "      <td>42000</td>\n",
       "      <td>1</td>\n",
       "    </tr>\n",
       "    <tr>\n",
       "      <th>4</th>\n",
       "      <td>1565096401774</td>\n",
       "      <td>5</td>\n",
       "      <td>6528</td>\n",
       "      <td>b</td>\n",
       "      <td>59000</td>\n",
       "      <td>1</td>\n",
       "    </tr>\n",
       "  </tbody>\n",
       "</table>\n",
       "</div>"
      ],
      "text/plain": [
       "       timestamp  solving_id  question_id user_answer  elapsed_time  user_iD\n",
       "0  1565096190868           1         5012           b         38000        1\n",
       "1  1565096221062           2         4706           c         24000        1\n",
       "2  1565096293432           3         4366           b         68000        1\n",
       "3  1565096339668           4         4829           a         42000        1\n",
       "4  1565096401774           5         6528           b         59000        1"
      ]
     },
     "execution_count": 4,
     "metadata": {},
     "output_type": "execute_result"
    }
   ],
   "source": [
    "df.head()"
   ]
  },
  {
   "cell_type": "code",
   "execution_count": 5,
   "id": "cb978876-7558-4b36-8c23-6545779ba756",
   "metadata": {},
   "outputs": [
    {
     "data": {
      "text/plain": [
       "timestamp        int64\n",
       "solving_id       int64\n",
       "question_id      int32\n",
       "user_answer     object\n",
       "elapsed_time     int64\n",
       "user_iD          int32\n",
       "dtype: object"
      ]
     },
     "execution_count": 5,
     "metadata": {},
     "output_type": "execute_result"
    }
   ],
   "source": [
    "df.dtypes"
   ]
  },
  {
   "cell_type": "code",
   "execution_count": 6,
   "id": "48cd5a82-773a-49a4-9086-6330f5119cac",
   "metadata": {},
   "outputs": [
    {
     "data": {
      "text/html": [
       "<div>\n",
       "<style scoped>\n",
       "    .dataframe tbody tr th:only-of-type {\n",
       "        vertical-align: middle;\n",
       "    }\n",
       "\n",
       "    .dataframe tbody tr th {\n",
       "        vertical-align: top;\n",
       "    }\n",
       "\n",
       "    .dataframe thead th {\n",
       "        text-align: right;\n",
       "    }\n",
       "</style>\n",
       "<table border=\"1\" class=\"dataframe\">\n",
       "  <thead>\n",
       "    <tr style=\"text-align: right;\">\n",
       "      <th></th>\n",
       "      <th>question_id</th>\n",
       "      <th>correct_answer</th>\n",
       "      <th>bundle_id</th>\n",
       "      <th>explanation_id</th>\n",
       "      <th>part</th>\n",
       "      <th>tags</th>\n",
       "      <th>deployed_at</th>\n",
       "    </tr>\n",
       "  </thead>\n",
       "  <tbody>\n",
       "    <tr>\n",
       "      <th>0</th>\n",
       "      <td>1</td>\n",
       "      <td>b</td>\n",
       "      <td>1</td>\n",
       "      <td>1</td>\n",
       "      <td>1</td>\n",
       "      <td>1;2;179;181</td>\n",
       "      <td>2019-05-17 11:40:17.098</td>\n",
       "    </tr>\n",
       "    <tr>\n",
       "      <th>1</th>\n",
       "      <td>2</td>\n",
       "      <td>a</td>\n",
       "      <td>2</td>\n",
       "      <td>2</td>\n",
       "      <td>1</td>\n",
       "      <td>15;2;182</td>\n",
       "      <td>2019-05-17 11:40:19.720</td>\n",
       "    </tr>\n",
       "    <tr>\n",
       "      <th>2</th>\n",
       "      <td>3</td>\n",
       "      <td>b</td>\n",
       "      <td>3</td>\n",
       "      <td>3</td>\n",
       "      <td>1</td>\n",
       "      <td>14;2;179;183</td>\n",
       "      <td>2019-05-17 11:40:22.784</td>\n",
       "    </tr>\n",
       "    <tr>\n",
       "      <th>3</th>\n",
       "      <td>4</td>\n",
       "      <td>b</td>\n",
       "      <td>4</td>\n",
       "      <td>4</td>\n",
       "      <td>1</td>\n",
       "      <td>9;2;179;184</td>\n",
       "      <td>2019-05-17 11:40:25.357</td>\n",
       "    </tr>\n",
       "    <tr>\n",
       "      <th>4</th>\n",
       "      <td>5</td>\n",
       "      <td>c</td>\n",
       "      <td>5</td>\n",
       "      <td>5</td>\n",
       "      <td>1</td>\n",
       "      <td>8;2;179;181</td>\n",
       "      <td>2019-05-17 11:40:28.439</td>\n",
       "    </tr>\n",
       "  </tbody>\n",
       "</table>\n",
       "</div>"
      ],
      "text/plain": [
       "   question_id correct_answer  bundle_id  explanation_id  part          tags  \\\n",
       "0            1              b          1               1     1   1;2;179;181   \n",
       "1            2              a          2               2     1      15;2;182   \n",
       "2            3              b          3               3     1  14;2;179;183   \n",
       "3            4              b          4               4     1   9;2;179;184   \n",
       "4            5              c          5               5     1   8;2;179;181   \n",
       "\n",
       "              deployed_at  \n",
       "0 2019-05-17 11:40:17.098  \n",
       "1 2019-05-17 11:40:19.720  \n",
       "2 2019-05-17 11:40:22.784  \n",
       "3 2019-05-17 11:40:25.357  \n",
       "4 2019-05-17 11:40:28.439  "
      ]
     },
     "execution_count": 6,
     "metadata": {},
     "output_type": "execute_result"
    }
   ],
   "source": [
    "questions_df.head()"
   ]
  },
  {
   "cell_type": "code",
   "execution_count": 7,
   "id": "23875246-33e2-4e9b-8edf-4b19f32b476e",
   "metadata": {},
   "outputs": [
    {
     "data": {
      "text/plain": [
       "question_id                int32\n",
       "correct_answer            object\n",
       "bundle_id                  int32\n",
       "explanation_id             int32\n",
       "part                       int32\n",
       "tags                      object\n",
       "deployed_at       datetime64[ns]\n",
       "dtype: object"
      ]
     },
     "execution_count": 7,
     "metadata": {},
     "output_type": "execute_result"
    }
   ],
   "source": [
    "questions_df.dtypes"
   ]
  },
  {
   "cell_type": "code",
   "execution_count": 8,
   "id": "802a38ef-00ec-4ef2-942b-81116cb4c2e0",
   "metadata": {},
   "outputs": [
    {
     "data": {
      "text/html": [
       "<div>\n",
       "<style scoped>\n",
       "    .dataframe tbody tr th:only-of-type {\n",
       "        vertical-align: middle;\n",
       "    }\n",
       "\n",
       "    .dataframe tbody tr th {\n",
       "        vertical-align: top;\n",
       "    }\n",
       "\n",
       "    .dataframe thead th {\n",
       "        text-align: right;\n",
       "    }\n",
       "</style>\n",
       "<table border=\"1\" class=\"dataframe\">\n",
       "  <thead>\n",
       "    <tr style=\"text-align: right;\">\n",
       "      <th></th>\n",
       "      <th>timestamp</th>\n",
       "      <th>solving_id</th>\n",
       "      <th>question_id</th>\n",
       "      <th>user_answer</th>\n",
       "      <th>elapsed_time</th>\n",
       "      <th>user_iD</th>\n",
       "      <th>correct_answer</th>\n",
       "      <th>bundle_id</th>\n",
       "      <th>explanation_id</th>\n",
       "      <th>part</th>\n",
       "      <th>tags</th>\n",
       "      <th>deployed_at</th>\n",
       "      <th>correct</th>\n",
       "    </tr>\n",
       "  </thead>\n",
       "  <tbody>\n",
       "    <tr>\n",
       "      <th>0</th>\n",
       "      <td>1565096190868</td>\n",
       "      <td>1</td>\n",
       "      <td>5012</td>\n",
       "      <td>b</td>\n",
       "      <td>38000</td>\n",
       "      <td>1</td>\n",
       "      <td>c</td>\n",
       "      <td>3544</td>\n",
       "      <td>3544</td>\n",
       "      <td>5</td>\n",
       "      <td>74</td>\n",
       "      <td>2019-09-17 02:43:28.616</td>\n",
       "      <td>0.0</td>\n",
       "    </tr>\n",
       "    <tr>\n",
       "      <th>1</th>\n",
       "      <td>1565096221062</td>\n",
       "      <td>2</td>\n",
       "      <td>4706</td>\n",
       "      <td>c</td>\n",
       "      <td>24000</td>\n",
       "      <td>1</td>\n",
       "      <td>c</td>\n",
       "      <td>3238</td>\n",
       "      <td>3238</td>\n",
       "      <td>5</td>\n",
       "      <td>71</td>\n",
       "      <td>2019-10-30 05:34:30.723</td>\n",
       "      <td>1.0</td>\n",
       "    </tr>\n",
       "    <tr>\n",
       "      <th>2</th>\n",
       "      <td>1565096293432</td>\n",
       "      <td>3</td>\n",
       "      <td>4366</td>\n",
       "      <td>b</td>\n",
       "      <td>68000</td>\n",
       "      <td>1</td>\n",
       "      <td>b</td>\n",
       "      <td>2898</td>\n",
       "      <td>2898</td>\n",
       "      <td>5</td>\n",
       "      <td>103</td>\n",
       "      <td>2019-10-30 05:37:51.451</td>\n",
       "      <td>1.0</td>\n",
       "    </tr>\n",
       "    <tr>\n",
       "      <th>3</th>\n",
       "      <td>1565096339668</td>\n",
       "      <td>4</td>\n",
       "      <td>4829</td>\n",
       "      <td>a</td>\n",
       "      <td>42000</td>\n",
       "      <td>1</td>\n",
       "      <td>c</td>\n",
       "      <td>3361</td>\n",
       "      <td>3361</td>\n",
       "      <td>5</td>\n",
       "      <td>83</td>\n",
       "      <td>2019-06-24 09:24:51.347</td>\n",
       "      <td>0.0</td>\n",
       "    </tr>\n",
       "    <tr>\n",
       "      <th>4</th>\n",
       "      <td>1565096401774</td>\n",
       "      <td>5</td>\n",
       "      <td>6528</td>\n",
       "      <td>b</td>\n",
       "      <td>59000</td>\n",
       "      <td>1</td>\n",
       "      <td>d</td>\n",
       "      <td>5060</td>\n",
       "      <td>5060</td>\n",
       "      <td>5</td>\n",
       "      <td>90</td>\n",
       "      <td>2019-10-17 03:03:15.009</td>\n",
       "      <td>0.0</td>\n",
       "    </tr>\n",
       "  </tbody>\n",
       "</table>\n",
       "</div>"
      ],
      "text/plain": [
       "       timestamp  solving_id  question_id user_answer  elapsed_time  user_iD  \\\n",
       "0  1565096190868           1         5012           b         38000        1   \n",
       "1  1565096221062           2         4706           c         24000        1   \n",
       "2  1565096293432           3         4366           b         68000        1   \n",
       "3  1565096339668           4         4829           a         42000        1   \n",
       "4  1565096401774           5         6528           b         59000        1   \n",
       "\n",
       "  correct_answer  bundle_id  explanation_id  part tags  \\\n",
       "0              c       3544            3544     5   74   \n",
       "1              c       3238            3238     5   71   \n",
       "2              b       2898            2898     5  103   \n",
       "3              c       3361            3361     5   83   \n",
       "4              d       5060            5060     5   90   \n",
       "\n",
       "              deployed_at  correct  \n",
       "0 2019-09-17 02:43:28.616      0.0  \n",
       "1 2019-10-30 05:34:30.723      1.0  \n",
       "2 2019-10-30 05:37:51.451      1.0  \n",
       "3 2019-06-24 09:24:51.347      0.0  \n",
       "4 2019-10-17 03:03:15.009      0.0  "
      ]
     },
     "execution_count": 8,
     "metadata": {},
     "output_type": "execute_result"
    }
   ],
   "source": [
    "dfm.head()"
   ]
  },
  {
   "cell_type": "code",
   "execution_count": 9,
   "id": "db4a6323-4719-42cd-98f8-1197ebb114db",
   "metadata": {},
   "outputs": [
    {
     "data": {
      "text/plain": [
       "timestamp                  int64\n",
       "solving_id                 int64\n",
       "question_id                int32\n",
       "user_answer               object\n",
       "elapsed_time               int64\n",
       "user_iD                    int32\n",
       "correct_answer            object\n",
       "bundle_id                  int32\n",
       "explanation_id             int32\n",
       "part                       int32\n",
       "tags                      object\n",
       "deployed_at       datetime64[ns]\n",
       "correct                  float64\n",
       "dtype: object"
      ]
     },
     "execution_count": 9,
     "metadata": {},
     "output_type": "execute_result"
    }
   ],
   "source": [
    "dfm.dtypes"
   ]
  },
  {
   "cell_type": "code",
   "execution_count": 10,
   "id": "eb938b0c-518e-4e4f-86b4-d9d9cecce04a",
   "metadata": {},
   "outputs": [],
   "source": [
    "Perform =pd.read_feather('C:/Users/PC1/Desktop/FINAL DATASET/All_users_perform.ftr')"
   ]
  },
  {
   "cell_type": "code",
   "execution_count": 22,
   "id": "60dc6d86",
   "metadata": {},
   "outputs": [
    {
     "data": {
      "text/html": [
       "<div>\n",
       "<style scoped>\n",
       "    .dataframe tbody tr th:only-of-type {\n",
       "        vertical-align: middle;\n",
       "    }\n",
       "\n",
       "    .dataframe tbody tr th {\n",
       "        vertical-align: top;\n",
       "    }\n",
       "\n",
       "    .dataframe thead th {\n",
       "        text-align: right;\n",
       "    }\n",
       "</style>\n",
       "<table border=\"1\" class=\"dataframe\">\n",
       "  <thead>\n",
       "    <tr style=\"text-align: right;\">\n",
       "      <th></th>\n",
       "      <th>user_iD</th>\n",
       "      <th>Total Questions Attempted</th>\n",
       "      <th>Corrected</th>\n",
       "      <th>Incorrected</th>\n",
       "      <th>Percentage</th>\n",
       "      <th>elapsed_time</th>\n",
       "    </tr>\n",
       "  </thead>\n",
       "  <tbody>\n",
       "    <tr>\n",
       "      <th>0</th>\n",
       "      <td>1</td>\n",
       "      <td>1082</td>\n",
       "      <td>753</td>\n",
       "      <td>329</td>\n",
       "      <td>69.593346</td>\n",
       "      <td>36.75</td>\n",
       "    </tr>\n",
       "    <tr>\n",
       "      <th>1</th>\n",
       "      <td>10</td>\n",
       "      <td>16</td>\n",
       "      <td>9</td>\n",
       "      <td>7</td>\n",
       "      <td>56.250000</td>\n",
       "      <td>27.75</td>\n",
       "    </tr>\n",
       "    <tr>\n",
       "      <th>2</th>\n",
       "      <td>100</td>\n",
       "      <td>33</td>\n",
       "      <td>18</td>\n",
       "      <td>15</td>\n",
       "      <td>54.545455</td>\n",
       "      <td>34.50</td>\n",
       "    </tr>\n",
       "    <tr>\n",
       "      <th>3</th>\n",
       "      <td>1000</td>\n",
       "      <td>1488</td>\n",
       "      <td>930</td>\n",
       "      <td>558</td>\n",
       "      <td>62.500000</td>\n",
       "      <td>34.00</td>\n",
       "    </tr>\n",
       "    <tr>\n",
       "      <th>4</th>\n",
       "      <td>10000</td>\n",
       "      <td>405</td>\n",
       "      <td>258</td>\n",
       "      <td>147</td>\n",
       "      <td>63.703704</td>\n",
       "      <td>25.00</td>\n",
       "    </tr>\n",
       "  </tbody>\n",
       "</table>\n",
       "</div>"
      ],
      "text/plain": [
       "   user_iD  Total Questions Attempted  Corrected  Incorrected  Percentage  \\\n",
       "0        1                       1082        753          329   69.593346   \n",
       "1       10                         16          9            7   56.250000   \n",
       "2      100                         33         18           15   54.545455   \n",
       "3     1000                       1488        930          558   62.500000   \n",
       "4    10000                        405        258          147   63.703704   \n",
       "\n",
       "   elapsed_time  \n",
       "0         36.75  \n",
       "1         27.75  \n",
       "2         34.50  \n",
       "3         34.00  \n",
       "4         25.00  "
      ]
     },
     "execution_count": 22,
     "metadata": {},
     "output_type": "execute_result"
    }
   ],
   "source": [
    "Perform.head()"
   ]
  },
  {
   "cell_type": "code",
   "execution_count": 40,
   "id": "9f99524f",
   "metadata": {},
   "outputs": [
    {
     "data": {
      "text/plain": [
       "<AxesSubplot:>"
      ]
     },
     "execution_count": 40,
     "metadata": {},
     "output_type": "execute_result"
    },
    {
     "data": {
      "image/png": "[encoded data removed]",
      "text/plain": [
       "<Figure size 432x288 with 2 Axes>"
      ]
     },
     "metadata": {
      "needs_background": "light"
     },
     "output_type": "display_data"
    }
   ],
   "source": [
    "corr = Perform.corr()\n",
    "#cmap = sns.diverging_palette(250, 10, as_cmap=True)\n",
    "sns.heatmap(corr, \n",
    "        xticklabels=corr.columns,\n",
    "        yticklabels=corr.columns,cmap=plt.get_cmap(\"coolwarm\"))"
   ]
  },
  {
   "cell_type": "code",
   "execution_count": 34,
   "id": "be5731bd",
   "metadata": {},
   "outputs": [
    {
     "data": {
      "text/html": [
       "<div>\n",
       "<style scoped>\n",
       "    .dataframe tbody tr th:only-of-type {\n",
       "        vertical-align: middle;\n",
       "    }\n",
       "\n",
       "    .dataframe tbody tr th {\n",
       "        vertical-align: top;\n",
       "    }\n",
       "\n",
       "    .dataframe thead th {\n",
       "        text-align: right;\n",
       "    }\n",
       "</style>\n",
       "<table border=\"1\" class=\"dataframe\">\n",
       "  <thead>\n",
       "    <tr style=\"text-align: right;\">\n",
       "      <th></th>\n",
       "      <th>user_iD</th>\n",
       "      <th>Total Questions Attempted</th>\n",
       "      <th>Corrected</th>\n",
       "      <th>Incorrected</th>\n",
       "      <th>Percentage</th>\n",
       "      <th>elapsed_time</th>\n",
       "    </tr>\n",
       "  </thead>\n",
       "  <tbody>\n",
       "    <tr>\n",
       "      <th>user_iD</th>\n",
       "      <td>1.000000</td>\n",
       "      <td>-0.152238</td>\n",
       "      <td>-0.146032</td>\n",
       "      <td>-0.155422</td>\n",
       "      <td>-0.036550</td>\n",
       "      <td>0.073789</td>\n",
       "    </tr>\n",
       "    <tr>\n",
       "      <th>Total Questions Attempted</th>\n",
       "      <td>-0.152238</td>\n",
       "      <td>1.000000</td>\n",
       "      <td>0.990473</td>\n",
       "      <td>0.950281</td>\n",
       "      <td>0.196830</td>\n",
       "      <td>-0.009837</td>\n",
       "    </tr>\n",
       "    <tr>\n",
       "      <th>Corrected</th>\n",
       "      <td>-0.146032</td>\n",
       "      <td>0.990473</td>\n",
       "      <td>1.000000</td>\n",
       "      <td>0.898347</td>\n",
       "      <td>0.208262</td>\n",
       "      <td>-0.008592</td>\n",
       "    </tr>\n",
       "    <tr>\n",
       "      <th>Incorrected</th>\n",
       "      <td>-0.155422</td>\n",
       "      <td>0.950281</td>\n",
       "      <td>0.898347</td>\n",
       "      <td>1.000000</td>\n",
       "      <td>0.156950</td>\n",
       "      <td>-0.011951</td>\n",
       "    </tr>\n",
       "    <tr>\n",
       "      <th>Percentage</th>\n",
       "      <td>-0.036550</td>\n",
       "      <td>0.196830</td>\n",
       "      <td>0.208262</td>\n",
       "      <td>0.156950</td>\n",
       "      <td>1.000000</td>\n",
       "      <td>-0.002016</td>\n",
       "    </tr>\n",
       "    <tr>\n",
       "      <th>elapsed_time</th>\n",
       "      <td>0.073789</td>\n",
       "      <td>-0.009837</td>\n",
       "      <td>-0.008592</td>\n",
       "      <td>-0.011951</td>\n",
       "      <td>-0.002016</td>\n",
       "      <td>1.000000</td>\n",
       "    </tr>\n",
       "  </tbody>\n",
       "</table>\n",
       "</div>"
      ],
      "text/plain": [
       "                            user_iD  Total Questions Attempted  Corrected  \\\n",
       "user_iD                    1.000000                  -0.152238  -0.146032   \n",
       "Total Questions Attempted -0.152238                   1.000000   0.990473   \n",
       "Corrected                 -0.146032                   0.990473   1.000000   \n",
       "Incorrected               -0.155422                   0.950281   0.898347   \n",
       "Percentage                -0.036550                   0.196830   0.208262   \n",
       "elapsed_time               0.073789                  -0.009837  -0.008592   \n",
       "\n",
       "                           Incorrected  Percentage  elapsed_time  \n",
       "user_iD                      -0.155422   -0.036550      0.073789  \n",
       "Total Questions Attempted     0.950281    0.196830     -0.009837  \n",
       "Corrected                     0.898347    0.208262     -0.008592  \n",
       "Incorrected                   1.000000    0.156950     -0.011951  \n",
       "Percentage                    0.156950    1.000000     -0.002016  \n",
       "elapsed_time                 -0.011951   -0.002016      1.000000  "
      ]
     },
     "execution_count": 34,
     "metadata": {},
     "output_type": "execute_result"
    }
   ],
   "source": [
    "corr"
   ]
  },
  {
   "cell_type": "code",
   "execution_count": 11,
   "id": "fbda2291-04d6-4bbf-8059-60757e9df1cd",
   "metadata": {},
   "outputs": [
    {
     "data": {
      "text/plain": [
       "count    724139.000000\n",
       "mean         85.893642\n",
       "std         399.790470\n",
       "min           1.000000\n",
       "25%           3.000000\n",
       "50%           7.000000\n",
       "75%          23.000000\n",
       "max       34233.000000\n",
       "Name: Corrected, dtype: float64"
      ]
     },
     "execution_count": 11,
     "metadata": {},
     "output_type": "execute_result"
    }
   ],
   "source": [
    "Perform['Corrected'].describe()"
   ]
  },
  {
   "cell_type": "code",
   "execution_count": 12,
   "id": "6e80f497-8b62-40d7-8319-a01bde55eee9",
   "metadata": {},
   "outputs": [],
   "source": [
    "df_95 = Perform.loc[Perform['Percentage'] >=95] \n",
    "#df_95.plot(x=\"user_iD\",y=['Percentage'], kind=\"bar\" , figsize=(15,10) , rot=0).grid()"
   ]
  },
  {
   "cell_type": "code",
   "execution_count": 13,
   "id": "4c67910b-3dbd-4d8f-9ec5-dcde905b992d",
   "metadata": {},
   "outputs": [
    {
     "data": {
      "text/plain": [
       "189"
      ]
     },
     "execution_count": 13,
     "metadata": {},
     "output_type": "execute_result"
    }
   ],
   "source": [
    "df_95['user_iD'].nunique()"
   ]
  },
  {
   "cell_type": "code",
   "execution_count": 14,
   "id": "1110e1d7-070b-4fdc-ab5d-0d0bf1547f77",
   "metadata": {},
   "outputs": [],
   "source": [
    "df_90 = Perform.loc[Perform['Percentage'] >=90] \n",
    "#df_90.plot(x=\"user_iD\",y=['Percentage'], kind=\"bar\" , figsize=(15,10) , rot=0).grid()"
   ]
  },
  {
   "cell_type": "code",
   "execution_count": 15,
   "id": "7ec72cf1-419a-4f58-b935-530ff07cc21e",
   "metadata": {},
   "outputs": [
    {
     "data": {
      "text/plain": [
       "2296"
      ]
     },
     "execution_count": 15,
     "metadata": {},
     "output_type": "execute_result"
    }
   ],
   "source": [
    "df_90['user_iD'].nunique()"
   ]
  },
  {
   "cell_type": "code",
   "execution_count": 16,
   "id": "ff977459-54d2-4d11-a7c7-6cf6356c2def",
   "metadata": {},
   "outputs": [],
   "source": [
    "Top_User = Perform.loc[Perform['Corrected'] == 34233 ]"
   ]
  },
  {
   "cell_type": "code",
   "execution_count": 17,
   "id": "c576b16f-ca28-484a-8dfc-ee0faaead07e",
   "metadata": {},
   "outputs": [
    {
     "data": {
      "text/html": [
       "<div>\n",
       "<style scoped>\n",
       "    .dataframe tbody tr th:only-of-type {\n",
       "        vertical-align: middle;\n",
       "    }\n",
       "\n",
       "    .dataframe tbody tr th {\n",
       "        vertical-align: top;\n",
       "    }\n",
       "\n",
       "    .dataframe thead th {\n",
       "        text-align: right;\n",
       "    }\n",
       "</style>\n",
       "<table border=\"1\" class=\"dataframe\">\n",
       "  <thead>\n",
       "    <tr style=\"text-align: right;\">\n",
       "      <th></th>\n",
       "      <th>user_iD</th>\n",
       "      <th>Total Questions Attempted</th>\n",
       "      <th>Corrected</th>\n",
       "      <th>Incorrected</th>\n",
       "      <th>Percentage</th>\n",
       "      <th>elapsed_time</th>\n",
       "    </tr>\n",
       "  </thead>\n",
       "  <tbody>\n",
       "    <tr>\n",
       "      <th>53802</th>\n",
       "      <td>15225</td>\n",
       "      <td>36725</td>\n",
       "      <td>34233</td>\n",
       "      <td>2492</td>\n",
       "      <td>93.214432</td>\n",
       "      <td>9.0</td>\n",
       "    </tr>\n",
       "  </tbody>\n",
       "</table>\n",
       "</div>"
      ],
      "text/plain": [
       "       user_iD  Total Questions Attempted  Corrected  Incorrected  Percentage  \\\n",
       "53802    15225                      36725      34233         2492   93.214432   \n",
       "\n",
       "       elapsed_time  \n",
       "53802           9.0  "
      ]
     },
     "execution_count": 17,
     "metadata": {},
     "output_type": "execute_result"
    }
   ],
   "source": [
    "Top_User"
   ]
  },
  {
   "cell_type": "code",
   "execution_count": 18,
   "id": "4fd416ac-e605-41e8-991d-96685cddc397",
   "metadata": {},
   "outputs": [],
   "source": [
    "Low_User = Perform.loc[Perform['Corrected'] == 1]"
   ]
  },
  {
   "cell_type": "code",
   "execution_count": 19,
   "id": "6df84d0c-2d9d-4a47-9f14-cc56882b1c49",
   "metadata": {},
   "outputs": [
    {
     "data": {
      "text/plain": [
       "58885"
      ]
     },
     "execution_count": 19,
     "metadata": {},
     "output_type": "execute_result"
    }
   ],
   "source": [
    "Low_User['user_iD'].nunique()"
   ]
  },
  {
   "cell_type": "code",
   "execution_count": 21,
   "id": "1fed699c",
   "metadata": {},
   "outputs": [
    {
     "data": {
      "text/html": [
       "<div>\n",
       "<style scoped>\n",
       "    .dataframe tbody tr th:only-of-type {\n",
       "        vertical-align: middle;\n",
       "    }\n",
       "\n",
       "    .dataframe tbody tr th {\n",
       "        vertical-align: top;\n",
       "    }\n",
       "\n",
       "    .dataframe thead th {\n",
       "        text-align: right;\n",
       "    }\n",
       "</style>\n",
       "<table border=\"1\" class=\"dataframe\">\n",
       "  <thead>\n",
       "    <tr style=\"text-align: right;\">\n",
       "      <th></th>\n",
       "      <th>user_iD</th>\n",
       "      <th>Total Questions Attempted</th>\n",
       "      <th>Corrected</th>\n",
       "      <th>Incorrected</th>\n",
       "      <th>Percentage</th>\n",
       "      <th>elapsed_time</th>\n",
       "    </tr>\n",
       "  </thead>\n",
       "  <tbody>\n",
       "    <tr>\n",
       "      <th>30</th>\n",
       "      <td>100024</td>\n",
       "      <td>4</td>\n",
       "      <td>1</td>\n",
       "      <td>3</td>\n",
       "      <td>25.000000</td>\n",
       "      <td>19.5</td>\n",
       "    </tr>\n",
       "    <tr>\n",
       "      <th>37</th>\n",
       "      <td>100030</td>\n",
       "      <td>4</td>\n",
       "      <td>1</td>\n",
       "      <td>3</td>\n",
       "      <td>25.000000</td>\n",
       "      <td>22.0</td>\n",
       "    </tr>\n",
       "    <tr>\n",
       "      <th>43</th>\n",
       "      <td>100036</td>\n",
       "      <td>4</td>\n",
       "      <td>1</td>\n",
       "      <td>3</td>\n",
       "      <td>25.000000</td>\n",
       "      <td>19.5</td>\n",
       "    </tr>\n",
       "    <tr>\n",
       "      <th>65</th>\n",
       "      <td>100059</td>\n",
       "      <td>7</td>\n",
       "      <td>1</td>\n",
       "      <td>6</td>\n",
       "      <td>14.285714</td>\n",
       "      <td>24.0</td>\n",
       "    </tr>\n",
       "    <tr>\n",
       "      <th>74</th>\n",
       "      <td>100068</td>\n",
       "      <td>4</td>\n",
       "      <td>1</td>\n",
       "      <td>3</td>\n",
       "      <td>25.000000</td>\n",
       "      <td>22.5</td>\n",
       "    </tr>\n",
       "  </tbody>\n",
       "</table>\n",
       "</div>"
      ],
      "text/plain": [
       "    user_iD  Total Questions Attempted  Corrected  Incorrected  Percentage  \\\n",
       "30   100024                          4          1            3   25.000000   \n",
       "37   100030                          4          1            3   25.000000   \n",
       "43   100036                          4          1            3   25.000000   \n",
       "65   100059                          7          1            6   14.285714   \n",
       "74   100068                          4          1            3   25.000000   \n",
       "\n",
       "    elapsed_time  \n",
       "30          19.5  \n",
       "37          22.0  \n",
       "43          19.5  \n",
       "65          24.0  \n",
       "74          22.5  "
      ]
     },
     "execution_count": 21,
     "metadata": {},
     "output_type": "execute_result"
    }
   ],
   "source": [
    "Low_User.head()"
   ]
  },
  {
   "cell_type": "code",
   "execution_count": 43,
   "id": "e064bcab",
   "metadata": {},
   "outputs": [],
   "source": [
    "Low_User = Perform.loc[Perform['Total Questions Attempted'] == 5]"
   ]
  },
  {
   "cell_type": "code",
   "execution_count": 45,
   "id": "79810785",
   "metadata": {},
   "outputs": [
    {
     "data": {
      "text/html": [
       "<div>\n",
       "<style scoped>\n",
       "    .dataframe tbody tr th:only-of-type {\n",
       "        vertical-align: middle;\n",
       "    }\n",
       "\n",
       "    .dataframe tbody tr th {\n",
       "        vertical-align: top;\n",
       "    }\n",
       "\n",
       "    .dataframe thead th {\n",
       "        text-align: right;\n",
       "    }\n",
       "</style>\n",
       "<table border=\"1\" class=\"dataframe\">\n",
       "  <thead>\n",
       "    <tr style=\"text-align: right;\">\n",
       "      <th></th>\n",
       "      <th>user_iD</th>\n",
       "      <th>Total Questions Attempted</th>\n",
       "      <th>Corrected</th>\n",
       "      <th>Incorrected</th>\n",
       "      <th>Percentage</th>\n",
       "      <th>elapsed_time</th>\n",
       "    </tr>\n",
       "  </thead>\n",
       "  <tbody>\n",
       "    <tr>\n",
       "      <th>392</th>\n",
       "      <td>10037</td>\n",
       "      <td>5</td>\n",
       "      <td>3</td>\n",
       "      <td>2</td>\n",
       "      <td>60.0</td>\n",
       "      <td>24.0</td>\n",
       "    </tr>\n",
       "    <tr>\n",
       "      <th>486</th>\n",
       "      <td>10046</td>\n",
       "      <td>5</td>\n",
       "      <td>4</td>\n",
       "      <td>1</td>\n",
       "      <td>80.0</td>\n",
       "      <td>38.0</td>\n",
       "    </tr>\n",
       "    <tr>\n",
       "      <th>1473</th>\n",
       "      <td>10141</td>\n",
       "      <td>5</td>\n",
       "      <td>1</td>\n",
       "      <td>4</td>\n",
       "      <td>20.0</td>\n",
       "      <td>28.0</td>\n",
       "    </tr>\n",
       "    <tr>\n",
       "      <th>2210</th>\n",
       "      <td>10211</td>\n",
       "      <td>5</td>\n",
       "      <td>2</td>\n",
       "      <td>3</td>\n",
       "      <td>40.0</td>\n",
       "      <td>21.0</td>\n",
       "    </tr>\n",
       "    <tr>\n",
       "      <th>2242</th>\n",
       "      <td>10214</td>\n",
       "      <td>5</td>\n",
       "      <td>1</td>\n",
       "      <td>4</td>\n",
       "      <td>20.0</td>\n",
       "      <td>14.0</td>\n",
       "    </tr>\n",
       "  </tbody>\n",
       "</table>\n",
       "</div>"
      ],
      "text/plain": [
       "      user_iD  Total Questions Attempted  Corrected  Incorrected  Percentage  \\\n",
       "392     10037                          5          3            2        60.0   \n",
       "486     10046                          5          4            1        80.0   \n",
       "1473    10141                          5          1            4        20.0   \n",
       "2210    10211                          5          2            3        40.0   \n",
       "2242    10214                          5          1            4        20.0   \n",
       "\n",
       "      elapsed_time  \n",
       "392           24.0  \n",
       "486           38.0  \n",
       "1473          28.0  \n",
       "2210          21.0  \n",
       "2242          14.0  "
      ]
     },
     "execution_count": 45,
     "metadata": {},
     "output_type": "execute_result"
    }
   ],
   "source": [
    "Low_User.head()"
   ]
  },
  {
   "cell_type": "code",
   "execution_count": 47,
   "id": "96ce6c34",
   "metadata": {},
   "outputs": [
    {
     "data": {
      "text/plain": [
       "56302"
      ]
     },
     "execution_count": 47,
     "metadata": {},
     "output_type": "execute_result"
    }
   ],
   "source": [
    "Low_User['user_iD'].nunique()"
   ]
  },
  {
   "cell_type": "code",
   "execution_count": 41,
   "id": "c29bdf50",
   "metadata": {},
   "outputs": [
    {
     "data": {
      "text/plain": [
       "count    58885.000000\n",
       "mean        25.681721\n",
       "std         12.593630\n",
       "min          3.125000\n",
       "25%         16.666667\n",
       "50%         20.000000\n",
       "75%         33.333333\n",
       "max         50.000000\n",
       "Name: Percentage, dtype: float64"
      ]
     },
     "execution_count": 41,
     "metadata": {},
     "output_type": "execute_result"
    }
   ],
   "source": [
    "Low_User['Percentage'].describe()"
   ]
  },
  {
   "cell_type": "code",
   "execution_count": 42,
   "id": "3ea3e679",
   "metadata": {},
   "outputs": [
    {
     "data": {
      "text/plain": [
       "count    58885.000000\n",
       "mean         4.843475\n",
       "std          2.272957\n",
       "min          2.000000\n",
       "25%          3.000000\n",
       "50%          5.000000\n",
       "75%          6.000000\n",
       "max         32.000000\n",
       "Name: Total Questions Attempted, dtype: float64"
      ]
     },
     "execution_count": 42,
     "metadata": {},
     "output_type": "execute_result"
    }
   ],
   "source": [
    "Low_User['Total Questions Attempted'].describe()"
   ]
  },
  {
   "cell_type": "code",
   "execution_count": 23,
   "id": "8f7311fd",
   "metadata": {},
   "outputs": [
    {
     "data": {
      "text/plain": [
       "count    724139.000000\n",
       "mean         22.480867\n",
       "std           9.418123\n",
       "min           0.000000\n",
       "25%          18.000000\n",
       "50%          21.000000\n",
       "75%          26.000000\n",
       "max        1181.500000\n",
       "Name: elapsed_time, dtype: float64"
      ]
     },
     "execution_count": 23,
     "metadata": {},
     "output_type": "execute_result"
    }
   ],
   "source": [
    "Perform['elapsed_time'].describe()"
   ]
  },
  {
   "cell_type": "code",
   "execution_count": 24,
   "id": "2cbc1a4d",
   "metadata": {},
   "outputs": [],
   "source": [
    "WHAT = Perform.loc[Perform['elapsed_time'] == 0]"
   ]
  },
  {
   "cell_type": "code",
   "execution_count": 25,
   "id": "f7a25057",
   "metadata": {},
   "outputs": [
    {
     "data": {
      "text/html": [
       "<div>\n",
       "<style scoped>\n",
       "    .dataframe tbody tr th:only-of-type {\n",
       "        vertical-align: middle;\n",
       "    }\n",
       "\n",
       "    .dataframe tbody tr th {\n",
       "        vertical-align: top;\n",
       "    }\n",
       "\n",
       "    .dataframe thead th {\n",
       "        text-align: right;\n",
       "    }\n",
       "</style>\n",
       "<table border=\"1\" class=\"dataframe\">\n",
       "  <thead>\n",
       "    <tr style=\"text-align: right;\">\n",
       "      <th></th>\n",
       "      <th>user_iD</th>\n",
       "      <th>Total Questions Attempted</th>\n",
       "      <th>Corrected</th>\n",
       "      <th>Incorrected</th>\n",
       "      <th>Percentage</th>\n",
       "      <th>elapsed_time</th>\n",
       "    </tr>\n",
       "  </thead>\n",
       "  <tbody>\n",
       "    <tr>\n",
       "      <th>3917</th>\n",
       "      <td>103726</td>\n",
       "      <td>6</td>\n",
       "      <td>4</td>\n",
       "      <td>2</td>\n",
       "      <td>66.666667</td>\n",
       "      <td>0.0</td>\n",
       "    </tr>\n",
       "    <tr>\n",
       "      <th>4267</th>\n",
       "      <td>104056</td>\n",
       "      <td>7</td>\n",
       "      <td>4</td>\n",
       "      <td>3</td>\n",
       "      <td>57.142857</td>\n",
       "      <td>0.0</td>\n",
       "    </tr>\n",
       "    <tr>\n",
       "      <th>6715</th>\n",
       "      <td>106384</td>\n",
       "      <td>10</td>\n",
       "      <td>5</td>\n",
       "      <td>5</td>\n",
       "      <td>50.000000</td>\n",
       "      <td>0.0</td>\n",
       "    </tr>\n",
       "    <tr>\n",
       "      <th>8840</th>\n",
       "      <td>108402</td>\n",
       "      <td>9</td>\n",
       "      <td>4</td>\n",
       "      <td>5</td>\n",
       "      <td>44.444444</td>\n",
       "      <td>0.0</td>\n",
       "    </tr>\n",
       "    <tr>\n",
       "      <th>9995</th>\n",
       "      <td>10950</td>\n",
       "      <td>5</td>\n",
       "      <td>2</td>\n",
       "      <td>3</td>\n",
       "      <td>40.000000</td>\n",
       "      <td>0.0</td>\n",
       "    </tr>\n",
       "  </tbody>\n",
       "</table>\n",
       "</div>"
      ],
      "text/plain": [
       "      user_iD  Total Questions Attempted  Corrected  Incorrected  Percentage  \\\n",
       "3917   103726                          6          4            2   66.666667   \n",
       "4267   104056                          7          4            3   57.142857   \n",
       "6715   106384                         10          5            5   50.000000   \n",
       "8840   108402                          9          4            5   44.444444   \n",
       "9995    10950                          5          2            3   40.000000   \n",
       "\n",
       "      elapsed_time  \n",
       "3917           0.0  \n",
       "4267           0.0  \n",
       "6715           0.0  \n",
       "8840           0.0  \n",
       "9995           0.0  "
      ]
     },
     "execution_count": 25,
     "metadata": {},
     "output_type": "execute_result"
    }
   ],
   "source": [
    "WHAT.head()"
   ]
  },
  {
   "cell_type": "code",
   "execution_count": 26,
   "id": "e9c25317",
   "metadata": {},
   "outputs": [
    {
     "data": {
      "text/plain": [
       "1358"
      ]
     },
     "execution_count": 26,
     "metadata": {},
     "output_type": "execute_result"
    }
   ],
   "source": [
    "WHAT['user_iD'].nunique()"
   ]
  },
  {
   "cell_type": "code",
   "execution_count": null,
   "id": "a6495a08",
   "metadata": {},
   "outputs": [],
   "source": []
  }
 ],
 "metadata": {
  "kernelspec": {
   "display_name": "Python 3",
   "language": "python",
   "name": "python3"
  },
  "language_info": {
   "codemirror_mode": {
    "name": "ipython",
    "version": 3
   },
   "file_extension": ".py",
   "mimetype": "text/x-python",
   "name": "python",
   "nbconvert_exporter": "python",
   "pygments_lexer": "ipython3",
   "version": "3.8.8"
  }
 },
 "nbformat": 4,
 "nbformat_minor": 5
}
