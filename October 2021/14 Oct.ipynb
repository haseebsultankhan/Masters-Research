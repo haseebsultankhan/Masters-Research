{
 "cells": [
  {
   "cell_type": "code",
   "execution_count": 1,
   "id": "fd9a7687",
   "metadata": {},
   "outputs": [],
   "source": [
    "import pandas as pd\n",
    "import numpy as np\n",
    "\n",
    "import matplotlib.pyplot as plt \n",
    "pd.set_option('display.max_columns',None) # To display all columns\n",
    "pd.set_option('display.max_rows',None) # To display all columns\n",
    "\n",
    "import feather\n",
    "import matplotlib.pyplot as plt\n",
    "from matplotlib.ticker import FuncFormatter\n",
    "from functools import reduce"
   ]
  },
  {
   "cell_type": "code",
   "execution_count": 2,
   "id": "2852da42-dbf7-4f9c-9fe2-3efee6f5fbb8",
   "metadata": {},
   "outputs": [],
   "source": [
    "#df2 = pd.read_feather('C:/Users/PC1/Desktop/FINAL DATASET/Dataset.ftr')\n",
    "dfq = pd.read_feather('C:/Users/PC1/Desktop/FINAL DATASET/questions.ftr')"
   ]
  },
  {
   "cell_type": "code",
   "execution_count": 4,
   "id": "c8209b24-ef34-45bc-9740-e9a101776bae",
   "metadata": {},
   "outputs": [],
   "source": [
    "dfm = pd.read_feather('C:/Users/PC1/Desktop/FINAL DATASET/EDNET.ftr')"
   ]
  },
  {
   "cell_type": "code",
   "execution_count": 5,
   "id": "d06f3033",
   "metadata": {},
   "outputs": [],
   "source": [
    "df_total_questions_attempted = dfm.groupby(['user_iD'], as_index=False , sort=False)['question_id'].count()\n",
    "\n",
    "df_total_questions_attempted = df_total_questions_attempted.rename(columns={'question_id': 'Total Questions Attempted'})                                                               "
   ]
  },
  {
   "cell_type": "code",
   "execution_count": 6,
   "id": "7779b764",
   "metadata": {},
   "outputs": [],
   "source": [
    "df_correct = dfm[dfm['correct']==1].groupby(['user_iD'], as_index=False, sort=False)['question_id'].count()\n",
    "\n",
    "df_correct = df_correct.rename(columns={'question_id': 'Corrected'})"
   ]
  },
  {
   "cell_type": "code",
   "execution_count": 7,
   "id": "6fd58eba",
   "metadata": {},
   "outputs": [],
   "source": [
    "df_incorrect = dfm[dfm['correct']==0].groupby(['user_iD'], as_index=False, sort=False)['question_id'].count()\n",
    "\n",
    "df_incorrect = df_incorrect.rename(columns={'question_id': 'Incorrected'})"
   ]
  },
  {
   "cell_type": "code",
   "execution_count": 8,
   "id": "f5809d9e",
   "metadata": {},
   "outputs": [],
   "source": [
    "dfs = [df_total_questions_attempted, df_correct, df_incorrect]\n",
    "df_final = reduce(lambda left,right: pd.merge(left,right,on='user_iD'), dfs)"
   ]
  },
  {
   "cell_type": "code",
   "execution_count": 9,
   "id": "48a81971",
   "metadata": {},
   "outputs": [
    {
     "data": {
      "text/html": [
       "<div>\n",
       "<style scoped>\n",
       "    .dataframe tbody tr th:only-of-type {\n",
       "        vertical-align: middle;\n",
       "    }\n",
       "\n",
       "    .dataframe tbody tr th {\n",
       "        vertical-align: top;\n",
       "    }\n",
       "\n",
       "    .dataframe thead th {\n",
       "        text-align: right;\n",
       "    }\n",
       "</style>\n",
       "<table border=\"1\" class=\"dataframe\">\n",
       "  <thead>\n",
       "    <tr style=\"text-align: right;\">\n",
       "      <th></th>\n",
       "      <th>user_iD</th>\n",
       "      <th>Total Questions Attempted</th>\n",
       "      <th>Corrected</th>\n",
       "      <th>Incorrected</th>\n",
       "      <th>Percentage</th>\n",
       "    </tr>\n",
       "  </thead>\n",
       "  <tbody>\n",
       "    <tr>\n",
       "      <th>0</th>\n",
       "      <td>1</td>\n",
       "      <td>1082</td>\n",
       "      <td>753</td>\n",
       "      <td>329</td>\n",
       "      <td>69.593346</td>\n",
       "    </tr>\n",
       "    <tr>\n",
       "      <th>1</th>\n",
       "      <td>10</td>\n",
       "      <td>16</td>\n",
       "      <td>9</td>\n",
       "      <td>7</td>\n",
       "      <td>56.250000</td>\n",
       "    </tr>\n",
       "    <tr>\n",
       "      <th>2</th>\n",
       "      <td>100</td>\n",
       "      <td>33</td>\n",
       "      <td>18</td>\n",
       "      <td>15</td>\n",
       "      <td>54.545455</td>\n",
       "    </tr>\n",
       "    <tr>\n",
       "      <th>3</th>\n",
       "      <td>1000</td>\n",
       "      <td>1488</td>\n",
       "      <td>930</td>\n",
       "      <td>558</td>\n",
       "      <td>62.500000</td>\n",
       "    </tr>\n",
       "    <tr>\n",
       "      <th>4</th>\n",
       "      <td>10000</td>\n",
       "      <td>405</td>\n",
       "      <td>258</td>\n",
       "      <td>147</td>\n",
       "      <td>63.703704</td>\n",
       "    </tr>\n",
       "  </tbody>\n",
       "</table>\n",
       "</div>"
      ],
      "text/plain": [
       "   user_iD  Total Questions Attempted  Corrected  Incorrected  Percentage\n",
       "0        1                       1082        753          329   69.593346\n",
       "1       10                         16          9            7   56.250000\n",
       "2      100                         33         18           15   54.545455\n",
       "3     1000                       1488        930          558   62.500000\n",
       "4    10000                        405        258          147   63.703704"
      ]
     },
     "execution_count": 9,
     "metadata": {},
     "output_type": "execute_result"
    }
   ],
   "source": [
    "df_final['Percentage'] = (df_final['Corrected'] / df_final['Total Questions Attempted']) *100\n",
    "df_final.head()"
   ]
  },
  {
   "cell_type": "code",
   "execution_count": 10,
   "id": "6396c405",
   "metadata": {},
   "outputs": [],
   "source": [
    "df2['elapsed_time']= df2.elapsed_time.div(1000)   #DIVDING THE ELAPSED TIME by 1000 to further check the mean elapsed time by each user"
   ]
  },
  {
   "cell_type": "code",
   "execution_count": 11,
   "id": "eca61581",
   "metadata": {},
   "outputs": [],
   "source": [
    "Elapsed_time= df2.groupby('user_iD' , sort=False)['elapsed_time'].median()"
   ]
  },
  {
   "cell_type": "code",
   "execution_count": 12,
   "id": "4dde1cd7",
   "metadata": {},
   "outputs": [],
   "source": [
    "dfs = [df_final, Elapsed_time]\n",
    "df3 = reduce(lambda left,right: pd.merge(left,right,on='user_iD'), dfs)"
   ]
  },
  {
   "cell_type": "code",
   "execution_count": 13,
   "id": "f0c1ac6e",
   "metadata": {},
   "outputs": [
    {
     "data": {
      "text/html": [
       "<div>\n",
       "<style scoped>\n",
       "    .dataframe tbody tr th:only-of-type {\n",
       "        vertical-align: middle;\n",
       "    }\n",
       "\n",
       "    .dataframe tbody tr th {\n",
       "        vertical-align: top;\n",
       "    }\n",
       "\n",
       "    .dataframe thead th {\n",
       "        text-align: right;\n",
       "    }\n",
       "</style>\n",
       "<table border=\"1\" class=\"dataframe\">\n",
       "  <thead>\n",
       "    <tr style=\"text-align: right;\">\n",
       "      <th></th>\n",
       "      <th>user_iD</th>\n",
       "      <th>Total Questions Attempted</th>\n",
       "      <th>Corrected</th>\n",
       "      <th>Incorrected</th>\n",
       "      <th>Percentage</th>\n",
       "      <th>elapsed_time</th>\n",
       "    </tr>\n",
       "  </thead>\n",
       "  <tbody>\n",
       "    <tr>\n",
       "      <th>0</th>\n",
       "      <td>1</td>\n",
       "      <td>1082</td>\n",
       "      <td>753</td>\n",
       "      <td>329</td>\n",
       "      <td>69.593346</td>\n",
       "      <td>36.75</td>\n",
       "    </tr>\n",
       "    <tr>\n",
       "      <th>1</th>\n",
       "      <td>10</td>\n",
       "      <td>16</td>\n",
       "      <td>9</td>\n",
       "      <td>7</td>\n",
       "      <td>56.250000</td>\n",
       "      <td>27.75</td>\n",
       "    </tr>\n",
       "    <tr>\n",
       "      <th>2</th>\n",
       "      <td>100</td>\n",
       "      <td>33</td>\n",
       "      <td>18</td>\n",
       "      <td>15</td>\n",
       "      <td>54.545455</td>\n",
       "      <td>34.50</td>\n",
       "    </tr>\n",
       "    <tr>\n",
       "      <th>3</th>\n",
       "      <td>1000</td>\n",
       "      <td>1488</td>\n",
       "      <td>930</td>\n",
       "      <td>558</td>\n",
       "      <td>62.500000</td>\n",
       "      <td>34.00</td>\n",
       "    </tr>\n",
       "    <tr>\n",
       "      <th>4</th>\n",
       "      <td>10000</td>\n",
       "      <td>405</td>\n",
       "      <td>258</td>\n",
       "      <td>147</td>\n",
       "      <td>63.703704</td>\n",
       "      <td>25.00</td>\n",
       "    </tr>\n",
       "  </tbody>\n",
       "</table>\n",
       "</div>"
      ],
      "text/plain": [
       "   user_iD  Total Questions Attempted  Corrected  Incorrected  Percentage  \\\n",
       "0        1                       1082        753          329   69.593346   \n",
       "1       10                         16          9            7   56.250000   \n",
       "2      100                         33         18           15   54.545455   \n",
       "3     1000                       1488        930          558   62.500000   \n",
       "4    10000                        405        258          147   63.703704   \n",
       "\n",
       "   elapsed_time  \n",
       "0         36.75  \n",
       "1         27.75  \n",
       "2         34.50  \n",
       "3         34.00  \n",
       "4         25.00  "
      ]
     },
     "execution_count": 13,
     "metadata": {},
     "output_type": "execute_result"
    }
   ],
   "source": [
    "df3.head()"
   ]
  },
  {
   "cell_type": "code",
   "execution_count": 14,
   "id": "05e83461",
   "metadata": {},
   "outputs": [],
   "source": [
    "df3.to_feather('All_users_perform.ftr')"
   ]
  },
  {
   "cell_type": "code",
   "execution_count": 16,
   "id": "09449fea",
   "metadata": {},
   "outputs": [
    {
     "data": {
      "text/plain": [
       "timestamp                  int64\n",
       "solving_id                 int64\n",
       "question_id               object\n",
       "user_answer               object\n",
       "elapsed_time               int64\n",
       "user_iD                    int32\n",
       "correct_answer            object\n",
       "bundle_id                 object\n",
       "explanation_id            object\n",
       "part                       int64\n",
       "tags                      object\n",
       "deployed_at       datetime64[ns]\n",
       "correct                  float64\n",
       "dtype: object"
      ]
     },
     "execution_count": 16,
     "metadata": {},
     "output_type": "execute_result"
    }
   ],
   "source": [
    "dfm.dtypes"
   ]
  },
  {
   "cell_type": "code",
   "execution_count": 18,
   "id": "0ad5e3e4-4675-4405-a06b-406d9f640ec8",
   "metadata": {},
   "outputs": [
    {
     "data": {
      "text/plain": [
       "timestamp           0\n",
       "solving_id          0\n",
       "question_id         0\n",
       "user_answer     27646\n",
       "elapsed_time        0\n",
       "user_iD             0\n",
       "dtype: int64"
      ]
     },
     "execution_count": 18,
     "metadata": {},
     "output_type": "execute_result"
    }
   ],
   "source": [
    "df2.isnull().sum()"
   ]
  },
  {
   "cell_type": "code",
   "execution_count": 19,
   "id": "d7ce8754-d294-4590-a44a-2f8d6d67237e",
   "metadata": {},
   "outputs": [
    {
     "data": {
      "text/plain": [
       "timestamp             0\n",
       "solving_id            0\n",
       "question_id           0\n",
       "user_answer       27646\n",
       "elapsed_time          0\n",
       "user_iD               0\n",
       "correct_answer        0\n",
       "bundle_id             0\n",
       "explanation_id        0\n",
       "part                  0\n",
       "tags                  0\n",
       "deployed_at           0\n",
       "correct               0\n",
       "dtype: int64"
      ]
     },
     "execution_count": 19,
     "metadata": {},
     "output_type": "execute_result"
    }
   ],
   "source": [
    "dfm.isnull().sum()"
   ]
  },
  {
   "cell_type": "code",
   "execution_count": 23,
   "id": "b140b9b9-810a-46bd-b23a-9e99fea2f132",
   "metadata": {},
   "outputs": [],
   "source": [
    "A= df2['question_id'].value_counts(dropna = False)"
   ]
  },
  {
   "cell_type": "code",
   "execution_count": 24,
   "id": "7c7dbd60-fbed-43c5-b5d2-94ab3c0a7fa9",
   "metadata": {},
   "outputs": [],
   "source": [
    "B= dfm['question_id'].value_counts(dropna = False)"
   ]
  },
  {
   "cell_type": "code",
   "execution_count": 25,
   "id": "7e9bb45d-d71e-4aff-a57f-756d88d04a72",
   "metadata": {},
   "outputs": [
    {
     "data": {
      "text/plain": [
       "b      27044099\n",
       "a      25948414\n",
       "c      24960934\n",
       "d      17312833\n",
       "NaN       27646\n",
       "Name: user_answer, dtype: int64"
      ]
     },
     "execution_count": 25,
     "metadata": {},
     "output_type": "execute_result"
    }
   ],
   "source": [
    "dfm['user_answer'].value_counts(dropna = False)"
   ]
  },
  {
   "cell_type": "code",
   "execution_count": 35,
   "id": "ff727b13-45e2-40fb-92ac-c3f22dbabe9d",
   "metadata": {},
   "outputs": [],
   "source": [
    "df2['user_answer'].replace(np.nan , 'd')"
   ]
  },
  {
   "cell_type": "code",
   "execution_count": 36,
   "id": "0d66697a-7f5b-4b8e-a00e-4a31fcd91c3b",
   "metadata": {},
   "outputs": [
    {
     "data": {
      "text/plain": [
       "b      27044099\n",
       "a      25948414\n",
       "c      24960934\n",
       "d      17312833\n",
       "NaN       27646\n",
       "Name: user_answer, dtype: int64"
      ]
     },
     "execution_count": 36,
     "metadata": {},
     "output_type": "execute_result"
    }
   ],
   "source": [
    "df2['user_answer'].value_counts(dropna = False)"
   ]
  },
  {
   "cell_type": "code",
   "execution_count": 37,
   "id": "0921d4a0-fd59-4e46-b85b-ff712a35b558",
   "metadata": {},
   "outputs": [
    {
     "data": {
      "text/plain": [
       "b    27044099\n",
       "a    25948414\n",
       "c    24960934\n",
       "d    17340479\n",
       "Name: user_answer, dtype: int64"
      ]
     },
     "execution_count": 37,
     "metadata": {},
     "output_type": "execute_result"
    }
   ],
   "source": [
    "df2[['user_answer']] = df2[['user_answer']].fillna('d')\n",
    "df2['user_answer'].value_counts(dropna = False)"
   ]
  },
  {
   "cell_type": "code",
   "execution_count": 38,
   "id": "08e79a81-d03f-4f2a-a0fb-9f6ff4b0898f",
   "metadata": {},
   "outputs": [
    {
     "data": {
      "text/html": [
       "<div>\n",
       "<style scoped>\n",
       "    .dataframe tbody tr th:only-of-type {\n",
       "        vertical-align: middle;\n",
       "    }\n",
       "\n",
       "    .dataframe tbody tr th {\n",
       "        vertical-align: top;\n",
       "    }\n",
       "\n",
       "    .dataframe thead th {\n",
       "        text-align: right;\n",
       "    }\n",
       "</style>\n",
       "<table border=\"1\" class=\"dataframe\">\n",
       "  <thead>\n",
       "    <tr style=\"text-align: right;\">\n",
       "      <th></th>\n",
       "      <th>timestamp</th>\n",
       "      <th>solving_id</th>\n",
       "      <th>question_id</th>\n",
       "      <th>user_answer</th>\n",
       "      <th>elapsed_time</th>\n",
       "      <th>user_iD</th>\n",
       "    </tr>\n",
       "  </thead>\n",
       "  <tbody>\n",
       "    <tr>\n",
       "      <th>0</th>\n",
       "      <td>1565096190868</td>\n",
       "      <td>1</td>\n",
       "      <td>5012</td>\n",
       "      <td>b</td>\n",
       "      <td>38.0</td>\n",
       "      <td>1</td>\n",
       "    </tr>\n",
       "    <tr>\n",
       "      <th>1</th>\n",
       "      <td>1565096221062</td>\n",
       "      <td>2</td>\n",
       "      <td>4706</td>\n",
       "      <td>c</td>\n",
       "      <td>24.0</td>\n",
       "      <td>1</td>\n",
       "    </tr>\n",
       "    <tr>\n",
       "      <th>2</th>\n",
       "      <td>1565096293432</td>\n",
       "      <td>3</td>\n",
       "      <td>4366</td>\n",
       "      <td>b</td>\n",
       "      <td>68.0</td>\n",
       "      <td>1</td>\n",
       "    </tr>\n",
       "    <tr>\n",
       "      <th>3</th>\n",
       "      <td>1565096339668</td>\n",
       "      <td>4</td>\n",
       "      <td>4829</td>\n",
       "      <td>a</td>\n",
       "      <td>42.0</td>\n",
       "      <td>1</td>\n",
       "    </tr>\n",
       "    <tr>\n",
       "      <th>4</th>\n",
       "      <td>1565096401774</td>\n",
       "      <td>5</td>\n",
       "      <td>6528</td>\n",
       "      <td>b</td>\n",
       "      <td>59.0</td>\n",
       "      <td>1</td>\n",
       "    </tr>\n",
       "  </tbody>\n",
       "</table>\n",
       "</div>"
      ],
      "text/plain": [
       "       timestamp  solving_id question_id user_answer  elapsed_time  user_iD\n",
       "0  1565096190868           1        5012           b          38.0        1\n",
       "1  1565096221062           2        4706           c          24.0        1\n",
       "2  1565096293432           3        4366           b          68.0        1\n",
       "3  1565096339668           4        4829           a          42.0        1\n",
       "4  1565096401774           5        6528           b          59.0        1"
      ]
     },
     "execution_count": 38,
     "metadata": {},
     "output_type": "execute_result"
    }
   ],
   "source": [
    "df2.head()"
   ]
  },
  {
   "cell_type": "code",
   "execution_count": 41,
   "id": "8a9c7799-c8b8-4af2-bffc-c917cb0a8d02",
   "metadata": {},
   "outputs": [
    {
     "data": {
      "text/plain": [
       "question_id       0\n",
       "correct_answer    0\n",
       "bundle_id         0\n",
       "explanation_id    0\n",
       "part              0\n",
       "tags              0\n",
       "deployed_at       0\n",
       "dtype: int64"
      ]
     },
     "execution_count": 41,
     "metadata": {},
     "output_type": "execute_result"
    }
   ],
   "source": [
    "dfq.isnull().sum()"
   ]
  },
  {
   "cell_type": "code",
   "execution_count": 3,
   "id": "8f776f9a-a55b-4b9f-8416-52dcc45b6d02",
   "metadata": {},
   "outputs": [
    {
     "data": {
      "text/plain": [
       "question_id               object\n",
       "correct_answer            object\n",
       "bundle_id                 object\n",
       "explanation_id            object\n",
       "part                       int64\n",
       "tags                      object\n",
       "deployed_at       datetime64[ns]\n",
       "dtype: object"
      ]
     },
     "execution_count": 3,
     "metadata": {},
     "output_type": "execute_result"
    }
   ],
   "source": [
    "dfq.dtypes"
   ]
  },
  {
   "cell_type": "code",
   "execution_count": 8,
   "id": "115bfbc8-6f85-4396-aabe-d585bf50ed47",
   "metadata": {},
   "outputs": [
    {
     "data": {
      "text/html": [
       "<div>\n",
       "<style scoped>\n",
       "    .dataframe tbody tr th:only-of-type {\n",
       "        vertical-align: middle;\n",
       "    }\n",
       "\n",
       "    .dataframe tbody tr th {\n",
       "        vertical-align: top;\n",
       "    }\n",
       "\n",
       "    .dataframe thead th {\n",
       "        text-align: right;\n",
       "    }\n",
       "</style>\n",
       "<table border=\"1\" class=\"dataframe\">\n",
       "  <thead>\n",
       "    <tr style=\"text-align: right;\">\n",
       "      <th></th>\n",
       "      <th>question_id</th>\n",
       "      <th>correct_answer</th>\n",
       "      <th>bundle_id</th>\n",
       "      <th>explanation_id</th>\n",
       "      <th>part</th>\n",
       "      <th>tags</th>\n",
       "      <th>deployed_at</th>\n",
       "    </tr>\n",
       "  </thead>\n",
       "  <tbody>\n",
       "    <tr>\n",
       "      <th>0</th>\n",
       "      <td>1</td>\n",
       "      <td>b</td>\n",
       "      <td>1</td>\n",
       "      <td>1</td>\n",
       "      <td>1</td>\n",
       "      <td>1;2;179;181</td>\n",
       "      <td>2019-05-17 11:40:17.098</td>\n",
       "    </tr>\n",
       "    <tr>\n",
       "      <th>1</th>\n",
       "      <td>2</td>\n",
       "      <td>a</td>\n",
       "      <td>2</td>\n",
       "      <td>2</td>\n",
       "      <td>1</td>\n",
       "      <td>15;2;182</td>\n",
       "      <td>2019-05-17 11:40:19.720</td>\n",
       "    </tr>\n",
       "    <tr>\n",
       "      <th>2</th>\n",
       "      <td>3</td>\n",
       "      <td>b</td>\n",
       "      <td>3</td>\n",
       "      <td>3</td>\n",
       "      <td>1</td>\n",
       "      <td>14;2;179;183</td>\n",
       "      <td>2019-05-17 11:40:22.784</td>\n",
       "    </tr>\n",
       "    <tr>\n",
       "      <th>3</th>\n",
       "      <td>4</td>\n",
       "      <td>b</td>\n",
       "      <td>4</td>\n",
       "      <td>4</td>\n",
       "      <td>1</td>\n",
       "      <td>9;2;179;184</td>\n",
       "      <td>2019-05-17 11:40:25.357</td>\n",
       "    </tr>\n",
       "    <tr>\n",
       "      <th>4</th>\n",
       "      <td>5</td>\n",
       "      <td>c</td>\n",
       "      <td>5</td>\n",
       "      <td>5</td>\n",
       "      <td>1</td>\n",
       "      <td>8;2;179;181</td>\n",
       "      <td>2019-05-17 11:40:28.439</td>\n",
       "    </tr>\n",
       "  </tbody>\n",
       "</table>\n",
       "</div>"
      ],
      "text/plain": [
       "   question_id correct_answer bundle_id explanation_id  part          tags  \\\n",
       "0            1              b         1              1     1   1;2;179;181   \n",
       "1            2              a         2              2     1      15;2;182   \n",
       "2            3              b         3              3     1  14;2;179;183   \n",
       "3            4              b         4              4     1   9;2;179;184   \n",
       "4            5              c         5              5     1   8;2;179;181   \n",
       "\n",
       "              deployed_at  \n",
       "0 2019-05-17 11:40:17.098  \n",
       "1 2019-05-17 11:40:19.720  \n",
       "2 2019-05-17 11:40:22.784  \n",
       "3 2019-05-17 11:40:25.357  \n",
       "4 2019-05-17 11:40:28.439  "
      ]
     },
     "execution_count": 8,
     "metadata": {},
     "output_type": "execute_result"
    }
   ],
   "source": [
    "dfq.head()"
   ]
  },
  {
   "cell_type": "code",
   "execution_count": 10,
   "id": "0d67957f-f388-4544-86e0-e8f94425e87d",
   "metadata": {},
   "outputs": [],
   "source": [
    "#dfq['question_id'] = dfq['question_id'].astype(str).astype(int)\n",
    "dfq['bundle_id'] = dfq['bundle_id'].astype(str).astype(int)\n",
    "dfq['explanation_id'] = dfq['explanation_id'].astype(str).astype(int)\n",
    "dfq['part'] = dfq['part'].astype(str).astype(int)\n",
    "#dfq['tags'] = dfq['tags'].astype(str).astype(int)"
   ]
  },
  {
   "cell_type": "code",
   "execution_count": 11,
   "id": "067ae480-d8b7-46d9-8c35-baae8f7529a7",
   "metadata": {},
   "outputs": [
    {
     "data": {
      "text/plain": [
       "question_id                int32\n",
       "correct_answer            object\n",
       "bundle_id                  int32\n",
       "explanation_id             int32\n",
       "part                       int32\n",
       "tags                      object\n",
       "deployed_at       datetime64[ns]\n",
       "dtype: object"
      ]
     },
     "execution_count": 11,
     "metadata": {},
     "output_type": "execute_result"
    }
   ],
   "source": [
    "dfq.dtypes"
   ]
  },
  {
   "cell_type": "code",
   "execution_count": 12,
   "id": "fe9d0f75-6c4a-4f9c-b2ed-1a03fb1a21d7",
   "metadata": {},
   "outputs": [],
   "source": [
    "dfq.to_feather('question_df.ftr')"
   ]
  },
  {
   "cell_type": "code",
   "execution_count": null,
   "id": "aed6ee79-0277-45e3-89fb-2c88167bbd11",
   "metadata": {},
   "outputs": [],
   "source": []
  }
 ],
 "metadata": {
  "kernelspec": {
   "display_name": "Python 3 (ipykernel)",
   "language": "python",
   "name": "python3"
  },
  "language_info": {
   "codemirror_mode": {
    "name": "ipython",
    "version": 3
   },
   "file_extension": ".py",
   "mimetype": "text/x-python",
   "name": "python",
   "nbconvert_exporter": "python",
   "pygments_lexer": "ipython3",
   "version": "3.8.12"
  }
 },
 "nbformat": 4,
 "nbformat_minor": 5
}
