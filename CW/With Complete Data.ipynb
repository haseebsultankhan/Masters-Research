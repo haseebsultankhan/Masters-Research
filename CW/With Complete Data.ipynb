{
 "cells": [
  {
   "cell_type": "code",
   "execution_count": 1,
   "id": "96de1d7d",
   "metadata": {},
   "outputs": [],
   "source": [
    "import pandas as pd\n",
    "import numpy as np\n",
    "import seaborn as sns\n",
    "import sagemaker\n",
    "import boto3\n",
    "import matplotlib.pyplot as plt \n",
    "pd.set_option('display.max_columns',None) # To display all columns\n",
    "pd.set_option('display.max_rows',None) # To display all columns\n",
    "client = boto3.client('s3')\n",
    "import feather\n",
    "import matplotlib.pyplot as plt\n",
    "from matplotlib.ticker import FuncFormatter\n",
    "from functools import reduce\n",
    "import warnings\n",
    "warnings.simplefilter(action='ignore', category=FutureWarning)"
   ]
  },
  {
   "cell_type": "code",
   "execution_count": null,
   "id": "053f233c",
   "metadata": {},
   "outputs": [],
   "source": [
    "KT1=pd.read_feather('s3://haseebdata/EDNET DATA/Ednet feather files/KT1.ftr')\n",
    "questions_df = pd.read_csv('s3://haseebdata/EDNET DATA/EDNET Content CSV/questions.csv')"
   ]
  },
  {
   "cell_type": "code",
   "execution_count": 3,
   "id": "04cc8cdf",
   "metadata": {},
   "outputs": [
    {
     "data": {
      "text/html": [
       "<div>\n",
       "<style scoped>\n",
       "    .dataframe tbody tr th:only-of-type {\n",
       "        vertical-align: middle;\n",
       "    }\n",
       "\n",
       "    .dataframe tbody tr th {\n",
       "        vertical-align: top;\n",
       "    }\n",
       "\n",
       "    .dataframe thead th {\n",
       "        text-align: right;\n",
       "    }\n",
       "</style>\n",
       "<table border=\"1\" class=\"dataframe\">\n",
       "  <thead>\n",
       "    <tr style=\"text-align: right;\">\n",
       "      <th></th>\n",
       "      <th>timestamp</th>\n",
       "      <th>solving_id</th>\n",
       "      <th>question_id</th>\n",
       "      <th>user_answer</th>\n",
       "      <th>elapsed_time</th>\n",
       "      <th>user_iD</th>\n",
       "    </tr>\n",
       "  </thead>\n",
       "  <tbody>\n",
       "    <tr>\n",
       "      <th>0</th>\n",
       "      <td>1565096190868</td>\n",
       "      <td>1</td>\n",
       "      <td>q5012</td>\n",
       "      <td>b</td>\n",
       "      <td>38000</td>\n",
       "      <td>1</td>\n",
       "    </tr>\n",
       "    <tr>\n",
       "      <th>1</th>\n",
       "      <td>1565096221062</td>\n",
       "      <td>2</td>\n",
       "      <td>q4706</td>\n",
       "      <td>c</td>\n",
       "      <td>24000</td>\n",
       "      <td>1</td>\n",
       "    </tr>\n",
       "    <tr>\n",
       "      <th>2</th>\n",
       "      <td>1565096293432</td>\n",
       "      <td>3</td>\n",
       "      <td>q4366</td>\n",
       "      <td>b</td>\n",
       "      <td>68000</td>\n",
       "      <td>1</td>\n",
       "    </tr>\n",
       "    <tr>\n",
       "      <th>3</th>\n",
       "      <td>1565096339668</td>\n",
       "      <td>4</td>\n",
       "      <td>q4829</td>\n",
       "      <td>a</td>\n",
       "      <td>42000</td>\n",
       "      <td>1</td>\n",
       "    </tr>\n",
       "    <tr>\n",
       "      <th>4</th>\n",
       "      <td>1565096401774</td>\n",
       "      <td>5</td>\n",
       "      <td>q6528</td>\n",
       "      <td>b</td>\n",
       "      <td>59000</td>\n",
       "      <td>1</td>\n",
       "    </tr>\n",
       "  </tbody>\n",
       "</table>\n",
       "</div>"
      ],
      "text/plain": [
       "       timestamp  solving_id question_id user_answer  elapsed_time  user_iD\n",
       "0  1565096190868           1       q5012           b         38000        1\n",
       "1  1565096221062           2       q4706           c         24000        1\n",
       "2  1565096293432           3       q4366           b         68000        1\n",
       "3  1565096339668           4       q4829           a         42000        1\n",
       "4  1565096401774           5       q6528           b         59000        1"
      ]
     },
     "execution_count": 3,
     "metadata": {},
     "output_type": "execute_result"
    }
   ],
   "source": [
    "KT1.head()"
   ]
  },
  {
   "cell_type": "code",
   "execution_count": 10,
   "id": "e0c35552",
   "metadata": {},
   "outputs": [
    {
     "data": {
      "text/html": [
       "<div>\n",
       "<style scoped>\n",
       "    .dataframe tbody tr th:only-of-type {\n",
       "        vertical-align: middle;\n",
       "    }\n",
       "\n",
       "    .dataframe tbody tr th {\n",
       "        vertical-align: top;\n",
       "    }\n",
       "\n",
       "    .dataframe thead th {\n",
       "        text-align: right;\n",
       "    }\n",
       "</style>\n",
       "<table border=\"1\" class=\"dataframe\">\n",
       "  <thead>\n",
       "    <tr style=\"text-align: right;\">\n",
       "      <th></th>\n",
       "      <th>question_id</th>\n",
       "      <th>correct_answer</th>\n",
       "      <th>bundle_id</th>\n",
       "      <th>explanation_id</th>\n",
       "      <th>part</th>\n",
       "      <th>tags</th>\n",
       "      <th>deployed_at</th>\n",
       "    </tr>\n",
       "  </thead>\n",
       "  <tbody>\n",
       "    <tr>\n",
       "      <th>0</th>\n",
       "      <td>q1</td>\n",
       "      <td>b</td>\n",
       "      <td>1</td>\n",
       "      <td>1</td>\n",
       "      <td>1</td>\n",
       "      <td>1;2;179;181</td>\n",
       "      <td>2019-05-17 11:40:17.098</td>\n",
       "    </tr>\n",
       "    <tr>\n",
       "      <th>1</th>\n",
       "      <td>q2</td>\n",
       "      <td>a</td>\n",
       "      <td>2</td>\n",
       "      <td>2</td>\n",
       "      <td>1</td>\n",
       "      <td>15;2;182</td>\n",
       "      <td>2019-05-17 11:40:19.720</td>\n",
       "    </tr>\n",
       "    <tr>\n",
       "      <th>2</th>\n",
       "      <td>q3</td>\n",
       "      <td>b</td>\n",
       "      <td>3</td>\n",
       "      <td>3</td>\n",
       "      <td>1</td>\n",
       "      <td>14;2;179;183</td>\n",
       "      <td>2019-05-17 11:40:22.784</td>\n",
       "    </tr>\n",
       "    <tr>\n",
       "      <th>3</th>\n",
       "      <td>q4</td>\n",
       "      <td>b</td>\n",
       "      <td>4</td>\n",
       "      <td>4</td>\n",
       "      <td>1</td>\n",
       "      <td>9;2;179;184</td>\n",
       "      <td>2019-05-17 11:40:25.357</td>\n",
       "    </tr>\n",
       "    <tr>\n",
       "      <th>4</th>\n",
       "      <td>q5</td>\n",
       "      <td>c</td>\n",
       "      <td>5</td>\n",
       "      <td>5</td>\n",
       "      <td>1</td>\n",
       "      <td>8;2;179;181</td>\n",
       "      <td>2019-05-17 11:40:28.439</td>\n",
       "    </tr>\n",
       "  </tbody>\n",
       "</table>\n",
       "</div>"
      ],
      "text/plain": [
       "  question_id correct_answer bundle_id explanation_id  part          tags  \\\n",
       "0          q1              b         1              1     1   1;2;179;181   \n",
       "1          q2              a         2              2     1      15;2;182   \n",
       "2          q3              b         3              3     1  14;2;179;183   \n",
       "3          q4              b         4              4     1   9;2;179;184   \n",
       "4          q5              c         5              5     1   8;2;179;181   \n",
       "\n",
       "              deployed_at  \n",
       "0 2019-05-17 11:40:17.098  \n",
       "1 2019-05-17 11:40:19.720  \n",
       "2 2019-05-17 11:40:22.784  \n",
       "3 2019-05-17 11:40:25.357  \n",
       "4 2019-05-17 11:40:28.439  "
      ]
     },
     "execution_count": 10,
     "metadata": {},
     "output_type": "execute_result"
    }
   ],
   "source": [
    "questions_df.bundle_id = questions_df.bundle_id.str.slice(start=1)\n",
    "questions_df.explanation_id = questions_df.explanation_id.str.slice(start=1)\n",
    "questions_df.deployed_at = pd.to_datetime(questions_df.deployed_at, unit='ms')\n",
    "dfq = questions_df[['question_id', 'correct_answer', 'bundle_id', 'explanation_id' , 'part', 'tags', 'deployed_at']]\n",
    "dfq.head()"
   ]
  },
  {
   "cell_type": "code",
   "execution_count": 41,
   "id": "24df8b42",
   "metadata": {},
   "outputs": [
    {
     "data": {
      "text/plain": [
       "289886"
      ]
     },
     "execution_count": 41,
     "metadata": {},
     "output_type": "execute_result"
    }
   ],
   "source": [
    "KT1['user_iD'].nunique()"
   ]
  },
  {
   "cell_type": "code",
   "execution_count": 43,
   "id": "01f89f4b",
   "metadata": {},
   "outputs": [
    {
     "data": {
      "text/plain": [
       "True"
      ]
     },
     "execution_count": 43,
     "metadata": {},
     "output_type": "execute_result"
    }
   ],
   "source": [
    "KT1.isnull().values.any()"
   ]
  },
  {
   "cell_type": "code",
   "execution_count": 45,
   "id": "fd73c8b8",
   "metadata": {},
   "outputs": [
    {
     "data": {
      "text/plain": [
       "timestamp           0\n",
       "solving_id          0\n",
       "question_id         0\n",
       "user_answer     23671\n",
       "elapsed_time        0\n",
       "user_iD             0\n",
       "dtype: int64"
      ]
     },
     "execution_count": 45,
     "metadata": {},
     "output_type": "execute_result"
    }
   ],
   "source": [
    "KT1.isnull().sum()"
   ]
  },
  {
   "cell_type": "code",
   "execution_count": 47,
   "id": "26c81341",
   "metadata": {},
   "outputs": [
    {
     "data": {
      "image/png": "[encoded data removed]",
      "text/plain": [
       "<Figure size 864x432 with 1 Axes>"
      ]
     },
     "metadata": {
      "needs_background": "light"
     },
     "output_type": "display_data"
    }
   ],
   "source": [
    "cids = KT1.user_iD.value_counts()[:50]\n",
    "\n",
    "fig = plt.figure(figsize=(12,6))\n",
    "ax = cids.plot.bar()\n",
    "plt.title(\"Fifty most active USER'S\")\n",
    "plt.xticks(rotation=90)\n",
    "ax.get_yaxis().set_major_formatter(FuncFormatter(lambda x, p: format(int(x), ','))) #add thousands separator\n",
    "plt.show()"
   ]
  },
  {
   "cell_type": "code",
   "execution_count": 49,
   "id": "f5d9d30c",
   "metadata": {},
   "outputs": [],
   "source": [
    "# left join student dataframe and answer key dataframe on the 'question_id' column \n",
    "dfm = pd.merge(KT1, dfq,  how='left', left_on=['question_id'], right_on = ['question_id'])"
   ]
  },
  {
   "cell_type": "code",
   "execution_count": 50,
   "id": "4207fb18",
   "metadata": {},
   "outputs": [
    {
     "name": "stderr",
     "output_type": "stream",
     "text": [
      "/home/ec2-user/anaconda3/envs/python3/lib/python3.6/site-packages/ipykernel/__main__.py:11: SettingWithCopyWarning: \n",
      "A value is trying to be set on a copy of a slice from a DataFrame\n",
      "\n",
      "See the caveats in the documentation: https://pandas.pydata.org/pandas-docs/stable/user_guide/indexing.html#returning-a-view-versus-a-copy\n",
      "/home/ec2-user/anaconda3/envs/python3/lib/python3.6/site-packages/ipykernel/__main__.py:9: SettingWithCopyWarning: \n",
      "A value is trying to be set on a copy of a slice from a DataFrame\n",
      "\n",
      "See the caveats in the documentation: https://pandas.pydata.org/pandas-docs/stable/user_guide/indexing.html#returning-a-view-versus-a-copy\n"
     ]
    }
   ],
   "source": [
    "# create a 'correct' column\n",
    "dfm['correct'] = np.nan\n",
    "\n",
    "# loop - if user answers == correct answer, then dfq['correct'][_]= 1\n",
    "length_df = dfm['user_iD'].count()\n",
    "count = 0\n",
    "for i in range(length_df):\n",
    "    if dfm['user_answer'][count] == dfm['correct_answer'][count]:\n",
    "        dfm['correct'][count] = 1\n",
    "    if dfm['user_answer'][count] != dfm['correct_answer'][count]:\n",
    "        dfm['correct'][count] = 0\n",
    "    count+=1"
   ]
  },
  {
   "cell_type": "code",
   "execution_count": 51,
   "id": "24be229f",
   "metadata": {},
   "outputs": [
    {
     "data": {
      "text/html": [
       "<div>\n",
       "<style scoped>\n",
       "    .dataframe tbody tr th:only-of-type {\n",
       "        vertical-align: middle;\n",
       "    }\n",
       "\n",
       "    .dataframe tbody tr th {\n",
       "        vertical-align: top;\n",
       "    }\n",
       "\n",
       "    .dataframe thead th {\n",
       "        text-align: right;\n",
       "    }\n",
       "</style>\n",
       "<table border=\"1\" class=\"dataframe\">\n",
       "  <thead>\n",
       "    <tr style=\"text-align: right;\">\n",
       "      <th></th>\n",
       "      <th>user_iD</th>\n",
       "      <th>Total Questions Attempted</th>\n",
       "    </tr>\n",
       "  </thead>\n",
       "  <tbody>\n",
       "    <tr>\n",
       "      <th>0</th>\n",
       "      <td>1</td>\n",
       "      <td>1082</td>\n",
       "    </tr>\n",
       "    <tr>\n",
       "      <th>1</th>\n",
       "      <td>10</td>\n",
       "      <td>16</td>\n",
       "    </tr>\n",
       "    <tr>\n",
       "      <th>2</th>\n",
       "      <td>100</td>\n",
       "      <td>33</td>\n",
       "    </tr>\n",
       "    <tr>\n",
       "      <th>3</th>\n",
       "      <td>1000</td>\n",
       "      <td>1488</td>\n",
       "    </tr>\n",
       "    <tr>\n",
       "      <th>4</th>\n",
       "      <td>10004</td>\n",
       "      <td>2486</td>\n",
       "    </tr>\n",
       "  </tbody>\n",
       "</table>\n",
       "</div>"
      ],
      "text/plain": [
       "   user_iD  Total Questions Attempted\n",
       "0        1                       1082\n",
       "1       10                         16\n",
       "2      100                         33\n",
       "3     1000                       1488\n",
       "4    10004                       2486"
      ]
     },
     "execution_count": 51,
     "metadata": {},
     "output_type": "execute_result"
    }
   ],
   "source": [
    "df_total_questions_attempted = dfm.groupby(['user_iD'], as_index=False , sort=False)['question_id'].count()\n",
    "\n",
    "df_total_questions_attempted = df_total_questions_attempted.rename(columns={'question_id': 'Total Questions Attempted'})\n",
    "\n",
    "df_total_questions_attempted.head()                                                                "
   ]
  },
  {
   "cell_type": "code",
   "execution_count": 52,
   "id": "63ee1e7f",
   "metadata": {},
   "outputs": [
    {
     "data": {
      "text/html": [
       "<div>\n",
       "<style scoped>\n",
       "    .dataframe tbody tr th:only-of-type {\n",
       "        vertical-align: middle;\n",
       "    }\n",
       "\n",
       "    .dataframe tbody tr th {\n",
       "        vertical-align: top;\n",
       "    }\n",
       "\n",
       "    .dataframe thead th {\n",
       "        text-align: right;\n",
       "    }\n",
       "</style>\n",
       "<table border=\"1\" class=\"dataframe\">\n",
       "  <thead>\n",
       "    <tr style=\"text-align: right;\">\n",
       "      <th></th>\n",
       "      <th>user_iD</th>\n",
       "      <th>Corrected</th>\n",
       "    </tr>\n",
       "  </thead>\n",
       "  <tbody>\n",
       "    <tr>\n",
       "      <th>0</th>\n",
       "      <td>1</td>\n",
       "      <td>753</td>\n",
       "    </tr>\n",
       "    <tr>\n",
       "      <th>1</th>\n",
       "      <td>10</td>\n",
       "      <td>9</td>\n",
       "    </tr>\n",
       "    <tr>\n",
       "      <th>2</th>\n",
       "      <td>100</td>\n",
       "      <td>18</td>\n",
       "    </tr>\n",
       "    <tr>\n",
       "      <th>3</th>\n",
       "      <td>1000</td>\n",
       "      <td>930</td>\n",
       "    </tr>\n",
       "    <tr>\n",
       "      <th>4</th>\n",
       "      <td>10004</td>\n",
       "      <td>1790</td>\n",
       "    </tr>\n",
       "  </tbody>\n",
       "</table>\n",
       "</div>"
      ],
      "text/plain": [
       "   user_iD  Corrected\n",
       "0        1        753\n",
       "1       10          9\n",
       "2      100         18\n",
       "3     1000        930\n",
       "4    10004       1790"
      ]
     },
     "execution_count": 52,
     "metadata": {},
     "output_type": "execute_result"
    }
   ],
   "source": [
    "df_correct = dfm[dfm['correct']==1].groupby(['user_iD'], as_index=False, sort=False)['question_id'].count()\n",
    "\n",
    "df_correct = df_correct.rename(columns={'question_id': 'Corrected'})\n",
    "\n",
    "df_correct.head()"
   ]
  },
  {
   "cell_type": "code",
   "execution_count": 53,
   "id": "27d5ef52",
   "metadata": {},
   "outputs": [
    {
     "data": {
      "text/html": [
       "<div>\n",
       "<style scoped>\n",
       "    .dataframe tbody tr th:only-of-type {\n",
       "        vertical-align: middle;\n",
       "    }\n",
       "\n",
       "    .dataframe tbody tr th {\n",
       "        vertical-align: top;\n",
       "    }\n",
       "\n",
       "    .dataframe thead th {\n",
       "        text-align: right;\n",
       "    }\n",
       "</style>\n",
       "<table border=\"1\" class=\"dataframe\">\n",
       "  <thead>\n",
       "    <tr style=\"text-align: right;\">\n",
       "      <th></th>\n",
       "      <th>user_iD</th>\n",
       "      <th>Incorrected</th>\n",
       "    </tr>\n",
       "  </thead>\n",
       "  <tbody>\n",
       "    <tr>\n",
       "      <th>0</th>\n",
       "      <td>1</td>\n",
       "      <td>329</td>\n",
       "    </tr>\n",
       "    <tr>\n",
       "      <th>1</th>\n",
       "      <td>10</td>\n",
       "      <td>7</td>\n",
       "    </tr>\n",
       "    <tr>\n",
       "      <th>2</th>\n",
       "      <td>100</td>\n",
       "      <td>15</td>\n",
       "    </tr>\n",
       "    <tr>\n",
       "      <th>3</th>\n",
       "      <td>1000</td>\n",
       "      <td>558</td>\n",
       "    </tr>\n",
       "    <tr>\n",
       "      <th>4</th>\n",
       "      <td>10004</td>\n",
       "      <td>696</td>\n",
       "    </tr>\n",
       "  </tbody>\n",
       "</table>\n",
       "</div>"
      ],
      "text/plain": [
       "   user_iD  Incorrected\n",
       "0        1          329\n",
       "1       10            7\n",
       "2      100           15\n",
       "3     1000          558\n",
       "4    10004          696"
      ]
     },
     "execution_count": 53,
     "metadata": {},
     "output_type": "execute_result"
    }
   ],
   "source": [
    "df_incorrect = dfm[dfm['correct']==0].groupby(['user_iD'], as_index=False, sort=False)['question_id'].count()\n",
    "\n",
    "df_incorrect = df_incorrect.rename(columns={'question_id': 'Incorrected'})\n",
    "\n",
    "df_incorrect.head()"
   ]
  },
  {
   "cell_type": "code",
   "execution_count": 54,
   "id": "55c7a4c7",
   "metadata": {},
   "outputs": [],
   "source": [
    "dfs = [df_total_questions_attempted, df_correct, df_incorrect]\n",
    "df_final = reduce(lambda left,right: pd.merge(left,right,on='user_iD'), dfs)"
   ]
  },
  {
   "cell_type": "code",
   "execution_count": 55,
   "id": "aec6e29f",
   "metadata": {},
   "outputs": [
    {
     "data": {
      "text/html": [
       "<div>\n",
       "<style scoped>\n",
       "    .dataframe tbody tr th:only-of-type {\n",
       "        vertical-align: middle;\n",
       "    }\n",
       "\n",
       "    .dataframe tbody tr th {\n",
       "        vertical-align: top;\n",
       "    }\n",
       "\n",
       "    .dataframe thead th {\n",
       "        text-align: right;\n",
       "    }\n",
       "</style>\n",
       "<table border=\"1\" class=\"dataframe\">\n",
       "  <thead>\n",
       "    <tr style=\"text-align: right;\">\n",
       "      <th></th>\n",
       "      <th>user_iD</th>\n",
       "      <th>Total Questions Attempted</th>\n",
       "      <th>Corrected</th>\n",
       "      <th>Incorrected</th>\n",
       "      <th>Percentage</th>\n",
       "    </tr>\n",
       "  </thead>\n",
       "  <tbody>\n",
       "    <tr>\n",
       "      <th>0</th>\n",
       "      <td>1</td>\n",
       "      <td>1082</td>\n",
       "      <td>753</td>\n",
       "      <td>329</td>\n",
       "      <td>69.593346</td>\n",
       "    </tr>\n",
       "    <tr>\n",
       "      <th>1</th>\n",
       "      <td>10</td>\n",
       "      <td>16</td>\n",
       "      <td>9</td>\n",
       "      <td>7</td>\n",
       "      <td>56.250000</td>\n",
       "    </tr>\n",
       "    <tr>\n",
       "      <th>2</th>\n",
       "      <td>100</td>\n",
       "      <td>33</td>\n",
       "      <td>18</td>\n",
       "      <td>15</td>\n",
       "      <td>54.545455</td>\n",
       "    </tr>\n",
       "    <tr>\n",
       "      <th>3</th>\n",
       "      <td>1000</td>\n",
       "      <td>1488</td>\n",
       "      <td>930</td>\n",
       "      <td>558</td>\n",
       "      <td>62.500000</td>\n",
       "    </tr>\n",
       "    <tr>\n",
       "      <th>4</th>\n",
       "      <td>10004</td>\n",
       "      <td>2486</td>\n",
       "      <td>1790</td>\n",
       "      <td>696</td>\n",
       "      <td>72.003218</td>\n",
       "    </tr>\n",
       "  </tbody>\n",
       "</table>\n",
       "</div>"
      ],
      "text/plain": [
       "   user_iD  Total Questions Attempted  Corrected  Incorrected  Percentage\n",
       "0        1                       1082        753          329   69.593346\n",
       "1       10                         16          9            7   56.250000\n",
       "2      100                         33         18           15   54.545455\n",
       "3     1000                       1488        930          558   62.500000\n",
       "4    10004                       2486       1790          696   72.003218"
      ]
     },
     "execution_count": 55,
     "metadata": {},
     "output_type": "execute_result"
    }
   ],
   "source": [
    "df_final['Percentage'] = (df_final['Corrected'] / df_final['Total Questions Attempted']) *100\n",
    "df_final.head()"
   ]
  },
  {
   "cell_type": "code",
   "execution_count": 56,
   "id": "53467fd4",
   "metadata": {},
   "outputs": [],
   "source": [
    "df_final.to_csv('df_3lac.csv')"
   ]
  },
  {
   "cell_type": "code",
   "execution_count": 3,
   "id": "94c31351",
   "metadata": {},
   "outputs": [],
   "source": [
    "df_3lac = pd.read_csv('df_3lac.csv')"
   ]
  },
  {
   "cell_type": "code",
   "execution_count": 4,
   "id": "f044b087",
   "metadata": {},
   "outputs": [],
   "source": [
    "KT1['elapsed_time']= KT1.elapsed_time.div(1000)   #DIVDING THE ELAPSED TIME by 1000 to further check the mean elapsed time by each user"
   ]
  },
  {
   "cell_type": "code",
   "execution_count": 5,
   "id": "7120bdc2",
   "metadata": {},
   "outputs": [],
   "source": [
    "Elapsed_time= KT1.groupby('user_iD' , sort=False)['elapsed_time'].median()"
   ]
  },
  {
   "cell_type": "code",
   "execution_count": 6,
   "id": "0a362cbc",
   "metadata": {},
   "outputs": [],
   "source": [
    "Elapsed_time.to_csv('Elapsedtime_3L.csv')"
   ]
  },
  {
   "cell_type": "code",
   "execution_count": 7,
   "id": "6a67ad90",
   "metadata": {},
   "outputs": [],
   "source": [
    "Times = pd.read_csv('Elapsedtime_3L.csv')"
   ]
  },
  {
   "cell_type": "code",
   "execution_count": 8,
   "id": "df37f1d5",
   "metadata": {},
   "outputs": [],
   "source": [
    "dfs = [df_3lac, Times]\n",
    "df = reduce(lambda left,right: pd.merge(left,right,on='user_iD'), dfs)"
   ]
  },
  {
   "cell_type": "code",
   "execution_count": 9,
   "id": "26ee9bc5",
   "metadata": {},
   "outputs": [
    {
     "data": {
      "text/html": [
       "<div>\n",
       "<style scoped>\n",
       "    .dataframe tbody tr th:only-of-type {\n",
       "        vertical-align: middle;\n",
       "    }\n",
       "\n",
       "    .dataframe tbody tr th {\n",
       "        vertical-align: top;\n",
       "    }\n",
       "\n",
       "    .dataframe thead th {\n",
       "        text-align: right;\n",
       "    }\n",
       "</style>\n",
       "<table border=\"1\" class=\"dataframe\">\n",
       "  <thead>\n",
       "    <tr style=\"text-align: right;\">\n",
       "      <th></th>\n",
       "      <th>Unnamed: 0</th>\n",
       "      <th>user_iD</th>\n",
       "      <th>Total Questions Attempted</th>\n",
       "      <th>Corrected</th>\n",
       "      <th>Incorrected</th>\n",
       "      <th>Percentage</th>\n",
       "      <th>elapsed_time</th>\n",
       "    </tr>\n",
       "  </thead>\n",
       "  <tbody>\n",
       "    <tr>\n",
       "      <th>0</th>\n",
       "      <td>0</td>\n",
       "      <td>1</td>\n",
       "      <td>1082</td>\n",
       "      <td>753</td>\n",
       "      <td>329</td>\n",
       "      <td>69.593346</td>\n",
       "      <td>36.75</td>\n",
       "    </tr>\n",
       "    <tr>\n",
       "      <th>1</th>\n",
       "      <td>1</td>\n",
       "      <td>10</td>\n",
       "      <td>16</td>\n",
       "      <td>9</td>\n",
       "      <td>7</td>\n",
       "      <td>56.250000</td>\n",
       "      <td>27.75</td>\n",
       "    </tr>\n",
       "    <tr>\n",
       "      <th>2</th>\n",
       "      <td>2</td>\n",
       "      <td>100</td>\n",
       "      <td>33</td>\n",
       "      <td>18</td>\n",
       "      <td>15</td>\n",
       "      <td>54.545455</td>\n",
       "      <td>34.50</td>\n",
       "    </tr>\n",
       "    <tr>\n",
       "      <th>3</th>\n",
       "      <td>3</td>\n",
       "      <td>1000</td>\n",
       "      <td>1488</td>\n",
       "      <td>930</td>\n",
       "      <td>558</td>\n",
       "      <td>62.500000</td>\n",
       "      <td>34.00</td>\n",
       "    </tr>\n",
       "    <tr>\n",
       "      <th>4</th>\n",
       "      <td>4</td>\n",
       "      <td>10004</td>\n",
       "      <td>2486</td>\n",
       "      <td>1790</td>\n",
       "      <td>696</td>\n",
       "      <td>72.003218</td>\n",
       "      <td>25.00</td>\n",
       "    </tr>\n",
       "  </tbody>\n",
       "</table>\n",
       "</div>"
      ],
      "text/plain": [
       "   Unnamed: 0  user_iD  Total Questions Attempted  Corrected  Incorrected  \\\n",
       "0           0        1                       1082        753          329   \n",
       "1           1       10                         16          9            7   \n",
       "2           2      100                         33         18           15   \n",
       "3           3     1000                       1488        930          558   \n",
       "4           4    10004                       2486       1790          696   \n",
       "\n",
       "   Percentage  elapsed_time  \n",
       "0   69.593346         36.75  \n",
       "1   56.250000         27.75  \n",
       "2   54.545455         34.50  \n",
       "3   62.500000         34.00  \n",
       "4   72.003218         25.00  "
      ]
     },
     "execution_count": 9,
     "metadata": {},
     "output_type": "execute_result"
    }
   ],
   "source": [
    "df.head()"
   ]
  },
  {
   "cell_type": "code",
   "execution_count": 10,
   "id": "1614ae65",
   "metadata": {},
   "outputs": [],
   "source": [
    "del df['Unnamed: 0']"
   ]
  },
  {
   "cell_type": "code",
   "execution_count": 11,
   "id": "565f43e6",
   "metadata": {},
   "outputs": [
    {
     "data": {
      "text/html": [
       "<div>\n",
       "<style scoped>\n",
       "    .dataframe tbody tr th:only-of-type {\n",
       "        vertical-align: middle;\n",
       "    }\n",
       "\n",
       "    .dataframe tbody tr th {\n",
       "        vertical-align: top;\n",
       "    }\n",
       "\n",
       "    .dataframe thead th {\n",
       "        text-align: right;\n",
       "    }\n",
       "</style>\n",
       "<table border=\"1\" class=\"dataframe\">\n",
       "  <thead>\n",
       "    <tr style=\"text-align: right;\">\n",
       "      <th></th>\n",
       "      <th>user_iD</th>\n",
       "      <th>Total Questions Attempted</th>\n",
       "      <th>Corrected</th>\n",
       "      <th>Incorrected</th>\n",
       "      <th>Percentage</th>\n",
       "      <th>elapsed_time</th>\n",
       "    </tr>\n",
       "  </thead>\n",
       "  <tbody>\n",
       "    <tr>\n",
       "      <th>0</th>\n",
       "      <td>1</td>\n",
       "      <td>1082</td>\n",
       "      <td>753</td>\n",
       "      <td>329</td>\n",
       "      <td>69.593346</td>\n",
       "      <td>36.75</td>\n",
       "    </tr>\n",
       "    <tr>\n",
       "      <th>1</th>\n",
       "      <td>10</td>\n",
       "      <td>16</td>\n",
       "      <td>9</td>\n",
       "      <td>7</td>\n",
       "      <td>56.250000</td>\n",
       "      <td>27.75</td>\n",
       "    </tr>\n",
       "    <tr>\n",
       "      <th>2</th>\n",
       "      <td>100</td>\n",
       "      <td>33</td>\n",
       "      <td>18</td>\n",
       "      <td>15</td>\n",
       "      <td>54.545455</td>\n",
       "      <td>34.50</td>\n",
       "    </tr>\n",
       "    <tr>\n",
       "      <th>3</th>\n",
       "      <td>1000</td>\n",
       "      <td>1488</td>\n",
       "      <td>930</td>\n",
       "      <td>558</td>\n",
       "      <td>62.500000</td>\n",
       "      <td>34.00</td>\n",
       "    </tr>\n",
       "    <tr>\n",
       "      <th>4</th>\n",
       "      <td>10004</td>\n",
       "      <td>2486</td>\n",
       "      <td>1790</td>\n",
       "      <td>696</td>\n",
       "      <td>72.003218</td>\n",
       "      <td>25.00</td>\n",
       "    </tr>\n",
       "  </tbody>\n",
       "</table>\n",
       "</div>"
      ],
      "text/plain": [
       "   user_iD  Total Questions Attempted  Corrected  Incorrected  Percentage  \\\n",
       "0        1                       1082        753          329   69.593346   \n",
       "1       10                         16          9            7   56.250000   \n",
       "2      100                         33         18           15   54.545455   \n",
       "3     1000                       1488        930          558   62.500000   \n",
       "4    10004                       2486       1790          696   72.003218   \n",
       "\n",
       "   elapsed_time  \n",
       "0         36.75  \n",
       "1         27.75  \n",
       "2         34.50  \n",
       "3         34.00  \n",
       "4         25.00  "
      ]
     },
     "execution_count": 11,
     "metadata": {},
     "output_type": "execute_result"
    }
   ],
   "source": [
    "df.head()"
   ]
  },
  {
   "cell_type": "code",
   "execution_count": 13,
   "id": "90ee728e",
   "metadata": {},
   "outputs": [],
   "source": [
    "df.to_csv('data_3lac.csv')"
   ]
  }
 ],
 "metadata": {
  "kernelspec": {
   "display_name": "conda_python3",
   "language": "python",
   "name": "conda_python3"
  },
  "language_info": {
   "codemirror_mode": {
    "name": "ipython",
    "version": 3
   },
   "file_extension": ".py",
   "mimetype": "text/x-python",
   "name": "python",
   "nbconvert_exporter": "python",
   "pygments_lexer": "ipython3",
   "version": "3.6.13"
  }
 },
 "nbformat": 4,
 "nbformat_minor": 5
}
