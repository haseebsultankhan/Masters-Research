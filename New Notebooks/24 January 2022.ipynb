{
 "cells": [
  {
   "cell_type": "code",
   "execution_count": 1,
   "id": "13a571a4",
   "metadata": {},
   "outputs": [],
   "source": [
    "import pandas as pd\n",
    "import numpy as np\n",
    "import seaborn as sns\n",
    "#import sagemaker\n",
    "#import boto3\n",
    "import matplotlib.pyplot as plt \n",
    "pd.set_option('display.max_columns',None) # To display all columns\n",
    "pd.set_option('display.max_rows',None) # To display all columns\n",
    "#client = boto3.client('s3')\n",
    "import feather\n",
    "import matplotlib.pyplot as plt\n",
    "from matplotlib.ticker import FuncFormatter\n",
    "from functools import reduce\n",
    "from datetime import datetime\n",
    "from dateutil.relativedelta import relativedelta"
   ]
  },
  {
   "cell_type": "code",
   "execution_count": 2,
   "id": "c2f19b77",
   "metadata": {},
   "outputs": [],
   "source": [
    "df = pd.read_feather('Dataframe27.ftr')\n",
    "#dfq=pd.read_feather('dfq.ftr')"
   ]
  },
  {
   "cell_type": "code",
   "execution_count": 3,
   "id": "e3668a4b",
   "metadata": {},
   "outputs": [
    {
     "data": {
      "text/html": [
       "<div>\n",
       "<style scoped>\n",
       "    .dataframe tbody tr th:only-of-type {\n",
       "        vertical-align: middle;\n",
       "    }\n",
       "\n",
       "    .dataframe tbody tr th {\n",
       "        vertical-align: top;\n",
       "    }\n",
       "\n",
       "    .dataframe thead th {\n",
       "        text-align: right;\n",
       "    }\n",
       "</style>\n",
       "<table border=\"1\" class=\"dataframe\">\n",
       "  <thead>\n",
       "    <tr style=\"text-align: right;\">\n",
       "      <th></th>\n",
       "      <th>user_iD</th>\n",
       "      <th>question_id</th>\n",
       "      <th>user_answer</th>\n",
       "      <th>correct_answer</th>\n",
       "      <th>correct</th>\n",
       "      <th>elapsed_time</th>\n",
       "      <th>solving_id</th>\n",
       "      <th>explanation_id</th>\n",
       "      <th>bundle_id</th>\n",
       "      <th>timestamp</th>\n",
       "      <th>deployed_at</th>\n",
       "    </tr>\n",
       "  </thead>\n",
       "  <tbody>\n",
       "    <tr>\n",
       "      <th>0</th>\n",
       "      <td>50</td>\n",
       "      <td>3</td>\n",
       "      <td>b</td>\n",
       "      <td>b</td>\n",
       "      <td>1.0</td>\n",
       "      <td>23.0</td>\n",
       "      <td>1729</td>\n",
       "      <td>3</td>\n",
       "      <td>b3</td>\n",
       "      <td>1560337981670</td>\n",
       "      <td>2019-05-17 11:40:22.784</td>\n",
       "    </tr>\n",
       "    <tr>\n",
       "      <th>1</th>\n",
       "      <td>50</td>\n",
       "      <td>4</td>\n",
       "      <td>b</td>\n",
       "      <td>b</td>\n",
       "      <td>1.0</td>\n",
       "      <td>29.0</td>\n",
       "      <td>2109</td>\n",
       "      <td>4</td>\n",
       "      <td>b4</td>\n",
       "      <td>1560769502979</td>\n",
       "      <td>2019-05-17 11:40:25.357</td>\n",
       "    </tr>\n",
       "    <tr>\n",
       "      <th>2</th>\n",
       "      <td>50</td>\n",
       "      <td>5</td>\n",
       "      <td>c</td>\n",
       "      <td>c</td>\n",
       "      <td>1.0</td>\n",
       "      <td>24.0</td>\n",
       "      <td>1883</td>\n",
       "      <td>5</td>\n",
       "      <td>b5</td>\n",
       "      <td>1560513025097</td>\n",
       "      <td>2019-05-17 11:40:28.439</td>\n",
       "    </tr>\n",
       "    <tr>\n",
       "      <th>3</th>\n",
       "      <td>50</td>\n",
       "      <td>7</td>\n",
       "      <td>d</td>\n",
       "      <td>d</td>\n",
       "      <td>1.0</td>\n",
       "      <td>23.0</td>\n",
       "      <td>1747</td>\n",
       "      <td>7</td>\n",
       "      <td>b7</td>\n",
       "      <td>1560339686648</td>\n",
       "      <td>2019-05-17 11:40:33.992</td>\n",
       "    </tr>\n",
       "    <tr>\n",
       "      <th>4</th>\n",
       "      <td>50</td>\n",
       "      <td>29</td>\n",
       "      <td>d</td>\n",
       "      <td>d</td>\n",
       "      <td>1.0</td>\n",
       "      <td>19.0</td>\n",
       "      <td>3905</td>\n",
       "      <td>29</td>\n",
       "      <td>b29</td>\n",
       "      <td>1571227991581</td>\n",
       "      <td>2019-09-17 02:45:04.653</td>\n",
       "    </tr>\n",
       "  </tbody>\n",
       "</table>\n",
       "</div>"
      ],
      "text/plain": [
       "   user_iD  question_id user_answer correct_answer  correct  elapsed_time  \\\n",
       "0       50            3           b              b      1.0          23.0   \n",
       "1       50            4           b              b      1.0          29.0   \n",
       "2       50            5           c              c      1.0          24.0   \n",
       "3       50            7           d              d      1.0          23.0   \n",
       "4       50           29           d              d      1.0          19.0   \n",
       "\n",
       "   solving_id  explanation_id bundle_id      timestamp             deployed_at  \n",
       "0        1729               3        b3  1560337981670 2019-05-17 11:40:22.784  \n",
       "1        2109               4        b4  1560769502979 2019-05-17 11:40:25.357  \n",
       "2        1883               5        b5  1560513025097 2019-05-17 11:40:28.439  \n",
       "3        1747               7        b7  1560339686648 2019-05-17 11:40:33.992  \n",
       "4        3905              29       b29  1571227991581 2019-09-17 02:45:04.653  "
      ]
     },
     "execution_count": 3,
     "metadata": {},
     "output_type": "execute_result"
    }
   ],
   "source": [
    "df['bundle_id'] ='b' + df['bundle_id'].astype(str)\n",
    "df.head()"
   ]
  },
  {
   "cell_type": "code",
   "execution_count": 4,
   "id": "49d38238",
   "metadata": {},
   "outputs": [
    {
     "data": {
      "text/plain": [
       "8932"
      ]
     },
     "execution_count": 4,
     "metadata": {},
     "output_type": "execute_result"
    }
   ],
   "source": [
    "df['bundle_id'].nunique()"
   ]
  },
  {
   "cell_type": "code",
   "execution_count": null,
   "id": "20e14dea",
   "metadata": {},
   "outputs": [],
   "source": [
    "bundle = [f'b{i}' for i in range(1, 8933)]\n",
    "\n",
    "values = df.sort_values('timestamp').groupby('user_iD').cumcount().add(1)\n",
    "\n",
    "out = (\n",
    "  df.assign(value=values).pivot_table('value', 'user_iD', 'bundle_id', fill_value=0)\n",
    "    .reindex(bundle, axis=1, fill_value=0).reset_index()\n",
    ")"
   ]
  },
  {
   "cell_type": "code",
   "execution_count": null,
   "id": "9b9ebdc1",
   "metadata": {},
   "outputs": [],
   "source": []
  },
  {
   "cell_type": "code",
   "execution_count": null,
   "id": "8570ae09",
   "metadata": {},
   "outputs": [],
   "source": [
    "#out.reset_index().rename_axis(columns=None)"
   ]
  },
  {
   "cell_type": "code",
   "execution_count": null,
   "id": "4363cf08",
   "metadata": {},
   "outputs": [],
   "source": [
    "out[0:3]"
   ]
  },
  {
   "cell_type": "code",
   "execution_count": null,
   "id": "4142a5ff",
   "metadata": {},
   "outputs": [],
   "source": [
    "out.to_feather('Output.ftr')"
   ]
  },
  {
   "cell_type": "code",
   "execution_count": null,
   "id": "6f9908af",
   "metadata": {},
   "outputs": [],
   "source": []
  }
 ],
 "metadata": {
  "kernelspec": {
   "display_name": "conda_python3",
   "language": "python",
   "name": "conda_python3"
  },
  "language_info": {
   "codemirror_mode": {
    "name": "ipython",
    "version": 3
   },
   "file_extension": ".py",
   "mimetype": "text/x-python",
   "name": "python",
   "nbconvert_exporter": "python",
   "pygments_lexer": "ipython3",
   "version": "3.6.13"
  }
 },
 "nbformat": 4,
 "nbformat_minor": 5
}
