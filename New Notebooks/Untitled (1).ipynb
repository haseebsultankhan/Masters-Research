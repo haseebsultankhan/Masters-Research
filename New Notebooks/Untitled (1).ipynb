{
 "cells": [
  {
   "cell_type": "code",
   "execution_count": 1,
   "id": "7dfc271c",
   "metadata": {},
   "outputs": [],
   "source": [
    "import pandas as pd\n",
    "import numpy as np\n",
    "import seaborn as sns\n",
    "import sagemaker\n",
    "import boto3\n",
    "import matplotlib.pyplot as plt \n",
    "pd.set_option('display.max_columns',None) # To display all columns\n",
    "pd.set_option('display.max_rows',None) # To display all columns\n",
    "client = boto3.client('s3')\n",
    "import feather\n",
    "import matplotlib.pyplot as plt"
   ]
  },
  {
   "cell_type": "code",
   "execution_count": 2,
   "id": "e1481c69",
   "metadata": {},
   "outputs": [],
   "source": [
    "path = 's3://haseebdata/EDNET DATA/Ednet feather files/KT3.ftr'"
   ]
  },
  {
   "cell_type": "code",
   "execution_count": 3,
   "id": "4cced214",
   "metadata": {},
   "outputs": [],
   "source": [
    "df = pd.read_feather(path)"
   ]
  },
  {
   "cell_type": "code",
   "execution_count": 4,
   "id": "1f412f76",
   "metadata": {},
   "outputs": [
    {
     "data": {
      "text/html": [
       "<div>\n",
       "<style scoped>\n",
       "    .dataframe tbody tr th:only-of-type {\n",
       "        vertical-align: middle;\n",
       "    }\n",
       "\n",
       "    .dataframe tbody tr th {\n",
       "        vertical-align: top;\n",
       "    }\n",
       "\n",
       "    .dataframe thead th {\n",
       "        text-align: right;\n",
       "    }\n",
       "</style>\n",
       "<table border=\"1\" class=\"dataframe\">\n",
       "  <thead>\n",
       "    <tr style=\"text-align: right;\">\n",
       "      <th></th>\n",
       "      <th>timestamp</th>\n",
       "      <th>action_type</th>\n",
       "      <th>item_id</th>\n",
       "      <th>source</th>\n",
       "      <th>user_answer</th>\n",
       "      <th>platform</th>\n",
       "      <th>user_iD</th>\n",
       "    </tr>\n",
       "  </thead>\n",
       "  <tbody>\n",
       "    <tr>\n",
       "      <th>0</th>\n",
       "      <td>2019-08-06 12:55:51.269</td>\n",
       "      <td>enter</td>\n",
       "      <td>b3544</td>\n",
       "      <td>diagnosis</td>\n",
       "      <td>None</td>\n",
       "      <td>mobile</td>\n",
       "      <td>1</td>\n",
       "    </tr>\n",
       "    <tr>\n",
       "      <th>1</th>\n",
       "      <td>2019-08-06 12:56:27.972</td>\n",
       "      <td>respond</td>\n",
       "      <td>q5012</td>\n",
       "      <td>diagnosis</td>\n",
       "      <td>b</td>\n",
       "      <td>mobile</td>\n",
       "      <td>1</td>\n",
       "    </tr>\n",
       "    <tr>\n",
       "      <th>2</th>\n",
       "      <td>2019-08-06 12:56:34.904</td>\n",
       "      <td>submit</td>\n",
       "      <td>b3544</td>\n",
       "      <td>diagnosis</td>\n",
       "      <td>None</td>\n",
       "      <td>mobile</td>\n",
       "      <td>1</td>\n",
       "    </tr>\n",
       "    <tr>\n",
       "      <th>3</th>\n",
       "      <td>2019-08-06 12:56:35.001</td>\n",
       "      <td>enter</td>\n",
       "      <td>b3238</td>\n",
       "      <td>diagnosis</td>\n",
       "      <td>None</td>\n",
       "      <td>mobile</td>\n",
       "      <td>1</td>\n",
       "    </tr>\n",
       "    <tr>\n",
       "      <th>4</th>\n",
       "      <td>2019-08-06 12:56:58.682</td>\n",
       "      <td>respond</td>\n",
       "      <td>q4706</td>\n",
       "      <td>diagnosis</td>\n",
       "      <td>c</td>\n",
       "      <td>mobile</td>\n",
       "      <td>1</td>\n",
       "    </tr>\n",
       "  </tbody>\n",
       "</table>\n",
       "</div>"
      ],
      "text/plain": [
       "                timestamp action_type item_id     source user_answer platform  \\\n",
       "0 2019-08-06 12:55:51.269       enter   b3544  diagnosis        None   mobile   \n",
       "1 2019-08-06 12:56:27.972     respond   q5012  diagnosis           b   mobile   \n",
       "2 2019-08-06 12:56:34.904      submit   b3544  diagnosis        None   mobile   \n",
       "3 2019-08-06 12:56:35.001       enter   b3238  diagnosis        None   mobile   \n",
       "4 2019-08-06 12:56:58.682     respond   q4706  diagnosis           c   mobile   \n",
       "\n",
       "   user_iD  \n",
       "0        1  \n",
       "1        1  \n",
       "2        1  \n",
       "3        1  \n",
       "4        1  "
      ]
     },
     "execution_count": 4,
     "metadata": {},
     "output_type": "execute_result"
    }
   ],
   "source": [
    "df.head()"
   ]
  },
  {
   "cell_type": "code",
   "execution_count": 5,
   "id": "9994c1c2",
   "metadata": {},
   "outputs": [
    {
     "data": {
      "text/plain": [
       "timestamp      datetime64[ns]\n",
       "action_type            object\n",
       "item_id                object\n",
       "source                 object\n",
       "user_answer            object\n",
       "platform               object\n",
       "user_iD                 int32\n",
       "dtype: object"
      ]
     },
     "execution_count": 5,
     "metadata": {},
     "output_type": "execute_result"
    }
   ],
   "source": [
    "df.dtypes"
   ]
  },
  {
   "cell_type": "code",
   "execution_count": 6,
   "id": "0e20c4f4",
   "metadata": {},
   "outputs": [],
   "source": [
    "#df['user_iD'].nunique"
   ]
  },
  {
   "cell_type": "code",
   "execution_count": 7,
   "id": "2c52b260",
   "metadata": {},
   "outputs": [],
   "source": [
    "A = df.loc[df['action_type'].isin(['respond'])]"
   ]
  },
  {
   "cell_type": "code",
   "execution_count": 8,
   "id": "a1b851a3",
   "metadata": {},
   "outputs": [
    {
     "data": {
      "text/html": [
       "<div>\n",
       "<style scoped>\n",
       "    .dataframe tbody tr th:only-of-type {\n",
       "        vertical-align: middle;\n",
       "    }\n",
       "\n",
       "    .dataframe tbody tr th {\n",
       "        vertical-align: top;\n",
       "    }\n",
       "\n",
       "    .dataframe thead th {\n",
       "        text-align: right;\n",
       "    }\n",
       "</style>\n",
       "<table border=\"1\" class=\"dataframe\">\n",
       "  <thead>\n",
       "    <tr style=\"text-align: right;\">\n",
       "      <th></th>\n",
       "      <th>timestamp</th>\n",
       "      <th>action_type</th>\n",
       "      <th>item_id</th>\n",
       "      <th>source</th>\n",
       "      <th>user_answer</th>\n",
       "      <th>platform</th>\n",
       "      <th>user_iD</th>\n",
       "    </tr>\n",
       "  </thead>\n",
       "  <tbody>\n",
       "    <tr>\n",
       "      <th>1</th>\n",
       "      <td>2019-08-06 12:56:27.972</td>\n",
       "      <td>respond</td>\n",
       "      <td>q5012</td>\n",
       "      <td>diagnosis</td>\n",
       "      <td>b</td>\n",
       "      <td>mobile</td>\n",
       "      <td>1</td>\n",
       "    </tr>\n",
       "    <tr>\n",
       "      <th>4</th>\n",
       "      <td>2019-08-06 12:56:58.682</td>\n",
       "      <td>respond</td>\n",
       "      <td>q4706</td>\n",
       "      <td>diagnosis</td>\n",
       "      <td>c</td>\n",
       "      <td>mobile</td>\n",
       "      <td>1</td>\n",
       "    </tr>\n",
       "    <tr>\n",
       "      <th>7</th>\n",
       "      <td>2019-08-06 12:58:10.094</td>\n",
       "      <td>respond</td>\n",
       "      <td>q4366</td>\n",
       "      <td>diagnosis</td>\n",
       "      <td>b</td>\n",
       "      <td>mobile</td>\n",
       "      <td>1</td>\n",
       "    </tr>\n",
       "    <tr>\n",
       "      <th>10</th>\n",
       "      <td>2019-08-06 12:58:57.361</td>\n",
       "      <td>respond</td>\n",
       "      <td>q4829</td>\n",
       "      <td>diagnosis</td>\n",
       "      <td>a</td>\n",
       "      <td>mobile</td>\n",
       "      <td>1</td>\n",
       "    </tr>\n",
       "    <tr>\n",
       "      <th>13</th>\n",
       "      <td>2019-08-06 12:59:55.328</td>\n",
       "      <td>respond</td>\n",
       "      <td>q6528</td>\n",
       "      <td>diagnosis</td>\n",
       "      <td>b</td>\n",
       "      <td>mobile</td>\n",
       "      <td>1</td>\n",
       "    </tr>\n",
       "  </tbody>\n",
       "</table>\n",
       "</div>"
      ],
      "text/plain": [
       "                 timestamp action_type item_id     source user_answer  \\\n",
       "1  2019-08-06 12:56:27.972     respond   q5012  diagnosis           b   \n",
       "4  2019-08-06 12:56:58.682     respond   q4706  diagnosis           c   \n",
       "7  2019-08-06 12:58:10.094     respond   q4366  diagnosis           b   \n",
       "10 2019-08-06 12:58:57.361     respond   q4829  diagnosis           a   \n",
       "13 2019-08-06 12:59:55.328     respond   q6528  diagnosis           b   \n",
       "\n",
       "   platform  user_iD  \n",
       "1    mobile        1  \n",
       "4    mobile        1  \n",
       "7    mobile        1  \n",
       "10   mobile        1  \n",
       "13   mobile        1  "
      ]
     },
     "execution_count": 8,
     "metadata": {},
     "output_type": "execute_result"
    }
   ],
   "source": [
    "A.head()"
   ]
  },
  {
   "cell_type": "code",
   "execution_count": 9,
   "id": "4c4fbae3",
   "metadata": {},
   "outputs": [
    {
     "data": {
      "text/plain": [
       "(23371166, 7)"
      ]
     },
     "execution_count": 9,
     "metadata": {},
     "output_type": "execute_result"
    }
   ],
   "source": [
    "A.shape"
   ]
  },
  {
   "cell_type": "code",
   "execution_count": 13,
   "id": "feccc006",
   "metadata": {},
   "outputs": [
    {
     "name": "stdout",
     "output_type": "stream",
     "text": [
      "             timestamp   item_id    source  user_answer  platform   user_iD\n",
      "action_type                                                                \n",
      "respond       23371166  23371166  23371166     23371166  23371166  23371166\n"
     ]
    }
   ],
   "source": [
    "dates = A.groupby(\"action_type\").count() # Number of occurrences of each date\n",
    "print(dates)"
   ]
  },
  {
   "cell_type": "code",
   "execution_count": 14,
   "id": "843ac132",
   "metadata": {},
   "outputs": [
    {
     "name": "stdout",
     "output_type": "stream",
     "text": [
      "action_type\n",
      "respond    289263\n",
      "Name: uniques, dtype: int64\n"
     ]
    }
   ],
   "source": [
    "dates[\"uniques\"] = A.groupby(\"action_type\").user_iD.nunique() # Number of unique users per day\n",
    "print (dates[\"uniques\"])"
   ]
  },
  {
   "cell_type": "code",
   "execution_count": 15,
   "id": "eeb17a0f",
   "metadata": {},
   "outputs": [],
   "source": [
    "dates[\"ratio\"] = dates.user_iD/dates.uniques # Ratio of the two"
   ]
  },
  {
   "cell_type": "code",
   "execution_count": 16,
   "id": "4d928ea0",
   "metadata": {},
   "outputs": [
    {
     "name": "stdout",
     "output_type": "stream",
     "text": [
      "action_type\n",
      "respond    80.79556\n",
      "Name: ratio, dtype: float64\n"
     ]
    }
   ],
   "source": [
    "print(dates[\"ratio\"])"
   ]
  },
  {
   "cell_type": "code",
   "execution_count": null,
   "id": "c143cb2c",
   "metadata": {},
   "outputs": [],
   "source": [
    "#A.groupby('user_iD').id.transform(lambda x : x.duplicated(keep=False).sum())"
   ]
  },
  {
   "cell_type": "code",
   "execution_count": 10,
   "id": "79259686",
   "metadata": {},
   "outputs": [],
   "source": [
    "B_userid_counts = A.user_iD.value_counts()\n",
    "mask = B_userid_counts >= 30\n",
    "filtered_userids = mask[mask].index\n",
    "\n",
    "B = A[A.user_iD.isin(filtered_userids)]"
   ]
  },
  {
   "cell_type": "code",
   "execution_count": 11,
   "id": "a9c5f2bd",
   "metadata": {},
   "outputs": [
    {
     "data": {
      "text/html": [
       "<div>\n",
       "<style scoped>\n",
       "    .dataframe tbody tr th:only-of-type {\n",
       "        vertical-align: middle;\n",
       "    }\n",
       "\n",
       "    .dataframe tbody tr th {\n",
       "        vertical-align: top;\n",
       "    }\n",
       "\n",
       "    .dataframe thead th {\n",
       "        text-align: right;\n",
       "    }\n",
       "</style>\n",
       "<table border=\"1\" class=\"dataframe\">\n",
       "  <thead>\n",
       "    <tr style=\"text-align: right;\">\n",
       "      <th></th>\n",
       "      <th>timestamp</th>\n",
       "      <th>action_type</th>\n",
       "      <th>item_id</th>\n",
       "      <th>source</th>\n",
       "      <th>user_answer</th>\n",
       "      <th>platform</th>\n",
       "      <th>user_iD</th>\n",
       "    </tr>\n",
       "  </thead>\n",
       "  <tbody>\n",
       "    <tr>\n",
       "      <th>1</th>\n",
       "      <td>2019-08-06 12:56:27.972</td>\n",
       "      <td>respond</td>\n",
       "      <td>q5012</td>\n",
       "      <td>diagnosis</td>\n",
       "      <td>b</td>\n",
       "      <td>mobile</td>\n",
       "      <td>1</td>\n",
       "    </tr>\n",
       "    <tr>\n",
       "      <th>4</th>\n",
       "      <td>2019-08-06 12:56:58.682</td>\n",
       "      <td>respond</td>\n",
       "      <td>q4706</td>\n",
       "      <td>diagnosis</td>\n",
       "      <td>c</td>\n",
       "      <td>mobile</td>\n",
       "      <td>1</td>\n",
       "    </tr>\n",
       "    <tr>\n",
       "      <th>7</th>\n",
       "      <td>2019-08-06 12:58:10.094</td>\n",
       "      <td>respond</td>\n",
       "      <td>q4366</td>\n",
       "      <td>diagnosis</td>\n",
       "      <td>b</td>\n",
       "      <td>mobile</td>\n",
       "      <td>1</td>\n",
       "    </tr>\n",
       "    <tr>\n",
       "      <th>10</th>\n",
       "      <td>2019-08-06 12:58:57.361</td>\n",
       "      <td>respond</td>\n",
       "      <td>q4829</td>\n",
       "      <td>diagnosis</td>\n",
       "      <td>a</td>\n",
       "      <td>mobile</td>\n",
       "      <td>1</td>\n",
       "    </tr>\n",
       "    <tr>\n",
       "      <th>13</th>\n",
       "      <td>2019-08-06 12:59:55.328</td>\n",
       "      <td>respond</td>\n",
       "      <td>q6528</td>\n",
       "      <td>diagnosis</td>\n",
       "      <td>b</td>\n",
       "      <td>mobile</td>\n",
       "      <td>1</td>\n",
       "    </tr>\n",
       "  </tbody>\n",
       "</table>\n",
       "</div>"
      ],
      "text/plain": [
       "                 timestamp action_type item_id     source user_answer  \\\n",
       "1  2019-08-06 12:56:27.972     respond   q5012  diagnosis           b   \n",
       "4  2019-08-06 12:56:58.682     respond   q4706  diagnosis           c   \n",
       "7  2019-08-06 12:58:10.094     respond   q4366  diagnosis           b   \n",
       "10 2019-08-06 12:58:57.361     respond   q4829  diagnosis           a   \n",
       "13 2019-08-06 12:59:55.328     respond   q6528  diagnosis           b   \n",
       "\n",
       "   platform  user_iD  \n",
       "1    mobile        1  \n",
       "4    mobile        1  \n",
       "7    mobile        1  \n",
       "10   mobile        1  \n",
       "13   mobile        1  "
      ]
     },
     "execution_count": 11,
     "metadata": {},
     "output_type": "execute_result"
    }
   ],
   "source": [
    "B.head()"
   ]
  },
  {
   "cell_type": "code",
   "execution_count": 12,
   "id": "4f93c5c5",
   "metadata": {},
   "outputs": [
    {
     "data": {
      "text/plain": [
       "(21146812, 7)"
      ]
     },
     "execution_count": 12,
     "metadata": {},
     "output_type": "execute_result"
    }
   ],
   "source": [
    "B.shape"
   ]
  },
  {
   "cell_type": "code",
   "execution_count": null,
   "id": "c14ba9b0",
   "metadata": {},
   "outputs": [],
   "source": [
    "B['user_iD'].unique"
   ]
  },
  {
   "cell_type": "code",
   "execution_count": null,
   "id": "72ce5df5",
   "metadata": {},
   "outputs": [],
   "source": [
    "B['user_iD'].nunique"
   ]
  },
  {
   "cell_type": "code",
   "execution_count": 18,
   "id": "19b3f0e6",
   "metadata": {},
   "outputs": [
    {
     "data": {
      "text/plain": [
       "<AxesSubplot:>"
      ]
     },
     "execution_count": 18,
     "metadata": {},
     "output_type": "execute_result"
    },
    {
     "data": {
      "image/png": "[encoded data removed]",
      "text/plain": [
       "<Figure size 432x288 with 1 Axes>"
      ]
     },
     "metadata": {
      "needs_background": "light"
     },
     "output_type": "display_data"
    }
   ],
   "source": [
    "B['user_iD'].value_counts()[:30].plot(kind='bar')"
   ]
  },
  {
   "cell_type": "code",
   "execution_count": 15,
   "id": "d7847f80",
   "metadata": {},
   "outputs": [],
   "source": [
    "A_userid_counts = A.user_iD.value_counts()\n",
    "A_mask = A_userid_counts >= 100\n",
    "filtered_userid = A_mask[A_mask].index\n",
    "\n",
    "C = A[A.user_iD.isin(filtered_userid)]"
   ]
  },
  {
   "cell_type": "code",
   "execution_count": 16,
   "id": "c18bb2c1",
   "metadata": {},
   "outputs": [
    {
     "data": {
      "text/html": [
       "<div>\n",
       "<style scoped>\n",
       "    .dataframe tbody tr th:only-of-type {\n",
       "        vertical-align: middle;\n",
       "    }\n",
       "\n",
       "    .dataframe tbody tr th {\n",
       "        vertical-align: top;\n",
       "    }\n",
       "\n",
       "    .dataframe thead th {\n",
       "        text-align: right;\n",
       "    }\n",
       "</style>\n",
       "<table border=\"1\" class=\"dataframe\">\n",
       "  <thead>\n",
       "    <tr style=\"text-align: right;\">\n",
       "      <th></th>\n",
       "      <th>timestamp</th>\n",
       "      <th>action_type</th>\n",
       "      <th>item_id</th>\n",
       "      <th>source</th>\n",
       "      <th>user_answer</th>\n",
       "      <th>platform</th>\n",
       "      <th>user_iD</th>\n",
       "    </tr>\n",
       "  </thead>\n",
       "  <tbody>\n",
       "    <tr>\n",
       "      <th>1</th>\n",
       "      <td>2019-08-06 12:56:27.972</td>\n",
       "      <td>respond</td>\n",
       "      <td>q5012</td>\n",
       "      <td>diagnosis</td>\n",
       "      <td>b</td>\n",
       "      <td>mobile</td>\n",
       "      <td>1</td>\n",
       "    </tr>\n",
       "    <tr>\n",
       "      <th>4</th>\n",
       "      <td>2019-08-06 12:56:58.682</td>\n",
       "      <td>respond</td>\n",
       "      <td>q4706</td>\n",
       "      <td>diagnosis</td>\n",
       "      <td>c</td>\n",
       "      <td>mobile</td>\n",
       "      <td>1</td>\n",
       "    </tr>\n",
       "    <tr>\n",
       "      <th>7</th>\n",
       "      <td>2019-08-06 12:58:10.094</td>\n",
       "      <td>respond</td>\n",
       "      <td>q4366</td>\n",
       "      <td>diagnosis</td>\n",
       "      <td>b</td>\n",
       "      <td>mobile</td>\n",
       "      <td>1</td>\n",
       "    </tr>\n",
       "    <tr>\n",
       "      <th>10</th>\n",
       "      <td>2019-08-06 12:58:57.361</td>\n",
       "      <td>respond</td>\n",
       "      <td>q4829</td>\n",
       "      <td>diagnosis</td>\n",
       "      <td>a</td>\n",
       "      <td>mobile</td>\n",
       "      <td>1</td>\n",
       "    </tr>\n",
       "    <tr>\n",
       "      <th>13</th>\n",
       "      <td>2019-08-06 12:59:55.328</td>\n",
       "      <td>respond</td>\n",
       "      <td>q6528</td>\n",
       "      <td>diagnosis</td>\n",
       "      <td>b</td>\n",
       "      <td>mobile</td>\n",
       "      <td>1</td>\n",
       "    </tr>\n",
       "  </tbody>\n",
       "</table>\n",
       "</div>"
      ],
      "text/plain": [
       "                 timestamp action_type item_id     source user_answer  \\\n",
       "1  2019-08-06 12:56:27.972     respond   q5012  diagnosis           b   \n",
       "4  2019-08-06 12:56:58.682     respond   q4706  diagnosis           c   \n",
       "7  2019-08-06 12:58:10.094     respond   q4366  diagnosis           b   \n",
       "10 2019-08-06 12:58:57.361     respond   q4829  diagnosis           a   \n",
       "13 2019-08-06 12:59:55.328     respond   q6528  diagnosis           b   \n",
       "\n",
       "   platform  user_iD  \n",
       "1    mobile        1  \n",
       "4    mobile        1  \n",
       "7    mobile        1  \n",
       "10   mobile        1  \n",
       "13   mobile        1  "
      ]
     },
     "execution_count": 16,
     "metadata": {},
     "output_type": "execute_result"
    }
   ],
   "source": [
    "C.head()"
   ]
  },
  {
   "cell_type": "code",
   "execution_count": 17,
   "id": "9eb1de98",
   "metadata": {},
   "outputs": [
    {
     "data": {
      "text/plain": [
       "(19576684, 7)"
      ]
     },
     "execution_count": 17,
     "metadata": {},
     "output_type": "execute_result"
    }
   ],
   "source": [
    "C.shape"
   ]
  },
  {
   "cell_type": "code",
   "execution_count": null,
   "id": "ae09789b",
   "metadata": {},
   "outputs": [],
   "source": [
    "C['user_iD'].unique"
   ]
  },
  {
   "cell_type": "code",
   "execution_count": null,
   "id": "db5146cc",
   "metadata": {},
   "outputs": [],
   "source": [
    "C['user_iD'].nunique"
   ]
  },
  {
   "cell_type": "code",
   "execution_count": 16,
   "id": "858a39da",
   "metadata": {},
   "outputs": [
    {
     "data": {
      "text/plain": [
       "<AxesSubplot:>"
      ]
     },
     "execution_count": 16,
     "metadata": {},
     "output_type": "execute_result"
    },
    {
     "data": {
      "image/png": "[encoded data removed]",
      "text/plain": [
       "<Figure size 432x288 with 1 Axes>"
      ]
     },
     "metadata": {
      "needs_background": "light"
     },
     "output_type": "display_data"
    }
   ],
   "source": [
    "C['user_iD'].value_counts()[:30].plot(kind='bar')"
   ]
  },
  {
   "cell_type": "code",
   "execution_count": 22,
   "id": "6a542a34",
   "metadata": {},
   "outputs": [
    {
     "data": {
      "text/plain": [
       "<AxesSubplot:>"
      ]
     },
     "execution_count": 22,
     "metadata": {},
     "output_type": "execute_result"
    },
    {
     "data": {
      "image/png": "[encoded data removed]",
      "text/plain": [
       "<Figure size 432x288 with 1 Axes>"
      ]
     },
     "metadata": {
      "needs_background": "light"
     },
     "output_type": "display_data"
    }
   ],
   "source": [
    "C['user_iD'].value_counts()[2500:2530].plot(kind='bar')"
   ]
  },
  {
   "cell_type": "code",
   "execution_count": null,
   "id": "7b191c4c",
   "metadata": {},
   "outputs": [],
   "source": [
    "D_userid_counts = C.user_iD.value_counts()\n",
    "mask = D_userid_counts = 10\n",
    "#filtered_userids = mask[mask].index\n",
    "filter_userid = C.drop(mask[mask].index)\n",
    "D = C[C.user_iD.isin(filter_userid)]"
   ]
  },
  {
   "cell_type": "code",
   "execution_count": 22,
   "id": "0ee2d929",
   "metadata": {},
   "outputs": [
    {
     "ename": "TypeError",
     "evalue": "'int' object is not subscriptable",
     "output_type": "error",
     "traceback": [
      "\u001b[0;31m---------------------------------------------------------------------------\u001b[0m",
      "\u001b[0;31mTypeError\u001b[0m                                 Traceback (most recent call last)",
      "\u001b[0;32m<ipython-input-22-0426652460de>\u001b[0m in \u001b[0;36m<module>\u001b[0;34m\u001b[0m\n\u001b[1;32m      1\u001b[0m \u001b[0mD_userid_counts\u001b[0m \u001b[0;34m=\u001b[0m \u001b[0mC\u001b[0m\u001b[0;34m.\u001b[0m\u001b[0muser_iD\u001b[0m\u001b[0;34m.\u001b[0m\u001b[0mvalue_counts\u001b[0m\u001b[0;34m(\u001b[0m\u001b[0;34m)\u001b[0m\u001b[0;34m\u001b[0m\u001b[0;34m\u001b[0m\u001b[0m\n\u001b[1;32m      2\u001b[0m \u001b[0mD_mask\u001b[0m \u001b[0;34m=\u001b[0m \u001b[0mD_userid_counts\u001b[0m \u001b[0;34m=\u001b[0m \u001b[0;36m10\u001b[0m\u001b[0;34m\u001b[0m\u001b[0;34m\u001b[0m\u001b[0m\n\u001b[0;32m----> 3\u001b[0;31m \u001b[0mfilter_userid\u001b[0m \u001b[0;34m=\u001b[0m \u001b[0mC\u001b[0m\u001b[0;34m.\u001b[0m\u001b[0mdrop\u001b[0m\u001b[0;34m(\u001b[0m\u001b[0mD_mask\u001b[0m\u001b[0;34m[\u001b[0m\u001b[0mD_mask\u001b[0m\u001b[0;34m]\u001b[0m\u001b[0;34m.\u001b[0m\u001b[0mindex\u001b[0m\u001b[0;34m,\u001b[0m \u001b[0minplace\u001b[0m \u001b[0;34m=\u001b[0m \u001b[0;32mTrue\u001b[0m\u001b[0;34m)\u001b[0m\u001b[0;34m\u001b[0m\u001b[0;34m\u001b[0m\u001b[0m\n\u001b[0m\u001b[1;32m      4\u001b[0m \u001b[0;34m\u001b[0m\u001b[0m\n\u001b[1;32m      5\u001b[0m \u001b[0mD\u001b[0m \u001b[0;34m=\u001b[0m \u001b[0mC\u001b[0m\u001b[0;34m[\u001b[0m\u001b[0mC\u001b[0m\u001b[0;34m.\u001b[0m\u001b[0muser_iD\u001b[0m\u001b[0;34m.\u001b[0m\u001b[0misin\u001b[0m\u001b[0;34m(\u001b[0m\u001b[0mfilter_userid\u001b[0m\u001b[0;34m)\u001b[0m\u001b[0;34m]\u001b[0m\u001b[0;34m\u001b[0m\u001b[0;34m\u001b[0m\u001b[0m\n",
      "\u001b[0;31mTypeError\u001b[0m: 'int' object is not subscriptable"
     ]
    }
   ],
   "source": [
    "D_userid_counts = C.user_iD.value_counts()\n",
    "D_mask = D_userid_counts = 10\n",
    "filter_userid = C.drop(D_mask[D_mask].index, inplace = True)\n",
    "\n",
    "D = C[C.user_iD.isin(filter_userid)]"
   ]
  },
  {
   "cell_type": "code",
   "execution_count": null,
   "id": "1d9d6d70",
   "metadata": {},
   "outputs": [],
   "source": [
    "Z= len(pd.value_counts(C['item_id']))\n",
    "print(Z)"
   ]
  },
  {
   "cell_type": "code",
   "execution_count": null,
   "id": "d2be7c1d",
   "metadata": {},
   "outputs": [],
   "source": [
    "counter_u100 = 0\n",
    "for key, item_id in C['item_id'].iteritems():\n",
    "    try:\n",
    "        if C.loc[key, 'user_answer'] == questions.loc[questions['question_id'] == item_id, 'correct_answer'].values[0]:\n",
    "            counter_u100 += 1\n",
    "        else:\n",
    "            pass  # put here whatever you want to do if the answer is wrong\n",
    "    except Exception:\n",
    "        pass # put here whatever you want to do if the question id from DF(B) is not in DF(questions)"
   ]
  }
 ],
 "metadata": {
  "kernelspec": {
   "display_name": "conda_python3",
   "language": "python",
   "name": "conda_python3"
  },
  "language_info": {
   "codemirror_mode": {
    "name": "ipython",
    "version": 3
   },
   "file_extension": ".py",
   "mimetype": "text/x-python",
   "name": "python",
   "nbconvert_exporter": "python",
   "pygments_lexer": "ipython3",
   "version": "3.6.13"
  }
 },
 "nbformat": 4,
 "nbformat_minor": 5
}
