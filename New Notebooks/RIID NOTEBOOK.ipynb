{
 "cells": [
  {
   "cell_type": "markdown",
   "metadata": {
    "papermill": {
     "duration": 0.053213,
     "end_time": "2020-12-23T09:25:41.717271",
     "exception": false,
     "start_time": "2020-12-23T09:25:41.664058",
     "status": "completed"
    },
    "tags": []
   },
   "source": [
    "Author : Rohit Kumar Hansdah\n",
    "Last Updated : 23 December"
   ]
  },
  {
   "cell_type": "code",
   "execution_count": 1,
   "metadata": {
    "_cell_guid": "b1076dfc-b9ad-4769-8c92-a6c4dae69d19",
    "_uuid": "8f2839f25d086af736a60e9eeb907d3b93b6e0e5",
    "execution": {
     "iopub.execute_input": "2020-12-23T09:25:41.828757Z",
     "iopub.status.busy": "2020-12-23T09:25:41.827954Z",
     "iopub.status.idle": "2020-12-23T09:25:41.840668Z",
     "shell.execute_reply": "2020-12-23T09:25:41.839529Z"
    },
    "papermill": {
     "duration": 0.07161,
     "end_time": "2020-12-23T09:25:41.840843",
     "exception": false,
     "start_time": "2020-12-23T09:25:41.769233",
     "status": "completed"
    },
    "tags": []
   },
   "outputs": [
    {
     "name": "stdout",
     "output_type": "stream",
     "text": [
      "/kaggle/input/riiid-test-answer-prediction/example_sample_submission.csv\n",
      "/kaggle/input/riiid-test-answer-prediction/example_test.csv\n",
      "/kaggle/input/riiid-test-answer-prediction/questions.csv\n",
      "/kaggle/input/riiid-test-answer-prediction/train.csv\n",
      "/kaggle/input/riiid-test-answer-prediction/lectures.csv\n",
      "/kaggle/input/riiid-test-answer-prediction/riiideducation/competition.cpython-37m-x86_64-linux-gnu.so\n",
      "/kaggle/input/riiid-test-answer-prediction/riiideducation/__init__.py\n"
     ]
    }
   ],
   "source": [
    "import numpy as np \n",
    "import pandas as pd\n",
    "\n",
    "import os\n",
    "for dirname, _, filenames in os.walk('/kaggle/input'):\n",
    "    for filename in filenames:\n",
    "        print(os.path.join(dirname, filename))"
   ]
  },
  {
   "cell_type": "code",
   "execution_count": 2,
   "metadata": {
    "execution": {
     "iopub.execute_input": "2020-12-23T09:25:42.017640Z",
     "iopub.status.busy": "2020-12-23T09:25:42.016755Z",
     "iopub.status.idle": "2020-12-23T09:25:50.887072Z",
     "shell.execute_reply": "2020-12-23T09:25:50.886172Z"
    },
    "papermill": {
     "duration": 8.965268,
     "end_time": "2020-12-23T09:25:50.887249",
     "exception": false,
     "start_time": "2020-12-23T09:25:41.921981",
     "status": "completed"
    },
    "tags": []
   },
   "outputs": [
    {
     "data": {
      "text/html": [
       "<style type='text/css'>\n",
       ".datatable table.frame { margin-bottom: 0; }\n",
       ".datatable table.frame thead { border-bottom: none; }\n",
       ".datatable table.frame tr.coltypes td {  color: #FFFFFF;  line-height: 6px;  padding: 0 0.5em;}\n",
       ".datatable .bool    { background: #DDDD99; }\n",
       ".datatable .object  { background: #565656; }\n",
       ".datatable .int     { background: #5D9E5D; }\n",
       ".datatable .float   { background: #4040CC; }\n",
       ".datatable .str     { background: #CC4040; }\n",
       ".datatable .row_index {  background: var(--jp-border-color3);  border-right: 1px solid var(--jp-border-color0);  color: var(--jp-ui-font-color3);  font-size: 9px;}\n",
       ".datatable .frame tr.coltypes .row_index {  background: var(--jp-border-color0);}\n",
       ".datatable th:nth-child(2) { padding-left: 12px; }\n",
       ".datatable .hellipsis {  color: var(--jp-cell-editor-border-color);}\n",
       ".datatable .vellipsis {  background: var(--jp-layout-color0);  color: var(--jp-cell-editor-border-color);}\n",
       ".datatable .na {  color: var(--jp-cell-editor-border-color);  font-size: 80%;}\n",
       ".datatable .footer { font-size: 9px; }\n",
       ".datatable .frame_dimensions {  background: var(--jp-border-color3);  border-top: 1px solid var(--jp-border-color0);  color: var(--jp-ui-font-color3);  display: inline-block;  opacity: 0.6;  padding: 1px 10px 1px 5px;}\n",
       ".datatable .frame thead tr.colnames {  background-image: url('data:image/png;base64,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');  background-repeat: repeat-x;  background-size: 14px;  height: 28px;}\n",
       "</style>\n"
      ],
      "text/plain": [
       "<IPython.core.display.HTML object>"
      ]
     },
     "metadata": {},
     "output_type": "display_data"
    }
   ],
   "source": [
    "import matplotlib.pyplot as plt\n",
    "\n",
    "import warnings\n",
    "warnings.simplefilter('ignore')\n",
    "\n",
    "import plotly.express as px\n",
    "from plotly.subplots import make_subplots\n",
    "import plotly.graph_objs as go\n",
    "\n",
    "import optuna\n",
    "from optuna.samplers import TPESampler\n",
    "from sklearn.metrics import roc_auc_score\n",
    "from sklearn.model_selection import train_test_split\n",
    "from lightgbm import LGBMClassifier\n",
    "\n",
    "import pandas as pd\n",
    "from pandas.plotting import scatter_matrix\n",
    "import numpy as np\n",
    "import matplotlib.pyplot as plt\n",
    "import seaborn as sns\n",
    "import warnings\n",
    "warnings.simplefilter('ignore')\n",
    "from sklearn.metrics import roc_auc_score, confusion_matrix\n",
    "from sklearn.model_selection import train_test_split, GridSearchCV, RandomizedSearchCV, learning_curve\n",
    "from sklearn.utils import shuffle\n",
    "import lightgbm as lgb\n",
    "from lightgbm import LGBMClassifier\n",
    "import eli5\n",
    "\n",
    "from catboost import CatBoostClassifier\n",
    "import xgboost as xgb\n",
    "\n",
    "\n",
    "\n",
    "\n",
    "import riiideducation\n",
    "\n",
    "%matplotlib inline\n",
    "# for heatmap and other plots\n",
    "colorMap1 = sns.color_palette(\"RdBu_r\")\n",
    "# for countplot and others plots\n",
    "colorMap2 = 'Blues_r'\n",
    "\n"
   ]
  },
  {
   "cell_type": "code",
   "execution_count": 3,
   "metadata": {
    "execution": {
     "iopub.execute_input": "2020-12-23T09:25:51.057834Z",
     "iopub.status.busy": "2020-12-23T09:25:51.057119Z",
     "iopub.status.idle": "2020-12-23T09:25:51.062089Z",
     "shell.execute_reply": "2020-12-23T09:25:51.061564Z"
    },
    "papermill": {
     "duration": 0.094418,
     "end_time": "2020-12-23T09:25:51.062231",
     "exception": false,
     "start_time": "2020-12-23T09:25:50.967813",
     "status": "completed"
    },
    "tags": []
   },
   "outputs": [],
   "source": [
    "sampler = TPESampler(\n",
    "    seed=666\n",
    ")"
   ]
  },
  {
   "cell_type": "code",
   "execution_count": 4,
   "metadata": {
    "execution": {
     "iopub.execute_input": "2020-12-23T09:25:51.174557Z",
     "iopub.status.busy": "2020-12-23T09:25:51.173872Z",
     "iopub.status.idle": "2020-12-23T09:25:51.180203Z",
     "shell.execute_reply": "2020-12-23T09:25:51.179634Z"
    },
    "papermill": {
     "duration": 0.063018,
     "end_time": "2020-12-23T09:25:51.180321",
     "exception": false,
     "start_time": "2020-12-23T09:25:51.117303",
     "status": "completed"
    },
    "tags": []
   },
   "outputs": [],
   "source": [
    "types = {\n",
    "        'row_id': 'int64', \n",
    "        'timestamp': 'int64', \n",
    "        'user_id': 'int32', \n",
    "        'content_id': 'int16', \n",
    "        'content_type_id': 'int8',\n",
    "        'task_container_id': 'int16', \n",
    "        'user_answer': 'int8', \n",
    "        'answered_correctly': 'int8', \n",
    "        'prior_question_elapsed_time': 'float32', \n",
    "        'prior_question_had_explanation': 'boolean'\n",
    "}"
   ]
  },
  {
   "cell_type": "code",
   "execution_count": 5,
   "metadata": {
    "execution": {
     "iopub.execute_input": "2020-12-23T09:25:51.299769Z",
     "iopub.status.busy": "2020-12-23T09:25:51.299072Z",
     "iopub.status.idle": "2020-12-23T09:25:54.823037Z",
     "shell.execute_reply": "2020-12-23T09:25:54.823703Z"
    },
    "papermill": {
     "duration": 3.588817,
     "end_time": "2020-12-23T09:25:54.823881",
     "exception": false,
     "start_time": "2020-12-23T09:25:51.235064",
     "status": "completed"
    },
    "tags": []
   },
   "outputs": [
    {
     "data": {
      "text/html": [
       "<div>\n",
       "<style scoped>\n",
       "    .dataframe tbody tr th:only-of-type {\n",
       "        vertical-align: middle;\n",
       "    }\n",
       "\n",
       "    .dataframe tbody tr th {\n",
       "        vertical-align: top;\n",
       "    }\n",
       "\n",
       "    .dataframe thead th {\n",
       "        text-align: right;\n",
       "    }\n",
       "</style>\n",
       "<table border=\"1\" class=\"dataframe\">\n",
       "  <thead>\n",
       "    <tr style=\"text-align: right;\">\n",
       "      <th></th>\n",
       "      <th>row_id</th>\n",
       "      <th>timestamp</th>\n",
       "      <th>user_id</th>\n",
       "      <th>content_id</th>\n",
       "      <th>content_type_id</th>\n",
       "      <th>task_container_id</th>\n",
       "      <th>user_answer</th>\n",
       "      <th>answered_correctly</th>\n",
       "      <th>prior_question_elapsed_time</th>\n",
       "      <th>prior_question_had_explanation</th>\n",
       "    </tr>\n",
       "  </thead>\n",
       "  <tbody>\n",
       "    <tr>\n",
       "      <th>0</th>\n",
       "      <td>0</td>\n",
       "      <td>0</td>\n",
       "      <td>115</td>\n",
       "      <td>5692</td>\n",
       "      <td>0</td>\n",
       "      <td>1</td>\n",
       "      <td>3</td>\n",
       "      <td>1</td>\n",
       "      <td>NaN</td>\n",
       "      <td>&lt;NA&gt;</td>\n",
       "    </tr>\n",
       "    <tr>\n",
       "      <th>1</th>\n",
       "      <td>1</td>\n",
       "      <td>56943</td>\n",
       "      <td>115</td>\n",
       "      <td>5716</td>\n",
       "      <td>0</td>\n",
       "      <td>2</td>\n",
       "      <td>2</td>\n",
       "      <td>1</td>\n",
       "      <td>37000.0</td>\n",
       "      <td>False</td>\n",
       "    </tr>\n",
       "    <tr>\n",
       "      <th>2</th>\n",
       "      <td>2</td>\n",
       "      <td>118363</td>\n",
       "      <td>115</td>\n",
       "      <td>128</td>\n",
       "      <td>0</td>\n",
       "      <td>0</td>\n",
       "      <td>0</td>\n",
       "      <td>1</td>\n",
       "      <td>55000.0</td>\n",
       "      <td>False</td>\n",
       "    </tr>\n",
       "    <tr>\n",
       "      <th>3</th>\n",
       "      <td>3</td>\n",
       "      <td>131167</td>\n",
       "      <td>115</td>\n",
       "      <td>7860</td>\n",
       "      <td>0</td>\n",
       "      <td>3</td>\n",
       "      <td>0</td>\n",
       "      <td>1</td>\n",
       "      <td>19000.0</td>\n",
       "      <td>False</td>\n",
       "    </tr>\n",
       "    <tr>\n",
       "      <th>4</th>\n",
       "      <td>4</td>\n",
       "      <td>137965</td>\n",
       "      <td>115</td>\n",
       "      <td>7922</td>\n",
       "      <td>0</td>\n",
       "      <td>4</td>\n",
       "      <td>1</td>\n",
       "      <td>1</td>\n",
       "      <td>11000.0</td>\n",
       "      <td>False</td>\n",
       "    </tr>\n",
       "  </tbody>\n",
       "</table>\n",
       "</div>"
      ],
      "text/plain": [
       "   row_id  timestamp  user_id  content_id  content_type_id  task_container_id  \\\n",
       "0       0          0      115        5692                0                  1   \n",
       "1       1      56943      115        5716                0                  2   \n",
       "2       2     118363      115         128                0                  0   \n",
       "3       3     131167      115        7860                0                  3   \n",
       "4       4     137965      115        7922                0                  4   \n",
       "\n",
       "   user_answer  answered_correctly  prior_question_elapsed_time  \\\n",
       "0            3                   1                          NaN   \n",
       "1            2                   1                      37000.0   \n",
       "2            0                   1                      55000.0   \n",
       "3            0                   1                      19000.0   \n",
       "4            1                   1                      11000.0   \n",
       "\n",
       "   prior_question_had_explanation  \n",
       "0                            <NA>  \n",
       "1                           False  \n",
       "2                           False  \n",
       "3                           False  \n",
       "4                           False  "
      ]
     },
     "execution_count": 5,
     "metadata": {},
     "output_type": "execute_result"
    }
   ],
   "source": [
    "train = pd.read_csv(\n",
    "    '/kaggle/input/riiid-test-answer-prediction/train.csv', \n",
    "    low_memory=False, \n",
    "    nrows=10**6, \n",
    "    dtype=types\n",
    ")\n",
    "questions=pd.read_csv('/kaggle/input/riiid-test-answer-prediction/questions.csv')\n",
    "lectures=pd.read_csv('/kaggle/input/riiid-test-answer-prediction/lectures.csv')\n",
    "test=pd.read_csv('/kaggle/input/riiid-test-answer-prediction/example_test.csv')\n",
    "\n",
    "train.head()"
   ]
  },
  {
   "cell_type": "markdown",
   "metadata": {
    "papermill": {
     "duration": 0.080257,
     "end_time": "2020-12-23T09:25:54.985255",
     "exception": false,
     "start_time": "2020-12-23T09:25:54.904998",
     "status": "completed"
    },
    "tags": []
   },
   "source": [
    "#                  DATA EXPLORATION & EDA"
   ]
  },
  {
   "cell_type": "markdown",
   "metadata": {
    "papermill": {
     "duration": 0.081225,
     "end_time": "2020-12-23T09:25:55.147741",
     "exception": false,
     "start_time": "2020-12-23T09:25:55.066516",
     "status": "completed"
    },
    "tags": []
   },
   "source": [
    "**TRAIN**"
   ]
  },
  {
   "cell_type": "markdown",
   "metadata": {
    "papermill": {
     "duration": 0.080853,
     "end_time": "2020-12-23T09:25:55.311784",
     "exception": false,
     "start_time": "2020-12-23T09:25:55.230931",
     "status": "completed"
    },
    "tags": []
   },
   "source": [
    "**row_id**: (int64) ID code for the row.\n",
    "\n",
    "**timestamp**: (int64) the time in milliseconds between this user interaction and the first event completion from that user.\n",
    "\n",
    "**user_id**: (int32) ID code for the user.\n",
    "\n",
    "**content_id**: (int16) ID code for the user interaction\n",
    "\n",
    "**content_type_id**: (int8) 0 if the event was a question being posed to the user, 1 if the event was the user watching a lecture.\n",
    "\n",
    "**task_container_id**: (int16) Id code for the batch of questions or lectures. For example, a user might see three questions in a row before seeing the explanations for any of them. Those three would all share a task_container_id.\n",
    "\n",
    "**user_answer**: (int8) the user's answer to the question, if any. Read -1 as null, for lectures.\n",
    "\n",
    "**answered_correctly**: (int8) if the user responded correctly. Read -1 as null, for lectures.\n",
    "\n",
    "**prior_question_elapsed_time**: (float32) The average time in milliseconds it took a user to answer each question in the previous question bundle, ignoring any lectures\n",
    "in between. Is null for a user's first question bundle or lecture. Note that the time is the average time a user took to solve each question in the previous bundle.\n",
    "\n",
    "**prior_question_had_explanation**: (bool) Whether or not the user saw an explanation and the correct response(s) after answering the previous question bundle, ignoring any lectures in between. The value is shared across a single question bundle, and is null for a user's first question bundle or lecture. Typically the first several questions a user sees were part of an onboarding diagnostic test where they did not get any feedback."
   ]
  },
  {
   "cell_type": "code",
   "execution_count": 6,
   "metadata": {
    "execution": {
     "iopub.execute_input": "2020-12-23T09:25:55.481009Z",
     "iopub.status.busy": "2020-12-23T09:25:55.480022Z",
     "iopub.status.idle": "2020-12-23T09:25:55.484570Z",
     "shell.execute_reply": "2020-12-23T09:25:55.483736Z"
    },
    "papermill": {
     "duration": 0.091464,
     "end_time": "2020-12-23T09:25:55.484696",
     "exception": false,
     "start_time": "2020-12-23T09:25:55.393232",
     "status": "completed"
    },
    "tags": []
   },
   "outputs": [
    {
     "name": "stdout",
     "output_type": "stream",
     "text": [
      "Train shape: (1000000, 10)\n"
     ]
    }
   ],
   "source": [
    "print(f\"Train shape: {train.shape}\")"
   ]
  },
  {
   "cell_type": "code",
   "execution_count": 7,
   "metadata": {
    "execution": {
     "iopub.execute_input": "2020-12-23T09:25:55.663120Z",
     "iopub.status.busy": "2020-12-23T09:25:55.662212Z",
     "iopub.status.idle": "2020-12-23T09:25:55.666491Z",
     "shell.execute_reply": "2020-12-23T09:25:55.665649Z"
    },
    "papermill": {
     "duration": 0.100177,
     "end_time": "2020-12-23T09:25:55.666616",
     "exception": false,
     "start_time": "2020-12-23T09:25:55.566439",
     "status": "completed"
    },
    "tags": []
   },
   "outputs": [
    {
     "data": {
      "text/html": [
       "<div>\n",
       "<style scoped>\n",
       "    .dataframe tbody tr th:only-of-type {\n",
       "        vertical-align: middle;\n",
       "    }\n",
       "\n",
       "    .dataframe tbody tr th {\n",
       "        vertical-align: top;\n",
       "    }\n",
       "\n",
       "    .dataframe thead th {\n",
       "        text-align: right;\n",
       "    }\n",
       "</style>\n",
       "<table border=\"1\" class=\"dataframe\">\n",
       "  <thead>\n",
       "    <tr style=\"text-align: right;\">\n",
       "      <th></th>\n",
       "      <th>row_id</th>\n",
       "      <th>timestamp</th>\n",
       "      <th>user_id</th>\n",
       "      <th>content_id</th>\n",
       "      <th>content_type_id</th>\n",
       "      <th>task_container_id</th>\n",
       "      <th>user_answer</th>\n",
       "      <th>answered_correctly</th>\n",
       "      <th>prior_question_elapsed_time</th>\n",
       "      <th>prior_question_had_explanation</th>\n",
       "    </tr>\n",
       "  </thead>\n",
       "  <tbody>\n",
       "    <tr>\n",
       "      <th>0</th>\n",
       "      <td>0</td>\n",
       "      <td>0</td>\n",
       "      <td>115</td>\n",
       "      <td>5692</td>\n",
       "      <td>0</td>\n",
       "      <td>1</td>\n",
       "      <td>3</td>\n",
       "      <td>1</td>\n",
       "      <td>NaN</td>\n",
       "      <td>&lt;NA&gt;</td>\n",
       "    </tr>\n",
       "    <tr>\n",
       "      <th>1</th>\n",
       "      <td>1</td>\n",
       "      <td>56943</td>\n",
       "      <td>115</td>\n",
       "      <td>5716</td>\n",
       "      <td>0</td>\n",
       "      <td>2</td>\n",
       "      <td>2</td>\n",
       "      <td>1</td>\n",
       "      <td>37000.0</td>\n",
       "      <td>False</td>\n",
       "    </tr>\n",
       "    <tr>\n",
       "      <th>2</th>\n",
       "      <td>2</td>\n",
       "      <td>118363</td>\n",
       "      <td>115</td>\n",
       "      <td>128</td>\n",
       "      <td>0</td>\n",
       "      <td>0</td>\n",
       "      <td>0</td>\n",
       "      <td>1</td>\n",
       "      <td>55000.0</td>\n",
       "      <td>False</td>\n",
       "    </tr>\n",
       "    <tr>\n",
       "      <th>3</th>\n",
       "      <td>3</td>\n",
       "      <td>131167</td>\n",
       "      <td>115</td>\n",
       "      <td>7860</td>\n",
       "      <td>0</td>\n",
       "      <td>3</td>\n",
       "      <td>0</td>\n",
       "      <td>1</td>\n",
       "      <td>19000.0</td>\n",
       "      <td>False</td>\n",
       "    </tr>\n",
       "    <tr>\n",
       "      <th>4</th>\n",
       "      <td>4</td>\n",
       "      <td>137965</td>\n",
       "      <td>115</td>\n",
       "      <td>7922</td>\n",
       "      <td>0</td>\n",
       "      <td>4</td>\n",
       "      <td>1</td>\n",
       "      <td>1</td>\n",
       "      <td>11000.0</td>\n",
       "      <td>False</td>\n",
       "    </tr>\n",
       "  </tbody>\n",
       "</table>\n",
       "</div>"
      ],
      "text/plain": [
       "   row_id  timestamp  user_id  content_id  content_type_id  task_container_id  \\\n",
       "0       0          0      115        5692                0                  1   \n",
       "1       1      56943      115        5716                0                  2   \n",
       "2       2     118363      115         128                0                  0   \n",
       "3       3     131167      115        7860                0                  3   \n",
       "4       4     137965      115        7922                0                  4   \n",
       "\n",
       "   user_answer  answered_correctly  prior_question_elapsed_time  \\\n",
       "0            3                   1                          NaN   \n",
       "1            2                   1                      37000.0   \n",
       "2            0                   1                      55000.0   \n",
       "3            0                   1                      19000.0   \n",
       "4            1                   1                      11000.0   \n",
       "\n",
       "   prior_question_had_explanation  \n",
       "0                            <NA>  \n",
       "1                           False  \n",
       "2                           False  \n",
       "3                           False  \n",
       "4                           False  "
      ]
     },
     "execution_count": 7,
     "metadata": {},
     "output_type": "execute_result"
    }
   ],
   "source": [
    "\n",
    "train.head()"
   ]
  },
  {
   "cell_type": "code",
   "execution_count": 8,
   "metadata": {
    "execution": {
     "iopub.execute_input": "2020-12-23T09:25:55.856951Z",
     "iopub.status.busy": "2020-12-23T09:25:55.848670Z",
     "iopub.status.idle": "2020-12-23T09:25:56.189253Z",
     "shell.execute_reply": "2020-12-23T09:25:56.188544Z"
    },
    "papermill": {
     "duration": 0.439961,
     "end_time": "2020-12-23T09:25:56.189372",
     "exception": false,
     "start_time": "2020-12-23T09:25:55.749411",
     "status": "completed"
    },
    "tags": []
   },
   "outputs": [
    {
     "data": {
      "text/html": [
       "<style  type=\"text/css\" >\n",
       "#T_06a82efa_450f_11eb_88b5_0242ac130202row0_col0,#T_06a82efa_450f_11eb_88b5_0242ac130202row0_col3,#T_06a82efa_450f_11eb_88b5_0242ac130202row0_col4,#T_06a82efa_450f_11eb_88b5_0242ac130202row0_col5,#T_06a82efa_450f_11eb_88b5_0242ac130202row0_col6,#T_06a82efa_450f_11eb_88b5_0242ac130202row0_col7,#T_06a82efa_450f_11eb_88b5_0242ac130202row0_col8,#T_06a82efa_450f_11eb_88b5_0242ac130202row7_col0,#T_06a82efa_450f_11eb_88b5_0242ac130202row7_col1,#T_06a82efa_450f_11eb_88b5_0242ac130202row7_col2{\n",
       "            background-color:  #08306b;\n",
       "            color:  #f1f1f1;\n",
       "        }#T_06a82efa_450f_11eb_88b5_0242ac130202row0_col1,#T_06a82efa_450f_11eb_88b5_0242ac130202row1_col4,#T_06a82efa_450f_11eb_88b5_0242ac130202row1_col5,#T_06a82efa_450f_11eb_88b5_0242ac130202row1_col6,#T_06a82efa_450f_11eb_88b5_0242ac130202row1_col7,#T_06a82efa_450f_11eb_88b5_0242ac130202row2_col3,#T_06a82efa_450f_11eb_88b5_0242ac130202row2_col4,#T_06a82efa_450f_11eb_88b5_0242ac130202row2_col5,#T_06a82efa_450f_11eb_88b5_0242ac130202row2_col6,#T_06a82efa_450f_11eb_88b5_0242ac130202row2_col7,#T_06a82efa_450f_11eb_88b5_0242ac130202row3_col0,#T_06a82efa_450f_11eb_88b5_0242ac130202row3_col1,#T_06a82efa_450f_11eb_88b5_0242ac130202row3_col2,#T_06a82efa_450f_11eb_88b5_0242ac130202row3_col3,#T_06a82efa_450f_11eb_88b5_0242ac130202row3_col4,#T_06a82efa_450f_11eb_88b5_0242ac130202row3_col5,#T_06a82efa_450f_11eb_88b5_0242ac130202row3_col6,#T_06a82efa_450f_11eb_88b5_0242ac130202row3_col7,#T_06a82efa_450f_11eb_88b5_0242ac130202row3_col8,#T_06a82efa_450f_11eb_88b5_0242ac130202row4_col3,#T_06a82efa_450f_11eb_88b5_0242ac130202row4_col4,#T_06a82efa_450f_11eb_88b5_0242ac130202row4_col5,#T_06a82efa_450f_11eb_88b5_0242ac130202row4_col6,#T_06a82efa_450f_11eb_88b5_0242ac130202row4_col7,#T_06a82efa_450f_11eb_88b5_0242ac130202row5_col4,#T_06a82efa_450f_11eb_88b5_0242ac130202row5_col5,#T_06a82efa_450f_11eb_88b5_0242ac130202row5_col6,#T_06a82efa_450f_11eb_88b5_0242ac130202row5_col7,#T_06a82efa_450f_11eb_88b5_0242ac130202row6_col4,#T_06a82efa_450f_11eb_88b5_0242ac130202row6_col5,#T_06a82efa_450f_11eb_88b5_0242ac130202row6_col6,#T_06a82efa_450f_11eb_88b5_0242ac130202row6_col7,#T_06a82efa_450f_11eb_88b5_0242ac130202row7_col4,#T_06a82efa_450f_11eb_88b5_0242ac130202row7_col6,#T_06a82efa_450f_11eb_88b5_0242ac130202row7_col7{\n",
       "            background-color:  #f7fbff;\n",
       "            color:  #000000;\n",
       "        }#T_06a82efa_450f_11eb_88b5_0242ac130202row0_col2{\n",
       "            background-color:  #eef5fc;\n",
       "            color:  #000000;\n",
       "        }#T_06a82efa_450f_11eb_88b5_0242ac130202row1_col0,#T_06a82efa_450f_11eb_88b5_0242ac130202row5_col0{\n",
       "            background-color:  #6caed6;\n",
       "            color:  #000000;\n",
       "        }#T_06a82efa_450f_11eb_88b5_0242ac130202row1_col1{\n",
       "            background-color:  #e4eff9;\n",
       "            color:  #000000;\n",
       "        }#T_06a82efa_450f_11eb_88b5_0242ac130202row1_col2{\n",
       "            background-color:  #71b1d7;\n",
       "            color:  #000000;\n",
       "        }#T_06a82efa_450f_11eb_88b5_0242ac130202row1_col3,#T_06a82efa_450f_11eb_88b5_0242ac130202row4_col1,#T_06a82efa_450f_11eb_88b5_0242ac130202row5_col3,#T_06a82efa_450f_11eb_88b5_0242ac130202row6_col3,#T_06a82efa_450f_11eb_88b5_0242ac130202row7_col5{\n",
       "            background-color:  #f6faff;\n",
       "            color:  #000000;\n",
       "        }#T_06a82efa_450f_11eb_88b5_0242ac130202row1_col8{\n",
       "            background-color:  #f2f8fd;\n",
       "            color:  #000000;\n",
       "        }#T_06a82efa_450f_11eb_88b5_0242ac130202row2_col0,#T_06a82efa_450f_11eb_88b5_0242ac130202row2_col2{\n",
       "            background-color:  #bad6eb;\n",
       "            color:  #000000;\n",
       "        }#T_06a82efa_450f_11eb_88b5_0242ac130202row2_col1{\n",
       "            background-color:  #dceaf6;\n",
       "            color:  #000000;\n",
       "        }#T_06a82efa_450f_11eb_88b5_0242ac130202row2_col8,#T_06a82efa_450f_11eb_88b5_0242ac130202row5_col8{\n",
       "            background-color:  #f3f8fe;\n",
       "            color:  #000000;\n",
       "        }#T_06a82efa_450f_11eb_88b5_0242ac130202row4_col0{\n",
       "            background-color:  #c7dbef;\n",
       "            color:  #000000;\n",
       "        }#T_06a82efa_450f_11eb_88b5_0242ac130202row4_col2{\n",
       "            background-color:  #cbdef1;\n",
       "            color:  #000000;\n",
       "        }#T_06a82efa_450f_11eb_88b5_0242ac130202row4_col8{\n",
       "            background-color:  #f4f9fe;\n",
       "            color:  #000000;\n",
       "        }#T_06a82efa_450f_11eb_88b5_0242ac130202row5_col1{\n",
       "            background-color:  #f0f6fd;\n",
       "            color:  #000000;\n",
       "        }#T_06a82efa_450f_11eb_88b5_0242ac130202row5_col2{\n",
       "            background-color:  #7ab6d9;\n",
       "            color:  #000000;\n",
       "        }#T_06a82efa_450f_11eb_88b5_0242ac130202row6_col0{\n",
       "            background-color:  #2171b5;\n",
       "            color:  #f1f1f1;\n",
       "        }#T_06a82efa_450f_11eb_88b5_0242ac130202row6_col1{\n",
       "            background-color:  #ddeaf7;\n",
       "            color:  #000000;\n",
       "        }#T_06a82efa_450f_11eb_88b5_0242ac130202row6_col2{\n",
       "            background-color:  #2272b6;\n",
       "            color:  #f1f1f1;\n",
       "        }#T_06a82efa_450f_11eb_88b5_0242ac130202row6_col8{\n",
       "            background-color:  #f2f7fd;\n",
       "            color:  #000000;\n",
       "        }#T_06a82efa_450f_11eb_88b5_0242ac130202row7_col3{\n",
       "            background-color:  #f1f7fd;\n",
       "            color:  #000000;\n",
       "        }#T_06a82efa_450f_11eb_88b5_0242ac130202row7_col8{\n",
       "            background-color:  #b4d3e9;\n",
       "            color:  #000000;\n",
       "        }</style><table id=\"T_06a82efa_450f_11eb_88b5_0242ac130202\" ><thead>    <tr>        <th class=\"blank level0\" ></th>        <th class=\"col_heading level0 col0\" >row_id</th>        <th class=\"col_heading level0 col1\" >timestamp</th>        <th class=\"col_heading level0 col2\" >user_id</th>        <th class=\"col_heading level0 col3\" >content_id</th>        <th class=\"col_heading level0 col4\" >content_type_id</th>        <th class=\"col_heading level0 col5\" >task_container_id</th>        <th class=\"col_heading level0 col6\" >user_answer</th>        <th class=\"col_heading level0 col7\" >answered_correctly</th>        <th class=\"col_heading level0 col8\" >prior_question_elapsed_time</th>    </tr></thead><tbody>\n",
       "                <tr>\n",
       "                        <th id=\"T_06a82efa_450f_11eb_88b5_0242ac130202level0_row0\" class=\"row_heading level0 row0\" >count</th>\n",
       "                        <td id=\"T_06a82efa_450f_11eb_88b5_0242ac130202row0_col0\" class=\"data row0 col0\" >1000000.000000</td>\n",
       "                        <td id=\"T_06a82efa_450f_11eb_88b5_0242ac130202row0_col1\" class=\"data row0 col1\" >1000000.000000</td>\n",
       "                        <td id=\"T_06a82efa_450f_11eb_88b5_0242ac130202row0_col2\" class=\"data row0 col2\" >1000000.000000</td>\n",
       "                        <td id=\"T_06a82efa_450f_11eb_88b5_0242ac130202row0_col3\" class=\"data row0 col3\" >1000000.000000</td>\n",
       "                        <td id=\"T_06a82efa_450f_11eb_88b5_0242ac130202row0_col4\" class=\"data row0 col4\" >1000000.000000</td>\n",
       "                        <td id=\"T_06a82efa_450f_11eb_88b5_0242ac130202row0_col5\" class=\"data row0 col5\" >1000000.000000</td>\n",
       "                        <td id=\"T_06a82efa_450f_11eb_88b5_0242ac130202row0_col6\" class=\"data row0 col6\" >1000000.000000</td>\n",
       "                        <td id=\"T_06a82efa_450f_11eb_88b5_0242ac130202row0_col7\" class=\"data row0 col7\" >1000000.000000</td>\n",
       "                        <td id=\"T_06a82efa_450f_11eb_88b5_0242ac130202row0_col8\" class=\"data row0 col8\" >976277.000000</td>\n",
       "            </tr>\n",
       "            <tr>\n",
       "                        <th id=\"T_06a82efa_450f_11eb_88b5_0242ac130202level0_row1\" class=\"row_heading level0 row1\" >mean</th>\n",
       "                        <td id=\"T_06a82efa_450f_11eb_88b5_0242ac130202row1_col0\" class=\"data row1 col0\" >499999.500000</td>\n",
       "                        <td id=\"T_06a82efa_450f_11eb_88b5_0242ac130202row1_col1\" class=\"data row1 col1\" >7344311266.729203</td>\n",
       "                        <td id=\"T_06a82efa_450f_11eb_88b5_0242ac130202row1_col2\" class=\"data row1 col2\" >10172549.789739</td>\n",
       "                        <td id=\"T_06a82efa_450f_11eb_88b5_0242ac130202row1_col3\" class=\"data row1 col3\" >5232.691523</td>\n",
       "                        <td id=\"T_06a82efa_450f_11eb_88b5_0242ac130202row1_col4\" class=\"data row1 col4\" >0.019907</td>\n",
       "                        <td id=\"T_06a82efa_450f_11eb_88b5_0242ac130202row1_col5\" class=\"data row1 col5\" >806.105689</td>\n",
       "                        <td id=\"T_06a82efa_450f_11eb_88b5_0242ac130202row1_col6\" class=\"data row1 col6\" >1.374784</td>\n",
       "                        <td id=\"T_06a82efa_450f_11eb_88b5_0242ac130202row1_col7\" class=\"data row1 col7\" >0.617504</td>\n",
       "                        <td id=\"T_06a82efa_450f_11eb_88b5_0242ac130202row1_col8\" class=\"data row1 col8\" >25319.472656</td>\n",
       "            </tr>\n",
       "            <tr>\n",
       "                        <th id=\"T_06a82efa_450f_11eb_88b5_0242ac130202level0_row2\" class=\"row_heading level0 row2\" >std</th>\n",
       "                        <td id=\"T_06a82efa_450f_11eb_88b5_0242ac130202row2_col0\" class=\"data row2 col0\" >288675.278933</td>\n",
       "                        <td id=\"T_06a82efa_450f_11eb_88b5_0242ac130202row2_col1\" class=\"data row2 col1\" >10586930270.349688</td>\n",
       "                        <td id=\"T_06a82efa_450f_11eb_88b5_0242ac130202row2_col2\" class=\"data row2 col2\" >6029233.863875</td>\n",
       "                        <td id=\"T_06a82efa_450f_11eb_88b5_0242ac130202row2_col3\" class=\"data row2 col3\" >3882.323419</td>\n",
       "                        <td id=\"T_06a82efa_450f_11eb_88b5_0242ac130202row2_col4\" class=\"data row2 col4\" >0.139681</td>\n",
       "                        <td id=\"T_06a82efa_450f_11eb_88b5_0242ac130202row2_col5\" class=\"data row2 col5\" >1025.887530</td>\n",
       "                        <td id=\"T_06a82efa_450f_11eb_88b5_0242ac130202row2_col6\" class=\"data row2 col6\" >1.194168</td>\n",
       "                        <td id=\"T_06a82efa_450f_11eb_88b5_0242ac130202row2_col7\" class=\"data row2 col7\" >0.525364</td>\n",
       "                        <td id=\"T_06a82efa_450f_11eb_88b5_0242ac130202row2_col8\" class=\"data row2 col8\" >19707.429688</td>\n",
       "            </tr>\n",
       "            <tr>\n",
       "                        <th id=\"T_06a82efa_450f_11eb_88b5_0242ac130202level0_row3\" class=\"row_heading level0 row3\" >min</th>\n",
       "                        <td id=\"T_06a82efa_450f_11eb_88b5_0242ac130202row3_col0\" class=\"data row3 col0\" >0.000000</td>\n",
       "                        <td id=\"T_06a82efa_450f_11eb_88b5_0242ac130202row3_col1\" class=\"data row3 col1\" >0.000000</td>\n",
       "                        <td id=\"T_06a82efa_450f_11eb_88b5_0242ac130202row3_col2\" class=\"data row3 col2\" >115.000000</td>\n",
       "                        <td id=\"T_06a82efa_450f_11eb_88b5_0242ac130202row3_col3\" class=\"data row3 col3\" >0.000000</td>\n",
       "                        <td id=\"T_06a82efa_450f_11eb_88b5_0242ac130202row3_col4\" class=\"data row3 col4\" >0.000000</td>\n",
       "                        <td id=\"T_06a82efa_450f_11eb_88b5_0242ac130202row3_col5\" class=\"data row3 col5\" >0.000000</td>\n",
       "                        <td id=\"T_06a82efa_450f_11eb_88b5_0242ac130202row3_col6\" class=\"data row3 col6\" >-1.000000</td>\n",
       "                        <td id=\"T_06a82efa_450f_11eb_88b5_0242ac130202row3_col7\" class=\"data row3 col7\" >-1.000000</td>\n",
       "                        <td id=\"T_06a82efa_450f_11eb_88b5_0242ac130202row3_col8\" class=\"data row3 col8\" >0.000000</td>\n",
       "            </tr>\n",
       "            <tr>\n",
       "                        <th id=\"T_06a82efa_450f_11eb_88b5_0242ac130202level0_row4\" class=\"row_heading level0 row4\" >25%</th>\n",
       "                        <td id=\"T_06a82efa_450f_11eb_88b5_0242ac130202row4_col0\" class=\"data row4 col0\" >249999.750000</td>\n",
       "                        <td id=\"T_06a82efa_450f_11eb_88b5_0242ac130202row4_col1\" class=\"data row4 col1\" >521166935.500000</td>\n",
       "                        <td id=\"T_06a82efa_450f_11eb_88b5_0242ac130202row4_col2\" class=\"data row4 col2\" >4702585.000000</td>\n",
       "                        <td id=\"T_06a82efa_450f_11eb_88b5_0242ac130202row4_col3\" class=\"data row4 col3\" >2057.000000</td>\n",
       "                        <td id=\"T_06a82efa_450f_11eb_88b5_0242ac130202row4_col4\" class=\"data row4 col4\" >0.000000</td>\n",
       "                        <td id=\"T_06a82efa_450f_11eb_88b5_0242ac130202row4_col5\" class=\"data row4 col5\" >109.000000</td>\n",
       "                        <td id=\"T_06a82efa_450f_11eb_88b5_0242ac130202row4_col6\" class=\"data row4 col6\" >0.000000</td>\n",
       "                        <td id=\"T_06a82efa_450f_11eb_88b5_0242ac130202row4_col7\" class=\"data row4 col7\" >0.000000</td>\n",
       "                        <td id=\"T_06a82efa_450f_11eb_88b5_0242ac130202row4_col8\" class=\"data row4 col8\" >16000.000000</td>\n",
       "            </tr>\n",
       "            <tr>\n",
       "                        <th id=\"T_06a82efa_450f_11eb_88b5_0242ac130202level0_row5\" class=\"row_heading level0 row5\" >50%</th>\n",
       "                        <td id=\"T_06a82efa_450f_11eb_88b5_0242ac130202row5_col0\" class=\"data row5 col0\" >499999.500000</td>\n",
       "                        <td id=\"T_06a82efa_450f_11eb_88b5_0242ac130202row5_col1\" class=\"data row5 col1\" >2824811074.000000</td>\n",
       "                        <td id=\"T_06a82efa_450f_11eb_88b5_0242ac130202row5_col2\" class=\"data row5 col2\" >9678259.000000</td>\n",
       "                        <td id=\"T_06a82efa_450f_11eb_88b5_0242ac130202row5_col3\" class=\"data row5 col3\" >5052.000000</td>\n",
       "                        <td id=\"T_06a82efa_450f_11eb_88b5_0242ac130202row5_col4\" class=\"data row5 col4\" >0.000000</td>\n",
       "                        <td id=\"T_06a82efa_450f_11eb_88b5_0242ac130202row5_col5\" class=\"data row5 col5\" >391.000000</td>\n",
       "                        <td id=\"T_06a82efa_450f_11eb_88b5_0242ac130202row5_col6\" class=\"data row5 col6\" >1.000000</td>\n",
       "                        <td id=\"T_06a82efa_450f_11eb_88b5_0242ac130202row5_col7\" class=\"data row5 col7\" >1.000000</td>\n",
       "                        <td id=\"T_06a82efa_450f_11eb_88b5_0242ac130202row5_col8\" class=\"data row5 col8\" >21000.000000</td>\n",
       "            </tr>\n",
       "            <tr>\n",
       "                        <th id=\"T_06a82efa_450f_11eb_88b5_0242ac130202level0_row6\" class=\"row_heading level0 row6\" >75%</th>\n",
       "                        <td id=\"T_06a82efa_450f_11eb_88b5_0242ac130202row6_col0\" class=\"data row6 col0\" >749999.250000</td>\n",
       "                        <td id=\"T_06a82efa_450f_11eb_88b5_0242ac130202row6_col1\" class=\"data row6 col1\" >10101863021.250000</td>\n",
       "                        <td id=\"T_06a82efa_450f_11eb_88b5_0242ac130202row6_col2\" class=\"data row6 col2\" >15568723.000000</td>\n",
       "                        <td id=\"T_06a82efa_450f_11eb_88b5_0242ac130202row6_col3\" class=\"data row6 col3\" >7421.000000</td>\n",
       "                        <td id=\"T_06a82efa_450f_11eb_88b5_0242ac130202row6_col4\" class=\"data row6 col4\" >0.000000</td>\n",
       "                        <td id=\"T_06a82efa_450f_11eb_88b5_0242ac130202row6_col5\" class=\"data row6 col5\" >1112.000000</td>\n",
       "                        <td id=\"T_06a82efa_450f_11eb_88b5_0242ac130202row6_col6\" class=\"data row6 col6\" >3.000000</td>\n",
       "                        <td id=\"T_06a82efa_450f_11eb_88b5_0242ac130202row6_col7\" class=\"data row6 col7\" >1.000000</td>\n",
       "                        <td id=\"T_06a82efa_450f_11eb_88b5_0242ac130202row6_col8\" class=\"data row6 col8\" >29666.000000</td>\n",
       "            </tr>\n",
       "            <tr>\n",
       "                        <th id=\"T_06a82efa_450f_11eb_88b5_0242ac130202level0_row7\" class=\"row_heading level0 row7\" >max</th>\n",
       "                        <td id=\"T_06a82efa_450f_11eb_88b5_0242ac130202row7_col0\" class=\"data row7 col0\" >999999.000000</td>\n",
       "                        <td id=\"T_06a82efa_450f_11eb_88b5_0242ac130202row7_col1\" class=\"data row7 col1\" >78091996556.000000</td>\n",
       "                        <td id=\"T_06a82efa_450f_11eb_88b5_0242ac130202row7_col2\" class=\"data row7 col2\" >20949024.000000</td>\n",
       "                        <td id=\"T_06a82efa_450f_11eb_88b5_0242ac130202row7_col3\" class=\"data row7 col3\" >32736.000000</td>\n",
       "                        <td id=\"T_06a82efa_450f_11eb_88b5_0242ac130202row7_col4\" class=\"data row7 col4\" >1.000000</td>\n",
       "                        <td id=\"T_06a82efa_450f_11eb_88b5_0242ac130202row7_col5\" class=\"data row7 col5\" >7739.000000</td>\n",
       "                        <td id=\"T_06a82efa_450f_11eb_88b5_0242ac130202row7_col6\" class=\"data row7 col6\" >3.000000</td>\n",
       "                        <td id=\"T_06a82efa_450f_11eb_88b5_0242ac130202row7_col7\" class=\"data row7 col7\" >1.000000</td>\n",
       "                        <td id=\"T_06a82efa_450f_11eb_88b5_0242ac130202row7_col8\" class=\"data row7 col8\" >300000.000000</td>\n",
       "            </tr>\n",
       "    </tbody></table>"
      ],
      "text/plain": [
       "<pandas.io.formats.style.Styler at 0x7f9141463bd0>"
      ]
     },
     "execution_count": 8,
     "metadata": {},
     "output_type": "execute_result"
    }
   ],
   "source": [
    "train.describe().style.background_gradient(cmap='Blues')"
   ]
  },
  {
   "cell_type": "code",
   "execution_count": 9,
   "metadata": {
    "execution": {
     "iopub.execute_input": "2020-12-23T09:25:56.316338Z",
     "iopub.status.busy": "2020-12-23T09:25:56.315725Z",
     "iopub.status.idle": "2020-12-23T09:25:56.333688Z",
     "shell.execute_reply": "2020-12-23T09:25:56.334398Z"
    },
    "papermill": {
     "duration": 0.081008,
     "end_time": "2020-12-23T09:25:56.334567",
     "exception": false,
     "start_time": "2020-12-23T09:25:56.253559",
     "status": "completed"
    },
    "tags": []
   },
   "outputs": [
    {
     "name": "stdout",
     "output_type": "stream",
     "text": [
      "Number of unique users: 3824\n"
     ]
    }
   ],
   "source": [
    "print(f'Number of unique users: {len(np.unique(train.user_id))}')\n"
   ]
  },
  {
   "cell_type": "markdown",
   "metadata": {
    "papermill": {
     "duration": 0.08379,
     "end_time": "2020-12-23T09:25:56.503428",
     "exception": false,
     "start_time": "2020-12-23T09:25:56.419638",
     "status": "completed"
    },
    "tags": []
   },
   "source": [
    "Lets look at the missing data"
   ]
  },
  {
   "cell_type": "code",
   "execution_count": 10,
   "metadata": {
    "execution": {
     "iopub.execute_input": "2020-12-23T09:25:56.675809Z",
     "iopub.status.busy": "2020-12-23T09:25:56.675023Z",
     "iopub.status.idle": "2020-12-23T09:25:56.699454Z",
     "shell.execute_reply": "2020-12-23T09:25:56.700184Z"
    },
    "papermill": {
     "duration": 0.112644,
     "end_time": "2020-12-23T09:25:56.700334",
     "exception": false,
     "start_time": "2020-12-23T09:25:56.587690",
     "status": "completed"
    },
    "tags": []
   },
   "outputs": [
    {
     "name": "stdout",
     "output_type": "stream",
     "text": [
      "row_id                            0.000000\n",
      "timestamp                         0.000000\n",
      "user_id                           0.000000\n",
      "content_id                        0.000000\n",
      "content_type_id                   0.000000\n",
      "task_container_id                 0.000000\n",
      "user_answer                       0.000000\n",
      "answered_correctly                0.000000\n",
      "prior_question_elapsed_time       0.023723\n",
      "prior_question_had_explanation    0.003816\n",
      "dtype: float64\n"
     ]
    }
   ],
   "source": [
    "print(train.isnull().sum()/len(train))"
   ]
  },
  {
   "cell_type": "markdown",
   "metadata": {
    "papermill": {
     "duration": 0.086095,
     "end_time": "2020-12-23T09:25:56.871620",
     "exception": false,
     "start_time": "2020-12-23T09:25:56.785525",
     "status": "completed"
    },
    "tags": []
   },
   "source": [
    "Also let's check a correlation matrix to get more information between the columns"
   ]
  },
  {
   "cell_type": "code",
   "execution_count": 11,
   "metadata": {
    "execution": {
     "iopub.execute_input": "2020-12-23T09:25:57.068047Z",
     "iopub.status.busy": "2020-12-23T09:25:57.067210Z",
     "iopub.status.idle": "2020-12-23T09:25:57.304747Z",
     "shell.execute_reply": "2020-12-23T09:25:57.304089Z"
    },
    "papermill": {
     "duration": 0.340962,
     "end_time": "2020-12-23T09:25:57.304850",
     "exception": false,
     "start_time": "2020-12-23T09:25:56.963888",
     "status": "completed"
    },
    "tags": []
   },
   "outputs": [
    {
     "data": {
      "text/plain": [
       "content_type_id                  -0.438788\n",
       "content_id                       -0.203327\n",
       "row_id                           -0.015589\n",
       "user_id                          -0.014776\n",
       "prior_question_elapsed_time       0.003251\n",
       "timestamp                         0.027571\n",
       "task_container_id                 0.039130\n",
       "user_answer                       0.126721\n",
       "prior_question_had_explanation    0.267835\n",
       "answered_correctly                1.000000\n",
       "Name: answered_correctly, dtype: float64"
      ]
     },
     "execution_count": 11,
     "metadata": {},
     "output_type": "execute_result"
    }
   ],
   "source": [
    "corr_matrix=train.corr()\n",
    "corr_matrix['answered_correctly'].sort_values(ascending=True)"
   ]
  },
  {
   "cell_type": "code",
   "execution_count": 12,
   "metadata": {
    "execution": {
     "iopub.execute_input": "2020-12-23T09:25:57.426864Z",
     "iopub.status.busy": "2020-12-23T09:25:57.426082Z",
     "iopub.status.idle": "2020-12-23T09:25:58.144550Z",
     "shell.execute_reply": "2020-12-23T09:25:58.145057Z"
    },
    "papermill": {
     "duration": 0.781817,
     "end_time": "2020-12-23T09:25:58.145235",
     "exception": false,
     "start_time": "2020-12-23T09:25:57.363418",
     "status": "completed"
    },
    "tags": []
   },
   "outputs": [
    {
     "data": {
      "text/plain": [
       "<matplotlib.axes._subplots.AxesSubplot at 0x7f913f3622d0>"
      ]
     },
     "execution_count": 12,
     "metadata": {},
     "output_type": "execute_result"
    },
    {
     "data": {
      "image/png": "[encoded data removed]",
      "text/plain": [
       "<Figure size 936x720 with 2 Axes>"
      ]
     },
     "metadata": {
      "needs_background": "light"
     },
     "output_type": "display_data"
    }
   ],
   "source": [
    "plt.figure(figsize=(13,10))\n",
    "sns.heatmap(corr_matrix,annot=True,\n",
    "           linewidths=5,cmap=colorMap1)"
   ]
  },
  {
   "cell_type": "markdown",
   "metadata": {
    "papermill": {
     "duration": 0.064413,
     "end_time": "2020-12-23T09:25:58.276254",
     "exception": false,
     "start_time": "2020-12-23T09:25:58.211841",
     "status": "completed"
    },
    "tags": []
   },
   "source": [
    "\n",
    "\n",
    "\n",
    "\n",
    "\n",
    "\n",
    "Let's check the distribution of **prior_question_elapsed_time** "
   ]
  },
  {
   "cell_type": "code",
   "execution_count": 13,
   "metadata": {
    "execution": {
     "iopub.execute_input": "2020-12-23T09:25:58.410665Z",
     "iopub.status.busy": "2020-12-23T09:25:58.409805Z",
     "iopub.status.idle": "2020-12-23T09:26:15.844554Z",
     "shell.execute_reply": "2020-12-23T09:26:15.844004Z"
    },
    "papermill": {
     "duration": 17.503936,
     "end_time": "2020-12-23T09:26:15.844665",
     "exception": false,
     "start_time": "2020-12-23T09:25:58.340729",
     "status": "completed"
    },
    "tags": []
   },
   "outputs": [
    {
     "data": {
      "image/png": "[encoded data removed]",
      "text/plain": [
       "<Figure size 1080x720 with 1 Axes>"
      ]
     },
     "metadata": {
      "needs_background": "light"
     },
     "output_type": "display_data"
    }
   ],
   "source": [
    "plt.figure(figsize=(15, 10))\n",
    "ax = sns.countplot(x=\"prior_question_elapsed_time\", \n",
    "                   data=train[train['prior_question_elapsed_time'].notnull()],\n",
    "                   palette=colorMap2)"
   ]
  },
  {
   "cell_type": "markdown",
   "metadata": {
    "papermill": {
     "duration": 0.06092,
     "end_time": "2020-12-23T09:26:15.967731",
     "exception": false,
     "start_time": "2020-12-23T09:26:15.906811",
     "status": "completed"
    },
    "tags": []
   },
   "source": [
    "\n",
    "Let's check any connection between our target value and a frequency of answering questions"
   ]
  },
  {
   "cell_type": "code",
   "execution_count": 14,
   "metadata": {
    "execution": {
     "iopub.execute_input": "2020-12-23T09:26:16.102488Z",
     "iopub.status.busy": "2020-12-23T09:26:16.101559Z",
     "iopub.status.idle": "2020-12-23T09:26:16.258688Z",
     "shell.execute_reply": "2020-12-23T09:26:16.259063Z"
    },
    "papermill": {
     "duration": 0.229489,
     "end_time": "2020-12-23T09:26:16.259201",
     "exception": false,
     "start_time": "2020-12-23T09:26:16.029712",
     "status": "completed"
    },
    "tags": []
   },
   "outputs": [],
   "source": [
    "freq_answered_tasks = train['task_container_id'].value_counts().reset_index()\n",
    "freq_answered_tasks.columns = [\n",
    "    'task_container_id', \n",
    "    'freq'\n",
    "]\n",
    "train['freq_task_id'] = ''\n",
    "train.loc[train['task_container_id'].isin(freq_answered_tasks[freq_answered_tasks['freq'] < 10000]['task_container_id'].values), 'freq_task_id'] = 'very rare answered'\n",
    "train.loc[train['task_container_id'].isin(freq_answered_tasks[freq_answered_tasks['freq'] >= 10000]['task_container_id'].values), 'freq_task_id'] = 'rare answered'\n",
    "train.loc[train['task_container_id'].isin(freq_answered_tasks[freq_answered_tasks['freq'] >= 50000]['task_container_id'].values), 'freq_task_id'] = 'normal answered'\n",
    "train.loc[train['task_container_id'].isin(freq_answered_tasks[freq_answered_tasks['freq'] >= 200000]['task_container_id'].values), 'freq_task_id'] = 'often answered'\n",
    "train.loc[train['task_container_id'].isin(freq_answered_tasks[freq_answered_tasks['freq'] >= 400000]['task_container_id'].values), 'freq_task_id'] = 'very often answered'\n",
    "\n"
   ]
  },
  {
   "cell_type": "code",
   "execution_count": 15,
   "metadata": {
    "execution": {
     "iopub.execute_input": "2020-12-23T09:26:16.362692Z",
     "iopub.status.busy": "2020-12-23T09:26:16.361810Z",
     "iopub.status.idle": "2020-12-23T09:26:16.402465Z",
     "shell.execute_reply": "2020-12-23T09:26:16.403299Z"
    },
    "papermill": {
     "duration": 0.100112,
     "end_time": "2020-12-23T09:26:16.403467",
     "exception": false,
     "start_time": "2020-12-23T09:26:16.303355",
     "status": "completed"
    },
    "tags": []
   },
   "outputs": [
    {
     "data": {
      "text/html": [
       "<div>\n",
       "<style scoped>\n",
       "    .dataframe tbody tr th:only-of-type {\n",
       "        vertical-align: middle;\n",
       "    }\n",
       "\n",
       "    .dataframe tbody tr th {\n",
       "        vertical-align: top;\n",
       "    }\n",
       "\n",
       "    .dataframe thead th {\n",
       "        text-align: right;\n",
       "    }\n",
       "</style>\n",
       "<table border=\"1\" class=\"dataframe\">\n",
       "  <thead>\n",
       "    <tr style=\"text-align: right;\">\n",
       "      <th></th>\n",
       "      <th>row_id</th>\n",
       "      <th>timestamp</th>\n",
       "      <th>user_id</th>\n",
       "      <th>content_id</th>\n",
       "      <th>content_type_id</th>\n",
       "      <th>task_container_id</th>\n",
       "      <th>user_answer</th>\n",
       "      <th>answered_correctly</th>\n",
       "      <th>prior_question_elapsed_time</th>\n",
       "      <th>prior_question_had_explanation</th>\n",
       "      <th>freq_task_id</th>\n",
       "    </tr>\n",
       "  </thead>\n",
       "  <tbody>\n",
       "    <tr>\n",
       "      <th>793998</th>\n",
       "      <td>793998</td>\n",
       "      <td>9262473729</td>\n",
       "      <td>16159973</td>\n",
       "      <td>5637</td>\n",
       "      <td>0</td>\n",
       "      <td>700</td>\n",
       "      <td>0</td>\n",
       "      <td>1</td>\n",
       "      <td>20000.0</td>\n",
       "      <td>True</td>\n",
       "      <td>very rare answered</td>\n",
       "    </tr>\n",
       "    <tr>\n",
       "      <th>997337</th>\n",
       "      <td>997337</td>\n",
       "      <td>1179553</td>\n",
       "      <td>20873022</td>\n",
       "      <td>438</td>\n",
       "      <td>0</td>\n",
       "      <td>24</td>\n",
       "      <td>3</td>\n",
       "      <td>1</td>\n",
       "      <td>15000.0</td>\n",
       "      <td>True</td>\n",
       "      <td>very rare answered</td>\n",
       "    </tr>\n",
       "    <tr>\n",
       "      <th>661766</th>\n",
       "      <td>661766</td>\n",
       "      <td>34159464706</td>\n",
       "      <td>13447062</td>\n",
       "      <td>9981</td>\n",
       "      <td>0</td>\n",
       "      <td>1472</td>\n",
       "      <td>2</td>\n",
       "      <td>0</td>\n",
       "      <td>36000.0</td>\n",
       "      <td>True</td>\n",
       "      <td>very rare answered</td>\n",
       "    </tr>\n",
       "    <tr>\n",
       "      <th>649179</th>\n",
       "      <td>649179</td>\n",
       "      <td>11518460056</td>\n",
       "      <td>13149581</td>\n",
       "      <td>32023</td>\n",
       "      <td>1</td>\n",
       "      <td>1752</td>\n",
       "      <td>-1</td>\n",
       "      <td>-1</td>\n",
       "      <td>NaN</td>\n",
       "      <td>False</td>\n",
       "      <td>very rare answered</td>\n",
       "    </tr>\n",
       "    <tr>\n",
       "      <th>591394</th>\n",
       "      <td>591394</td>\n",
       "      <td>512209808</td>\n",
       "      <td>11899332</td>\n",
       "      <td>345</td>\n",
       "      <td>0</td>\n",
       "      <td>116</td>\n",
       "      <td>1</td>\n",
       "      <td>1</td>\n",
       "      <td>11000.0</td>\n",
       "      <td>True</td>\n",
       "      <td>very rare answered</td>\n",
       "    </tr>\n",
       "  </tbody>\n",
       "</table>\n",
       "</div>"
      ],
      "text/plain": [
       "        row_id    timestamp   user_id  content_id  content_type_id  \\\n",
       "793998  793998   9262473729  16159973        5637                0   \n",
       "997337  997337      1179553  20873022         438                0   \n",
       "661766  661766  34159464706  13447062        9981                0   \n",
       "649179  649179  11518460056  13149581       32023                1   \n",
       "591394  591394    512209808  11899332         345                0   \n",
       "\n",
       "        task_container_id  user_answer  answered_correctly  \\\n",
       "793998                700            0                   1   \n",
       "997337                 24            3                   1   \n",
       "661766               1472            2                   0   \n",
       "649179               1752           -1                  -1   \n",
       "591394                116            1                   1   \n",
       "\n",
       "        prior_question_elapsed_time  prior_question_had_explanation  \\\n",
       "793998                      20000.0                            True   \n",
       "997337                      15000.0                            True   \n",
       "661766                      36000.0                            True   \n",
       "649179                          NaN                           False   \n",
       "591394                      11000.0                            True   \n",
       "\n",
       "              freq_task_id  \n",
       "793998  very rare answered  \n",
       "997337  very rare answered  \n",
       "661766  very rare answered  \n",
       "649179  very rare answered  \n",
       "591394  very rare answered  "
      ]
     },
     "execution_count": 15,
     "metadata": {},
     "output_type": "execute_result"
    }
   ],
   "source": [
    "train.sample(5)"
   ]
  },
  {
   "cell_type": "code",
   "execution_count": 16,
   "metadata": {
    "execution": {
     "iopub.execute_input": "2020-12-23T09:26:16.595535Z",
     "iopub.status.busy": "2020-12-23T09:26:16.594741Z",
     "iopub.status.idle": "2020-12-23T09:26:17.163175Z",
     "shell.execute_reply": "2020-12-23T09:26:17.163826Z"
    },
    "papermill": {
     "duration": 0.667952,
     "end_time": "2020-12-23T09:26:17.163996",
     "exception": false,
     "start_time": "2020-12-23T09:26:16.496044",
     "status": "completed"
    },
    "tags": []
   },
   "outputs": [
    {
     "data": {
      "text/plain": [
       "<matplotlib.axes._subplots.AxesSubplot at 0x7f91352d19d0>"
      ]
     },
     "execution_count": 16,
     "metadata": {},
     "output_type": "execute_result"
    },
    {
     "data": {
      "image/png": "[encoded data removed]",
      "text/plain": [
       "<Figure size 1080x720 with 1 Axes>"
      ]
     },
     "metadata": {
      "needs_background": "light"
     },
     "output_type": "display_data"
    }
   ],
   "source": [
    "plt.figure(figsize=(15, 10))\n",
    "sns.countplot(x='freq_task_id', hue='answered_correctly', data=train, palette=colorMap2)"
   ]
  },
  {
   "cell_type": "code",
   "execution_count": 17,
   "metadata": {
    "execution": {
     "iopub.execute_input": "2020-12-23T09:26:17.360400Z",
     "iopub.status.busy": "2020-12-23T09:26:17.359538Z",
     "iopub.status.idle": "2020-12-23T09:26:17.363616Z",
     "shell.execute_reply": "2020-12-23T09:26:17.362864Z"
    },
    "papermill": {
     "duration": 0.104546,
     "end_time": "2020-12-23T09:26:17.363745",
     "exception": false,
     "start_time": "2020-12-23T09:26:17.259199",
     "status": "completed"
    },
    "tags": []
   },
   "outputs": [],
   "source": [
    "WIDTH=800"
   ]
  },
  {
   "cell_type": "code",
   "execution_count": 18,
   "metadata": {
    "execution": {
     "iopub.execute_input": "2020-12-23T09:26:17.560320Z",
     "iopub.status.busy": "2020-12-23T09:26:17.559455Z",
     "iopub.status.idle": "2020-12-23T09:26:18.584830Z",
     "shell.execute_reply": "2020-12-23T09:26:18.584285Z"
    },
    "papermill": {
     "duration": 1.127052,
     "end_time": "2020-12-23T09:26:18.584960",
     "exception": false,
     "start_time": "2020-12-23T09:26:17.457908",
     "status": "completed"
    },
    "tags": []
   },
   "outputs": [
    {
     "data": {
      "text/html": [
       "        <script type=\"text/javascript\">\n",
       "        window.PlotlyConfig = {MathJaxConfig: 'local'};\n",
       "        if (window.MathJax) {MathJax.Hub.Config({SVG: {font: \"STIX-Web\"}});}\n",
       "        if (typeof require !== 'undefined') {\n",
       "        require.undef(\"plotly\");\n",
       "        requirejs.config({\n",
       "            paths: {\n",
       "                'plotly': ['https://cdn.plot.ly/plotly-latest.min']\n",
       "            }\n",
       "        });\n",
       "        require(['plotly'], function(Plotly) {\n",
       "            window._Plotly = Plotly;\n",
       "        });\n",
       "        }\n",
       "        </script>\n",
       "        "
      ]
     },
     "metadata": {},
     "output_type": "display_data"
    },
    {
     "data": {
      "text/html": [
       "<div>                            <div id=\"c86be6d8-c398-4723-9f57-af1f38db4b40\" class=\"plotly-graph-div\" style=\"height:500px; width:800px;\"></div>            <script type=\"text/javascript\">                require([\"plotly\"], function(Plotly) {                    window.PLOTLYENV=window.PLOTLYENV || {};                                    if (document.getElementById(\"c86be6d8-c398-4723-9f57-af1f38db4b40\")) {                    Plotly.newPlot(                        \"c86be6d8-c398-4723-9f57-af1f38db4b40\",                        [{\"domain\": {\"x\": [0.0, 1.0], \"y\": [0.0, 1.0]}, \"hovertemplate\": \"answered_correctly=%{label}<br>percent_of_answers=%{value}<extra></extra>\", \"labels\": [-1, 0, 1], \"legendgroup\": \"\", \"name\": \"\", \"showlegend\": true, \"type\": \"pie\", \"values\": [0.019907, 0.342682, 0.637411]}],                        {\"height\": 500, \"legend\": {\"tracegroupgap\": 0}, \"template\": {\"data\": {\"bar\": [{\"error_x\": {\"color\": \"#2a3f5f\"}, \"error_y\": {\"color\": \"#2a3f5f\"}, \"marker\": {\"line\": {\"color\": \"#E5ECF6\", \"width\": 0.5}}, \"type\": \"bar\"}], \"barpolar\": [{\"marker\": {\"line\": {\"color\": \"#E5ECF6\", \"width\": 0.5}}, \"type\": \"barpolar\"}], \"carpet\": [{\"aaxis\": {\"endlinecolor\": \"#2a3f5f\", \"gridcolor\": \"white\", \"linecolor\": \"white\", \"minorgridcolor\": \"white\", \"startlinecolor\": \"#2a3f5f\"}, \"baxis\": {\"endlinecolor\": \"#2a3f5f\", \"gridcolor\": \"white\", \"linecolor\": \"white\", \"minorgridcolor\": \"white\", \"startlinecolor\": \"#2a3f5f\"}, \"type\": \"carpet\"}], \"choropleth\": [{\"colorbar\": {\"outlinewidth\": 0, \"ticks\": \"\"}, \"type\": \"choropleth\"}], \"contour\": [{\"colorbar\": {\"outlinewidth\": 0, \"ticks\": \"\"}, \"colorscale\": [[0.0, \"#0d0887\"], [0.1111111111111111, \"#46039f\"], [0.2222222222222222, \"#7201a8\"], [0.3333333333333333, \"#9c179e\"], [0.4444444444444444, \"#bd3786\"], [0.5555555555555556, \"#d8576b\"], [0.6666666666666666, \"#ed7953\"], [0.7777777777777778, \"#fb9f3a\"], [0.8888888888888888, \"#fdca26\"], [1.0, \"#f0f921\"]], \"type\": \"contour\"}], \"contourcarpet\": [{\"colorbar\": {\"outlinewidth\": 0, \"ticks\": \"\"}, \"type\": \"contourcarpet\"}], \"heatmap\": [{\"colorbar\": {\"outlinewidth\": 0, \"ticks\": \"\"}, \"colorscale\": [[0.0, \"#0d0887\"], [0.1111111111111111, \"#46039f\"], [0.2222222222222222, \"#7201a8\"], [0.3333333333333333, \"#9c179e\"], [0.4444444444444444, \"#bd3786\"], [0.5555555555555556, \"#d8576b\"], [0.6666666666666666, \"#ed7953\"], [0.7777777777777778, \"#fb9f3a\"], [0.8888888888888888, \"#fdca26\"], [1.0, \"#f0f921\"]], \"type\": \"heatmap\"}], \"heatmapgl\": [{\"colorbar\": {\"outlinewidth\": 0, \"ticks\": \"\"}, \"colorscale\": [[0.0, \"#0d0887\"], [0.1111111111111111, \"#46039f\"], [0.2222222222222222, \"#7201a8\"], [0.3333333333333333, \"#9c179e\"], [0.4444444444444444, \"#bd3786\"], [0.5555555555555556, \"#d8576b\"], [0.6666666666666666, \"#ed7953\"], [0.7777777777777778, \"#fb9f3a\"], [0.8888888888888888, \"#fdca26\"], [1.0, \"#f0f921\"]], \"type\": \"heatmapgl\"}], \"histogram\": [{\"marker\": {\"colorbar\": {\"outlinewidth\": 0, \"ticks\": \"\"}}, \"type\": \"histogram\"}], \"histogram2d\": [{\"colorbar\": {\"outlinewidth\": 0, \"ticks\": \"\"}, \"colorscale\": [[0.0, \"#0d0887\"], [0.1111111111111111, \"#46039f\"], [0.2222222222222222, \"#7201a8\"], [0.3333333333333333, \"#9c179e\"], [0.4444444444444444, \"#bd3786\"], [0.5555555555555556, \"#d8576b\"], [0.6666666666666666, \"#ed7953\"], [0.7777777777777778, \"#fb9f3a\"], [0.8888888888888888, \"#fdca26\"], [1.0, \"#f0f921\"]], \"type\": \"histogram2d\"}], \"histogram2dcontour\": [{\"colorbar\": {\"outlinewidth\": 0, \"ticks\": \"\"}, \"colorscale\": [[0.0, \"#0d0887\"], [0.1111111111111111, \"#46039f\"], [0.2222222222222222, \"#7201a8\"], [0.3333333333333333, \"#9c179e\"], [0.4444444444444444, \"#bd3786\"], [0.5555555555555556, \"#d8576b\"], [0.6666666666666666, \"#ed7953\"], [0.7777777777777778, \"#fb9f3a\"], [0.8888888888888888, \"#fdca26\"], [1.0, \"#f0f921\"]], \"type\": \"histogram2dcontour\"}], \"mesh3d\": [{\"colorbar\": {\"outlinewidth\": 0, \"ticks\": \"\"}, \"type\": \"mesh3d\"}], \"parcoords\": [{\"line\": {\"colorbar\": {\"outlinewidth\": 0, \"ticks\": \"\"}}, \"type\": \"parcoords\"}], \"pie\": [{\"automargin\": true, \"type\": \"pie\"}], \"scatter\": [{\"marker\": {\"colorbar\": {\"outlinewidth\": 0, \"ticks\": \"\"}}, \"type\": \"scatter\"}], \"scatter3d\": [{\"line\": {\"colorbar\": {\"outlinewidth\": 0, \"ticks\": \"\"}}, \"marker\": {\"colorbar\": {\"outlinewidth\": 0, \"ticks\": \"\"}}, \"type\": \"scatter3d\"}], \"scattercarpet\": [{\"marker\": {\"colorbar\": {\"outlinewidth\": 0, \"ticks\": \"\"}}, \"type\": \"scattercarpet\"}], \"scattergeo\": [{\"marker\": {\"colorbar\": {\"outlinewidth\": 0, \"ticks\": \"\"}}, \"type\": \"scattergeo\"}], \"scattergl\": [{\"marker\": {\"colorbar\": {\"outlinewidth\": 0, \"ticks\": \"\"}}, \"type\": \"scattergl\"}], \"scattermapbox\": [{\"marker\": {\"colorbar\": {\"outlinewidth\": 0, \"ticks\": \"\"}}, \"type\": \"scattermapbox\"}], \"scatterpolar\": [{\"marker\": {\"colorbar\": {\"outlinewidth\": 0, \"ticks\": \"\"}}, \"type\": \"scatterpolar\"}], \"scatterpolargl\": [{\"marker\": {\"colorbar\": {\"outlinewidth\": 0, \"ticks\": \"\"}}, \"type\": \"scatterpolargl\"}], \"scatterternary\": [{\"marker\": {\"colorbar\": {\"outlinewidth\": 0, \"ticks\": \"\"}}, \"type\": \"scatterternary\"}], \"surface\": [{\"colorbar\": {\"outlinewidth\": 0, \"ticks\": \"\"}, \"colorscale\": [[0.0, \"#0d0887\"], [0.1111111111111111, \"#46039f\"], [0.2222222222222222, \"#7201a8\"], [0.3333333333333333, \"#9c179e\"], [0.4444444444444444, \"#bd3786\"], [0.5555555555555556, \"#d8576b\"], [0.6666666666666666, \"#ed7953\"], [0.7777777777777778, \"#fb9f3a\"], [0.8888888888888888, \"#fdca26\"], [1.0, \"#f0f921\"]], \"type\": \"surface\"}], \"table\": [{\"cells\": {\"fill\": {\"color\": \"#EBF0F8\"}, \"line\": {\"color\": \"white\"}}, \"header\": {\"fill\": {\"color\": \"#C8D4E3\"}, \"line\": {\"color\": \"white\"}}, \"type\": \"table\"}]}, \"layout\": {\"annotationdefaults\": {\"arrowcolor\": \"#2a3f5f\", \"arrowhead\": 0, \"arrowwidth\": 1}, \"autotypenumbers\": \"strict\", \"coloraxis\": {\"colorbar\": {\"outlinewidth\": 0, \"ticks\": \"\"}}, \"colorscale\": {\"diverging\": [[0, \"#8e0152\"], [0.1, \"#c51b7d\"], [0.2, \"#de77ae\"], [0.3, \"#f1b6da\"], [0.4, \"#fde0ef\"], [0.5, \"#f7f7f7\"], [0.6, \"#e6f5d0\"], [0.7, \"#b8e186\"], [0.8, \"#7fbc41\"], [0.9, \"#4d9221\"], [1, \"#276419\"]], \"sequential\": [[0.0, \"#0d0887\"], [0.1111111111111111, \"#46039f\"], [0.2222222222222222, \"#7201a8\"], [0.3333333333333333, \"#9c179e\"], [0.4444444444444444, \"#bd3786\"], [0.5555555555555556, \"#d8576b\"], [0.6666666666666666, \"#ed7953\"], [0.7777777777777778, \"#fb9f3a\"], [0.8888888888888888, \"#fdca26\"], [1.0, \"#f0f921\"]], \"sequentialminus\": [[0.0, \"#0d0887\"], [0.1111111111111111, \"#46039f\"], [0.2222222222222222, \"#7201a8\"], [0.3333333333333333, \"#9c179e\"], [0.4444444444444444, \"#bd3786\"], [0.5555555555555556, \"#d8576b\"], [0.6666666666666666, \"#ed7953\"], [0.7777777777777778, \"#fb9f3a\"], [0.8888888888888888, \"#fdca26\"], [1.0, \"#f0f921\"]]}, \"colorway\": [\"#636efa\", \"#EF553B\", \"#00cc96\", \"#ab63fa\", \"#FFA15A\", \"#19d3f3\", \"#FF6692\", \"#B6E880\", \"#FF97FF\", \"#FECB52\"], \"font\": {\"color\": \"#2a3f5f\"}, \"geo\": {\"bgcolor\": \"white\", \"lakecolor\": \"white\", \"landcolor\": \"#E5ECF6\", \"showlakes\": true, \"showland\": true, \"subunitcolor\": \"white\"}, \"hoverlabel\": {\"align\": \"left\"}, \"hovermode\": \"closest\", \"mapbox\": {\"style\": \"light\"}, \"paper_bgcolor\": \"white\", \"plot_bgcolor\": \"#E5ECF6\", \"polar\": {\"angularaxis\": {\"gridcolor\": \"white\", \"linecolor\": \"white\", \"ticks\": \"\"}, \"bgcolor\": \"#E5ECF6\", \"radialaxis\": {\"gridcolor\": \"white\", \"linecolor\": \"white\", \"ticks\": \"\"}}, \"scene\": {\"xaxis\": {\"backgroundcolor\": \"#E5ECF6\", \"gridcolor\": \"white\", \"gridwidth\": 2, \"linecolor\": \"white\", \"showbackground\": true, \"ticks\": \"\", \"zerolinecolor\": \"white\"}, \"yaxis\": {\"backgroundcolor\": \"#E5ECF6\", \"gridcolor\": \"white\", \"gridwidth\": 2, \"linecolor\": \"white\", \"showbackground\": true, \"ticks\": \"\", \"zerolinecolor\": \"white\"}, \"zaxis\": {\"backgroundcolor\": \"#E5ECF6\", \"gridcolor\": \"white\", \"gridwidth\": 2, \"linecolor\": \"white\", \"showbackground\": true, \"ticks\": \"\", \"zerolinecolor\": \"white\"}}, \"shapedefaults\": {\"line\": {\"color\": \"#2a3f5f\"}}, \"ternary\": {\"aaxis\": {\"gridcolor\": \"white\", \"linecolor\": \"white\", \"ticks\": \"\"}, \"baxis\": {\"gridcolor\": \"white\", \"linecolor\": \"white\", \"ticks\": \"\"}, \"bgcolor\": \"#E5ECF6\", \"caxis\": {\"gridcolor\": \"white\", \"linecolor\": \"white\", \"ticks\": \"\"}}, \"title\": {\"x\": 0.05}, \"xaxis\": {\"automargin\": true, \"gridcolor\": \"white\", \"linecolor\": \"white\", \"ticks\": \"\", \"title\": {\"standoff\": 15}, \"zerolinecolor\": \"white\", \"zerolinewidth\": 2}, \"yaxis\": {\"automargin\": true, \"gridcolor\": \"white\", \"linecolor\": \"white\", \"ticks\": \"\", \"title\": {\"standoff\": 15}, \"zerolinecolor\": \"white\", \"zerolinewidth\": 2}}}, \"title\": {\"text\": \"Percent of correct answers\"}, \"width\": 800},                        {\"responsive\": true}                    ).then(function(){\n",
       "                            \n",
       "var gd = document.getElementById('c86be6d8-c398-4723-9f57-af1f38db4b40');\n",
       "var x = new MutationObserver(function (mutations, observer) {{\n",
       "        var display = window.getComputedStyle(gd).display;\n",
       "        if (!display || display === 'none') {{\n",
       "            console.log([gd, 'removed!']);\n",
       "            Plotly.purge(gd);\n",
       "            observer.disconnect();\n",
       "        }}\n",
       "}});\n",
       "\n",
       "// Listen for the removal of the full notebook cells\n",
       "var notebookContainer = gd.closest('#notebook-container');\n",
       "if (notebookContainer) {{\n",
       "    x.observe(notebookContainer, {childList: true});\n",
       "}}\n",
       "\n",
       "// Listen for the clearing of the current output cell\n",
       "var outputEl = gd.closest('.output');\n",
       "if (outputEl) {{\n",
       "    x.observe(outputEl, {childList: true});\n",
       "}}\n",
       "\n",
       "                        })                };                });            </script>        </div>"
      ]
     },
     "metadata": {},
     "output_type": "display_data"
    }
   ],
   "source": [
    "ds = train['answered_correctly'].value_counts().reset_index()\n",
    "\n",
    "ds.columns = [\n",
    "    'answered_correctly', \n",
    "    'percent_of_answers'\n",
    "]\n",
    "\n",
    "ds['percent_of_answers'] /= len(train)\n",
    "ds = ds.sort_values(['percent_of_answers'])\n",
    "\n",
    "fig = px.pie(\n",
    "    ds, \n",
    "    names='answered_correctly', \n",
    "    values='percent_of_answers', \n",
    "    title='Percent of correct answers', \n",
    "    width=WIDTH,\n",
    "    height=500 \n",
    ")\n",
    "\n",
    "\n",
    "fig.show()"
   ]
  },
  {
   "cell_type": "markdown",
   "metadata": {
    "papermill": {
     "duration": 0.064558,
     "end_time": "2020-12-23T09:26:18.714510",
     "exception": false,
     "start_time": "2020-12-23T09:26:18.649952",
     "status": "completed"
    },
    "tags": []
   },
   "source": [
    "prior_question_had_explanation has a medium correlation with the target value. So let's look at his distribution\n",
    "\n"
   ]
  },
  {
   "cell_type": "code",
   "execution_count": 19,
   "metadata": {
    "execution": {
     "iopub.execute_input": "2020-12-23T09:26:18.850899Z",
     "iopub.status.busy": "2020-12-23T09:26:18.850225Z",
     "iopub.status.idle": "2020-12-23T09:26:19.369970Z",
     "shell.execute_reply": "2020-12-23T09:26:19.369085Z"
    },
    "papermill": {
     "duration": 0.590844,
     "end_time": "2020-12-23T09:26:19.370083",
     "exception": false,
     "start_time": "2020-12-23T09:26:18.779239",
     "status": "completed"
    },
    "tags": []
   },
   "outputs": [
    {
     "data": {
      "image/png": "[encoded data removed]",
      "text/plain": [
       "<Figure size 1080x792 with 1 Axes>"
      ]
     },
     "metadata": {
      "needs_background": "light"
     },
     "output_type": "display_data"
    }
   ],
   "source": [
    "plt.figure(figsize=(15, 11))\n",
    "ax = sns.countplot(x=\"prior_question_had_explanation\", hue=\"answered_correctly\", data=train[train['prior_question_had_explanation'].notnull()], palette=colorMap2)"
   ]
  },
  {
   "cell_type": "markdown",
   "metadata": {
    "papermill": {
     "duration": 0.064252,
     "end_time": "2020-12-23T09:26:19.499243",
     "exception": false,
     "start_time": "2020-12-23T09:26:19.434991",
     "status": "completed"
    },
    "tags": []
   },
   "source": [
    "The answer's showing increases the probability of a successful answering. Let's go further.\n",
    "Check the most active user_id\n",
    "\n"
   ]
  },
  {
   "cell_type": "code",
   "execution_count": 20,
   "metadata": {
    "execution": {
     "iopub.execute_input": "2020-12-23T09:26:19.634237Z",
     "iopub.status.busy": "2020-12-23T09:26:19.633601Z",
     "iopub.status.idle": "2020-12-23T09:26:20.033193Z",
     "shell.execute_reply": "2020-12-23T09:26:20.033813Z"
    },
    "papermill": {
     "duration": 0.468463,
     "end_time": "2020-12-23T09:26:20.033950",
     "exception": false,
     "start_time": "2020-12-23T09:26:19.565487",
     "status": "completed"
    },
    "tags": []
   },
   "outputs": [
    {
     "data": {
      "text/plain": [
       "Text(0.5, 1.0, 'Top 30 the most active users')"
      ]
     },
     "execution_count": 20,
     "metadata": {},
     "output_type": "execute_result"
    },
    {
     "data": {
      "image/png": "[encoded data removed]",
      "text/plain": [
       "<Figure size 1080x1080 with 1 Axes>"
      ]
     },
     "metadata": {
      "needs_background": "light"
     },
     "output_type": "display_data"
    }
   ],
   "source": [
    "N=30\n",
    "\n",
    "user_freq = train['user_id'].value_counts().reset_index()\n",
    "user_freq.columns = [\n",
    "    'user_id', \n",
    "    'count'\n",
    "]\n",
    "\n",
    "# Add ' - ' to convert user_id to str and not sort\n",
    "user_freq['user_id'] = user_freq['user_id'].astype(str) + ' - '\n",
    "user_freq = user_freq.sort_values(['count'], ascending=False).head(N)\n",
    "\n",
    "plt.figure(figsize=(15, 15))\n",
    "sns.barplot(x='count', y='user_id', data=user_freq, orient='h', palette=colorMap2)\n",
    "plt.title(f'Top {N} the most active users', fontsize=14)"
   ]
  },
  {
   "cell_type": "markdown",
   "metadata": {
    "papermill": {
     "duration": 0.067817,
     "end_time": "2020-12-23T09:26:20.169412",
     "exception": false,
     "start_time": "2020-12-23T09:26:20.101595",
     "status": "completed"
    },
    "tags": []
   },
   "source": [
    "And the most useful content_id"
   ]
  },
  {
   "cell_type": "markdown",
   "metadata": {
    "papermill": {
     "duration": 0.067669,
     "end_time": "2020-12-23T09:26:20.306935",
     "exception": false,
     "start_time": "2020-12-23T09:26:20.239266",
     "status": "completed"
    },
    "tags": []
   },
   "source": []
  },
  {
   "cell_type": "code",
   "execution_count": 21,
   "metadata": {
    "execution": {
     "iopub.execute_input": "2020-12-23T09:26:20.446457Z",
     "iopub.status.busy": "2020-12-23T09:26:20.445732Z",
     "iopub.status.idle": "2020-12-23T09:26:20.451216Z",
     "shell.execute_reply": "2020-12-23T09:26:20.451840Z"
    },
    "papermill": {
     "duration": 0.078296,
     "end_time": "2020-12-23T09:26:20.451985",
     "exception": false,
     "start_time": "2020-12-23T09:26:20.373689",
     "status": "completed"
    },
    "tags": []
   },
   "outputs": [],
   "source": [
    "WIDTH=800"
   ]
  },
  {
   "cell_type": "markdown",
   "metadata": {
    "papermill": {
     "duration": 0.067017,
     "end_time": "2020-12-23T09:26:20.585977",
     "exception": false,
     "start_time": "2020-12-23T09:26:20.518960",
     "status": "completed"
    },
    "tags": []
   },
   "source": [
    "Also we need to check distribution in content_type_id: number of video lectures and questions"
   ]
  },
  {
   "cell_type": "code",
   "execution_count": 22,
   "metadata": {
    "execution": {
     "iopub.execute_input": "2020-12-23T09:26:20.765081Z",
     "iopub.status.busy": "2020-12-23T09:26:20.764493Z",
     "iopub.status.idle": "2020-12-23T09:26:20.842527Z",
     "shell.execute_reply": "2020-12-23T09:26:20.841772Z"
    },
    "papermill": {
     "duration": 0.190056,
     "end_time": "2020-12-23T09:26:20.842675",
     "exception": false,
     "start_time": "2020-12-23T09:26:20.652619",
     "status": "completed"
    },
    "tags": []
   },
   "outputs": [
    {
     "data": {
      "text/html": [
       "<div>                            <div id=\"b5e7164a-74e5-4ea1-8f6a-b9e65942f926\" class=\"plotly-graph-div\" style=\"height:500px; width:800px;\"></div>            <script type=\"text/javascript\">                require([\"plotly\"], function(Plotly) {                    window.PLOTLYENV=window.PLOTLYENV || {};                                    if (document.getElementById(\"b5e7164a-74e5-4ea1-8f6a-b9e65942f926\")) {                    Plotly.newPlot(                        \"b5e7164a-74e5-4ea1-8f6a-b9e65942f926\",                        [{\"domain\": {\"x\": [0.0, 1.0], \"y\": [0.0, 1.0]}, \"hovertemplate\": \"content_type_id=%{label}<br>percent=%{value}<extra></extra>\", \"labels\": [0, 1], \"legendgroup\": \"\", \"name\": \"\", \"showlegend\": true, \"type\": \"pie\", \"values\": [0.980093, 0.019907]}],                        {\"height\": 500, \"legend\": {\"tracegroupgap\": 0}, \"template\": {\"data\": {\"bar\": [{\"error_x\": {\"color\": \"#2a3f5f\"}, \"error_y\": {\"color\": \"#2a3f5f\"}, \"marker\": {\"line\": {\"color\": \"#E5ECF6\", \"width\": 0.5}}, \"type\": \"bar\"}], \"barpolar\": [{\"marker\": {\"line\": {\"color\": \"#E5ECF6\", \"width\": 0.5}}, \"type\": \"barpolar\"}], \"carpet\": [{\"aaxis\": {\"endlinecolor\": \"#2a3f5f\", \"gridcolor\": \"white\", \"linecolor\": \"white\", \"minorgridcolor\": \"white\", \"startlinecolor\": \"#2a3f5f\"}, \"baxis\": {\"endlinecolor\": \"#2a3f5f\", \"gridcolor\": \"white\", \"linecolor\": \"white\", \"minorgridcolor\": \"white\", \"startlinecolor\": \"#2a3f5f\"}, \"type\": \"carpet\"}], \"choropleth\": [{\"colorbar\": {\"outlinewidth\": 0, \"ticks\": \"\"}, \"type\": \"choropleth\"}], \"contour\": [{\"colorbar\": {\"outlinewidth\": 0, \"ticks\": \"\"}, \"colorscale\": [[0.0, \"#0d0887\"], [0.1111111111111111, \"#46039f\"], [0.2222222222222222, \"#7201a8\"], [0.3333333333333333, \"#9c179e\"], [0.4444444444444444, \"#bd3786\"], [0.5555555555555556, \"#d8576b\"], [0.6666666666666666, \"#ed7953\"], [0.7777777777777778, \"#fb9f3a\"], [0.8888888888888888, \"#fdca26\"], [1.0, \"#f0f921\"]], \"type\": \"contour\"}], \"contourcarpet\": [{\"colorbar\": {\"outlinewidth\": 0, \"ticks\": \"\"}, \"type\": \"contourcarpet\"}], \"heatmap\": [{\"colorbar\": {\"outlinewidth\": 0, \"ticks\": \"\"}, \"colorscale\": [[0.0, \"#0d0887\"], [0.1111111111111111, \"#46039f\"], [0.2222222222222222, \"#7201a8\"], [0.3333333333333333, \"#9c179e\"], [0.4444444444444444, \"#bd3786\"], [0.5555555555555556, \"#d8576b\"], [0.6666666666666666, \"#ed7953\"], [0.7777777777777778, \"#fb9f3a\"], [0.8888888888888888, \"#fdca26\"], [1.0, \"#f0f921\"]], \"type\": \"heatmap\"}], \"heatmapgl\": [{\"colorbar\": {\"outlinewidth\": 0, \"ticks\": \"\"}, \"colorscale\": [[0.0, \"#0d0887\"], [0.1111111111111111, \"#46039f\"], [0.2222222222222222, \"#7201a8\"], [0.3333333333333333, \"#9c179e\"], [0.4444444444444444, \"#bd3786\"], [0.5555555555555556, \"#d8576b\"], [0.6666666666666666, \"#ed7953\"], [0.7777777777777778, \"#fb9f3a\"], [0.8888888888888888, \"#fdca26\"], [1.0, \"#f0f921\"]], \"type\": \"heatmapgl\"}], \"histogram\": [{\"marker\": {\"colorbar\": {\"outlinewidth\": 0, \"ticks\": \"\"}}, \"type\": \"histogram\"}], \"histogram2d\": [{\"colorbar\": {\"outlinewidth\": 0, \"ticks\": \"\"}, \"colorscale\": [[0.0, \"#0d0887\"], [0.1111111111111111, \"#46039f\"], [0.2222222222222222, \"#7201a8\"], [0.3333333333333333, \"#9c179e\"], [0.4444444444444444, \"#bd3786\"], [0.5555555555555556, \"#d8576b\"], [0.6666666666666666, \"#ed7953\"], [0.7777777777777778, \"#fb9f3a\"], [0.8888888888888888, \"#fdca26\"], [1.0, \"#f0f921\"]], \"type\": \"histogram2d\"}], \"histogram2dcontour\": [{\"colorbar\": {\"outlinewidth\": 0, \"ticks\": \"\"}, \"colorscale\": [[0.0, \"#0d0887\"], [0.1111111111111111, \"#46039f\"], [0.2222222222222222, \"#7201a8\"], [0.3333333333333333, \"#9c179e\"], [0.4444444444444444, \"#bd3786\"], [0.5555555555555556, \"#d8576b\"], [0.6666666666666666, \"#ed7953\"], [0.7777777777777778, \"#fb9f3a\"], [0.8888888888888888, \"#fdca26\"], [1.0, \"#f0f921\"]], \"type\": \"histogram2dcontour\"}], \"mesh3d\": [{\"colorbar\": {\"outlinewidth\": 0, \"ticks\": \"\"}, \"type\": \"mesh3d\"}], \"parcoords\": [{\"line\": {\"colorbar\": {\"outlinewidth\": 0, \"ticks\": \"\"}}, \"type\": \"parcoords\"}], \"pie\": [{\"automargin\": true, \"type\": \"pie\"}], \"scatter\": [{\"marker\": {\"colorbar\": {\"outlinewidth\": 0, \"ticks\": \"\"}}, \"type\": \"scatter\"}], \"scatter3d\": [{\"line\": {\"colorbar\": {\"outlinewidth\": 0, \"ticks\": \"\"}}, \"marker\": {\"colorbar\": {\"outlinewidth\": 0, \"ticks\": \"\"}}, \"type\": \"scatter3d\"}], \"scattercarpet\": [{\"marker\": {\"colorbar\": {\"outlinewidth\": 0, \"ticks\": \"\"}}, \"type\": \"scattercarpet\"}], \"scattergeo\": [{\"marker\": {\"colorbar\": {\"outlinewidth\": 0, \"ticks\": \"\"}}, \"type\": \"scattergeo\"}], \"scattergl\": [{\"marker\": {\"colorbar\": {\"outlinewidth\": 0, \"ticks\": \"\"}}, \"type\": \"scattergl\"}], \"scattermapbox\": [{\"marker\": {\"colorbar\": {\"outlinewidth\": 0, \"ticks\": \"\"}}, \"type\": \"scattermapbox\"}], \"scatterpolar\": [{\"marker\": {\"colorbar\": {\"outlinewidth\": 0, \"ticks\": \"\"}}, \"type\": \"scatterpolar\"}], \"scatterpolargl\": [{\"marker\": {\"colorbar\": {\"outlinewidth\": 0, \"ticks\": \"\"}}, \"type\": \"scatterpolargl\"}], \"scatterternary\": [{\"marker\": {\"colorbar\": {\"outlinewidth\": 0, \"ticks\": \"\"}}, \"type\": \"scatterternary\"}], \"surface\": [{\"colorbar\": {\"outlinewidth\": 0, \"ticks\": \"\"}, \"colorscale\": [[0.0, \"#0d0887\"], [0.1111111111111111, \"#46039f\"], [0.2222222222222222, \"#7201a8\"], [0.3333333333333333, \"#9c179e\"], [0.4444444444444444, \"#bd3786\"], [0.5555555555555556, \"#d8576b\"], [0.6666666666666666, \"#ed7953\"], [0.7777777777777778, \"#fb9f3a\"], [0.8888888888888888, \"#fdca26\"], [1.0, \"#f0f921\"]], \"type\": \"surface\"}], \"table\": [{\"cells\": {\"fill\": {\"color\": \"#EBF0F8\"}, \"line\": {\"color\": \"white\"}}, \"header\": {\"fill\": {\"color\": \"#C8D4E3\"}, \"line\": {\"color\": \"white\"}}, \"type\": \"table\"}]}, \"layout\": {\"annotationdefaults\": {\"arrowcolor\": \"#2a3f5f\", \"arrowhead\": 0, \"arrowwidth\": 1}, \"autotypenumbers\": \"strict\", \"coloraxis\": {\"colorbar\": {\"outlinewidth\": 0, \"ticks\": \"\"}}, \"colorscale\": {\"diverging\": [[0, \"#8e0152\"], [0.1, \"#c51b7d\"], [0.2, \"#de77ae\"], [0.3, \"#f1b6da\"], [0.4, \"#fde0ef\"], [0.5, \"#f7f7f7\"], [0.6, \"#e6f5d0\"], [0.7, \"#b8e186\"], [0.8, \"#7fbc41\"], [0.9, \"#4d9221\"], [1, \"#276419\"]], \"sequential\": [[0.0, \"#0d0887\"], [0.1111111111111111, \"#46039f\"], [0.2222222222222222, \"#7201a8\"], [0.3333333333333333, \"#9c179e\"], [0.4444444444444444, \"#bd3786\"], [0.5555555555555556, \"#d8576b\"], [0.6666666666666666, \"#ed7953\"], [0.7777777777777778, \"#fb9f3a\"], [0.8888888888888888, \"#fdca26\"], [1.0, \"#f0f921\"]], \"sequentialminus\": [[0.0, \"#0d0887\"], [0.1111111111111111, \"#46039f\"], [0.2222222222222222, \"#7201a8\"], [0.3333333333333333, \"#9c179e\"], [0.4444444444444444, \"#bd3786\"], [0.5555555555555556, \"#d8576b\"], [0.6666666666666666, \"#ed7953\"], [0.7777777777777778, \"#fb9f3a\"], [0.8888888888888888, \"#fdca26\"], [1.0, \"#f0f921\"]]}, \"colorway\": [\"#636efa\", \"#EF553B\", \"#00cc96\", \"#ab63fa\", \"#FFA15A\", \"#19d3f3\", \"#FF6692\", \"#B6E880\", \"#FF97FF\", \"#FECB52\"], \"font\": {\"color\": \"#2a3f5f\"}, \"geo\": {\"bgcolor\": \"white\", \"lakecolor\": \"white\", \"landcolor\": \"#E5ECF6\", \"showlakes\": true, \"showland\": true, \"subunitcolor\": \"white\"}, \"hoverlabel\": {\"align\": \"left\"}, \"hovermode\": \"closest\", \"mapbox\": {\"style\": \"light\"}, \"paper_bgcolor\": \"white\", \"plot_bgcolor\": \"#E5ECF6\", \"polar\": {\"angularaxis\": {\"gridcolor\": \"white\", \"linecolor\": \"white\", \"ticks\": \"\"}, \"bgcolor\": \"#E5ECF6\", \"radialaxis\": {\"gridcolor\": \"white\", \"linecolor\": \"white\", \"ticks\": \"\"}}, \"scene\": {\"xaxis\": {\"backgroundcolor\": \"#E5ECF6\", \"gridcolor\": \"white\", \"gridwidth\": 2, \"linecolor\": \"white\", \"showbackground\": true, \"ticks\": \"\", \"zerolinecolor\": \"white\"}, \"yaxis\": {\"backgroundcolor\": \"#E5ECF6\", \"gridcolor\": \"white\", \"gridwidth\": 2, \"linecolor\": \"white\", \"showbackground\": true, \"ticks\": \"\", \"zerolinecolor\": \"white\"}, \"zaxis\": {\"backgroundcolor\": \"#E5ECF6\", \"gridcolor\": \"white\", \"gridwidth\": 2, \"linecolor\": \"white\", \"showbackground\": true, \"ticks\": \"\", \"zerolinecolor\": \"white\"}}, \"shapedefaults\": {\"line\": {\"color\": \"#2a3f5f\"}}, \"ternary\": {\"aaxis\": {\"gridcolor\": \"white\", \"linecolor\": \"white\", \"ticks\": \"\"}, \"baxis\": {\"gridcolor\": \"white\", \"linecolor\": \"white\", \"ticks\": \"\"}, \"bgcolor\": \"#E5ECF6\", \"caxis\": {\"gridcolor\": \"white\", \"linecolor\": \"white\", \"ticks\": \"\"}}, \"title\": {\"x\": 0.05}, \"xaxis\": {\"automargin\": true, \"gridcolor\": \"white\", \"linecolor\": \"white\", \"ticks\": \"\", \"title\": {\"standoff\": 15}, \"zerolinecolor\": \"white\", \"zerolinewidth\": 2}, \"yaxis\": {\"automargin\": true, \"gridcolor\": \"white\", \"linecolor\": \"white\", \"ticks\": \"\", \"title\": {\"standoff\": 15}, \"zerolinecolor\": \"white\", \"zerolinewidth\": 2}}}, \"title\": {\"text\": \"Lecures & questions\"}, \"width\": 800},                        {\"responsive\": true}                    ).then(function(){\n",
       "                            \n",
       "var gd = document.getElementById('b5e7164a-74e5-4ea1-8f6a-b9e65942f926');\n",
       "var x = new MutationObserver(function (mutations, observer) {{\n",
       "        var display = window.getComputedStyle(gd).display;\n",
       "        if (!display || display === 'none') {{\n",
       "            console.log([gd, 'removed!']);\n",
       "            Plotly.purge(gd);\n",
       "            observer.disconnect();\n",
       "        }}\n",
       "}});\n",
       "\n",
       "// Listen for the removal of the full notebook cells\n",
       "var notebookContainer = gd.closest('#notebook-container');\n",
       "if (notebookContainer) {{\n",
       "    x.observe(notebookContainer, {childList: true});\n",
       "}}\n",
       "\n",
       "// Listen for the clearing of the current output cell\n",
       "var outputEl = gd.closest('.output');\n",
       "if (outputEl) {{\n",
       "    x.observe(outputEl, {childList: true});\n",
       "}}\n",
       "\n",
       "                        })                };                });            </script>        </div>"
      ]
     },
     "metadata": {},
     "output_type": "display_data"
    }
   ],
   "source": [
    "ds = train['content_type_id'].value_counts().reset_index()\n",
    "\n",
    "ds.columns = [\n",
    "    'content_type_id', \n",
    "    'percent'\n",
    "]\n",
    "\n",
    "ds['percent'] /=len(train)\n",
    "\n",
    "fig = px.pie(\n",
    "    ds, \n",
    "    names='content_type_id', \n",
    "    values='percent', \n",
    "    title='Lecures & questions', \n",
    "    width=WIDTH,\n",
    "    height=500 \n",
    ")\n",
    "\n",
    "fig.show()"
   ]
  },
  {
   "cell_type": "code",
   "execution_count": 23,
   "metadata": {
    "execution": {
     "iopub.execute_input": "2020-12-23T09:26:20.989406Z",
     "iopub.status.busy": "2020-12-23T09:26:20.988504Z",
     "iopub.status.idle": "2020-12-23T09:26:21.083489Z",
     "shell.execute_reply": "2020-12-23T09:26:21.082910Z"
    },
    "papermill": {
     "duration": 0.172025,
     "end_time": "2020-12-23T09:26:21.083603",
     "exception": false,
     "start_time": "2020-12-23T09:26:20.911578",
     "status": "completed"
    },
    "tags": []
   },
   "outputs": [
    {
     "data": {
      "text/html": [
       "<div>                            <div id=\"0f6121da-33d2-4cd6-b8e0-d0e7ab278381\" class=\"plotly-graph-div\" style=\"height:400px; width:800px;\"></div>            <script type=\"text/javascript\">                require([\"plotly\"], function(Plotly) {                    window.PLOTLYENV=window.PLOTLYENV || {};                                    if (document.getElementById(\"0f6121da-33d2-4cd6-b8e0-d0e7ab278381\")) {                    Plotly.newPlot(                        \"0f6121da-33d2-4cd6-b8e0-d0e7ab278381\",                        [{\"alignmentgroup\": \"True\", \"hovertemplate\": \"user_answer=%{x}<br>percent_of_answers=%{y}<extra></extra>\", \"legendgroup\": \"\", \"marker\": {\"color\": \"#636efa\"}, \"name\": \"\", \"offsetgroup\": \"\", \"orientation\": \"v\", \"showlegend\": false, \"textposition\": \"auto\", \"type\": \"bar\", \"x\": [-1, 2, 3, 1, 0], \"xaxis\": \"x\", \"y\": [0.019907, 0.176939, 0.257932, 0.267017, 0.278205], \"yaxis\": \"y\"}],                        {\"barmode\": \"relative\", \"height\": 400, \"legend\": {\"tracegroupgap\": 0}, \"template\": {\"data\": {\"bar\": [{\"error_x\": {\"color\": \"#2a3f5f\"}, \"error_y\": {\"color\": \"#2a3f5f\"}, \"marker\": {\"line\": {\"color\": \"#E5ECF6\", \"width\": 0.5}}, \"type\": \"bar\"}], \"barpolar\": [{\"marker\": {\"line\": {\"color\": \"#E5ECF6\", \"width\": 0.5}}, \"type\": \"barpolar\"}], \"carpet\": [{\"aaxis\": {\"endlinecolor\": \"#2a3f5f\", \"gridcolor\": \"white\", \"linecolor\": \"white\", \"minorgridcolor\": \"white\", \"startlinecolor\": \"#2a3f5f\"}, \"baxis\": {\"endlinecolor\": \"#2a3f5f\", \"gridcolor\": \"white\", \"linecolor\": \"white\", \"minorgridcolor\": \"white\", \"startlinecolor\": \"#2a3f5f\"}, \"type\": \"carpet\"}], \"choropleth\": [{\"colorbar\": {\"outlinewidth\": 0, \"ticks\": \"\"}, \"type\": \"choropleth\"}], \"contour\": [{\"colorbar\": {\"outlinewidth\": 0, \"ticks\": \"\"}, \"colorscale\": [[0.0, \"#0d0887\"], [0.1111111111111111, \"#46039f\"], [0.2222222222222222, \"#7201a8\"], [0.3333333333333333, \"#9c179e\"], [0.4444444444444444, \"#bd3786\"], [0.5555555555555556, \"#d8576b\"], [0.6666666666666666, \"#ed7953\"], [0.7777777777777778, \"#fb9f3a\"], [0.8888888888888888, \"#fdca26\"], [1.0, \"#f0f921\"]], \"type\": \"contour\"}], \"contourcarpet\": [{\"colorbar\": {\"outlinewidth\": 0, \"ticks\": \"\"}, \"type\": \"contourcarpet\"}], \"heatmap\": [{\"colorbar\": {\"outlinewidth\": 0, \"ticks\": \"\"}, \"colorscale\": [[0.0, \"#0d0887\"], [0.1111111111111111, \"#46039f\"], [0.2222222222222222, \"#7201a8\"], [0.3333333333333333, \"#9c179e\"], [0.4444444444444444, \"#bd3786\"], [0.5555555555555556, \"#d8576b\"], [0.6666666666666666, \"#ed7953\"], [0.7777777777777778, \"#fb9f3a\"], [0.8888888888888888, \"#fdca26\"], [1.0, \"#f0f921\"]], \"type\": \"heatmap\"}], \"heatmapgl\": [{\"colorbar\": {\"outlinewidth\": 0, \"ticks\": \"\"}, \"colorscale\": [[0.0, \"#0d0887\"], [0.1111111111111111, \"#46039f\"], [0.2222222222222222, \"#7201a8\"], [0.3333333333333333, \"#9c179e\"], [0.4444444444444444, \"#bd3786\"], [0.5555555555555556, \"#d8576b\"], [0.6666666666666666, \"#ed7953\"], [0.7777777777777778, \"#fb9f3a\"], [0.8888888888888888, \"#fdca26\"], [1.0, \"#f0f921\"]], \"type\": \"heatmapgl\"}], \"histogram\": [{\"marker\": {\"colorbar\": {\"outlinewidth\": 0, \"ticks\": \"\"}}, \"type\": \"histogram\"}], \"histogram2d\": [{\"colorbar\": {\"outlinewidth\": 0, \"ticks\": \"\"}, \"colorscale\": [[0.0, \"#0d0887\"], [0.1111111111111111, \"#46039f\"], [0.2222222222222222, \"#7201a8\"], [0.3333333333333333, \"#9c179e\"], [0.4444444444444444, \"#bd3786\"], [0.5555555555555556, \"#d8576b\"], [0.6666666666666666, \"#ed7953\"], [0.7777777777777778, \"#fb9f3a\"], [0.8888888888888888, \"#fdca26\"], [1.0, \"#f0f921\"]], \"type\": \"histogram2d\"}], \"histogram2dcontour\": [{\"colorbar\": {\"outlinewidth\": 0, \"ticks\": \"\"}, \"colorscale\": [[0.0, \"#0d0887\"], [0.1111111111111111, \"#46039f\"], [0.2222222222222222, \"#7201a8\"], [0.3333333333333333, \"#9c179e\"], [0.4444444444444444, \"#bd3786\"], [0.5555555555555556, \"#d8576b\"], [0.6666666666666666, \"#ed7953\"], [0.7777777777777778, \"#fb9f3a\"], [0.8888888888888888, \"#fdca26\"], [1.0, \"#f0f921\"]], \"type\": \"histogram2dcontour\"}], \"mesh3d\": [{\"colorbar\": {\"outlinewidth\": 0, \"ticks\": \"\"}, \"type\": \"mesh3d\"}], \"parcoords\": [{\"line\": {\"colorbar\": {\"outlinewidth\": 0, \"ticks\": \"\"}}, \"type\": \"parcoords\"}], \"pie\": [{\"automargin\": true, \"type\": \"pie\"}], \"scatter\": [{\"marker\": {\"colorbar\": {\"outlinewidth\": 0, \"ticks\": \"\"}}, \"type\": \"scatter\"}], \"scatter3d\": [{\"line\": {\"colorbar\": {\"outlinewidth\": 0, \"ticks\": \"\"}}, \"marker\": {\"colorbar\": {\"outlinewidth\": 0, \"ticks\": \"\"}}, \"type\": \"scatter3d\"}], \"scattercarpet\": [{\"marker\": {\"colorbar\": {\"outlinewidth\": 0, \"ticks\": \"\"}}, \"type\": \"scattercarpet\"}], \"scattergeo\": [{\"marker\": {\"colorbar\": {\"outlinewidth\": 0, \"ticks\": \"\"}}, \"type\": \"scattergeo\"}], \"scattergl\": [{\"marker\": {\"colorbar\": {\"outlinewidth\": 0, \"ticks\": \"\"}}, \"type\": \"scattergl\"}], \"scattermapbox\": [{\"marker\": {\"colorbar\": {\"outlinewidth\": 0, \"ticks\": \"\"}}, \"type\": \"scattermapbox\"}], \"scatterpolar\": [{\"marker\": {\"colorbar\": {\"outlinewidth\": 0, \"ticks\": \"\"}}, \"type\": \"scatterpolar\"}], \"scatterpolargl\": [{\"marker\": {\"colorbar\": {\"outlinewidth\": 0, \"ticks\": \"\"}}, \"type\": \"scatterpolargl\"}], \"scatterternary\": [{\"marker\": {\"colorbar\": {\"outlinewidth\": 0, \"ticks\": \"\"}}, \"type\": \"scatterternary\"}], \"surface\": [{\"colorbar\": {\"outlinewidth\": 0, \"ticks\": \"\"}, \"colorscale\": [[0.0, \"#0d0887\"], [0.1111111111111111, \"#46039f\"], [0.2222222222222222, \"#7201a8\"], [0.3333333333333333, \"#9c179e\"], [0.4444444444444444, \"#bd3786\"], [0.5555555555555556, \"#d8576b\"], [0.6666666666666666, \"#ed7953\"], [0.7777777777777778, \"#fb9f3a\"], [0.8888888888888888, \"#fdca26\"], [1.0, \"#f0f921\"]], \"type\": \"surface\"}], \"table\": [{\"cells\": {\"fill\": {\"color\": \"#EBF0F8\"}, \"line\": {\"color\": \"white\"}}, \"header\": {\"fill\": {\"color\": \"#C8D4E3\"}, \"line\": {\"color\": \"white\"}}, \"type\": \"table\"}]}, \"layout\": {\"annotationdefaults\": {\"arrowcolor\": \"#2a3f5f\", \"arrowhead\": 0, \"arrowwidth\": 1}, \"autotypenumbers\": \"strict\", \"coloraxis\": {\"colorbar\": {\"outlinewidth\": 0, \"ticks\": \"\"}}, \"colorscale\": {\"diverging\": [[0, \"#8e0152\"], [0.1, \"#c51b7d\"], [0.2, \"#de77ae\"], [0.3, \"#f1b6da\"], [0.4, \"#fde0ef\"], [0.5, \"#f7f7f7\"], [0.6, \"#e6f5d0\"], [0.7, \"#b8e186\"], [0.8, \"#7fbc41\"], [0.9, \"#4d9221\"], [1, \"#276419\"]], \"sequential\": [[0.0, \"#0d0887\"], [0.1111111111111111, \"#46039f\"], [0.2222222222222222, \"#7201a8\"], [0.3333333333333333, \"#9c179e\"], [0.4444444444444444, \"#bd3786\"], [0.5555555555555556, \"#d8576b\"], [0.6666666666666666, \"#ed7953\"], [0.7777777777777778, \"#fb9f3a\"], [0.8888888888888888, \"#fdca26\"], [1.0, \"#f0f921\"]], \"sequentialminus\": [[0.0, \"#0d0887\"], [0.1111111111111111, \"#46039f\"], [0.2222222222222222, \"#7201a8\"], [0.3333333333333333, \"#9c179e\"], [0.4444444444444444, \"#bd3786\"], [0.5555555555555556, \"#d8576b\"], [0.6666666666666666, \"#ed7953\"], [0.7777777777777778, \"#fb9f3a\"], [0.8888888888888888, \"#fdca26\"], [1.0, \"#f0f921\"]]}, \"colorway\": [\"#636efa\", \"#EF553B\", \"#00cc96\", \"#ab63fa\", \"#FFA15A\", \"#19d3f3\", \"#FF6692\", \"#B6E880\", \"#FF97FF\", \"#FECB52\"], \"font\": {\"color\": \"#2a3f5f\"}, \"geo\": {\"bgcolor\": \"white\", \"lakecolor\": \"white\", \"landcolor\": \"#E5ECF6\", \"showlakes\": true, \"showland\": true, \"subunitcolor\": \"white\"}, \"hoverlabel\": {\"align\": \"left\"}, \"hovermode\": \"closest\", \"mapbox\": {\"style\": \"light\"}, \"paper_bgcolor\": \"white\", \"plot_bgcolor\": \"#E5ECF6\", \"polar\": {\"angularaxis\": {\"gridcolor\": \"white\", \"linecolor\": \"white\", \"ticks\": \"\"}, \"bgcolor\": \"#E5ECF6\", \"radialaxis\": {\"gridcolor\": \"white\", \"linecolor\": \"white\", \"ticks\": \"\"}}, \"scene\": {\"xaxis\": {\"backgroundcolor\": \"#E5ECF6\", \"gridcolor\": \"white\", \"gridwidth\": 2, \"linecolor\": \"white\", \"showbackground\": true, \"ticks\": \"\", \"zerolinecolor\": \"white\"}, \"yaxis\": {\"backgroundcolor\": \"#E5ECF6\", \"gridcolor\": \"white\", \"gridwidth\": 2, \"linecolor\": \"white\", \"showbackground\": true, \"ticks\": \"\", \"zerolinecolor\": \"white\"}, \"zaxis\": {\"backgroundcolor\": \"#E5ECF6\", \"gridcolor\": \"white\", \"gridwidth\": 2, \"linecolor\": \"white\", \"showbackground\": true, \"ticks\": \"\", \"zerolinecolor\": \"white\"}}, \"shapedefaults\": {\"line\": {\"color\": \"#2a3f5f\"}}, \"ternary\": {\"aaxis\": {\"gridcolor\": \"white\", \"linecolor\": \"white\", \"ticks\": \"\"}, \"baxis\": {\"gridcolor\": \"white\", \"linecolor\": \"white\", \"ticks\": \"\"}, \"bgcolor\": \"#E5ECF6\", \"caxis\": {\"gridcolor\": \"white\", \"linecolor\": \"white\", \"ticks\": \"\"}}, \"title\": {\"x\": 0.05}, \"xaxis\": {\"automargin\": true, \"gridcolor\": \"white\", \"linecolor\": \"white\", \"ticks\": \"\", \"title\": {\"standoff\": 15}, \"zerolinecolor\": \"white\", \"zerolinewidth\": 2}, \"yaxis\": {\"automargin\": true, \"gridcolor\": \"white\", \"linecolor\": \"white\", \"ticks\": \"\", \"title\": {\"standoff\": 15}, \"zerolinecolor\": \"white\", \"zerolinewidth\": 2}}}, \"title\": {\"text\": \"Percent of user answers for every option\"}, \"width\": 800, \"xaxis\": {\"anchor\": \"y\", \"domain\": [0.0, 1.0], \"title\": {\"text\": \"user_answer\"}}, \"yaxis\": {\"anchor\": \"x\", \"domain\": [0.0, 1.0], \"title\": {\"text\": \"percent_of_answers\"}}},                        {\"responsive\": true}                    ).then(function(){\n",
       "                            \n",
       "var gd = document.getElementById('0f6121da-33d2-4cd6-b8e0-d0e7ab278381');\n",
       "var x = new MutationObserver(function (mutations, observer) {{\n",
       "        var display = window.getComputedStyle(gd).display;\n",
       "        if (!display || display === 'none') {{\n",
       "            console.log([gd, 'removed!']);\n",
       "            Plotly.purge(gd);\n",
       "            observer.disconnect();\n",
       "        }}\n",
       "}});\n",
       "\n",
       "// Listen for the removal of the full notebook cells\n",
       "var notebookContainer = gd.closest('#notebook-container');\n",
       "if (notebookContainer) {{\n",
       "    x.observe(notebookContainer, {childList: true});\n",
       "}}\n",
       "\n",
       "// Listen for the clearing of the current output cell\n",
       "var outputEl = gd.closest('.output');\n",
       "if (outputEl) {{\n",
       "    x.observe(outputEl, {childList: true});\n",
       "}}\n",
       "\n",
       "                        })                };                });            </script>        </div>"
      ]
     },
     "metadata": {},
     "output_type": "display_data"
    }
   ],
   "source": [
    "ds=train['user_answer'].value_counts().reset_index()\n",
    "ds.columns = [\n",
    "    'user_answer', \n",
    "    'percent_of_answers'\n",
    "]\n",
    "ds['percent_of_answers']/=len(train)\n",
    "ds = ds.sort_values(['percent_of_answers'])\n",
    "fig = px.bar(\n",
    "    ds, \n",
    "    x='user_answer', \n",
    "    y='percent_of_answers', \n",
    "    orientation='v', \n",
    "    title='Percent of user answers for every option', \n",
    "    width=WIDTH,\n",
    "    height=400 \n",
    ")\n",
    "\n",
    "fig.show()"
   ]
  },
  {
   "cell_type": "code",
   "execution_count": null,
   "metadata": {
    "papermill": {
     "duration": 0.070538,
     "end_time": "2020-12-23T09:26:21.223856",
     "exception": false,
     "start_time": "2020-12-23T09:26:21.153318",
     "status": "completed"
    },
    "tags": []
   },
   "outputs": [],
   "source": []
  },
  {
   "cell_type": "code",
   "execution_count": 24,
   "metadata": {
    "execution": {
     "iopub.execute_input": "2020-12-23T09:26:21.372546Z",
     "iopub.status.busy": "2020-12-23T09:26:21.371893Z",
     "iopub.status.idle": "2020-12-23T09:26:44.627818Z",
     "shell.execute_reply": "2020-12-23T09:26:44.628401Z"
    },
    "papermill": {
     "duration": 23.333967,
     "end_time": "2020-12-23T09:26:44.628547",
     "exception": false,
     "start_time": "2020-12-23T09:26:21.294580",
     "status": "completed"
    },
    "tags": []
   },
   "outputs": [
    {
     "data": {
      "text/plain": [
       "([<matplotlib.axis.XTick at 0x7f9137137a10>,\n",
       "  <matplotlib.axis.XTick at 0x7f9137137c90>,\n",
       "  <matplotlib.axis.XTick at 0x7f91370b26d0>,\n",
       "  <matplotlib.axis.XTick at 0x7f91314c0c90>,\n",
       "  <matplotlib.axis.XTick at 0x7f9131469250>,\n",
       "  <matplotlib.axis.XTick at 0x7f9131469710>,\n",
       "  <matplotlib.axis.XTick at 0x7f9131469c90>,\n",
       "  <matplotlib.axis.XTick at 0x7f9131471290>],\n",
       " [Text(0, 0, '0'),\n",
       "  Text(0, 0, '1000'),\n",
       "  Text(0, 0, '2000'),\n",
       "  Text(0, 0, '3000'),\n",
       "  Text(0, 0, '4000'),\n",
       "  Text(0, 0, '5000'),\n",
       "  Text(0, 0, '6000'),\n",
       "  Text(0, 0, '7000')])"
      ]
     },
     "execution_count": 24,
     "metadata": {},
     "output_type": "execute_result"
    },
    {
     "data": {
      "image/png": "[encoded data removed]",
      "text/plain": [
       "<Figure size 1080x720 with 1 Axes>"
      ]
     },
     "metadata": {
      "needs_background": "light"
     },
     "output_type": "display_data"
    }
   ],
   "source": [
    "task_ids_freq = train['task_container_id'].value_counts().reset_index()\n",
    "task_ids_freq.columns = ['task_container_id', 'count']\n",
    "\n",
    "fig, ax = plt.subplots(figsize=(15, 10))\n",
    "\n",
    "sns.pointplot(x='task_container_id', y='count', data=task_ids_freq, palette=colorMap2)\n",
    "xticks_range = range(min(task_ids_freq['task_container_id']), \n",
    "                     max(task_ids_freq['task_container_id']),\n",
    "                     1000)\n",
    "plt.xticks(list(xticks_range), list(xticks_range))"
   ]
  },
  {
   "cell_type": "markdown",
   "metadata": {
    "papermill": {
     "duration": 0.072282,
     "end_time": "2020-12-23T09:26:44.773669",
     "exception": false,
     "start_time": "2020-12-23T09:26:44.701387",
     "status": "completed"
    },
    "tags": []
   },
   "source": [
    "**QUESTIONS.CSV**"
   ]
  },
  {
   "cell_type": "markdown",
   "metadata": {
    "papermill": {
     "duration": 0.071586,
     "end_time": "2020-12-23T09:26:44.917813",
     "exception": false,
     "start_time": "2020-12-23T09:26:44.846227",
     "status": "completed"
    },
    "tags": []
   },
   "source": [
    "\n",
    "question_id: foreign key for the train/test content_id column, when the content type is question (0).\n",
    "\n",
    "bundle_id: code for which questions are served together.\n",
    "\n",
    "correct_answer: the answer to the question. Can be compared with the train user_answer column to check if the user was right.\n",
    "\n",
    "part: top level category code for the question.\n",
    "\n",
    "tags: one or more detailed tag codes for the question. The meaning of the tags will not be provided, but these codes are sufficient for clustering the questions together."
   ]
  },
  {
   "cell_type": "code",
   "execution_count": 25,
   "metadata": {
    "execution": {
     "iopub.execute_input": "2020-12-23T09:26:45.076195Z",
     "iopub.status.busy": "2020-12-23T09:26:45.075341Z",
     "iopub.status.idle": "2020-12-23T09:26:45.081351Z",
     "shell.execute_reply": "2020-12-23T09:26:45.081951Z"
    },
    "papermill": {
     "duration": 0.092448,
     "end_time": "2020-12-23T09:26:45.082088",
     "exception": false,
     "start_time": "2020-12-23T09:26:44.989640",
     "status": "completed"
    },
    "tags": []
   },
   "outputs": [
    {
     "data": {
      "text/html": [
       "<div>\n",
       "<style scoped>\n",
       "    .dataframe tbody tr th:only-of-type {\n",
       "        vertical-align: middle;\n",
       "    }\n",
       "\n",
       "    .dataframe tbody tr th {\n",
       "        vertical-align: top;\n",
       "    }\n",
       "\n",
       "    .dataframe thead th {\n",
       "        text-align: right;\n",
       "    }\n",
       "</style>\n",
       "<table border=\"1\" class=\"dataframe\">\n",
       "  <thead>\n",
       "    <tr style=\"text-align: right;\">\n",
       "      <th></th>\n",
       "      <th>question_id</th>\n",
       "      <th>bundle_id</th>\n",
       "      <th>correct_answer</th>\n",
       "      <th>part</th>\n",
       "      <th>tags</th>\n",
       "    </tr>\n",
       "  </thead>\n",
       "  <tbody>\n",
       "    <tr>\n",
       "      <th>0</th>\n",
       "      <td>0</td>\n",
       "      <td>0</td>\n",
       "      <td>0</td>\n",
       "      <td>1</td>\n",
       "      <td>51 131 162 38</td>\n",
       "    </tr>\n",
       "    <tr>\n",
       "      <th>1</th>\n",
       "      <td>1</td>\n",
       "      <td>1</td>\n",
       "      <td>1</td>\n",
       "      <td>1</td>\n",
       "      <td>131 36 81</td>\n",
       "    </tr>\n",
       "    <tr>\n",
       "      <th>2</th>\n",
       "      <td>2</td>\n",
       "      <td>2</td>\n",
       "      <td>0</td>\n",
       "      <td>1</td>\n",
       "      <td>131 101 162 92</td>\n",
       "    </tr>\n",
       "    <tr>\n",
       "      <th>3</th>\n",
       "      <td>3</td>\n",
       "      <td>3</td>\n",
       "      <td>0</td>\n",
       "      <td>1</td>\n",
       "      <td>131 149 162 29</td>\n",
       "    </tr>\n",
       "    <tr>\n",
       "      <th>4</th>\n",
       "      <td>4</td>\n",
       "      <td>4</td>\n",
       "      <td>3</td>\n",
       "      <td>1</td>\n",
       "      <td>131 5 162 38</td>\n",
       "    </tr>\n",
       "  </tbody>\n",
       "</table>\n",
       "</div>"
      ],
      "text/plain": [
       "   question_id  bundle_id  correct_answer  part            tags\n",
       "0            0          0               0     1   51 131 162 38\n",
       "1            1          1               1     1       131 36 81\n",
       "2            2          2               0     1  131 101 162 92\n",
       "3            3          3               0     1  131 149 162 29\n",
       "4            4          4               3     1    131 5 162 38"
      ]
     },
     "execution_count": 25,
     "metadata": {},
     "output_type": "execute_result"
    }
   ],
   "source": [
    "questions.head()"
   ]
  },
  {
   "cell_type": "code",
   "execution_count": 26,
   "metadata": {
    "execution": {
     "iopub.execute_input": "2020-12-23T09:26:45.237522Z",
     "iopub.status.busy": "2020-12-23T09:26:45.233612Z",
     "iopub.status.idle": "2020-12-23T09:26:45.265434Z",
     "shell.execute_reply": "2020-12-23T09:26:45.264792Z"
    },
    "papermill": {
     "duration": 0.111567,
     "end_time": "2020-12-23T09:26:45.265546",
     "exception": false,
     "start_time": "2020-12-23T09:26:45.153979",
     "status": "completed"
    },
    "tags": []
   },
   "outputs": [
    {
     "data": {
      "text/html": [
       "<style  type=\"text/css\" >\n",
       "#T_22f23056_450f_11eb_88b5_0242ac130202row0_col0,#T_22f23056_450f_11eb_88b5_0242ac130202row0_col1,#T_22f23056_450f_11eb_88b5_0242ac130202row0_col2,#T_22f23056_450f_11eb_88b5_0242ac130202row0_col3,#T_22f23056_450f_11eb_88b5_0242ac130202row7_col0,#T_22f23056_450f_11eb_88b5_0242ac130202row7_col1{\n",
       "            background-color:  #08306b;\n",
       "            color:  #f1f1f1;\n",
       "        }#T_22f23056_450f_11eb_88b5_0242ac130202row1_col0,#T_22f23056_450f_11eb_88b5_0242ac130202row1_col1,#T_22f23056_450f_11eb_88b5_0242ac130202row5_col0,#T_22f23056_450f_11eb_88b5_0242ac130202row5_col1{\n",
       "            background-color:  #6caed6;\n",
       "            color:  #000000;\n",
       "        }#T_22f23056_450f_11eb_88b5_0242ac130202row1_col2,#T_22f23056_450f_11eb_88b5_0242ac130202row1_col3,#T_22f23056_450f_11eb_88b5_0242ac130202row2_col2,#T_22f23056_450f_11eb_88b5_0242ac130202row2_col3,#T_22f23056_450f_11eb_88b5_0242ac130202row3_col0,#T_22f23056_450f_11eb_88b5_0242ac130202row3_col1,#T_22f23056_450f_11eb_88b5_0242ac130202row3_col2,#T_22f23056_450f_11eb_88b5_0242ac130202row3_col3,#T_22f23056_450f_11eb_88b5_0242ac130202row4_col2,#T_22f23056_450f_11eb_88b5_0242ac130202row4_col3,#T_22f23056_450f_11eb_88b5_0242ac130202row5_col2,#T_22f23056_450f_11eb_88b5_0242ac130202row5_col3,#T_22f23056_450f_11eb_88b5_0242ac130202row6_col2,#T_22f23056_450f_11eb_88b5_0242ac130202row6_col3,#T_22f23056_450f_11eb_88b5_0242ac130202row7_col2,#T_22f23056_450f_11eb_88b5_0242ac130202row7_col3{\n",
       "            background-color:  #f7fbff;\n",
       "            color:  #000000;\n",
       "        }#T_22f23056_450f_11eb_88b5_0242ac130202row2_col0,#T_22f23056_450f_11eb_88b5_0242ac130202row2_col1{\n",
       "            background-color:  #bad6eb;\n",
       "            color:  #000000;\n",
       "        }#T_22f23056_450f_11eb_88b5_0242ac130202row4_col0,#T_22f23056_450f_11eb_88b5_0242ac130202row4_col1{\n",
       "            background-color:  #c7dbef;\n",
       "            color:  #000000;\n",
       "        }#T_22f23056_450f_11eb_88b5_0242ac130202row6_col0,#T_22f23056_450f_11eb_88b5_0242ac130202row6_col1{\n",
       "            background-color:  #2171b5;\n",
       "            color:  #f1f1f1;\n",
       "        }</style><table id=\"T_22f23056_450f_11eb_88b5_0242ac130202\" ><thead>    <tr>        <th class=\"blank level0\" ></th>        <th class=\"col_heading level0 col0\" >question_id</th>        <th class=\"col_heading level0 col1\" >bundle_id</th>        <th class=\"col_heading level0 col2\" >correct_answer</th>        <th class=\"col_heading level0 col3\" >part</th>    </tr></thead><tbody>\n",
       "                <tr>\n",
       "                        <th id=\"T_22f23056_450f_11eb_88b5_0242ac130202level0_row0\" class=\"row_heading level0 row0\" >count</th>\n",
       "                        <td id=\"T_22f23056_450f_11eb_88b5_0242ac130202row0_col0\" class=\"data row0 col0\" >13523.000000</td>\n",
       "                        <td id=\"T_22f23056_450f_11eb_88b5_0242ac130202row0_col1\" class=\"data row0 col1\" >13523.000000</td>\n",
       "                        <td id=\"T_22f23056_450f_11eb_88b5_0242ac130202row0_col2\" class=\"data row0 col2\" >13523.000000</td>\n",
       "                        <td id=\"T_22f23056_450f_11eb_88b5_0242ac130202row0_col3\" class=\"data row0 col3\" >13523.000000</td>\n",
       "            </tr>\n",
       "            <tr>\n",
       "                        <th id=\"T_22f23056_450f_11eb_88b5_0242ac130202level0_row1\" class=\"row_heading level0 row1\" >mean</th>\n",
       "                        <td id=\"T_22f23056_450f_11eb_88b5_0242ac130202row1_col0\" class=\"data row1 col0\" >6761.000000</td>\n",
       "                        <td id=\"T_22f23056_450f_11eb_88b5_0242ac130202row1_col1\" class=\"data row1 col1\" >6760.510907</td>\n",
       "                        <td id=\"T_22f23056_450f_11eb_88b5_0242ac130202row1_col2\" class=\"data row1 col2\" >1.455298</td>\n",
       "                        <td id=\"T_22f23056_450f_11eb_88b5_0242ac130202row1_col3\" class=\"data row1 col3\" >4.264956</td>\n",
       "            </tr>\n",
       "            <tr>\n",
       "                        <th id=\"T_22f23056_450f_11eb_88b5_0242ac130202level0_row2\" class=\"row_heading level0 row2\" >std</th>\n",
       "                        <td id=\"T_22f23056_450f_11eb_88b5_0242ac130202row2_col0\" class=\"data row2 col0\" >3903.898180</td>\n",
       "                        <td id=\"T_22f23056_450f_11eb_88b5_0242ac130202row2_col1\" class=\"data row2 col1\" >3903.857783</td>\n",
       "                        <td id=\"T_22f23056_450f_11eb_88b5_0242ac130202row2_col2\" class=\"data row2 col2\" >1.149707</td>\n",
       "                        <td id=\"T_22f23056_450f_11eb_88b5_0242ac130202row2_col3\" class=\"data row2 col3\" >1.652553</td>\n",
       "            </tr>\n",
       "            <tr>\n",
       "                        <th id=\"T_22f23056_450f_11eb_88b5_0242ac130202level0_row3\" class=\"row_heading level0 row3\" >min</th>\n",
       "                        <td id=\"T_22f23056_450f_11eb_88b5_0242ac130202row3_col0\" class=\"data row3 col0\" >0.000000</td>\n",
       "                        <td id=\"T_22f23056_450f_11eb_88b5_0242ac130202row3_col1\" class=\"data row3 col1\" >0.000000</td>\n",
       "                        <td id=\"T_22f23056_450f_11eb_88b5_0242ac130202row3_col2\" class=\"data row3 col2\" >0.000000</td>\n",
       "                        <td id=\"T_22f23056_450f_11eb_88b5_0242ac130202row3_col3\" class=\"data row3 col3\" >1.000000</td>\n",
       "            </tr>\n",
       "            <tr>\n",
       "                        <th id=\"T_22f23056_450f_11eb_88b5_0242ac130202level0_row4\" class=\"row_heading level0 row4\" >25%</th>\n",
       "                        <td id=\"T_22f23056_450f_11eb_88b5_0242ac130202row4_col0\" class=\"data row4 col0\" >3380.500000</td>\n",
       "                        <td id=\"T_22f23056_450f_11eb_88b5_0242ac130202row4_col1\" class=\"data row4 col1\" >3379.500000</td>\n",
       "                        <td id=\"T_22f23056_450f_11eb_88b5_0242ac130202row4_col2\" class=\"data row4 col2\" >0.000000</td>\n",
       "                        <td id=\"T_22f23056_450f_11eb_88b5_0242ac130202row4_col3\" class=\"data row4 col3\" >3.000000</td>\n",
       "            </tr>\n",
       "            <tr>\n",
       "                        <th id=\"T_22f23056_450f_11eb_88b5_0242ac130202level0_row5\" class=\"row_heading level0 row5\" >50%</th>\n",
       "                        <td id=\"T_22f23056_450f_11eb_88b5_0242ac130202row5_col0\" class=\"data row5 col0\" >6761.000000</td>\n",
       "                        <td id=\"T_22f23056_450f_11eb_88b5_0242ac130202row5_col1\" class=\"data row5 col1\" >6761.000000</td>\n",
       "                        <td id=\"T_22f23056_450f_11eb_88b5_0242ac130202row5_col2\" class=\"data row5 col2\" >1.000000</td>\n",
       "                        <td id=\"T_22f23056_450f_11eb_88b5_0242ac130202row5_col3\" class=\"data row5 col3\" >5.000000</td>\n",
       "            </tr>\n",
       "            <tr>\n",
       "                        <th id=\"T_22f23056_450f_11eb_88b5_0242ac130202level0_row6\" class=\"row_heading level0 row6\" >75%</th>\n",
       "                        <td id=\"T_22f23056_450f_11eb_88b5_0242ac130202row6_col0\" class=\"data row6 col0\" >10141.500000</td>\n",
       "                        <td id=\"T_22f23056_450f_11eb_88b5_0242ac130202row6_col1\" class=\"data row6 col1\" >10140.000000</td>\n",
       "                        <td id=\"T_22f23056_450f_11eb_88b5_0242ac130202row6_col2\" class=\"data row6 col2\" >3.000000</td>\n",
       "                        <td id=\"T_22f23056_450f_11eb_88b5_0242ac130202row6_col3\" class=\"data row6 col3\" >5.000000</td>\n",
       "            </tr>\n",
       "            <tr>\n",
       "                        <th id=\"T_22f23056_450f_11eb_88b5_0242ac130202level0_row7\" class=\"row_heading level0 row7\" >max</th>\n",
       "                        <td id=\"T_22f23056_450f_11eb_88b5_0242ac130202row7_col0\" class=\"data row7 col0\" >13522.000000</td>\n",
       "                        <td id=\"T_22f23056_450f_11eb_88b5_0242ac130202row7_col1\" class=\"data row7 col1\" >13522.000000</td>\n",
       "                        <td id=\"T_22f23056_450f_11eb_88b5_0242ac130202row7_col2\" class=\"data row7 col2\" >3.000000</td>\n",
       "                        <td id=\"T_22f23056_450f_11eb_88b5_0242ac130202row7_col3\" class=\"data row7 col3\" >7.000000</td>\n",
       "            </tr>\n",
       "    </tbody></table>"
      ],
      "text/plain": [
       "<pandas.io.formats.style.Styler at 0x7f9137132790>"
      ]
     },
     "execution_count": 26,
     "metadata": {},
     "output_type": "execute_result"
    }
   ],
   "source": [
    "questions.describe().style.background_gradient(cmap='Blues')"
   ]
  },
  {
   "cell_type": "code",
   "execution_count": 27,
   "metadata": {
    "execution": {
     "iopub.execute_input": "2020-12-23T09:26:45.419167Z",
     "iopub.status.busy": "2020-12-23T09:26:45.418439Z",
     "iopub.status.idle": "2020-12-23T09:26:45.427282Z",
     "shell.execute_reply": "2020-12-23T09:26:45.426362Z"
    },
    "papermill": {
     "duration": 0.088014,
     "end_time": "2020-12-23T09:26:45.427397",
     "exception": false,
     "start_time": "2020-12-23T09:26:45.339383",
     "status": "completed"
    },
    "tags": []
   },
   "outputs": [
    {
     "name": "stdout",
     "output_type": "stream",
     "text": [
      "question_id       0.000000\n",
      "bundle_id         0.000000\n",
      "correct_answer    0.000000\n",
      "part              0.000000\n",
      "tags              0.000074\n",
      "dtype: float64\n"
     ]
    }
   ],
   "source": [
    "print(questions.isnull().sum() / len(questions))"
   ]
  },
  {
   "cell_type": "code",
   "execution_count": 28,
   "metadata": {
    "execution": {
     "iopub.execute_input": "2020-12-23T09:26:45.599105Z",
     "iopub.status.busy": "2020-12-23T09:26:45.588758Z",
     "iopub.status.idle": "2020-12-23T09:26:45.663689Z",
     "shell.execute_reply": "2020-12-23T09:26:45.664226Z"
    },
    "papermill": {
     "duration": 0.164067,
     "end_time": "2020-12-23T09:26:45.664370",
     "exception": false,
     "start_time": "2020-12-23T09:26:45.500303",
     "status": "completed"
    },
    "tags": []
   },
   "outputs": [],
   "source": [
    "\n",
    "\n",
    "\n",
    "\n",
    "\n",
    "questions['tag'] = questions['tags'].str.split(' ')\n",
    "questions = questions.explode('tag')\n",
    "questions = pd.merge(\n",
    "    questions, \n",
    "    questions.groupby('question_id')['tag'].count().reset_index(), \n",
    "    on='question_id'\n",
    "    )\n",
    "\n",
    "questions = questions.drop(['tag_x'], axis=1)\n",
    "\n",
    "questions.columns = [\n",
    "    'question_id', \n",
    "    'bundle_id', \n",
    "    'correct_answer', \n",
    "    'part', \n",
    "    'tags', \n",
    "    'tags_number'\n",
    "]\n",
    "questions = questions.drop_duplicates()"
   ]
  },
  {
   "cell_type": "code",
   "execution_count": 29,
   "metadata": {
    "execution": {
     "iopub.execute_input": "2020-12-23T09:26:45.820580Z",
     "iopub.status.busy": "2020-12-23T09:26:45.819923Z",
     "iopub.status.idle": "2020-12-23T09:26:45.900590Z",
     "shell.execute_reply": "2020-12-23T09:26:45.900053Z"
    },
    "papermill": {
     "duration": 0.163204,
     "end_time": "2020-12-23T09:26:45.900699",
     "exception": false,
     "start_time": "2020-12-23T09:26:45.737495",
     "status": "completed"
    },
    "tags": []
   },
   "outputs": [
    {
     "data": {
      "text/html": [
       "<div>                            <div id=\"1c5c0b12-74ad-4ee6-a9d2-a3ee13ff298e\" class=\"plotly-graph-div\" style=\"height:300px; width:800px;\"></div>            <script type=\"text/javascript\">                require([\"plotly\"], function(Plotly) {                    window.PLOTLYENV=window.PLOTLYENV || {};                                    if (document.getElementById(\"1c5c0b12-74ad-4ee6-a9d2-a3ee13ff298e\")) {                    Plotly.newPlot(                        \"1c5c0b12-74ad-4ee6-a9d2-a3ee13ff298e\",                        [{\"alignmentgroup\": \"True\", \"hovertemplate\": \"number_of_answers=%{x}<br>correct_answer=%{y}<extra></extra>\", \"legendgroup\": \"\", \"marker\": {\"color\": \"#636efa\"}, \"name\": \"\", \"offsetgroup\": \"\", \"orientation\": \"h\", \"showlegend\": false, \"textposition\": \"auto\", \"type\": \"bar\", \"x\": [2785, 3478, 3544, 3716], \"xaxis\": \"x\", \"y\": [\"2-\", \"1-\", \"3-\", \"0-\"], \"yaxis\": \"y\"}],                        {\"barmode\": \"relative\", \"height\": 300, \"legend\": {\"tracegroupgap\": 0}, \"template\": {\"data\": {\"bar\": [{\"error_x\": {\"color\": \"#2a3f5f\"}, \"error_y\": {\"color\": \"#2a3f5f\"}, \"marker\": {\"line\": {\"color\": \"#E5ECF6\", \"width\": 0.5}}, \"type\": \"bar\"}], \"barpolar\": [{\"marker\": {\"line\": {\"color\": \"#E5ECF6\", \"width\": 0.5}}, \"type\": \"barpolar\"}], \"carpet\": [{\"aaxis\": {\"endlinecolor\": \"#2a3f5f\", \"gridcolor\": \"white\", \"linecolor\": \"white\", \"minorgridcolor\": \"white\", \"startlinecolor\": \"#2a3f5f\"}, \"baxis\": {\"endlinecolor\": \"#2a3f5f\", \"gridcolor\": \"white\", \"linecolor\": \"white\", \"minorgridcolor\": \"white\", \"startlinecolor\": \"#2a3f5f\"}, \"type\": \"carpet\"}], \"choropleth\": [{\"colorbar\": {\"outlinewidth\": 0, \"ticks\": \"\"}, \"type\": \"choropleth\"}], \"contour\": [{\"colorbar\": {\"outlinewidth\": 0, \"ticks\": \"\"}, \"colorscale\": [[0.0, \"#0d0887\"], [0.1111111111111111, \"#46039f\"], [0.2222222222222222, \"#7201a8\"], [0.3333333333333333, \"#9c179e\"], [0.4444444444444444, \"#bd3786\"], [0.5555555555555556, \"#d8576b\"], [0.6666666666666666, \"#ed7953\"], [0.7777777777777778, \"#fb9f3a\"], [0.8888888888888888, \"#fdca26\"], [1.0, \"#f0f921\"]], \"type\": \"contour\"}], \"contourcarpet\": [{\"colorbar\": {\"outlinewidth\": 0, \"ticks\": \"\"}, \"type\": \"contourcarpet\"}], \"heatmap\": [{\"colorbar\": {\"outlinewidth\": 0, \"ticks\": \"\"}, \"colorscale\": [[0.0, \"#0d0887\"], [0.1111111111111111, \"#46039f\"], [0.2222222222222222, \"#7201a8\"], [0.3333333333333333, \"#9c179e\"], [0.4444444444444444, \"#bd3786\"], [0.5555555555555556, \"#d8576b\"], [0.6666666666666666, \"#ed7953\"], [0.7777777777777778, \"#fb9f3a\"], [0.8888888888888888, \"#fdca26\"], [1.0, \"#f0f921\"]], \"type\": \"heatmap\"}], \"heatmapgl\": [{\"colorbar\": {\"outlinewidth\": 0, \"ticks\": \"\"}, \"colorscale\": [[0.0, \"#0d0887\"], [0.1111111111111111, \"#46039f\"], [0.2222222222222222, \"#7201a8\"], [0.3333333333333333, \"#9c179e\"], [0.4444444444444444, \"#bd3786\"], [0.5555555555555556, \"#d8576b\"], [0.6666666666666666, \"#ed7953\"], [0.7777777777777778, \"#fb9f3a\"], [0.8888888888888888, \"#fdca26\"], [1.0, \"#f0f921\"]], \"type\": \"heatmapgl\"}], \"histogram\": [{\"marker\": {\"colorbar\": {\"outlinewidth\": 0, \"ticks\": \"\"}}, \"type\": \"histogram\"}], \"histogram2d\": [{\"colorbar\": {\"outlinewidth\": 0, \"ticks\": \"\"}, \"colorscale\": [[0.0, \"#0d0887\"], [0.1111111111111111, \"#46039f\"], [0.2222222222222222, \"#7201a8\"], [0.3333333333333333, \"#9c179e\"], [0.4444444444444444, \"#bd3786\"], [0.5555555555555556, \"#d8576b\"], [0.6666666666666666, \"#ed7953\"], [0.7777777777777778, \"#fb9f3a\"], [0.8888888888888888, \"#fdca26\"], [1.0, \"#f0f921\"]], \"type\": \"histogram2d\"}], \"histogram2dcontour\": [{\"colorbar\": {\"outlinewidth\": 0, \"ticks\": \"\"}, \"colorscale\": [[0.0, \"#0d0887\"], [0.1111111111111111, \"#46039f\"], [0.2222222222222222, \"#7201a8\"], [0.3333333333333333, \"#9c179e\"], [0.4444444444444444, \"#bd3786\"], [0.5555555555555556, \"#d8576b\"], [0.6666666666666666, \"#ed7953\"], [0.7777777777777778, \"#fb9f3a\"], [0.8888888888888888, \"#fdca26\"], [1.0, \"#f0f921\"]], \"type\": \"histogram2dcontour\"}], \"mesh3d\": [{\"colorbar\": {\"outlinewidth\": 0, \"ticks\": \"\"}, \"type\": \"mesh3d\"}], \"parcoords\": [{\"line\": {\"colorbar\": {\"outlinewidth\": 0, \"ticks\": \"\"}}, \"type\": \"parcoords\"}], \"pie\": [{\"automargin\": true, \"type\": \"pie\"}], \"scatter\": [{\"marker\": {\"colorbar\": {\"outlinewidth\": 0, \"ticks\": \"\"}}, \"type\": \"scatter\"}], \"scatter3d\": [{\"line\": {\"colorbar\": {\"outlinewidth\": 0, \"ticks\": \"\"}}, \"marker\": {\"colorbar\": {\"outlinewidth\": 0, \"ticks\": \"\"}}, \"type\": \"scatter3d\"}], \"scattercarpet\": [{\"marker\": {\"colorbar\": {\"outlinewidth\": 0, \"ticks\": \"\"}}, \"type\": \"scattercarpet\"}], \"scattergeo\": [{\"marker\": {\"colorbar\": {\"outlinewidth\": 0, \"ticks\": \"\"}}, \"type\": \"scattergeo\"}], \"scattergl\": [{\"marker\": {\"colorbar\": {\"outlinewidth\": 0, \"ticks\": \"\"}}, \"type\": \"scattergl\"}], \"scattermapbox\": [{\"marker\": {\"colorbar\": {\"outlinewidth\": 0, \"ticks\": \"\"}}, \"type\": \"scattermapbox\"}], \"scatterpolar\": [{\"marker\": {\"colorbar\": {\"outlinewidth\": 0, \"ticks\": \"\"}}, \"type\": \"scatterpolar\"}], \"scatterpolargl\": [{\"marker\": {\"colorbar\": {\"outlinewidth\": 0, \"ticks\": \"\"}}, \"type\": \"scatterpolargl\"}], \"scatterternary\": [{\"marker\": {\"colorbar\": {\"outlinewidth\": 0, \"ticks\": \"\"}}, \"type\": \"scatterternary\"}], \"surface\": [{\"colorbar\": {\"outlinewidth\": 0, \"ticks\": \"\"}, \"colorscale\": [[0.0, \"#0d0887\"], [0.1111111111111111, \"#46039f\"], [0.2222222222222222, \"#7201a8\"], [0.3333333333333333, \"#9c179e\"], [0.4444444444444444, \"#bd3786\"], [0.5555555555555556, \"#d8576b\"], [0.6666666666666666, \"#ed7953\"], [0.7777777777777778, \"#fb9f3a\"], [0.8888888888888888, \"#fdca26\"], [1.0, \"#f0f921\"]], \"type\": \"surface\"}], \"table\": [{\"cells\": {\"fill\": {\"color\": \"#EBF0F8\"}, \"line\": {\"color\": \"white\"}}, \"header\": {\"fill\": {\"color\": \"#C8D4E3\"}, \"line\": {\"color\": \"white\"}}, \"type\": \"table\"}]}, \"layout\": {\"annotationdefaults\": {\"arrowcolor\": \"#2a3f5f\", \"arrowhead\": 0, \"arrowwidth\": 1}, \"autotypenumbers\": \"strict\", \"coloraxis\": {\"colorbar\": {\"outlinewidth\": 0, \"ticks\": \"\"}}, \"colorscale\": {\"diverging\": [[0, \"#8e0152\"], [0.1, \"#c51b7d\"], [0.2, \"#de77ae\"], [0.3, \"#f1b6da\"], [0.4, \"#fde0ef\"], [0.5, \"#f7f7f7\"], [0.6, \"#e6f5d0\"], [0.7, \"#b8e186\"], [0.8, \"#7fbc41\"], [0.9, \"#4d9221\"], [1, \"#276419\"]], \"sequential\": [[0.0, \"#0d0887\"], [0.1111111111111111, \"#46039f\"], [0.2222222222222222, \"#7201a8\"], [0.3333333333333333, \"#9c179e\"], [0.4444444444444444, \"#bd3786\"], [0.5555555555555556, \"#d8576b\"], [0.6666666666666666, \"#ed7953\"], [0.7777777777777778, \"#fb9f3a\"], [0.8888888888888888, \"#fdca26\"], [1.0, \"#f0f921\"]], \"sequentialminus\": [[0.0, \"#0d0887\"], [0.1111111111111111, \"#46039f\"], [0.2222222222222222, \"#7201a8\"], [0.3333333333333333, \"#9c179e\"], [0.4444444444444444, \"#bd3786\"], [0.5555555555555556, \"#d8576b\"], [0.6666666666666666, \"#ed7953\"], [0.7777777777777778, \"#fb9f3a\"], [0.8888888888888888, \"#fdca26\"], [1.0, \"#f0f921\"]]}, \"colorway\": [\"#636efa\", \"#EF553B\", \"#00cc96\", \"#ab63fa\", \"#FFA15A\", \"#19d3f3\", \"#FF6692\", \"#B6E880\", \"#FF97FF\", \"#FECB52\"], \"font\": {\"color\": \"#2a3f5f\"}, \"geo\": {\"bgcolor\": \"white\", \"lakecolor\": \"white\", \"landcolor\": \"#E5ECF6\", \"showlakes\": true, \"showland\": true, \"subunitcolor\": \"white\"}, \"hoverlabel\": {\"align\": \"left\"}, \"hovermode\": \"closest\", \"mapbox\": {\"style\": \"light\"}, \"paper_bgcolor\": \"white\", \"plot_bgcolor\": \"#E5ECF6\", \"polar\": {\"angularaxis\": {\"gridcolor\": \"white\", \"linecolor\": \"white\", \"ticks\": \"\"}, \"bgcolor\": \"#E5ECF6\", \"radialaxis\": {\"gridcolor\": \"white\", \"linecolor\": \"white\", \"ticks\": \"\"}}, \"scene\": {\"xaxis\": {\"backgroundcolor\": \"#E5ECF6\", \"gridcolor\": \"white\", \"gridwidth\": 2, \"linecolor\": \"white\", \"showbackground\": true, \"ticks\": \"\", \"zerolinecolor\": \"white\"}, \"yaxis\": {\"backgroundcolor\": \"#E5ECF6\", \"gridcolor\": \"white\", \"gridwidth\": 2, \"linecolor\": \"white\", \"showbackground\": true, \"ticks\": \"\", \"zerolinecolor\": \"white\"}, \"zaxis\": {\"backgroundcolor\": \"#E5ECF6\", \"gridcolor\": \"white\", \"gridwidth\": 2, \"linecolor\": \"white\", \"showbackground\": true, \"ticks\": \"\", \"zerolinecolor\": \"white\"}}, \"shapedefaults\": {\"line\": {\"color\": \"#2a3f5f\"}}, \"ternary\": {\"aaxis\": {\"gridcolor\": \"white\", \"linecolor\": \"white\", \"ticks\": \"\"}, \"baxis\": {\"gridcolor\": \"white\", \"linecolor\": \"white\", \"ticks\": \"\"}, \"bgcolor\": \"#E5ECF6\", \"caxis\": {\"gridcolor\": \"white\", \"linecolor\": \"white\", \"ticks\": \"\"}}, \"title\": {\"x\": 0.05}, \"xaxis\": {\"automargin\": true, \"gridcolor\": \"white\", \"linecolor\": \"white\", \"ticks\": \"\", \"title\": {\"standoff\": 15}, \"zerolinecolor\": \"white\", \"zerolinewidth\": 2}, \"yaxis\": {\"automargin\": true, \"gridcolor\": \"white\", \"linecolor\": \"white\", \"ticks\": \"\", \"title\": {\"standoff\": 15}, \"zerolinecolor\": \"white\", \"zerolinewidth\": 2}}}, \"title\": {\"text\": \"Number of correct answers per group\"}, \"width\": 800, \"xaxis\": {\"anchor\": \"y\", \"domain\": [0.0, 1.0], \"title\": {\"text\": \"number_of_answers\"}}, \"yaxis\": {\"anchor\": \"x\", \"domain\": [0.0, 1.0], \"title\": {\"text\": \"correct_answer\"}}},                        {\"responsive\": true}                    ).then(function(){\n",
       "                            \n",
       "var gd = document.getElementById('1c5c0b12-74ad-4ee6-a9d2-a3ee13ff298e');\n",
       "var x = new MutationObserver(function (mutations, observer) {{\n",
       "        var display = window.getComputedStyle(gd).display;\n",
       "        if (!display || display === 'none') {{\n",
       "            console.log([gd, 'removed!']);\n",
       "            Plotly.purge(gd);\n",
       "            observer.disconnect();\n",
       "        }}\n",
       "}});\n",
       "\n",
       "// Listen for the removal of the full notebook cells\n",
       "var notebookContainer = gd.closest('#notebook-container');\n",
       "if (notebookContainer) {{\n",
       "    x.observe(notebookContainer, {childList: true});\n",
       "}}\n",
       "\n",
       "// Listen for the clearing of the current output cell\n",
       "var outputEl = gd.closest('.output');\n",
       "if (outputEl) {{\n",
       "    x.observe(outputEl, {childList: true});\n",
       "}}\n",
       "\n",
       "                        })                };                });            </script>        </div>"
      ]
     },
     "metadata": {},
     "output_type": "display_data"
    }
   ],
   "source": [
    "ds = questions['correct_answer'].value_counts().reset_index()\n",
    "\n",
    "ds.columns = [\n",
    "    'correct_answer', \n",
    "    'number_of_answers'\n",
    "]\n",
    "\n",
    "ds['correct_answer'] = ds['correct_answer'].astype(str) + '-'\n",
    "ds = ds.sort_values(['number_of_answers'])\n",
    "\n",
    "fig = px.bar(\n",
    "    ds, \n",
    "    x='number_of_answers', \n",
    "    y='correct_answer', \n",
    "    orientation='h', \n",
    "    title='Number of correct answers per group', \n",
    "    width=WIDTH,\n",
    "    height=300\n",
    ")\n",
    "fig.show()"
   ]
  },
  {
   "cell_type": "code",
   "execution_count": 30,
   "metadata": {
    "execution": {
     "iopub.execute_input": "2020-12-23T09:26:46.062299Z",
     "iopub.status.busy": "2020-12-23T09:26:46.061543Z",
     "iopub.status.idle": "2020-12-23T09:26:46.146637Z",
     "shell.execute_reply": "2020-12-23T09:26:46.145969Z"
    },
    "papermill": {
     "duration": 0.170486,
     "end_time": "2020-12-23T09:26:46.146748",
     "exception": false,
     "start_time": "2020-12-23T09:26:45.976262",
     "status": "completed"
    },
    "tags": []
   },
   "outputs": [
    {
     "data": {
      "text/html": [
       "<div>                            <div id=\"1b317ea1-d6d3-4129-baaa-377d64b10d3d\" class=\"plotly-graph-div\" style=\"height:400px; width:800px;\"></div>            <script type=\"text/javascript\">                require([\"plotly\"], function(Plotly) {                    window.PLOTLYENV=window.PLOTLYENV || {};                                    if (document.getElementById(\"1b317ea1-d6d3-4129-baaa-377d64b10d3d\")) {                    Plotly.newPlot(                        \"1b317ea1-d6d3-4129-baaa-377d64b10d3d\",                        [{\"alignmentgroup\": \"True\", \"hovertemplate\": \"count=%{x}<br>part=%{y}<extra></extra>\", \"legendgroup\": \"\", \"marker\": {\"color\": \"#636efa\"}, \"name\": \"\", \"offsetgroup\": \"\", \"orientation\": \"h\", \"showlegend\": false, \"textposition\": \"auto\", \"type\": \"bar\", \"x\": [992, 1160, 1212, 1439, 1562, 1647, 5511], \"xaxis\": \"x\", \"y\": [\"1-\", \"7-\", \"6-\", \"4-\", \"3-\", \"2-\", \"5-\"], \"yaxis\": \"y\"}],                        {\"barmode\": \"relative\", \"height\": 400, \"legend\": {\"tracegroupgap\": 0}, \"template\": {\"data\": {\"bar\": [{\"error_x\": {\"color\": \"#2a3f5f\"}, \"error_y\": {\"color\": \"#2a3f5f\"}, \"marker\": {\"line\": {\"color\": \"#E5ECF6\", \"width\": 0.5}}, \"type\": \"bar\"}], \"barpolar\": [{\"marker\": {\"line\": {\"color\": \"#E5ECF6\", \"width\": 0.5}}, \"type\": \"barpolar\"}], \"carpet\": [{\"aaxis\": {\"endlinecolor\": \"#2a3f5f\", \"gridcolor\": \"white\", \"linecolor\": \"white\", \"minorgridcolor\": \"white\", \"startlinecolor\": \"#2a3f5f\"}, \"baxis\": {\"endlinecolor\": \"#2a3f5f\", \"gridcolor\": \"white\", \"linecolor\": \"white\", \"minorgridcolor\": \"white\", \"startlinecolor\": \"#2a3f5f\"}, \"type\": \"carpet\"}], \"choropleth\": [{\"colorbar\": {\"outlinewidth\": 0, \"ticks\": \"\"}, \"type\": \"choropleth\"}], \"contour\": [{\"colorbar\": {\"outlinewidth\": 0, \"ticks\": \"\"}, \"colorscale\": [[0.0, \"#0d0887\"], [0.1111111111111111, \"#46039f\"], [0.2222222222222222, \"#7201a8\"], [0.3333333333333333, \"#9c179e\"], [0.4444444444444444, \"#bd3786\"], [0.5555555555555556, \"#d8576b\"], [0.6666666666666666, \"#ed7953\"], [0.7777777777777778, \"#fb9f3a\"], [0.8888888888888888, \"#fdca26\"], [1.0, \"#f0f921\"]], \"type\": \"contour\"}], \"contourcarpet\": [{\"colorbar\": {\"outlinewidth\": 0, \"ticks\": \"\"}, \"type\": \"contourcarpet\"}], \"heatmap\": [{\"colorbar\": {\"outlinewidth\": 0, \"ticks\": \"\"}, \"colorscale\": [[0.0, \"#0d0887\"], [0.1111111111111111, \"#46039f\"], [0.2222222222222222, \"#7201a8\"], [0.3333333333333333, \"#9c179e\"], [0.4444444444444444, \"#bd3786\"], [0.5555555555555556, \"#d8576b\"], [0.6666666666666666, \"#ed7953\"], [0.7777777777777778, \"#fb9f3a\"], [0.8888888888888888, \"#fdca26\"], [1.0, \"#f0f921\"]], \"type\": \"heatmap\"}], \"heatmapgl\": [{\"colorbar\": {\"outlinewidth\": 0, \"ticks\": \"\"}, \"colorscale\": [[0.0, \"#0d0887\"], [0.1111111111111111, \"#46039f\"], [0.2222222222222222, \"#7201a8\"], [0.3333333333333333, \"#9c179e\"], [0.4444444444444444, \"#bd3786\"], [0.5555555555555556, \"#d8576b\"], [0.6666666666666666, \"#ed7953\"], [0.7777777777777778, \"#fb9f3a\"], [0.8888888888888888, \"#fdca26\"], [1.0, \"#f0f921\"]], \"type\": \"heatmapgl\"}], \"histogram\": [{\"marker\": {\"colorbar\": {\"outlinewidth\": 0, \"ticks\": \"\"}}, \"type\": \"histogram\"}], \"histogram2d\": [{\"colorbar\": {\"outlinewidth\": 0, \"ticks\": \"\"}, \"colorscale\": [[0.0, \"#0d0887\"], [0.1111111111111111, \"#46039f\"], [0.2222222222222222, \"#7201a8\"], [0.3333333333333333, \"#9c179e\"], [0.4444444444444444, \"#bd3786\"], [0.5555555555555556, \"#d8576b\"], [0.6666666666666666, \"#ed7953\"], [0.7777777777777778, \"#fb9f3a\"], [0.8888888888888888, \"#fdca26\"], [1.0, \"#f0f921\"]], \"type\": \"histogram2d\"}], \"histogram2dcontour\": [{\"colorbar\": {\"outlinewidth\": 0, \"ticks\": \"\"}, \"colorscale\": [[0.0, \"#0d0887\"], [0.1111111111111111, \"#46039f\"], [0.2222222222222222, \"#7201a8\"], [0.3333333333333333, \"#9c179e\"], [0.4444444444444444, \"#bd3786\"], [0.5555555555555556, \"#d8576b\"], [0.6666666666666666, \"#ed7953\"], [0.7777777777777778, \"#fb9f3a\"], [0.8888888888888888, \"#fdca26\"], [1.0, \"#f0f921\"]], \"type\": \"histogram2dcontour\"}], \"mesh3d\": [{\"colorbar\": {\"outlinewidth\": 0, \"ticks\": \"\"}, \"type\": \"mesh3d\"}], \"parcoords\": [{\"line\": {\"colorbar\": {\"outlinewidth\": 0, \"ticks\": \"\"}}, \"type\": \"parcoords\"}], \"pie\": [{\"automargin\": true, \"type\": \"pie\"}], \"scatter\": [{\"marker\": {\"colorbar\": {\"outlinewidth\": 0, \"ticks\": \"\"}}, \"type\": \"scatter\"}], \"scatter3d\": [{\"line\": {\"colorbar\": {\"outlinewidth\": 0, \"ticks\": \"\"}}, \"marker\": {\"colorbar\": {\"outlinewidth\": 0, \"ticks\": \"\"}}, \"type\": \"scatter3d\"}], \"scattercarpet\": [{\"marker\": {\"colorbar\": {\"outlinewidth\": 0, \"ticks\": \"\"}}, \"type\": \"scattercarpet\"}], \"scattergeo\": [{\"marker\": {\"colorbar\": {\"outlinewidth\": 0, \"ticks\": \"\"}}, \"type\": \"scattergeo\"}], \"scattergl\": [{\"marker\": {\"colorbar\": {\"outlinewidth\": 0, \"ticks\": \"\"}}, \"type\": \"scattergl\"}], \"scattermapbox\": [{\"marker\": {\"colorbar\": {\"outlinewidth\": 0, \"ticks\": \"\"}}, \"type\": \"scattermapbox\"}], \"scatterpolar\": [{\"marker\": {\"colorbar\": {\"outlinewidth\": 0, \"ticks\": \"\"}}, \"type\": \"scatterpolar\"}], \"scatterpolargl\": [{\"marker\": {\"colorbar\": {\"outlinewidth\": 0, \"ticks\": \"\"}}, \"type\": \"scatterpolargl\"}], \"scatterternary\": [{\"marker\": {\"colorbar\": {\"outlinewidth\": 0, \"ticks\": \"\"}}, \"type\": \"scatterternary\"}], \"surface\": [{\"colorbar\": {\"outlinewidth\": 0, \"ticks\": \"\"}, \"colorscale\": [[0.0, \"#0d0887\"], [0.1111111111111111, \"#46039f\"], [0.2222222222222222, \"#7201a8\"], [0.3333333333333333, \"#9c179e\"], [0.4444444444444444, \"#bd3786\"], [0.5555555555555556, \"#d8576b\"], [0.6666666666666666, \"#ed7953\"], [0.7777777777777778, \"#fb9f3a\"], [0.8888888888888888, \"#fdca26\"], [1.0, \"#f0f921\"]], \"type\": \"surface\"}], \"table\": [{\"cells\": {\"fill\": {\"color\": \"#EBF0F8\"}, \"line\": {\"color\": \"white\"}}, \"header\": {\"fill\": {\"color\": \"#C8D4E3\"}, \"line\": {\"color\": \"white\"}}, \"type\": \"table\"}]}, \"layout\": {\"annotationdefaults\": {\"arrowcolor\": \"#2a3f5f\", \"arrowhead\": 0, \"arrowwidth\": 1}, \"autotypenumbers\": \"strict\", \"coloraxis\": {\"colorbar\": {\"outlinewidth\": 0, \"ticks\": \"\"}}, \"colorscale\": {\"diverging\": [[0, \"#8e0152\"], [0.1, \"#c51b7d\"], [0.2, \"#de77ae\"], [0.3, \"#f1b6da\"], [0.4, \"#fde0ef\"], [0.5, \"#f7f7f7\"], [0.6, \"#e6f5d0\"], [0.7, \"#b8e186\"], [0.8, \"#7fbc41\"], [0.9, \"#4d9221\"], [1, \"#276419\"]], \"sequential\": [[0.0, \"#0d0887\"], [0.1111111111111111, \"#46039f\"], [0.2222222222222222, \"#7201a8\"], [0.3333333333333333, \"#9c179e\"], [0.4444444444444444, \"#bd3786\"], [0.5555555555555556, \"#d8576b\"], [0.6666666666666666, \"#ed7953\"], [0.7777777777777778, \"#fb9f3a\"], [0.8888888888888888, \"#fdca26\"], [1.0, \"#f0f921\"]], \"sequentialminus\": [[0.0, \"#0d0887\"], [0.1111111111111111, \"#46039f\"], [0.2222222222222222, \"#7201a8\"], [0.3333333333333333, \"#9c179e\"], [0.4444444444444444, \"#bd3786\"], [0.5555555555555556, \"#d8576b\"], [0.6666666666666666, \"#ed7953\"], [0.7777777777777778, \"#fb9f3a\"], [0.8888888888888888, \"#fdca26\"], [1.0, \"#f0f921\"]]}, \"colorway\": [\"#636efa\", \"#EF553B\", \"#00cc96\", \"#ab63fa\", \"#FFA15A\", \"#19d3f3\", \"#FF6692\", \"#B6E880\", \"#FF97FF\", \"#FECB52\"], \"font\": {\"color\": \"#2a3f5f\"}, \"geo\": {\"bgcolor\": \"white\", \"lakecolor\": \"white\", \"landcolor\": \"#E5ECF6\", \"showlakes\": true, \"showland\": true, \"subunitcolor\": \"white\"}, \"hoverlabel\": {\"align\": \"left\"}, \"hovermode\": \"closest\", \"mapbox\": {\"style\": \"light\"}, \"paper_bgcolor\": \"white\", \"plot_bgcolor\": \"#E5ECF6\", \"polar\": {\"angularaxis\": {\"gridcolor\": \"white\", \"linecolor\": \"white\", \"ticks\": \"\"}, \"bgcolor\": \"#E5ECF6\", \"radialaxis\": {\"gridcolor\": \"white\", \"linecolor\": \"white\", \"ticks\": \"\"}}, \"scene\": {\"xaxis\": {\"backgroundcolor\": \"#E5ECF6\", \"gridcolor\": \"white\", \"gridwidth\": 2, \"linecolor\": \"white\", \"showbackground\": true, \"ticks\": \"\", \"zerolinecolor\": \"white\"}, \"yaxis\": {\"backgroundcolor\": \"#E5ECF6\", \"gridcolor\": \"white\", \"gridwidth\": 2, \"linecolor\": \"white\", \"showbackground\": true, \"ticks\": \"\", \"zerolinecolor\": \"white\"}, \"zaxis\": {\"backgroundcolor\": \"#E5ECF6\", \"gridcolor\": \"white\", \"gridwidth\": 2, \"linecolor\": \"white\", \"showbackground\": true, \"ticks\": \"\", \"zerolinecolor\": \"white\"}}, \"shapedefaults\": {\"line\": {\"color\": \"#2a3f5f\"}}, \"ternary\": {\"aaxis\": {\"gridcolor\": \"white\", \"linecolor\": \"white\", \"ticks\": \"\"}, \"baxis\": {\"gridcolor\": \"white\", \"linecolor\": \"white\", \"ticks\": \"\"}, \"bgcolor\": \"#E5ECF6\", \"caxis\": {\"gridcolor\": \"white\", \"linecolor\": \"white\", \"ticks\": \"\"}}, \"title\": {\"x\": 0.05}, \"xaxis\": {\"automargin\": true, \"gridcolor\": \"white\", \"linecolor\": \"white\", \"ticks\": \"\", \"title\": {\"standoff\": 15}, \"zerolinecolor\": \"white\", \"zerolinewidth\": 2}, \"yaxis\": {\"automargin\": true, \"gridcolor\": \"white\", \"linecolor\": \"white\", \"ticks\": \"\", \"title\": {\"standoff\": 15}, \"zerolinecolor\": \"white\", \"zerolinewidth\": 2}}}, \"title\": {\"text\": \"Parts distribution\"}, \"width\": 800, \"xaxis\": {\"anchor\": \"y\", \"domain\": [0.0, 1.0], \"title\": {\"text\": \"count\"}}, \"yaxis\": {\"anchor\": \"x\", \"domain\": [0.0, 1.0], \"title\": {\"text\": \"part\"}}},                        {\"responsive\": true}                    ).then(function(){\n",
       "                            \n",
       "var gd = document.getElementById('1b317ea1-d6d3-4129-baaa-377d64b10d3d');\n",
       "var x = new MutationObserver(function (mutations, observer) {{\n",
       "        var display = window.getComputedStyle(gd).display;\n",
       "        if (!display || display === 'none') {{\n",
       "            console.log([gd, 'removed!']);\n",
       "            Plotly.purge(gd);\n",
       "            observer.disconnect();\n",
       "        }}\n",
       "}});\n",
       "\n",
       "// Listen for the removal of the full notebook cells\n",
       "var notebookContainer = gd.closest('#notebook-container');\n",
       "if (notebookContainer) {{\n",
       "    x.observe(notebookContainer, {childList: true});\n",
       "}}\n",
       "\n",
       "// Listen for the clearing of the current output cell\n",
       "var outputEl = gd.closest('.output');\n",
       "if (outputEl) {{\n",
       "    x.observe(outputEl, {childList: true});\n",
       "}}\n",
       "\n",
       "                        })                };                });            </script>        </div>"
      ]
     },
     "metadata": {},
     "output_type": "display_data"
    }
   ],
   "source": [
    "ds = questions['part'].value_counts().reset_index()\n",
    "\n",
    "ds.columns = [\n",
    "    'part', \n",
    "    'count'\n",
    "]\n",
    "\n",
    "ds['part'] = ds['part'].astype(str) + '-'\n",
    "ds = ds.sort_values(['count'])\n",
    "\n",
    "fig = px.bar(\n",
    "    ds, \n",
    "    x='count', \n",
    "    y='part', \n",
    "    orientation='h', \n",
    "    title='Parts distribution',\n",
    "    width=WIDTH,\n",
    "    height=400\n",
    ")\n",
    "fig.show()"
   ]
  },
  {
   "cell_type": "code",
   "execution_count": 31,
   "metadata": {
    "execution": {
     "iopub.execute_input": "2020-12-23T09:26:46.311525Z",
     "iopub.status.busy": "2020-12-23T09:26:46.303411Z",
     "iopub.status.idle": "2020-12-23T09:26:46.362582Z",
     "shell.execute_reply": "2020-12-23T09:26:46.361955Z"
    },
    "papermill": {
     "duration": 0.141759,
     "end_time": "2020-12-23T09:26:46.362687",
     "exception": false,
     "start_time": "2020-12-23T09:26:46.220928",
     "status": "completed"
    },
    "tags": []
   },
   "outputs": [
    {
     "data": {
      "text/html": [
       "<div>                            <div id=\"8508b333-e70e-4e2e-8655-e8e70fe39548\" class=\"plotly-graph-div\" style=\"height:400px; width:800px;\"></div>            <script type=\"text/javascript\">                require([\"plotly\"], function(Plotly) {                    window.PLOTLYENV=window.PLOTLYENV || {};                                    if (document.getElementById(\"8508b333-e70e-4e2e-8655-e8e70fe39548\")) {                    Plotly.newPlot(                        \"8508b333-e70e-4e2e-8655-e8e70fe39548\",                        [{\"alignmentgroup\": \"True\", \"hovertemplate\": \"count=%{x}<br>tags_number=%{y}<extra></extra>\", \"legendgroup\": \"\", \"marker\": {\"color\": \"#636efa\"}, \"name\": \"\", \"offsetgroup\": \"\", \"orientation\": \"h\", \"showlegend\": false, \"textposition\": \"auto\", \"type\": \"bar\", \"x\": [1, 6560, 171, 3976, 2021, 686, 108], \"xaxis\": \"x\", \"y\": [\"0-\", \"1-\", \"2-\", \"3-\", \"4-\", \"5-\", \"6-\"], \"yaxis\": \"y\"}],                        {\"barmode\": \"relative\", \"height\": 400, \"legend\": {\"tracegroupgap\": 0}, \"template\": {\"data\": {\"bar\": [{\"error_x\": {\"color\": \"#2a3f5f\"}, \"error_y\": {\"color\": \"#2a3f5f\"}, \"marker\": {\"line\": {\"color\": \"#E5ECF6\", \"width\": 0.5}}, \"type\": \"bar\"}], \"barpolar\": [{\"marker\": {\"line\": {\"color\": \"#E5ECF6\", \"width\": 0.5}}, \"type\": \"barpolar\"}], \"carpet\": [{\"aaxis\": {\"endlinecolor\": \"#2a3f5f\", \"gridcolor\": \"white\", \"linecolor\": \"white\", \"minorgridcolor\": \"white\", \"startlinecolor\": \"#2a3f5f\"}, \"baxis\": {\"endlinecolor\": \"#2a3f5f\", \"gridcolor\": \"white\", \"linecolor\": \"white\", \"minorgridcolor\": \"white\", \"startlinecolor\": \"#2a3f5f\"}, \"type\": \"carpet\"}], \"choropleth\": [{\"colorbar\": {\"outlinewidth\": 0, \"ticks\": \"\"}, \"type\": \"choropleth\"}], \"contour\": [{\"colorbar\": {\"outlinewidth\": 0, \"ticks\": \"\"}, \"colorscale\": [[0.0, \"#0d0887\"], [0.1111111111111111, \"#46039f\"], [0.2222222222222222, \"#7201a8\"], [0.3333333333333333, \"#9c179e\"], [0.4444444444444444, \"#bd3786\"], [0.5555555555555556, \"#d8576b\"], [0.6666666666666666, \"#ed7953\"], [0.7777777777777778, \"#fb9f3a\"], [0.8888888888888888, \"#fdca26\"], [1.0, \"#f0f921\"]], \"type\": \"contour\"}], \"contourcarpet\": [{\"colorbar\": {\"outlinewidth\": 0, \"ticks\": \"\"}, \"type\": \"contourcarpet\"}], \"heatmap\": [{\"colorbar\": {\"outlinewidth\": 0, \"ticks\": \"\"}, \"colorscale\": [[0.0, \"#0d0887\"], [0.1111111111111111, \"#46039f\"], [0.2222222222222222, \"#7201a8\"], [0.3333333333333333, \"#9c179e\"], [0.4444444444444444, \"#bd3786\"], [0.5555555555555556, \"#d8576b\"], [0.6666666666666666, \"#ed7953\"], [0.7777777777777778, \"#fb9f3a\"], [0.8888888888888888, \"#fdca26\"], [1.0, \"#f0f921\"]], \"type\": \"heatmap\"}], \"heatmapgl\": [{\"colorbar\": {\"outlinewidth\": 0, \"ticks\": \"\"}, \"colorscale\": [[0.0, \"#0d0887\"], [0.1111111111111111, \"#46039f\"], [0.2222222222222222, \"#7201a8\"], [0.3333333333333333, \"#9c179e\"], [0.4444444444444444, \"#bd3786\"], [0.5555555555555556, \"#d8576b\"], [0.6666666666666666, \"#ed7953\"], [0.7777777777777778, \"#fb9f3a\"], [0.8888888888888888, \"#fdca26\"], [1.0, \"#f0f921\"]], \"type\": \"heatmapgl\"}], \"histogram\": [{\"marker\": {\"colorbar\": {\"outlinewidth\": 0, \"ticks\": \"\"}}, \"type\": \"histogram\"}], \"histogram2d\": [{\"colorbar\": {\"outlinewidth\": 0, \"ticks\": \"\"}, \"colorscale\": [[0.0, \"#0d0887\"], [0.1111111111111111, \"#46039f\"], [0.2222222222222222, \"#7201a8\"], [0.3333333333333333, \"#9c179e\"], [0.4444444444444444, \"#bd3786\"], [0.5555555555555556, \"#d8576b\"], [0.6666666666666666, \"#ed7953\"], [0.7777777777777778, \"#fb9f3a\"], [0.8888888888888888, \"#fdca26\"], [1.0, \"#f0f921\"]], \"type\": \"histogram2d\"}], \"histogram2dcontour\": [{\"colorbar\": {\"outlinewidth\": 0, \"ticks\": \"\"}, \"colorscale\": [[0.0, \"#0d0887\"], [0.1111111111111111, \"#46039f\"], [0.2222222222222222, \"#7201a8\"], [0.3333333333333333, \"#9c179e\"], [0.4444444444444444, \"#bd3786\"], [0.5555555555555556, \"#d8576b\"], [0.6666666666666666, \"#ed7953\"], [0.7777777777777778, \"#fb9f3a\"], [0.8888888888888888, \"#fdca26\"], [1.0, \"#f0f921\"]], \"type\": \"histogram2dcontour\"}], \"mesh3d\": [{\"colorbar\": {\"outlinewidth\": 0, \"ticks\": \"\"}, \"type\": \"mesh3d\"}], \"parcoords\": [{\"line\": {\"colorbar\": {\"outlinewidth\": 0, \"ticks\": \"\"}}, \"type\": \"parcoords\"}], \"pie\": [{\"automargin\": true, \"type\": \"pie\"}], \"scatter\": [{\"marker\": {\"colorbar\": {\"outlinewidth\": 0, \"ticks\": \"\"}}, \"type\": \"scatter\"}], \"scatter3d\": [{\"line\": {\"colorbar\": {\"outlinewidth\": 0, \"ticks\": \"\"}}, \"marker\": {\"colorbar\": {\"outlinewidth\": 0, \"ticks\": \"\"}}, \"type\": \"scatter3d\"}], \"scattercarpet\": [{\"marker\": {\"colorbar\": {\"outlinewidth\": 0, \"ticks\": \"\"}}, \"type\": \"scattercarpet\"}], \"scattergeo\": [{\"marker\": {\"colorbar\": {\"outlinewidth\": 0, \"ticks\": \"\"}}, \"type\": \"scattergeo\"}], \"scattergl\": [{\"marker\": {\"colorbar\": {\"outlinewidth\": 0, \"ticks\": \"\"}}, \"type\": \"scattergl\"}], \"scattermapbox\": [{\"marker\": {\"colorbar\": {\"outlinewidth\": 0, \"ticks\": \"\"}}, \"type\": \"scattermapbox\"}], \"scatterpolar\": [{\"marker\": {\"colorbar\": {\"outlinewidth\": 0, \"ticks\": \"\"}}, \"type\": \"scatterpolar\"}], \"scatterpolargl\": [{\"marker\": {\"colorbar\": {\"outlinewidth\": 0, \"ticks\": \"\"}}, \"type\": \"scatterpolargl\"}], \"scatterternary\": [{\"marker\": {\"colorbar\": {\"outlinewidth\": 0, \"ticks\": \"\"}}, \"type\": \"scatterternary\"}], \"surface\": [{\"colorbar\": {\"outlinewidth\": 0, \"ticks\": \"\"}, \"colorscale\": [[0.0, \"#0d0887\"], [0.1111111111111111, \"#46039f\"], [0.2222222222222222, \"#7201a8\"], [0.3333333333333333, \"#9c179e\"], [0.4444444444444444, \"#bd3786\"], [0.5555555555555556, \"#d8576b\"], [0.6666666666666666, \"#ed7953\"], [0.7777777777777778, \"#fb9f3a\"], [0.8888888888888888, \"#fdca26\"], [1.0, \"#f0f921\"]], \"type\": \"surface\"}], \"table\": [{\"cells\": {\"fill\": {\"color\": \"#EBF0F8\"}, \"line\": {\"color\": \"white\"}}, \"header\": {\"fill\": {\"color\": \"#C8D4E3\"}, \"line\": {\"color\": \"white\"}}, \"type\": \"table\"}]}, \"layout\": {\"annotationdefaults\": {\"arrowcolor\": \"#2a3f5f\", \"arrowhead\": 0, \"arrowwidth\": 1}, \"autotypenumbers\": \"strict\", \"coloraxis\": {\"colorbar\": {\"outlinewidth\": 0, \"ticks\": \"\"}}, \"colorscale\": {\"diverging\": [[0, \"#8e0152\"], [0.1, \"#c51b7d\"], [0.2, \"#de77ae\"], [0.3, \"#f1b6da\"], [0.4, \"#fde0ef\"], [0.5, \"#f7f7f7\"], [0.6, \"#e6f5d0\"], [0.7, \"#b8e186\"], [0.8, \"#7fbc41\"], [0.9, \"#4d9221\"], [1, \"#276419\"]], \"sequential\": [[0.0, \"#0d0887\"], [0.1111111111111111, \"#46039f\"], [0.2222222222222222, \"#7201a8\"], [0.3333333333333333, \"#9c179e\"], [0.4444444444444444, \"#bd3786\"], [0.5555555555555556, \"#d8576b\"], [0.6666666666666666, \"#ed7953\"], [0.7777777777777778, \"#fb9f3a\"], [0.8888888888888888, \"#fdca26\"], [1.0, \"#f0f921\"]], \"sequentialminus\": [[0.0, \"#0d0887\"], [0.1111111111111111, \"#46039f\"], [0.2222222222222222, \"#7201a8\"], [0.3333333333333333, \"#9c179e\"], [0.4444444444444444, \"#bd3786\"], [0.5555555555555556, \"#d8576b\"], [0.6666666666666666, \"#ed7953\"], [0.7777777777777778, \"#fb9f3a\"], [0.8888888888888888, \"#fdca26\"], [1.0, \"#f0f921\"]]}, \"colorway\": [\"#636efa\", \"#EF553B\", \"#00cc96\", \"#ab63fa\", \"#FFA15A\", \"#19d3f3\", \"#FF6692\", \"#B6E880\", \"#FF97FF\", \"#FECB52\"], \"font\": {\"color\": \"#2a3f5f\"}, \"geo\": {\"bgcolor\": \"white\", \"lakecolor\": \"white\", \"landcolor\": \"#E5ECF6\", \"showlakes\": true, \"showland\": true, \"subunitcolor\": \"white\"}, \"hoverlabel\": {\"align\": \"left\"}, \"hovermode\": \"closest\", \"mapbox\": {\"style\": \"light\"}, \"paper_bgcolor\": \"white\", \"plot_bgcolor\": \"#E5ECF6\", \"polar\": {\"angularaxis\": {\"gridcolor\": \"white\", \"linecolor\": \"white\", \"ticks\": \"\"}, \"bgcolor\": \"#E5ECF6\", \"radialaxis\": {\"gridcolor\": \"white\", \"linecolor\": \"white\", \"ticks\": \"\"}}, \"scene\": {\"xaxis\": {\"backgroundcolor\": \"#E5ECF6\", \"gridcolor\": \"white\", \"gridwidth\": 2, \"linecolor\": \"white\", \"showbackground\": true, \"ticks\": \"\", \"zerolinecolor\": \"white\"}, \"yaxis\": {\"backgroundcolor\": \"#E5ECF6\", \"gridcolor\": \"white\", \"gridwidth\": 2, \"linecolor\": \"white\", \"showbackground\": true, \"ticks\": \"\", \"zerolinecolor\": \"white\"}, \"zaxis\": {\"backgroundcolor\": \"#E5ECF6\", \"gridcolor\": \"white\", \"gridwidth\": 2, \"linecolor\": \"white\", \"showbackground\": true, \"ticks\": \"\", \"zerolinecolor\": \"white\"}}, \"shapedefaults\": {\"line\": {\"color\": \"#2a3f5f\"}}, \"ternary\": {\"aaxis\": {\"gridcolor\": \"white\", \"linecolor\": \"white\", \"ticks\": \"\"}, \"baxis\": {\"gridcolor\": \"white\", \"linecolor\": \"white\", \"ticks\": \"\"}, \"bgcolor\": \"#E5ECF6\", \"caxis\": {\"gridcolor\": \"white\", \"linecolor\": \"white\", \"ticks\": \"\"}}, \"title\": {\"x\": 0.05}, \"xaxis\": {\"automargin\": true, \"gridcolor\": \"white\", \"linecolor\": \"white\", \"ticks\": \"\", \"title\": {\"standoff\": 15}, \"zerolinecolor\": \"white\", \"zerolinewidth\": 2}, \"yaxis\": {\"automargin\": true, \"gridcolor\": \"white\", \"linecolor\": \"white\", \"ticks\": \"\", \"title\": {\"standoff\": 15}, \"zerolinecolor\": \"white\", \"zerolinewidth\": 2}}}, \"title\": {\"text\": \"Number tags distribution\"}, \"width\": 800, \"xaxis\": {\"anchor\": \"y\", \"domain\": [0.0, 1.0], \"title\": {\"text\": \"count\"}}, \"yaxis\": {\"anchor\": \"x\", \"domain\": [0.0, 1.0], \"title\": {\"text\": \"tags_number\"}}},                        {\"responsive\": true}                    ).then(function(){\n",
       "                            \n",
       "var gd = document.getElementById('8508b333-e70e-4e2e-8655-e8e70fe39548');\n",
       "var x = new MutationObserver(function (mutations, observer) {{\n",
       "        var display = window.getComputedStyle(gd).display;\n",
       "        if (!display || display === 'none') {{\n",
       "            console.log([gd, 'removed!']);\n",
       "            Plotly.purge(gd);\n",
       "            observer.disconnect();\n",
       "        }}\n",
       "}});\n",
       "\n",
       "// Listen for the removal of the full notebook cells\n",
       "var notebookContainer = gd.closest('#notebook-container');\n",
       "if (notebookContainer) {{\n",
       "    x.observe(notebookContainer, {childList: true});\n",
       "}}\n",
       "\n",
       "// Listen for the clearing of the current output cell\n",
       "var outputEl = gd.closest('.output');\n",
       "if (outputEl) {{\n",
       "    x.observe(outputEl, {childList: true});\n",
       "}}\n",
       "\n",
       "                        })                };                });            </script>        </div>"
      ]
     },
     "metadata": {},
     "output_type": "display_data"
    }
   ],
   "source": [
    "ds = questions['tags_number'].value_counts().reset_index()\n",
    "\n",
    "ds.columns = [\n",
    "    'tags_number', \n",
    "    'count'\n",
    "]\n",
    "\n",
    "ds['tags_number'] = ds['tags_number'].astype(str) + '-'\n",
    "ds = ds.sort_values(['tags_number'])\n",
    "\n",
    "fig = px.bar(\n",
    "    ds, \n",
    "    x='count', \n",
    "    y='tags_number', \n",
    "    orientation='h', \n",
    "    title='Number tags distribution', \n",
    "    width=WIDTH,\n",
    "    height=400 \n",
    "    )\n",
    "\n",
    "fig.show()"
   ]
  },
  {
   "cell_type": "code",
   "execution_count": 32,
   "metadata": {
    "execution": {
     "iopub.execute_input": "2020-12-23T09:26:46.539607Z",
     "iopub.status.busy": "2020-12-23T09:26:46.530593Z",
     "iopub.status.idle": "2020-12-23T09:26:46.623793Z",
     "shell.execute_reply": "2020-12-23T09:26:46.623171Z"
    },
    "papermill": {
     "duration": 0.186557,
     "end_time": "2020-12-23T09:26:46.623902",
     "exception": false,
     "start_time": "2020-12-23T09:26:46.437345",
     "status": "completed"
    },
    "tags": []
   },
   "outputs": [
    {
     "data": {
      "text/html": [
       "<div>                            <div id=\"3b9d2fe3-3a94-4772-90a3-8fd18c3d2c5e\" class=\"plotly-graph-div\" style=\"height:900px; width:800px;\"></div>            <script type=\"text/javascript\">                require([\"plotly\"], function(Plotly) {                    window.PLOTLYENV=window.PLOTLYENV || {};                                    if (document.getElementById(\"3b9d2fe3-3a94-4772-90a3-8fd18c3d2c5e\")) {                    Plotly.newPlot(                        \"3b9d2fe3-3a94-4772-90a3-8fd18c3d2c5e\",                        [{\"alignmentgroup\": \"True\", \"hovertemplate\": \"count=%{x}<br>tag=%{y}<extra></extra>\", \"legendgroup\": \"\", \"marker\": {\"color\": \"#636efa\"}, \"name\": \"\", \"offsetgroup\": \"\", \"orientation\": \"h\", \"showlegend\": false, \"textposition\": \"auto\", \"type\": \"bar\", \"x\": [203, 206, 209, 210, 210, 214, 215, 226, 232, 235, 259, 260, 265, 293, 294, 296, 298, 302, 312, 327, 332, 339, 378, 422, 457, 476, 527, 544, 597, 630, 650, 712, 751, 789, 914, 1033, 1707, 1969, 2256, 2269], \"xaxis\": \"x\", \"y\": [\"100-\", \"157-\", \"155-\", \"109-\", \"16-\", \"90-\", \"35-\", \"173-\", \"14-\", \"84-\", \"98-\", \"135-\", \"118-\", \"10-\", \"42-\", \"79-\", \"122-\", \"27-\", \"55-\", \"67-\", \"97-\", \"12-\", \"96-\", \"1-\", \"106-\", \"74-\", \"82-\", \"53-\", \"21-\", \"73-\", \"131-\", \"143-\", \"8-\", \"102-\", \"162-\", \"136-\", \"29-\", \"81-\", \"38-\", \"92-\"], \"yaxis\": \"y\"}],                        {\"barmode\": \"relative\", \"height\": 900, \"legend\": {\"tracegroupgap\": 0}, \"template\": {\"data\": {\"bar\": [{\"error_x\": {\"color\": \"#2a3f5f\"}, \"error_y\": {\"color\": \"#2a3f5f\"}, \"marker\": {\"line\": {\"color\": \"#E5ECF6\", \"width\": 0.5}}, \"type\": \"bar\"}], \"barpolar\": [{\"marker\": {\"line\": {\"color\": \"#E5ECF6\", \"width\": 0.5}}, \"type\": \"barpolar\"}], \"carpet\": [{\"aaxis\": {\"endlinecolor\": \"#2a3f5f\", \"gridcolor\": \"white\", \"linecolor\": \"white\", \"minorgridcolor\": \"white\", \"startlinecolor\": \"#2a3f5f\"}, \"baxis\": {\"endlinecolor\": \"#2a3f5f\", \"gridcolor\": \"white\", \"linecolor\": \"white\", \"minorgridcolor\": \"white\", \"startlinecolor\": \"#2a3f5f\"}, \"type\": \"carpet\"}], \"choropleth\": [{\"colorbar\": {\"outlinewidth\": 0, \"ticks\": \"\"}, \"type\": \"choropleth\"}], \"contour\": [{\"colorbar\": {\"outlinewidth\": 0, \"ticks\": \"\"}, \"colorscale\": [[0.0, \"#0d0887\"], [0.1111111111111111, \"#46039f\"], [0.2222222222222222, \"#7201a8\"], [0.3333333333333333, \"#9c179e\"], [0.4444444444444444, \"#bd3786\"], [0.5555555555555556, \"#d8576b\"], [0.6666666666666666, \"#ed7953\"], [0.7777777777777778, \"#fb9f3a\"], [0.8888888888888888, \"#fdca26\"], [1.0, \"#f0f921\"]], \"type\": \"contour\"}], \"contourcarpet\": [{\"colorbar\": {\"outlinewidth\": 0, \"ticks\": \"\"}, \"type\": \"contourcarpet\"}], \"heatmap\": [{\"colorbar\": {\"outlinewidth\": 0, \"ticks\": \"\"}, \"colorscale\": [[0.0, \"#0d0887\"], [0.1111111111111111, \"#46039f\"], [0.2222222222222222, \"#7201a8\"], [0.3333333333333333, \"#9c179e\"], [0.4444444444444444, \"#bd3786\"], [0.5555555555555556, \"#d8576b\"], [0.6666666666666666, \"#ed7953\"], [0.7777777777777778, \"#fb9f3a\"], [0.8888888888888888, \"#fdca26\"], [1.0, \"#f0f921\"]], \"type\": \"heatmap\"}], \"heatmapgl\": [{\"colorbar\": {\"outlinewidth\": 0, \"ticks\": \"\"}, \"colorscale\": [[0.0, \"#0d0887\"], [0.1111111111111111, \"#46039f\"], [0.2222222222222222, \"#7201a8\"], [0.3333333333333333, \"#9c179e\"], [0.4444444444444444, \"#bd3786\"], [0.5555555555555556, \"#d8576b\"], [0.6666666666666666, \"#ed7953\"], [0.7777777777777778, \"#fb9f3a\"], [0.8888888888888888, \"#fdca26\"], [1.0, \"#f0f921\"]], \"type\": \"heatmapgl\"}], \"histogram\": [{\"marker\": {\"colorbar\": {\"outlinewidth\": 0, \"ticks\": \"\"}}, \"type\": \"histogram\"}], \"histogram2d\": [{\"colorbar\": {\"outlinewidth\": 0, \"ticks\": \"\"}, \"colorscale\": [[0.0, \"#0d0887\"], [0.1111111111111111, \"#46039f\"], [0.2222222222222222, \"#7201a8\"], [0.3333333333333333, \"#9c179e\"], [0.4444444444444444, \"#bd3786\"], [0.5555555555555556, \"#d8576b\"], [0.6666666666666666, \"#ed7953\"], [0.7777777777777778, \"#fb9f3a\"], [0.8888888888888888, \"#fdca26\"], [1.0, \"#f0f921\"]], \"type\": \"histogram2d\"}], \"histogram2dcontour\": [{\"colorbar\": {\"outlinewidth\": 0, \"ticks\": \"\"}, \"colorscale\": [[0.0, \"#0d0887\"], [0.1111111111111111, \"#46039f\"], [0.2222222222222222, \"#7201a8\"], [0.3333333333333333, \"#9c179e\"], [0.4444444444444444, \"#bd3786\"], [0.5555555555555556, \"#d8576b\"], [0.6666666666666666, \"#ed7953\"], [0.7777777777777778, \"#fb9f3a\"], [0.8888888888888888, \"#fdca26\"], [1.0, \"#f0f921\"]], \"type\": \"histogram2dcontour\"}], \"mesh3d\": [{\"colorbar\": {\"outlinewidth\": 0, \"ticks\": \"\"}, \"type\": \"mesh3d\"}], \"parcoords\": [{\"line\": {\"colorbar\": {\"outlinewidth\": 0, \"ticks\": \"\"}}, \"type\": \"parcoords\"}], \"pie\": [{\"automargin\": true, \"type\": \"pie\"}], \"scatter\": [{\"marker\": {\"colorbar\": {\"outlinewidth\": 0, \"ticks\": \"\"}}, \"type\": \"scatter\"}], \"scatter3d\": [{\"line\": {\"colorbar\": {\"outlinewidth\": 0, \"ticks\": \"\"}}, \"marker\": {\"colorbar\": {\"outlinewidth\": 0, \"ticks\": \"\"}}, \"type\": \"scatter3d\"}], \"scattercarpet\": [{\"marker\": {\"colorbar\": {\"outlinewidth\": 0, \"ticks\": \"\"}}, \"type\": \"scattercarpet\"}], \"scattergeo\": [{\"marker\": {\"colorbar\": {\"outlinewidth\": 0, \"ticks\": \"\"}}, \"type\": \"scattergeo\"}], \"scattergl\": [{\"marker\": {\"colorbar\": {\"outlinewidth\": 0, \"ticks\": \"\"}}, \"type\": \"scattergl\"}], \"scattermapbox\": [{\"marker\": {\"colorbar\": {\"outlinewidth\": 0, \"ticks\": \"\"}}, \"type\": \"scattermapbox\"}], \"scatterpolar\": [{\"marker\": {\"colorbar\": {\"outlinewidth\": 0, \"ticks\": \"\"}}, \"type\": \"scatterpolar\"}], \"scatterpolargl\": [{\"marker\": {\"colorbar\": {\"outlinewidth\": 0, \"ticks\": \"\"}}, \"type\": \"scatterpolargl\"}], \"scatterternary\": [{\"marker\": {\"colorbar\": {\"outlinewidth\": 0, \"ticks\": \"\"}}, \"type\": \"scatterternary\"}], \"surface\": [{\"colorbar\": {\"outlinewidth\": 0, \"ticks\": \"\"}, \"colorscale\": [[0.0, \"#0d0887\"], [0.1111111111111111, \"#46039f\"], [0.2222222222222222, \"#7201a8\"], [0.3333333333333333, \"#9c179e\"], [0.4444444444444444, \"#bd3786\"], [0.5555555555555556, \"#d8576b\"], [0.6666666666666666, \"#ed7953\"], [0.7777777777777778, \"#fb9f3a\"], [0.8888888888888888, \"#fdca26\"], [1.0, \"#f0f921\"]], \"type\": \"surface\"}], \"table\": [{\"cells\": {\"fill\": {\"color\": \"#EBF0F8\"}, \"line\": {\"color\": \"white\"}}, \"header\": {\"fill\": {\"color\": \"#C8D4E3\"}, \"line\": {\"color\": \"white\"}}, \"type\": \"table\"}]}, \"layout\": {\"annotationdefaults\": {\"arrowcolor\": \"#2a3f5f\", \"arrowhead\": 0, \"arrowwidth\": 1}, \"autotypenumbers\": \"strict\", \"coloraxis\": {\"colorbar\": {\"outlinewidth\": 0, \"ticks\": \"\"}}, \"colorscale\": {\"diverging\": [[0, \"#8e0152\"], [0.1, \"#c51b7d\"], [0.2, \"#de77ae\"], [0.3, \"#f1b6da\"], [0.4, \"#fde0ef\"], [0.5, \"#f7f7f7\"], [0.6, \"#e6f5d0\"], [0.7, \"#b8e186\"], [0.8, \"#7fbc41\"], [0.9, \"#4d9221\"], [1, \"#276419\"]], \"sequential\": [[0.0, \"#0d0887\"], [0.1111111111111111, \"#46039f\"], [0.2222222222222222, \"#7201a8\"], [0.3333333333333333, \"#9c179e\"], [0.4444444444444444, \"#bd3786\"], [0.5555555555555556, \"#d8576b\"], [0.6666666666666666, \"#ed7953\"], [0.7777777777777778, \"#fb9f3a\"], [0.8888888888888888, \"#fdca26\"], [1.0, \"#f0f921\"]], \"sequentialminus\": [[0.0, \"#0d0887\"], [0.1111111111111111, \"#46039f\"], [0.2222222222222222, \"#7201a8\"], [0.3333333333333333, \"#9c179e\"], [0.4444444444444444, \"#bd3786\"], [0.5555555555555556, \"#d8576b\"], [0.6666666666666666, \"#ed7953\"], [0.7777777777777778, \"#fb9f3a\"], [0.8888888888888888, \"#fdca26\"], [1.0, \"#f0f921\"]]}, \"colorway\": [\"#636efa\", \"#EF553B\", \"#00cc96\", \"#ab63fa\", \"#FFA15A\", \"#19d3f3\", \"#FF6692\", \"#B6E880\", \"#FF97FF\", \"#FECB52\"], \"font\": {\"color\": \"#2a3f5f\"}, \"geo\": {\"bgcolor\": \"white\", \"lakecolor\": \"white\", \"landcolor\": \"#E5ECF6\", \"showlakes\": true, \"showland\": true, \"subunitcolor\": \"white\"}, \"hoverlabel\": {\"align\": \"left\"}, \"hovermode\": \"closest\", \"mapbox\": {\"style\": \"light\"}, \"paper_bgcolor\": \"white\", \"plot_bgcolor\": \"#E5ECF6\", \"polar\": {\"angularaxis\": {\"gridcolor\": \"white\", \"linecolor\": \"white\", \"ticks\": \"\"}, \"bgcolor\": \"#E5ECF6\", \"radialaxis\": {\"gridcolor\": \"white\", \"linecolor\": \"white\", \"ticks\": \"\"}}, \"scene\": {\"xaxis\": {\"backgroundcolor\": \"#E5ECF6\", \"gridcolor\": \"white\", \"gridwidth\": 2, \"linecolor\": \"white\", \"showbackground\": true, \"ticks\": \"\", \"zerolinecolor\": \"white\"}, \"yaxis\": {\"backgroundcolor\": \"#E5ECF6\", \"gridcolor\": \"white\", \"gridwidth\": 2, \"linecolor\": \"white\", \"showbackground\": true, \"ticks\": \"\", \"zerolinecolor\": \"white\"}, \"zaxis\": {\"backgroundcolor\": \"#E5ECF6\", \"gridcolor\": \"white\", \"gridwidth\": 2, \"linecolor\": \"white\", \"showbackground\": true, \"ticks\": \"\", \"zerolinecolor\": \"white\"}}, \"shapedefaults\": {\"line\": {\"color\": \"#2a3f5f\"}}, \"ternary\": {\"aaxis\": {\"gridcolor\": \"white\", \"linecolor\": \"white\", \"ticks\": \"\"}, \"baxis\": {\"gridcolor\": \"white\", \"linecolor\": \"white\", \"ticks\": \"\"}, \"bgcolor\": \"#E5ECF6\", \"caxis\": {\"gridcolor\": \"white\", \"linecolor\": \"white\", \"ticks\": \"\"}}, \"title\": {\"x\": 0.05}, \"xaxis\": {\"automargin\": true, \"gridcolor\": \"white\", \"linecolor\": \"white\", \"ticks\": \"\", \"title\": {\"standoff\": 15}, \"zerolinecolor\": \"white\", \"zerolinewidth\": 2}, \"yaxis\": {\"automargin\": true, \"gridcolor\": \"white\", \"linecolor\": \"white\", \"ticks\": \"\", \"title\": {\"standoff\": 15}, \"zerolinecolor\": \"white\", \"zerolinewidth\": 2}}}, \"title\": {\"text\": \"Top 40 most useful tags\"}, \"width\": 800, \"xaxis\": {\"anchor\": \"y\", \"domain\": [0.0, 1.0], \"title\": {\"text\": \"count\"}}, \"yaxis\": {\"anchor\": \"x\", \"domain\": [0.0, 1.0], \"title\": {\"text\": \"tag\"}}},                        {\"responsive\": true}                    ).then(function(){\n",
       "                            \n",
       "var gd = document.getElementById('3b9d2fe3-3a94-4772-90a3-8fd18c3d2c5e');\n",
       "var x = new MutationObserver(function (mutations, observer) {{\n",
       "        var display = window.getComputedStyle(gd).display;\n",
       "        if (!display || display === 'none') {{\n",
       "            console.log([gd, 'removed!']);\n",
       "            Plotly.purge(gd);\n",
       "            observer.disconnect();\n",
       "        }}\n",
       "}});\n",
       "\n",
       "// Listen for the removal of the full notebook cells\n",
       "var notebookContainer = gd.closest('#notebook-container');\n",
       "if (notebookContainer) {{\n",
       "    x.observe(notebookContainer, {childList: true});\n",
       "}}\n",
       "\n",
       "// Listen for the clearing of the current output cell\n",
       "var outputEl = gd.closest('.output');\n",
       "if (outputEl) {{\n",
       "    x.observe(outputEl, {childList: true});\n",
       "}}\n",
       "\n",
       "                        })                };                });            </script>        </div>"
      ]
     },
     "metadata": {},
     "output_type": "display_data"
    }
   ],
   "source": [
    "\n",
    "\n",
    "check = questions['tags'].str.split(' ').explode('tags').reset_index()\n",
    "check = check['tags'].value_counts().reset_index()\n",
    "\n",
    "check.columns = [\n",
    "    'tag', \n",
    "    'count'\n",
    "]\n",
    "\n",
    "check['tag'] = check['tag'].astype(str) + '-'\n",
    "check = check.sort_values(['count']).tail(40)\n",
    "\n",
    "fig = px.bar(\n",
    "    check, \n",
    "    x='count', \n",
    "    y='tag', \n",
    "    orientation='h', \n",
    "     title='Top 40 most useful tags', \n",
    "    width=WIDTH,\n",
    "    height=900 \n",
    ")\n",
    "\n",
    "fig.show()"
   ]
  },
  {
   "cell_type": "markdown",
   "metadata": {
    "papermill": {
     "duration": 0.074497,
     "end_time": "2020-12-23T09:26:46.775102",
     "exception": false,
     "start_time": "2020-12-23T09:26:46.700605",
     "status": "completed"
    },
    "tags": []
   },
   "source": [
    "\n",
    "LECTURES.CSV"
   ]
  },
  {
   "cell_type": "markdown",
   "metadata": {
    "papermill": {
     "duration": 0.075836,
     "end_time": "2020-12-23T09:26:46.926642",
     "exception": false,
     "start_time": "2020-12-23T09:26:46.850806",
     "status": "completed"
    },
    "tags": []
   },
   "source": [
    "Metadata for the lectures watched by users as they progress in their education.\n",
    "\n",
    "**lecture_id**: foreign key for the train/test content_id column, when the content type is lecture (1).\n",
    "\n",
    "**part**: top level category code for the lecture.\n",
    "\n",
    "**tag**: one tag codes for the lecture. The meaning of the tags will not be provided, but these codes are sufficient for clustering the lectures together.\n",
    "\n",
    "**type_of**: brief description of the core purpose of the lecture"
   ]
  },
  {
   "cell_type": "code",
   "execution_count": 33,
   "metadata": {
    "execution": {
     "iopub.execute_input": "2020-12-23T09:26:47.088585Z",
     "iopub.status.busy": "2020-12-23T09:26:47.085302Z",
     "iopub.status.idle": "2020-12-23T09:26:47.093610Z",
     "shell.execute_reply": "2020-12-23T09:26:47.092830Z"
    },
    "papermill": {
     "duration": 0.091068,
     "end_time": "2020-12-23T09:26:47.093746",
     "exception": false,
     "start_time": "2020-12-23T09:26:47.002678",
     "status": "completed"
    },
    "tags": []
   },
   "outputs": [
    {
     "data": {
      "text/html": [
       "<div>\n",
       "<style scoped>\n",
       "    .dataframe tbody tr th:only-of-type {\n",
       "        vertical-align: middle;\n",
       "    }\n",
       "\n",
       "    .dataframe tbody tr th {\n",
       "        vertical-align: top;\n",
       "    }\n",
       "\n",
       "    .dataframe thead th {\n",
       "        text-align: right;\n",
       "    }\n",
       "</style>\n",
       "<table border=\"1\" class=\"dataframe\">\n",
       "  <thead>\n",
       "    <tr style=\"text-align: right;\">\n",
       "      <th></th>\n",
       "      <th>lecture_id</th>\n",
       "      <th>tag</th>\n",
       "      <th>part</th>\n",
       "      <th>type_of</th>\n",
       "    </tr>\n",
       "  </thead>\n",
       "  <tbody>\n",
       "    <tr>\n",
       "      <th>0</th>\n",
       "      <td>89</td>\n",
       "      <td>159</td>\n",
       "      <td>5</td>\n",
       "      <td>concept</td>\n",
       "    </tr>\n",
       "    <tr>\n",
       "      <th>1</th>\n",
       "      <td>100</td>\n",
       "      <td>70</td>\n",
       "      <td>1</td>\n",
       "      <td>concept</td>\n",
       "    </tr>\n",
       "    <tr>\n",
       "      <th>2</th>\n",
       "      <td>185</td>\n",
       "      <td>45</td>\n",
       "      <td>6</td>\n",
       "      <td>concept</td>\n",
       "    </tr>\n",
       "    <tr>\n",
       "      <th>3</th>\n",
       "      <td>192</td>\n",
       "      <td>79</td>\n",
       "      <td>5</td>\n",
       "      <td>solving question</td>\n",
       "    </tr>\n",
       "    <tr>\n",
       "      <th>4</th>\n",
       "      <td>317</td>\n",
       "      <td>156</td>\n",
       "      <td>5</td>\n",
       "      <td>solving question</td>\n",
       "    </tr>\n",
       "    <tr>\n",
       "      <th>5</th>\n",
       "      <td>335</td>\n",
       "      <td>114</td>\n",
       "      <td>2</td>\n",
       "      <td>concept</td>\n",
       "    </tr>\n",
       "    <tr>\n",
       "      <th>6</th>\n",
       "      <td>484</td>\n",
       "      <td>179</td>\n",
       "      <td>5</td>\n",
       "      <td>concept</td>\n",
       "    </tr>\n",
       "    <tr>\n",
       "      <th>7</th>\n",
       "      <td>641</td>\n",
       "      <td>134</td>\n",
       "      <td>6</td>\n",
       "      <td>solving question</td>\n",
       "    </tr>\n",
       "    <tr>\n",
       "      <th>8</th>\n",
       "      <td>761</td>\n",
       "      <td>93</td>\n",
       "      <td>1</td>\n",
       "      <td>concept</td>\n",
       "    </tr>\n",
       "    <tr>\n",
       "      <th>9</th>\n",
       "      <td>814</td>\n",
       "      <td>80</td>\n",
       "      <td>5</td>\n",
       "      <td>solving question</td>\n",
       "    </tr>\n",
       "  </tbody>\n",
       "</table>\n",
       "</div>"
      ],
      "text/plain": [
       "   lecture_id  tag  part           type_of\n",
       "0          89  159     5           concept\n",
       "1         100   70     1           concept\n",
       "2         185   45     6           concept\n",
       "3         192   79     5  solving question\n",
       "4         317  156     5  solving question\n",
       "5         335  114     2           concept\n",
       "6         484  179     5           concept\n",
       "7         641  134     6  solving question\n",
       "8         761   93     1           concept\n",
       "9         814   80     5  solving question"
      ]
     },
     "execution_count": 33,
     "metadata": {},
     "output_type": "execute_result"
    }
   ],
   "source": [
    "lectures.head(10)"
   ]
  },
  {
   "cell_type": "code",
   "execution_count": 34,
   "metadata": {
    "execution": {
     "iopub.execute_input": "2020-12-23T09:26:47.331231Z",
     "iopub.status.busy": "2020-12-23T09:26:47.330426Z",
     "iopub.status.idle": "2020-12-23T09:26:47.335608Z",
     "shell.execute_reply": "2020-12-23T09:26:47.336302Z"
    },
    "papermill": {
     "duration": 0.128598,
     "end_time": "2020-12-23T09:26:47.336482",
     "exception": false,
     "start_time": "2020-12-23T09:26:47.207884",
     "status": "completed"
    },
    "tags": []
   },
   "outputs": [
    {
     "name": "stdout",
     "output_type": "stream",
     "text": [
      "Part of missing values for every column\n",
      "lecture_id    0.0\n",
      "tag           0.0\n",
      "part          0.0\n",
      "type_of       0.0\n",
      "dtype: float64\n"
     ]
    }
   ],
   "source": [
    "print('Part of missing values for every column')\n",
    "print(lectures.isnull().sum() / len(lectures))"
   ]
  },
  {
   "cell_type": "code",
   "execution_count": 35,
   "metadata": {
    "execution": {
     "iopub.execute_input": "2020-12-23T09:26:47.500923Z",
     "iopub.status.busy": "2020-12-23T09:26:47.500318Z",
     "iopub.status.idle": "2020-12-23T09:26:47.506653Z",
     "shell.execute_reply": "2020-12-23T09:26:47.506020Z"
    },
    "papermill": {
     "duration": 0.091566,
     "end_time": "2020-12-23T09:26:47.506753",
     "exception": false,
     "start_time": "2020-12-23T09:26:47.415187",
     "status": "completed"
    },
    "tags": []
   },
   "outputs": [
    {
     "data": {
      "text/plain": [
       "concept             222\n",
       "solving question    186\n",
       "intention             7\n",
       "starter               3\n",
       "Name: type_of, dtype: int64"
      ]
     },
     "execution_count": 35,
     "metadata": {},
     "output_type": "execute_result"
    }
   ],
   "source": [
    "lectures['type_of'].value_counts()"
   ]
  },
  {
   "cell_type": "markdown",
   "metadata": {
    "papermill": {
     "duration": 0.078515,
     "end_time": "2020-12-23T09:26:47.663985",
     "exception": false,
     "start_time": "2020-12-23T09:26:47.585470",
     "status": "completed"
    },
    "tags": []
   },
   "source": [
    "**Test.csv**"
   ]
  },
  {
   "cell_type": "code",
   "execution_count": 36,
   "metadata": {
    "execution": {
     "iopub.execute_input": "2020-12-23T09:26:47.836238Z",
     "iopub.status.busy": "2020-12-23T09:26:47.835596Z",
     "iopub.status.idle": "2020-12-23T09:26:47.840510Z",
     "shell.execute_reply": "2020-12-23T09:26:47.839905Z"
    },
    "papermill": {
     "duration": 0.096987,
     "end_time": "2020-12-23T09:26:47.840610",
     "exception": false,
     "start_time": "2020-12-23T09:26:47.743623",
     "status": "completed"
    },
    "tags": []
   },
   "outputs": [
    {
     "data": {
      "text/html": [
       "<div>\n",
       "<style scoped>\n",
       "    .dataframe tbody tr th:only-of-type {\n",
       "        vertical-align: middle;\n",
       "    }\n",
       "\n",
       "    .dataframe tbody tr th {\n",
       "        vertical-align: top;\n",
       "    }\n",
       "\n",
       "    .dataframe thead th {\n",
       "        text-align: right;\n",
       "    }\n",
       "</style>\n",
       "<table border=\"1\" class=\"dataframe\">\n",
       "  <thead>\n",
       "    <tr style=\"text-align: right;\">\n",
       "      <th></th>\n",
       "      <th>row_id</th>\n",
       "      <th>group_num</th>\n",
       "      <th>timestamp</th>\n",
       "      <th>user_id</th>\n",
       "      <th>content_id</th>\n",
       "      <th>content_type_id</th>\n",
       "      <th>task_container_id</th>\n",
       "      <th>prior_question_elapsed_time</th>\n",
       "      <th>prior_question_had_explanation</th>\n",
       "      <th>prior_group_answers_correct</th>\n",
       "      <th>prior_group_responses</th>\n",
       "    </tr>\n",
       "  </thead>\n",
       "  <tbody>\n",
       "    <tr>\n",
       "      <th>0</th>\n",
       "      <td>0</td>\n",
       "      <td>0</td>\n",
       "      <td>0</td>\n",
       "      <td>275030867</td>\n",
       "      <td>5729</td>\n",
       "      <td>0</td>\n",
       "      <td>0</td>\n",
       "      <td>NaN</td>\n",
       "      <td>NaN</td>\n",
       "      <td>[]</td>\n",
       "      <td>[]</td>\n",
       "    </tr>\n",
       "    <tr>\n",
       "      <th>1</th>\n",
       "      <td>1</td>\n",
       "      <td>0</td>\n",
       "      <td>13309898705</td>\n",
       "      <td>554169193</td>\n",
       "      <td>12010</td>\n",
       "      <td>0</td>\n",
       "      <td>4427</td>\n",
       "      <td>19000.0</td>\n",
       "      <td>True</td>\n",
       "      <td>NaN</td>\n",
       "      <td>NaN</td>\n",
       "    </tr>\n",
       "    <tr>\n",
       "      <th>2</th>\n",
       "      <td>2</td>\n",
       "      <td>0</td>\n",
       "      <td>4213672059</td>\n",
       "      <td>1720860329</td>\n",
       "      <td>457</td>\n",
       "      <td>0</td>\n",
       "      <td>240</td>\n",
       "      <td>17000.0</td>\n",
       "      <td>True</td>\n",
       "      <td>NaN</td>\n",
       "      <td>NaN</td>\n",
       "    </tr>\n",
       "    <tr>\n",
       "      <th>3</th>\n",
       "      <td>3</td>\n",
       "      <td>0</td>\n",
       "      <td>62798072960</td>\n",
       "      <td>288641214</td>\n",
       "      <td>13262</td>\n",
       "      <td>0</td>\n",
       "      <td>266</td>\n",
       "      <td>23000.0</td>\n",
       "      <td>True</td>\n",
       "      <td>NaN</td>\n",
       "      <td>NaN</td>\n",
       "    </tr>\n",
       "    <tr>\n",
       "      <th>4</th>\n",
       "      <td>4</td>\n",
       "      <td>0</td>\n",
       "      <td>10585422061</td>\n",
       "      <td>1728340777</td>\n",
       "      <td>6119</td>\n",
       "      <td>0</td>\n",
       "      <td>162</td>\n",
       "      <td>72400.0</td>\n",
       "      <td>True</td>\n",
       "      <td>NaN</td>\n",
       "      <td>NaN</td>\n",
       "    </tr>\n",
       "  </tbody>\n",
       "</table>\n",
       "</div>"
      ],
      "text/plain": [
       "   row_id  group_num    timestamp     user_id  content_id  content_type_id  \\\n",
       "0       0          0            0   275030867        5729                0   \n",
       "1       1          0  13309898705   554169193       12010                0   \n",
       "2       2          0   4213672059  1720860329         457                0   \n",
       "3       3          0  62798072960   288641214       13262                0   \n",
       "4       4          0  10585422061  1728340777        6119                0   \n",
       "\n",
       "   task_container_id  prior_question_elapsed_time  \\\n",
       "0                  0                          NaN   \n",
       "1               4427                      19000.0   \n",
       "2                240                      17000.0   \n",
       "3                266                      23000.0   \n",
       "4                162                      72400.0   \n",
       "\n",
       "  prior_question_had_explanation prior_group_answers_correct  \\\n",
       "0                            NaN                          []   \n",
       "1                           True                         NaN   \n",
       "2                           True                         NaN   \n",
       "3                           True                         NaN   \n",
       "4                           True                         NaN   \n",
       "\n",
       "  prior_group_responses  \n",
       "0                    []  \n",
       "1                   NaN  \n",
       "2                   NaN  \n",
       "3                   NaN  \n",
       "4                   NaN  "
      ]
     },
     "execution_count": 36,
     "metadata": {},
     "output_type": "execute_result"
    }
   ],
   "source": [
    "test.head()"
   ]
  },
  {
   "cell_type": "code",
   "execution_count": null,
   "metadata": {
    "papermill": {
     "duration": 0.078048,
     "end_time": "2020-12-23T09:26:47.996788",
     "exception": false,
     "start_time": "2020-12-23T09:26:47.918740",
     "status": "completed"
    },
    "tags": []
   },
   "outputs": [],
   "source": []
  },
  {
   "cell_type": "code",
   "execution_count": null,
   "metadata": {
    "papermill": {
     "duration": 0.078999,
     "end_time": "2020-12-23T09:26:48.155003",
     "exception": false,
     "start_time": "2020-12-23T09:26:48.076004",
     "status": "completed"
    },
    "tags": []
   },
   "outputs": [],
   "source": []
  },
  {
   "cell_type": "markdown",
   "metadata": {
    "papermill": {
     "duration": 0.080436,
     "end_time": "2020-12-23T09:26:48.313286",
     "exception": false,
     "start_time": "2020-12-23T09:26:48.232850",
     "status": "completed"
    },
    "tags": []
   },
   "source": [
    "# FEATURE ENGINEERING"
   ]
  },
  {
   "cell_type": "code",
   "execution_count": 37,
   "metadata": {
    "execution": {
     "iopub.execute_input": "2020-12-23T09:26:48.484510Z",
     "iopub.status.busy": "2020-12-23T09:26:48.483849Z",
     "iopub.status.idle": "2020-12-23T09:26:48.496335Z",
     "shell.execute_reply": "2020-12-23T09:26:48.495717Z"
    },
    "papermill": {
     "duration": 0.103009,
     "end_time": "2020-12-23T09:26:48.496445",
     "exception": false,
     "start_time": "2020-12-23T09:26:48.393436",
     "status": "completed"
    },
    "tags": []
   },
   "outputs": [
    {
     "data": {
      "text/html": [
       "<div>\n",
       "<style scoped>\n",
       "    .dataframe tbody tr th:only-of-type {\n",
       "        vertical-align: middle;\n",
       "    }\n",
       "\n",
       "    .dataframe tbody tr th {\n",
       "        vertical-align: top;\n",
       "    }\n",
       "\n",
       "    .dataframe thead th {\n",
       "        text-align: right;\n",
       "    }\n",
       "</style>\n",
       "<table border=\"1\" class=\"dataframe\">\n",
       "  <thead>\n",
       "    <tr style=\"text-align: right;\">\n",
       "      <th></th>\n",
       "      <th>row_id</th>\n",
       "      <th>timestamp</th>\n",
       "      <th>user_id</th>\n",
       "      <th>content_id</th>\n",
       "      <th>content_type_id</th>\n",
       "      <th>task_container_id</th>\n",
       "      <th>user_answer</th>\n",
       "      <th>answered_correctly</th>\n",
       "      <th>prior_question_elapsed_time</th>\n",
       "      <th>prior_question_had_explanation</th>\n",
       "      <th>freq_task_id</th>\n",
       "    </tr>\n",
       "  </thead>\n",
       "  <tbody>\n",
       "    <tr>\n",
       "      <th>0</th>\n",
       "      <td>0</td>\n",
       "      <td>0</td>\n",
       "      <td>115</td>\n",
       "      <td>5692</td>\n",
       "      <td>0</td>\n",
       "      <td>1</td>\n",
       "      <td>3</td>\n",
       "      <td>1</td>\n",
       "      <td>NaN</td>\n",
       "      <td>&lt;NA&gt;</td>\n",
       "      <td>very rare answered</td>\n",
       "    </tr>\n",
       "    <tr>\n",
       "      <th>1</th>\n",
       "      <td>1</td>\n",
       "      <td>56943</td>\n",
       "      <td>115</td>\n",
       "      <td>5716</td>\n",
       "      <td>0</td>\n",
       "      <td>2</td>\n",
       "      <td>2</td>\n",
       "      <td>1</td>\n",
       "      <td>37000.0</td>\n",
       "      <td>False</td>\n",
       "      <td>very rare answered</td>\n",
       "    </tr>\n",
       "    <tr>\n",
       "      <th>2</th>\n",
       "      <td>2</td>\n",
       "      <td>118363</td>\n",
       "      <td>115</td>\n",
       "      <td>128</td>\n",
       "      <td>0</td>\n",
       "      <td>0</td>\n",
       "      <td>0</td>\n",
       "      <td>1</td>\n",
       "      <td>55000.0</td>\n",
       "      <td>False</td>\n",
       "      <td>very rare answered</td>\n",
       "    </tr>\n",
       "    <tr>\n",
       "      <th>3</th>\n",
       "      <td>3</td>\n",
       "      <td>131167</td>\n",
       "      <td>115</td>\n",
       "      <td>7860</td>\n",
       "      <td>0</td>\n",
       "      <td>3</td>\n",
       "      <td>0</td>\n",
       "      <td>1</td>\n",
       "      <td>19000.0</td>\n",
       "      <td>False</td>\n",
       "      <td>very rare answered</td>\n",
       "    </tr>\n",
       "    <tr>\n",
       "      <th>4</th>\n",
       "      <td>4</td>\n",
       "      <td>137965</td>\n",
       "      <td>115</td>\n",
       "      <td>7922</td>\n",
       "      <td>0</td>\n",
       "      <td>4</td>\n",
       "      <td>1</td>\n",
       "      <td>1</td>\n",
       "      <td>11000.0</td>\n",
       "      <td>False</td>\n",
       "      <td>very rare answered</td>\n",
       "    </tr>\n",
       "  </tbody>\n",
       "</table>\n",
       "</div>"
      ],
      "text/plain": [
       "   row_id  timestamp  user_id  content_id  content_type_id  task_container_id  \\\n",
       "0       0          0      115        5692                0                  1   \n",
       "1       1      56943      115        5716                0                  2   \n",
       "2       2     118363      115         128                0                  0   \n",
       "3       3     131167      115        7860                0                  3   \n",
       "4       4     137965      115        7922                0                  4   \n",
       "\n",
       "   user_answer  answered_correctly  prior_question_elapsed_time  \\\n",
       "0            3                   1                          NaN   \n",
       "1            2                   1                      37000.0   \n",
       "2            0                   1                      55000.0   \n",
       "3            0                   1                      19000.0   \n",
       "4            1                   1                      11000.0   \n",
       "\n",
       "   prior_question_had_explanation        freq_task_id  \n",
       "0                            <NA>  very rare answered  \n",
       "1                           False  very rare answered  \n",
       "2                           False  very rare answered  \n",
       "3                           False  very rare answered  \n",
       "4                           False  very rare answered  "
      ]
     },
     "execution_count": 37,
     "metadata": {},
     "output_type": "execute_result"
    }
   ],
   "source": [
    "train.head()"
   ]
  },
  {
   "cell_type": "code",
   "execution_count": 38,
   "metadata": {
    "execution": {
     "iopub.execute_input": "2020-12-23T09:26:48.668032Z",
     "iopub.status.busy": "2020-12-23T09:26:48.667373Z",
     "iopub.status.idle": "2020-12-23T09:26:48.669938Z",
     "shell.execute_reply": "2020-12-23T09:26:48.670503Z"
    },
    "papermill": {
     "duration": 0.090527,
     "end_time": "2020-12-23T09:26:48.670638",
     "exception": false,
     "start_time": "2020-12-23T09:26:48.580111",
     "status": "completed"
    },
    "tags": []
   },
   "outputs": [],
   "source": [
    "features_df = train.iloc[:int(9/10 * len(train))]\n",
    "train = train.iloc[int(9/10 * len(train)):]"
   ]
  },
  {
   "cell_type": "code",
   "execution_count": 39,
   "metadata": {
    "execution": {
     "iopub.execute_input": "2020-12-23T09:26:48.851369Z",
     "iopub.status.busy": "2020-12-23T09:26:48.850649Z",
     "iopub.status.idle": "2020-12-23T09:26:49.735526Z",
     "shell.execute_reply": "2020-12-23T09:26:49.736114Z"
    },
    "papermill": {
     "duration": 0.978077,
     "end_time": "2020-12-23T09:26:49.736280",
     "exception": false,
     "start_time": "2020-12-23T09:26:48.758203",
     "status": "completed"
    },
    "tags": []
   },
   "outputs": [],
   "source": [
    "train_questions_only_df = features_df[features_df['answered_correctly']!=-1]\n",
    "grouped_by_user_df = train_questions_only_df.groupby('user_id')\n",
    "\n",
    "user_answers_df = grouped_by_user_df.agg(\n",
    "    {\n",
    "        'answered_correctly': [\n",
    "            'mean', \n",
    "            'count', \n",
    "            'std', \n",
    "            'median', \n",
    "            'skew'\n",
    "        ]\n",
    "    }\n",
    ").copy()\n",
    "\n",
    "user_answers_df.columns = [\n",
    "    'mean_user_accuracy',\n",
    "    'questions_answered',\n",
    "    'std_user_accuracy', \n",
    "    'median_user_accuracy', \n",
    "    'skew_user_accuracy'\n",
    "]"
   ]
  },
  {
   "cell_type": "code",
   "execution_count": null,
   "metadata": {
    "papermill": {
     "duration": 0.087051,
     "end_time": "2020-12-23T09:26:49.907458",
     "exception": false,
     "start_time": "2020-12-23T09:26:49.820407",
     "status": "completed"
    },
    "tags": []
   },
   "outputs": [],
   "source": []
  },
  {
   "cell_type": "code",
   "execution_count": 40,
   "metadata": {
    "execution": {
     "iopub.execute_input": "2020-12-23T09:26:50.083190Z",
     "iopub.status.busy": "2020-12-23T09:26:50.082187Z",
     "iopub.status.idle": "2020-12-23T09:26:52.830982Z",
     "shell.execute_reply": "2020-12-23T09:26:52.830451Z"
    },
    "papermill": {
     "duration": 2.839468,
     "end_time": "2020-12-23T09:26:52.831097",
     "exception": false,
     "start_time": "2020-12-23T09:26:49.991629",
     "status": "completed"
    },
    "tags": []
   },
   "outputs": [
    {
     "data": {
      "text/html": [
       "<div>\n",
       "<style scoped>\n",
       "    .dataframe tbody tr th:only-of-type {\n",
       "        vertical-align: middle;\n",
       "    }\n",
       "\n",
       "    .dataframe tbody tr th {\n",
       "        vertical-align: top;\n",
       "    }\n",
       "\n",
       "    .dataframe thead th {\n",
       "        text-align: right;\n",
       "    }\n",
       "</style>\n",
       "<table border=\"1\" class=\"dataframe\">\n",
       "  <thead>\n",
       "    <tr style=\"text-align: right;\">\n",
       "      <th></th>\n",
       "      <th>mean_accuracy</th>\n",
       "      <th>question_asked</th>\n",
       "      <th>std_accuracy</th>\n",
       "      <th>median_accuracy</th>\n",
       "      <th>skew_accuracy</th>\n",
       "    </tr>\n",
       "    <tr>\n",
       "      <th>content_id</th>\n",
       "      <th></th>\n",
       "      <th></th>\n",
       "      <th></th>\n",
       "      <th></th>\n",
       "      <th></th>\n",
       "    </tr>\n",
       "  </thead>\n",
       "  <tbody>\n",
       "    <tr>\n",
       "      <th>0</th>\n",
       "      <td>0.857143</td>\n",
       "      <td>70</td>\n",
       "      <td>0.352454</td>\n",
       "      <td>1.0</td>\n",
       "      <td>-2.086215</td>\n",
       "    </tr>\n",
       "    <tr>\n",
       "      <th>1</th>\n",
       "      <td>0.918367</td>\n",
       "      <td>49</td>\n",
       "      <td>0.276642</td>\n",
       "      <td>1.0</td>\n",
       "      <td>-3.153323</td>\n",
       "    </tr>\n",
       "    <tr>\n",
       "      <th>2</th>\n",
       "      <td>0.555276</td>\n",
       "      <td>398</td>\n",
       "      <td>0.497561</td>\n",
       "      <td>1.0</td>\n",
       "      <td>-0.223312</td>\n",
       "    </tr>\n",
       "    <tr>\n",
       "      <th>3</th>\n",
       "      <td>0.784091</td>\n",
       "      <td>176</td>\n",
       "      <td>0.412625</td>\n",
       "      <td>1.0</td>\n",
       "      <td>-1.392819</td>\n",
       "    </tr>\n",
       "    <tr>\n",
       "      <th>4</th>\n",
       "      <td>0.600760</td>\n",
       "      <td>263</td>\n",
       "      <td>0.490676</td>\n",
       "      <td>1.0</td>\n",
       "      <td>-0.413848</td>\n",
       "    </tr>\n",
       "    <tr>\n",
       "      <th>...</th>\n",
       "      <td>...</td>\n",
       "      <td>...</td>\n",
       "      <td>...</td>\n",
       "      <td>...</td>\n",
       "      <td>...</td>\n",
       "    </tr>\n",
       "    <tr>\n",
       "      <th>13518</th>\n",
       "      <td>0.714286</td>\n",
       "      <td>7</td>\n",
       "      <td>0.487950</td>\n",
       "      <td>1.0</td>\n",
       "      <td>-1.229634</td>\n",
       "    </tr>\n",
       "    <tr>\n",
       "      <th>13519</th>\n",
       "      <td>0.500000</td>\n",
       "      <td>8</td>\n",
       "      <td>0.534522</td>\n",
       "      <td>0.5</td>\n",
       "      <td>0.000000</td>\n",
       "    </tr>\n",
       "    <tr>\n",
       "      <th>13520</th>\n",
       "      <td>0.700000</td>\n",
       "      <td>10</td>\n",
       "      <td>0.483046</td>\n",
       "      <td>1.0</td>\n",
       "      <td>-1.035098</td>\n",
       "    </tr>\n",
       "    <tr>\n",
       "      <th>13521</th>\n",
       "      <td>0.833333</td>\n",
       "      <td>6</td>\n",
       "      <td>0.408248</td>\n",
       "      <td>1.0</td>\n",
       "      <td>-2.449490</td>\n",
       "    </tr>\n",
       "    <tr>\n",
       "      <th>13522</th>\n",
       "      <td>0.714286</td>\n",
       "      <td>7</td>\n",
       "      <td>0.487950</td>\n",
       "      <td>1.0</td>\n",
       "      <td>-1.229634</td>\n",
       "    </tr>\n",
       "  </tbody>\n",
       "</table>\n",
       "<p>12986 rows × 5 columns</p>\n",
       "</div>"
      ],
      "text/plain": [
       "            mean_accuracy  question_asked  std_accuracy  median_accuracy  \\\n",
       "content_id                                                                 \n",
       "0                0.857143              70      0.352454              1.0   \n",
       "1                0.918367              49      0.276642              1.0   \n",
       "2                0.555276             398      0.497561              1.0   \n",
       "3                0.784091             176      0.412625              1.0   \n",
       "4                0.600760             263      0.490676              1.0   \n",
       "...                   ...             ...           ...              ...   \n",
       "13518            0.714286               7      0.487950              1.0   \n",
       "13519            0.500000               8      0.534522              0.5   \n",
       "13520            0.700000              10      0.483046              1.0   \n",
       "13521            0.833333               6      0.408248              1.0   \n",
       "13522            0.714286               7      0.487950              1.0   \n",
       "\n",
       "            skew_accuracy  \n",
       "content_id                 \n",
       "0               -2.086215  \n",
       "1               -3.153323  \n",
       "2               -0.223312  \n",
       "3               -1.392819  \n",
       "4               -0.413848  \n",
       "...                   ...  \n",
       "13518           -1.229634  \n",
       "13519            0.000000  \n",
       "13520           -1.035098  \n",
       "13521           -2.449490  \n",
       "13522           -1.229634  \n",
       "\n",
       "[12986 rows x 5 columns]"
      ]
     },
     "execution_count": 40,
     "metadata": {},
     "output_type": "execute_result"
    }
   ],
   "source": [
    "grouped_by_content_df = train_questions_only_df.groupby('content_id')\n",
    "content_answers_df = grouped_by_content_df.agg(\n",
    "    {\n",
    "        'answered_correctly': [\n",
    "            'mean', \n",
    "            'count', \n",
    "            'std', \n",
    "            'median', \n",
    "            'skew'\n",
    "        ]\n",
    "    }\n",
    ").copy()\n",
    "\n",
    "content_answers_df.columns = [\n",
    "    'mean_accuracy', \n",
    "    'question_asked', \n",
    "    'std_accuracy', \n",
    "    'median_accuracy', \n",
    "    'skew_accuracy'\n",
    "]\n",
    "content_answers_df"
   ]
  },
  {
   "cell_type": "code",
   "execution_count": 41,
   "metadata": {
    "execution": {
     "iopub.execute_input": "2020-12-23T09:26:53.001584Z",
     "iopub.status.busy": "2020-12-23T09:26:53.000942Z",
     "iopub.status.idle": "2020-12-23T09:26:53.004821Z",
     "shell.execute_reply": "2020-12-23T09:26:53.004242Z"
    },
    "papermill": {
     "duration": 0.091834,
     "end_time": "2020-12-23T09:26:53.004934",
     "exception": false,
     "start_time": "2020-12-23T09:26:52.913100",
     "status": "completed"
    },
    "tags": []
   },
   "outputs": [],
   "source": [
    "del features_df\n",
    "del grouped_by_user_df\n",
    "del grouped_by_content_df"
   ]
  },
  {
   "cell_type": "code",
   "execution_count": 42,
   "metadata": {
    "execution": {
     "iopub.execute_input": "2020-12-23T09:26:53.172639Z",
     "iopub.status.busy": "2020-12-23T09:26:53.171959Z",
     "iopub.status.idle": "2020-12-23T09:26:53.176314Z",
     "shell.execute_reply": "2020-12-23T09:26:53.176816Z"
    },
    "papermill": {
     "duration": 0.089907,
     "end_time": "2020-12-23T09:26:53.176970",
     "exception": false,
     "start_time": "2020-12-23T09:26:53.087063",
     "status": "completed"
    },
    "tags": []
   },
   "outputs": [],
   "source": [
    "features = [\n",
    "    'mean_user_accuracy', \n",
    "    'questions_answered',\n",
    "    'std_user_accuracy', \n",
    "    'median_user_accuracy',\n",
    "    'skew_user_accuracy',\n",
    "    'mean_accuracy', \n",
    "    'question_asked',\n",
    "    'std_accuracy', \n",
    "    'median_accuracy',\n",
    "    'prior_question_elapsed_time', \n",
    "    'prior_question_had_explanation',\n",
    "    'skew_accuracy'\n",
    "]\n",
    "\n",
    "target = 'answered_correctly'"
   ]
  },
  {
   "cell_type": "code",
   "execution_count": 43,
   "metadata": {
    "execution": {
     "iopub.execute_input": "2020-12-23T09:26:53.342789Z",
     "iopub.status.busy": "2020-12-23T09:26:53.342112Z",
     "iopub.status.idle": "2020-12-23T09:26:53.349328Z",
     "shell.execute_reply": "2020-12-23T09:26:53.348749Z"
    },
    "papermill": {
     "duration": 0.091509,
     "end_time": "2020-12-23T09:26:53.349447",
     "exception": false,
     "start_time": "2020-12-23T09:26:53.257938",
     "status": "completed"
    },
    "tags": []
   },
   "outputs": [
    {
     "data": {
      "text/plain": [
       "'answered_correctly'"
      ]
     },
     "execution_count": 43,
     "metadata": {},
     "output_type": "execute_result"
    }
   ],
   "source": [
    "target"
   ]
  },
  {
   "cell_type": "code",
   "execution_count": 44,
   "metadata": {
    "execution": {
     "iopub.execute_input": "2020-12-23T09:26:53.515995Z",
     "iopub.status.busy": "2020-12-23T09:26:53.515052Z",
     "iopub.status.idle": "2020-12-23T09:26:53.526276Z",
     "shell.execute_reply": "2020-12-23T09:26:53.526780Z"
    },
    "papermill": {
     "duration": 0.095873,
     "end_time": "2020-12-23T09:26:53.526928",
     "exception": false,
     "start_time": "2020-12-23T09:26:53.431055",
     "status": "completed"
    },
    "tags": []
   },
   "outputs": [],
   "source": [
    "train = train[train[target] != -1]"
   ]
  },
  {
   "cell_type": "code",
   "execution_count": 45,
   "metadata": {
    "execution": {
     "iopub.execute_input": "2020-12-23T09:26:53.696440Z",
     "iopub.status.busy": "2020-12-23T09:26:53.695466Z",
     "iopub.status.idle": "2020-12-23T09:26:53.743501Z",
     "shell.execute_reply": "2020-12-23T09:26:53.744008Z"
    },
    "papermill": {
     "duration": 0.135773,
     "end_time": "2020-12-23T09:26:53.744191",
     "exception": false,
     "start_time": "2020-12-23T09:26:53.608418",
     "status": "completed"
    },
    "tags": []
   },
   "outputs": [],
   "source": [
    "train = train.merge(user_answers_df, how='left', on='user_id')\n",
    "train = train.merge(content_answers_df, how='left', on='content_id')"
   ]
  },
  {
   "cell_type": "code",
   "execution_count": 46,
   "metadata": {
    "execution": {
     "iopub.execute_input": "2020-12-23T09:26:53.912643Z",
     "iopub.status.busy": "2020-12-23T09:26:53.911684Z",
     "iopub.status.idle": "2020-12-23T09:26:53.919022Z",
     "shell.execute_reply": "2020-12-23T09:26:53.917768Z"
    },
    "papermill": {
     "duration": 0.092386,
     "end_time": "2020-12-23T09:26:53.919207",
     "exception": false,
     "start_time": "2020-12-23T09:26:53.826821",
     "status": "completed"
    },
    "tags": []
   },
   "outputs": [
    {
     "data": {
      "text/plain": [
       "'answered_correctly'"
      ]
     },
     "execution_count": 46,
     "metadata": {},
     "output_type": "execute_result"
    }
   ],
   "source": [
    "target"
   ]
  },
  {
   "cell_type": "code",
   "execution_count": 47,
   "metadata": {
    "execution": {
     "iopub.execute_input": "2020-12-23T09:26:54.092372Z",
     "iopub.status.busy": "2020-12-23T09:26:54.091719Z",
     "iopub.status.idle": "2020-12-23T09:26:54.105287Z",
     "shell.execute_reply": "2020-12-23T09:26:54.105814Z"
    },
    "papermill": {
     "duration": 0.10321,
     "end_time": "2020-12-23T09:26:54.105942",
     "exception": false,
     "start_time": "2020-12-23T09:26:54.002732",
     "status": "completed"
    },
    "tags": []
   },
   "outputs": [],
   "source": [
    "\n",
    "train['prior_question_had_explanation'] = train['prior_question_had_explanation'].fillna(value=False).astype(bool)\n",
    "df = train.fillna(value=0.5)"
   ]
  },
  {
   "cell_type": "code",
   "execution_count": 48,
   "metadata": {
    "execution": {
     "iopub.execute_input": "2020-12-23T09:26:54.272878Z",
     "iopub.status.busy": "2020-12-23T09:26:54.272288Z",
     "iopub.status.idle": "2020-12-23T09:26:54.282671Z",
     "shell.execute_reply": "2020-12-23T09:26:54.283247Z"
    },
    "papermill": {
     "duration": 0.095855,
     "end_time": "2020-12-23T09:26:54.283386",
     "exception": false,
     "start_time": "2020-12-23T09:26:54.187531",
     "status": "completed"
    },
    "tags": []
   },
   "outputs": [],
   "source": [
    "col_to_drop = set(train.columns.values.tolist()).difference(features + [target])\n",
    "for col in col_to_drop:\n",
    "    del df[col]"
   ]
  },
  {
   "cell_type": "code",
   "execution_count": 49,
   "metadata": {
    "execution": {
     "iopub.execute_input": "2020-12-23T09:26:54.452924Z",
     "iopub.status.busy": "2020-12-23T09:26:54.452278Z",
     "iopub.status.idle": "2020-12-23T09:26:54.466709Z",
     "shell.execute_reply": "2020-12-23T09:26:54.466096Z"
    },
    "papermill": {
     "duration": 0.10203,
     "end_time": "2020-12-23T09:26:54.466823",
     "exception": false,
     "start_time": "2020-12-23T09:26:54.364793",
     "status": "completed"
    },
    "tags": []
   },
   "outputs": [],
   "source": [
    "df = df.replace([np.inf, -np.inf], np.nan)\n",
    "df = df.fillna(0.5)"
   ]
  },
  {
   "cell_type": "markdown",
   "metadata": {
    "papermill": {
     "duration": 0.084084,
     "end_time": "2020-12-23T09:26:54.633836",
     "exception": false,
     "start_time": "2020-12-23T09:26:54.549752",
     "status": "completed"
    },
    "tags": []
   },
   "source": [
    "# Modeling"
   ]
  },
  {
   "cell_type": "code",
   "execution_count": 50,
   "metadata": {
    "execution": {
     "iopub.execute_input": "2020-12-23T09:26:54.806783Z",
     "iopub.status.busy": "2020-12-23T09:26:54.803476Z",
     "iopub.status.idle": "2020-12-23T09:26:54.828797Z",
     "shell.execute_reply": "2020-12-23T09:26:54.828172Z"
    },
    "papermill": {
     "duration": 0.112146,
     "end_time": "2020-12-23T09:26:54.828924",
     "exception": false,
     "start_time": "2020-12-23T09:26:54.716778",
     "status": "completed"
    },
    "tags": []
   },
   "outputs": [],
   "source": [
    "train_df, test_df, y_train, y_test = train_test_split(df[features], df[target], random_state=777, test_size=0.2)"
   ]
  },
  {
   "cell_type": "markdown",
   "metadata": {
    "papermill": {
     "duration": 0.081,
     "end_time": "2020-12-23T09:26:54.992396",
     "exception": false,
     "start_time": "2020-12-23T09:26:54.911396",
     "status": "completed"
    },
    "tags": []
   },
   "source": [
    "# LGBM classifier"
   ]
  },
  {
   "cell_type": "code",
   "execution_count": 51,
   "metadata": {
    "execution": {
     "iopub.execute_input": "2020-12-23T09:26:55.155927Z",
     "iopub.status.busy": "2020-12-23T09:26:55.155033Z",
     "iopub.status.idle": "2020-12-23T09:26:55.159541Z",
     "shell.execute_reply": "2020-12-23T09:26:55.158827Z"
    },
    "papermill": {
     "duration": 0.085959,
     "end_time": "2020-12-23T09:26:55.159656",
     "exception": false,
     "start_time": "2020-12-23T09:26:55.073697",
     "status": "completed"
    },
    "tags": []
   },
   "outputs": [],
   "source": [
    "params = {\n",
    "    'num_leaves': 30, \n",
    "    'n_estimators': 300, \n",
    "    'min_data_in_leaf': 100, \n",
    "    'max_depth': 5, \n",
    "    'lambda': 0.0, \n",
    "    'feature_fraction': 1.0\n",
    "}\n"
   ]
  },
  {
   "cell_type": "code",
   "execution_count": 52,
   "metadata": {
    "execution": {
     "iopub.execute_input": "2020-12-23T09:26:55.331647Z",
     "iopub.status.busy": "2020-12-23T09:26:55.330994Z",
     "iopub.status.idle": "2020-12-23T09:26:56.991562Z",
     "shell.execute_reply": "2020-12-23T09:26:56.992230Z"
    },
    "papermill": {
     "duration": 1.750538,
     "end_time": "2020-12-23T09:26:56.992392",
     "exception": false,
     "start_time": "2020-12-23T09:26:55.241854",
     "status": "completed"
    },
    "tags": []
   },
   "outputs": [
    {
     "data": {
      "text/plain": [
       "LGBMClassifier(feature_fraction=1.0, lambda=0.0, max_depth=5,\n",
       "               min_data_in_leaf=100, n_estimators=300, num_leaves=30)"
      ]
     },
     "execution_count": 52,
     "metadata": {},
     "output_type": "execute_result"
    }
   ],
   "source": [
    "model = LGBMClassifier(**params)\n",
    "model.fit(train_df, y_train)"
   ]
  },
  {
   "cell_type": "code",
   "execution_count": 53,
   "metadata": {
    "execution": {
     "iopub.execute_input": "2020-12-23T09:26:57.204364Z",
     "iopub.status.busy": "2020-12-23T09:26:57.203667Z",
     "iopub.status.idle": "2020-12-23T09:26:57.385093Z",
     "shell.execute_reply": "2020-12-23T09:26:57.386301Z"
    },
    "papermill": {
     "duration": 0.288932,
     "end_time": "2020-12-23T09:26:57.386461",
     "exception": false,
     "start_time": "2020-12-23T09:26:57.097529",
     "status": "completed"
    },
    "tags": []
   },
   "outputs": [
    {
     "name": "stdout",
     "output_type": "stream",
     "text": [
      "LGB ROC-AUC score:  0.7124265003484616\n"
     ]
    }
   ],
   "source": [
    "print('LGB ROC-AUC score: ', roc_auc_score(y_test.values, model.predict_proba(test_df)[:, 1]))"
   ]
  },
  {
   "cell_type": "markdown",
   "metadata": {
    "papermill": {
     "duration": 0.097686,
     "end_time": "2020-12-23T09:26:57.593664",
     "exception": false,
     "start_time": "2020-12-23T09:26:57.495978",
     "status": "completed"
    },
    "tags": []
   },
   "source": [
    "# Random forest classifier"
   ]
  },
  {
   "cell_type": "code",
   "execution_count": 54,
   "metadata": {
    "execution": {
     "iopub.execute_input": "2020-12-23T09:26:57.772282Z",
     "iopub.status.busy": "2020-12-23T09:26:57.771318Z",
     "iopub.status.idle": "2020-12-23T09:27:18.706347Z",
     "shell.execute_reply": "2020-12-23T09:27:18.705465Z"
    },
    "papermill": {
     "duration": 21.028081,
     "end_time": "2020-12-23T09:27:18.706483",
     "exception": false,
     "start_time": "2020-12-23T09:26:57.678402",
     "status": "completed"
    },
    "tags": []
   },
   "outputs": [],
   "source": [
    "from sklearn.ensemble import RandomForestClassifier\n",
    "rfclf = RandomForestClassifier()\n",
    "rfclf.fit(train_df,y_train)\n",
    "pred = rfclf.predict(test_df)"
   ]
  },
  {
   "cell_type": "code",
   "execution_count": 55,
   "metadata": {
    "execution": {
     "iopub.execute_input": "2020-12-23T09:27:18.958825Z",
     "iopub.status.busy": "2020-12-23T09:27:18.958198Z",
     "iopub.status.idle": "2020-12-23T09:27:18.969171Z",
     "shell.execute_reply": "2020-12-23T09:27:18.968631Z"
    },
    "papermill": {
     "duration": 0.139615,
     "end_time": "2020-12-23T09:27:18.969351",
     "exception": false,
     "start_time": "2020-12-23T09:27:18.829736",
     "status": "completed"
    },
    "tags": []
   },
   "outputs": [
    {
     "name": "stdout",
     "output_type": "stream",
     "text": [
      "0.5863760967808772\n"
     ]
    }
   ],
   "source": [
    "from sklearn.metrics import roc_auc_score\n",
    "print(roc_auc_score(y_test,pred))"
   ]
  },
  {
   "cell_type": "markdown",
   "metadata": {
    "papermill": {
     "duration": 0.082933,
     "end_time": "2020-12-23T09:27:19.136345",
     "exception": false,
     "start_time": "2020-12-23T09:27:19.053412",
     "status": "completed"
    },
    "tags": []
   },
   "source": [
    "# Xgboost classifier"
   ]
  },
  {
   "cell_type": "code",
   "execution_count": 56,
   "metadata": {
    "execution": {
     "iopub.execute_input": "2020-12-23T09:27:19.311268Z",
     "iopub.status.busy": "2020-12-23T09:27:19.310589Z",
     "iopub.status.idle": "2020-12-23T09:27:23.667297Z",
     "shell.execute_reply": "2020-12-23T09:27:23.667882Z"
    },
    "papermill": {
     "duration": 4.448143,
     "end_time": "2020-12-23T09:27:23.668044",
     "exception": false,
     "start_time": "2020-12-23T09:27:19.219901",
     "status": "completed"
    },
    "tags": []
   },
   "outputs": [],
   "source": [
    "from xgboost import XGBClassifier\n",
    "xgbclf = XGBClassifier()\n",
    "xgbclf.fit(train_df,y_train)\n",
    "xgb_pred = xgbclf.predict(test_df)"
   ]
  },
  {
   "cell_type": "code",
   "execution_count": 57,
   "metadata": {
    "execution": {
     "iopub.execute_input": "2020-12-23T09:27:23.883362Z",
     "iopub.status.busy": "2020-12-23T09:27:23.882637Z",
     "iopub.status.idle": "2020-12-23T09:27:23.894839Z",
     "shell.execute_reply": "2020-12-23T09:27:23.893940Z"
    },
    "papermill": {
     "duration": 0.118063,
     "end_time": "2020-12-23T09:27:23.894957",
     "exception": false,
     "start_time": "2020-12-23T09:27:23.776894",
     "status": "completed"
    },
    "tags": []
   },
   "outputs": [
    {
     "name": "stdout",
     "output_type": "stream",
     "text": [
      "0.610247473137224\n"
     ]
    }
   ],
   "source": [
    "print(roc_auc_score(y_test,xgb_pred))"
   ]
  },
  {
   "cell_type": "code",
   "execution_count": 58,
   "metadata": {
    "execution": {
     "iopub.execute_input": "2020-12-23T09:27:24.075848Z",
     "iopub.status.busy": "2020-12-23T09:27:24.075253Z",
     "iopub.status.idle": "2020-12-23T09:27:34.175617Z",
     "shell.execute_reply": "2020-12-23T09:27:34.176241Z"
    },
    "papermill": {
     "duration": 10.189846,
     "end_time": "2020-12-23T09:27:34.176410",
     "exception": false,
     "start_time": "2020-12-23T09:27:23.986564",
     "status": "completed"
    },
    "tags": []
   },
   "outputs": [],
   "source": [
    "from sklearn.neural_network import MLPClassifier\n",
    "mlp = MLPClassifier()\n",
    "mlp.fit(train_df,y_train)\n",
    "mlp_pred = mlp.predict(test_df)"
   ]
  },
  {
   "cell_type": "code",
   "execution_count": 59,
   "metadata": {
    "execution": {
     "iopub.execute_input": "2020-12-23T09:27:34.433320Z",
     "iopub.status.busy": "2020-12-23T09:27:34.432475Z",
     "iopub.status.idle": "2020-12-23T09:27:34.442278Z",
     "shell.execute_reply": "2020-12-23T09:27:34.442900Z"
    },
    "papermill": {
     "duration": 0.141407,
     "end_time": "2020-12-23T09:27:34.443033",
     "exception": false,
     "start_time": "2020-12-23T09:27:34.301626",
     "status": "completed"
    },
    "tags": []
   },
   "outputs": [
    {
     "name": "stdout",
     "output_type": "stream",
     "text": [
      "0.6415505836558\n"
     ]
    }
   ],
   "source": [
    "print(roc_auc_score(y_test,mlp_pred))"
   ]
  },
  {
   "cell_type": "code",
   "execution_count": 60,
   "metadata": {
    "execution": {
     "iopub.execute_input": "2020-12-23T09:27:34.620491Z",
     "iopub.status.busy": "2020-12-23T09:27:34.619793Z",
     "iopub.status.idle": "2020-12-23T09:27:34.646056Z",
     "shell.execute_reply": "2020-12-23T09:27:34.646623Z"
    },
    "papermill": {
     "duration": 0.118137,
     "end_time": "2020-12-23T09:27:34.646757",
     "exception": false,
     "start_time": "2020-12-23T09:27:34.528620",
     "status": "completed"
    },
    "tags": []
   },
   "outputs": [
    {
     "data": {
      "text/html": [
       "\n",
       "    <style>\n",
       "    table.eli5-weights tr:hover {\n",
       "        filter: brightness(85%);\n",
       "    }\n",
       "</style>\n",
       "\n",
       "\n",
       "\n",
       "    \n",
       "\n",
       "    \n",
       "\n",
       "    \n",
       "\n",
       "    \n",
       "\n",
       "    \n",
       "\n",
       "    \n",
       "\n",
       "\n",
       "    \n",
       "\n",
       "    \n",
       "\n",
       "    \n",
       "\n",
       "    \n",
       "\n",
       "    \n",
       "\n",
       "    \n",
       "\n",
       "\n",
       "    \n",
       "\n",
       "    \n",
       "\n",
       "    \n",
       "\n",
       "    \n",
       "\n",
       "    \n",
       "        <table class=\"eli5-weights eli5-feature-importances\" style=\"border-collapse: collapse; border: none; margin-top: 0em; table-layout: auto;\">\n",
       "    <thead>\n",
       "    <tr style=\"border: none;\">\n",
       "        <th style=\"padding: 0 1em 0 0.5em; text-align: right; border: none;\">Weight</th>\n",
       "        <th style=\"padding: 0 0.5em 0 0.5em; text-align: left; border: none;\">Feature</th>\n",
       "    </tr>\n",
       "    </thead>\n",
       "    <tbody>\n",
       "    \n",
       "        <tr style=\"background-color: hsl(120, 100.00%, 80.00%); border: none;\">\n",
       "            <td style=\"padding: 0 1em 0 0.5em; text-align: right; border: none;\">\n",
       "                0.7253\n",
       "                \n",
       "            </td>\n",
       "            <td style=\"padding: 0 0.5em 0 0.5em; text-align: left; border: none;\">\n",
       "                mean_accuracy\n",
       "            </td>\n",
       "        </tr>\n",
       "    \n",
       "        <tr style=\"background-color: hsl(120, 100.00%, 95.38%); border: none;\">\n",
       "            <td style=\"padding: 0 1em 0 0.5em; text-align: right; border: none;\">\n",
       "                0.0895\n",
       "                \n",
       "            </td>\n",
       "            <td style=\"padding: 0 0.5em 0 0.5em; text-align: left; border: none;\">\n",
       "                std_accuracy\n",
       "            </td>\n",
       "        </tr>\n",
       "    \n",
       "        <tr style=\"background-color: hsl(120, 100.00%, 95.71%); border: none;\">\n",
       "            <td style=\"padding: 0 1em 0 0.5em; text-align: right; border: none;\">\n",
       "                0.0803\n",
       "                \n",
       "            </td>\n",
       "            <td style=\"padding: 0 0.5em 0 0.5em; text-align: left; border: none;\">\n",
       "                prior_question_elapsed_time\n",
       "            </td>\n",
       "        </tr>\n",
       "    \n",
       "        <tr style=\"background-color: hsl(120, 100.00%, 96.51%); border: none;\">\n",
       "            <td style=\"padding: 0 1em 0 0.5em; text-align: right; border: none;\">\n",
       "                0.0600\n",
       "                \n",
       "            </td>\n",
       "            <td style=\"padding: 0 0.5em 0 0.5em; text-align: left; border: none;\">\n",
       "                question_asked\n",
       "            </td>\n",
       "        </tr>\n",
       "    \n",
       "        <tr style=\"background-color: hsl(120, 100.00%, 97.42%); border: none;\">\n",
       "            <td style=\"padding: 0 1em 0 0.5em; text-align: right; border: none;\">\n",
       "                0.0389\n",
       "                \n",
       "            </td>\n",
       "            <td style=\"padding: 0 0.5em 0 0.5em; text-align: left; border: none;\">\n",
       "                skew_accuracy\n",
       "            </td>\n",
       "        </tr>\n",
       "    \n",
       "        <tr style=\"background-color: hsl(120, 100.00%, 99.31%); border: none;\">\n",
       "            <td style=\"padding: 0 1em 0 0.5em; text-align: right; border: none;\">\n",
       "                0.0060\n",
       "                \n",
       "            </td>\n",
       "            <td style=\"padding: 0 0.5em 0 0.5em; text-align: left; border: none;\">\n",
       "                prior_question_had_explanation\n",
       "            </td>\n",
       "        </tr>\n",
       "    \n",
       "        <tr style=\"background-color: hsl(0, 100.00%, 100.00%); border: none;\">\n",
       "            <td style=\"padding: 0 1em 0 0.5em; text-align: right; border: none;\">\n",
       "                0\n",
       "                \n",
       "            </td>\n",
       "            <td style=\"padding: 0 0.5em 0 0.5em; text-align: left; border: none;\">\n",
       "                median_accuracy\n",
       "            </td>\n",
       "        </tr>\n",
       "    \n",
       "        <tr style=\"background-color: hsl(0, 100.00%, 100.00%); border: none;\">\n",
       "            <td style=\"padding: 0 1em 0 0.5em; text-align: right; border: none;\">\n",
       "                0\n",
       "                \n",
       "            </td>\n",
       "            <td style=\"padding: 0 0.5em 0 0.5em; text-align: left; border: none;\">\n",
       "                skew_user_accuracy\n",
       "            </td>\n",
       "        </tr>\n",
       "    \n",
       "        <tr style=\"background-color: hsl(0, 100.00%, 100.00%); border: none;\">\n",
       "            <td style=\"padding: 0 1em 0 0.5em; text-align: right; border: none;\">\n",
       "                0\n",
       "                \n",
       "            </td>\n",
       "            <td style=\"padding: 0 0.5em 0 0.5em; text-align: left; border: none;\">\n",
       "                median_user_accuracy\n",
       "            </td>\n",
       "        </tr>\n",
       "    \n",
       "        <tr style=\"background-color: hsl(0, 100.00%, 100.00%); border: none;\">\n",
       "            <td style=\"padding: 0 1em 0 0.5em; text-align: right; border: none;\">\n",
       "                0\n",
       "                \n",
       "            </td>\n",
       "            <td style=\"padding: 0 0.5em 0 0.5em; text-align: left; border: none;\">\n",
       "                std_user_accuracy\n",
       "            </td>\n",
       "        </tr>\n",
       "    \n",
       "        <tr style=\"background-color: hsl(0, 100.00%, 100.00%); border: none;\">\n",
       "            <td style=\"padding: 0 1em 0 0.5em; text-align: right; border: none;\">\n",
       "                0\n",
       "                \n",
       "            </td>\n",
       "            <td style=\"padding: 0 0.5em 0 0.5em; text-align: left; border: none;\">\n",
       "                questions_answered\n",
       "            </td>\n",
       "        </tr>\n",
       "    \n",
       "        <tr style=\"background-color: hsl(0, 100.00%, 100.00%); border: none;\">\n",
       "            <td style=\"padding: 0 1em 0 0.5em; text-align: right; border: none;\">\n",
       "                0\n",
       "                \n",
       "            </td>\n",
       "            <td style=\"padding: 0 0.5em 0 0.5em; text-align: left; border: none;\">\n",
       "                mean_user_accuracy\n",
       "            </td>\n",
       "        </tr>\n",
       "    \n",
       "    \n",
       "    </tbody>\n",
       "</table>\n",
       "    \n",
       "\n",
       "    \n",
       "\n",
       "\n",
       "    \n",
       "\n",
       "    \n",
       "\n",
       "    \n",
       "\n",
       "    \n",
       "\n",
       "    \n",
       "\n",
       "    \n",
       "\n",
       "\n",
       "\n"
      ],
      "text/plain": [
       "<IPython.core.display.HTML object>"
      ]
     },
     "execution_count": 60,
     "metadata": {},
     "output_type": "execute_result"
    }
   ],
   "source": [
    "eli5.show_weights(model, top=20)"
   ]
  },
  {
   "cell_type": "code",
   "execution_count": 61,
   "metadata": {
    "execution": {
     "iopub.execute_input": "2020-12-23T09:27:34.821225Z",
     "iopub.status.busy": "2020-12-23T09:27:34.820582Z",
     "iopub.status.idle": "2020-12-23T09:27:34.944869Z",
     "shell.execute_reply": "2020-12-23T09:27:34.944245Z"
    },
    "papermill": {
     "duration": 0.21202,
     "end_time": "2020-12-23T09:27:34.944971",
     "exception": false,
     "start_time": "2020-12-23T09:27:34.732951",
     "status": "completed"
    },
    "tags": []
   },
   "outputs": [
    {
     "data": {
      "text/plain": [
       "<matplotlib.axes._subplots.AxesSubplot at 0x7f912a46b610>"
      ]
     },
     "execution_count": 61,
     "metadata": {},
     "output_type": "execute_result"
    },
    {
     "data": {
      "image/png": "[encoded data removed]",
      "text/plain": [
       "<Figure size 432x288 with 1 Axes>"
      ]
     },
     "metadata": {
      "needs_background": "light"
     },
     "output_type": "display_data"
    }
   ],
   "source": [
    "lgb.plot_importance(model)"
   ]
  },
  {
   "cell_type": "markdown",
   "metadata": {
    "papermill": {
     "duration": 0.063408,
     "end_time": "2020-12-23T09:27:35.072004",
     "exception": false,
     "start_time": "2020-12-23T09:27:35.008596",
     "status": "completed"
    },
    "tags": []
   },
   "source": [
    "Submission preparation"
   ]
  },
  {
   "cell_type": "code",
   "execution_count": 62,
   "metadata": {
    "execution": {
     "iopub.execute_input": "2020-12-23T09:27:35.202851Z",
     "iopub.status.busy": "2020-12-23T09:27:35.202411Z",
     "iopub.status.idle": "2020-12-23T09:27:35.205556Z",
     "shell.execute_reply": "2020-12-23T09:27:35.205175Z"
    },
    "papermill": {
     "duration": 0.070723,
     "end_time": "2020-12-23T09:27:35.205635",
     "exception": false,
     "start_time": "2020-12-23T09:27:35.134912",
     "status": "completed"
    },
    "tags": []
   },
   "outputs": [],
   "source": [
    "env = riiideducation.make_env()"
   ]
  },
  {
   "cell_type": "code",
   "execution_count": 63,
   "metadata": {
    "execution": {
     "iopub.execute_input": "2020-12-23T09:27:35.337595Z",
     "iopub.status.busy": "2020-12-23T09:27:35.336940Z",
     "iopub.status.idle": "2020-12-23T09:27:35.340739Z",
     "shell.execute_reply": "2020-12-23T09:27:35.340184Z"
    },
    "papermill": {
     "duration": 0.071727,
     "end_time": "2020-12-23T09:27:35.340848",
     "exception": false,
     "start_time": "2020-12-23T09:27:35.269121",
     "status": "completed"
    },
    "tags": []
   },
   "outputs": [],
   "source": [
    "iter_test = env.iter_test()"
   ]
  },
  {
   "cell_type": "code",
   "execution_count": 64,
   "metadata": {
    "execution": {
     "iopub.execute_input": "2020-12-23T09:27:35.532829Z",
     "iopub.status.busy": "2020-12-23T09:27:35.532193Z",
     "iopub.status.idle": "2020-12-23T09:27:35.889789Z",
     "shell.execute_reply": "2020-12-23T09:27:35.889231Z"
    },
    "papermill": {
     "duration": 0.460618,
     "end_time": "2020-12-23T09:27:35.889912",
     "exception": false,
     "start_time": "2020-12-23T09:27:35.429294",
     "status": "completed"
    },
    "tags": []
   },
   "outputs": [],
   "source": [
    "for (test_df, sample_prediction_df) in iter_test:\n",
    "    # merge\n",
    "    test_df = test_df.merge(user_answers_df, on = \"user_id\", how = \"left\")\n",
    "    #test_df = test_df.merge(task_container_characteristics, on = \"task_container_id\", how = \"left\")\n",
    "    test_df = test_df.merge(content_answers_df, on = \"content_id\", how = \"left\")\n",
    "    \n",
    "    # type transformation\n",
    "    test_df['prior_question_had_explanation'] = test_df['prior_question_had_explanation'].fillna(value=False).astype(bool)\n",
    "    test_df.fillna(value = 0.5, inplace = True)\n",
    "    test_df = test_df.replace([np.inf, -np.inf], np.nan)\n",
    "    test_df = test_df.fillna(0.5)\n",
    "    \n",
    "    # preds\n",
    "    test_df['answered_correctly'] = model.predict_proba(test_df[features])[:, 1]\n",
    "    cols_to_submission = ['row_id', 'answered_correctly', 'group_num']\n",
    "    env.predict(test_df.loc[test_df['content_type_id'] == 0, ['row_id', 'answered_correctly']])"
   ]
  }
 ],
 "metadata": {
  "kernelspec": {
   "display_name": "Python 3",
   "language": "python",
   "name": "python3"
  },
  "language_info": {
   "codemirror_mode": {
    "name": "ipython",
    "version": 3
   },
   "file_extension": ".py",
   "mimetype": "text/x-python",
   "name": "python",
   "nbconvert_exporter": "python",
   "pygments_lexer": "ipython3",
   "version": "3.8.3"
  }
 },
 "nbformat": 4,
 "nbformat_minor": 4
}
