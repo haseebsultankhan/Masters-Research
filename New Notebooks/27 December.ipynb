{
 "cells": [
  {
   "cell_type": "code",
   "execution_count": 2,
   "id": "2cfbce73",
   "metadata": {},
   "outputs": [
    {
     "name": "stdout",
     "output_type": "stream",
     "text": [
      "Collecting feather-format\n",
      "  Downloading feather-format-0.4.1.tar.gz (3.2 kB)\n",
      "Requirement already satisfied: pyarrow>=0.4.0 in /home/ec2-user/anaconda3/envs/python3/lib/python3.6/site-packages (from feather-format) (5.0.0)\n",
      "Requirement already satisfied: numpy>=1.16.6 in /home/ec2-user/anaconda3/envs/python3/lib/python3.6/site-packages (from pyarrow>=0.4.0->feather-format) (1.19.5)\n",
      "Building wheels for collected packages: feather-format\n",
      "  Building wheel for feather-format (setup.py) ... \u001b[?25ldone\n",
      "\u001b[?25h  Created wheel for feather-format: filename=feather_format-0.4.1-py3-none-any.whl size=2453 sha256=cae32cc75b960dc1e99d87303e7f7572f59a8aefab9fc71abb7ea84af50eb659\n",
      "  Stored in directory: /home/ec2-user/.cache/pip/wheels/9d/90/64/88411837e80bb520d15ae395f39359a5413e7a00ae63397e10\n",
      "Successfully built feather-format\n",
      "Installing collected packages: feather-format\n",
      "Successfully installed feather-format-0.4.1\n",
      "\u001b[33mWARNING: You are using pip version 21.2.4; however, version 21.3.1 is available.\n",
      "You should consider upgrading via the '/home/ec2-user/anaconda3/envs/python3/bin/python -m pip install --upgrade pip' command.\u001b[0m\n",
      "Note: you may need to restart the kernel to use updated packages.\n"
     ]
    }
   ],
   "source": [
    "pip install feather-format"
   ]
  },
  {
   "cell_type": "code",
   "execution_count": 3,
   "id": "e40ab830",
   "metadata": {},
   "outputs": [],
   "source": [
    "import pandas as pd\n",
    "import numpy as np\n",
    "import seaborn as sns\n",
    "import sagemaker\n",
    "import boto3\n",
    "import matplotlib.pyplot as plt \n",
    "pd.set_option('display.max_columns',None) # To display all columns\n",
    "pd.set_option('display.max_rows',None) # To display all columns\n",
    "client = boto3.client('s3')\n",
    "import feather\n",
    "import matplotlib.pyplot as plt\n",
    "from matplotlib.ticker import FuncFormatter\n",
    "from functools import reduce"
   ]
  },
  {
   "cell_type": "code",
   "execution_count": 4,
   "id": "3764b41f",
   "metadata": {},
   "outputs": [],
   "source": [
    "df = pd.read_feather('s3://haseebdata/Dataset/Data.ftr')"
   ]
  },
  {
   "cell_type": "code",
   "execution_count": 5,
   "id": "829b8fe6",
   "metadata": {},
   "outputs": [],
   "source": [
    "dfu = pd.read_feather('s3://haseebdata/Dataset/Users.ftr')\n",
    "dfq = pd.read_feather('s3://haseebdata/Dataset/dfq.ftr')"
   ]
  },
  {
   "cell_type": "markdown",
   "id": "273dac30",
   "metadata": {},
   "source": [
    "## DATASET"
   ]
  },
  {
   "cell_type": "code",
   "execution_count": 6,
   "id": "ad5349bf",
   "metadata": {},
   "outputs": [
    {
     "data": {
      "text/html": [
       "<div>\n",
       "<style scoped>\n",
       "    .dataframe tbody tr th:only-of-type {\n",
       "        vertical-align: middle;\n",
       "    }\n",
       "\n",
       "    .dataframe tbody tr th {\n",
       "        vertical-align: top;\n",
       "    }\n",
       "\n",
       "    .dataframe thead th {\n",
       "        text-align: right;\n",
       "    }\n",
       "</style>\n",
       "<table border=\"1\" class=\"dataframe\">\n",
       "  <thead>\n",
       "    <tr style=\"text-align: right;\">\n",
       "      <th></th>\n",
       "      <th>index</th>\n",
       "      <th>timestamp</th>\n",
       "      <th>solving_id</th>\n",
       "      <th>question_id</th>\n",
       "      <th>user_answer</th>\n",
       "      <th>elapsed_time</th>\n",
       "      <th>user_iD</th>\n",
       "      <th>correct_answer</th>\n",
       "      <th>bundle_id</th>\n",
       "      <th>explanation_id</th>\n",
       "      <th>deployed_at</th>\n",
       "      <th>correct</th>\n",
       "    </tr>\n",
       "  </thead>\n",
       "  <tbody>\n",
       "    <tr>\n",
       "      <th>0</th>\n",
       "      <td>0</td>\n",
       "      <td>1565096190868</td>\n",
       "      <td>1</td>\n",
       "      <td>5012</td>\n",
       "      <td>b</td>\n",
       "      <td>38.0</td>\n",
       "      <td>1</td>\n",
       "      <td>c</td>\n",
       "      <td>3544</td>\n",
       "      <td>3544</td>\n",
       "      <td>2019-09-17 02:43:28.616</td>\n",
       "      <td>0.0</td>\n",
       "    </tr>\n",
       "    <tr>\n",
       "      <th>1</th>\n",
       "      <td>1</td>\n",
       "      <td>1565096221062</td>\n",
       "      <td>2</td>\n",
       "      <td>4706</td>\n",
       "      <td>c</td>\n",
       "      <td>24.0</td>\n",
       "      <td>1</td>\n",
       "      <td>c</td>\n",
       "      <td>3238</td>\n",
       "      <td>3238</td>\n",
       "      <td>2019-10-30 05:34:30.723</td>\n",
       "      <td>1.0</td>\n",
       "    </tr>\n",
       "    <tr>\n",
       "      <th>2</th>\n",
       "      <td>2</td>\n",
       "      <td>1565096293432</td>\n",
       "      <td>3</td>\n",
       "      <td>4366</td>\n",
       "      <td>b</td>\n",
       "      <td>68.0</td>\n",
       "      <td>1</td>\n",
       "      <td>b</td>\n",
       "      <td>2898</td>\n",
       "      <td>2898</td>\n",
       "      <td>2019-10-30 05:37:51.451</td>\n",
       "      <td>1.0</td>\n",
       "    </tr>\n",
       "    <tr>\n",
       "      <th>3</th>\n",
       "      <td>3</td>\n",
       "      <td>1565096339668</td>\n",
       "      <td>4</td>\n",
       "      <td>4829</td>\n",
       "      <td>a</td>\n",
       "      <td>42.0</td>\n",
       "      <td>1</td>\n",
       "      <td>c</td>\n",
       "      <td>3361</td>\n",
       "      <td>3361</td>\n",
       "      <td>2019-06-24 09:24:51.347</td>\n",
       "      <td>0.0</td>\n",
       "    </tr>\n",
       "    <tr>\n",
       "      <th>4</th>\n",
       "      <td>4</td>\n",
       "      <td>1565096401774</td>\n",
       "      <td>5</td>\n",
       "      <td>6528</td>\n",
       "      <td>b</td>\n",
       "      <td>59.0</td>\n",
       "      <td>1</td>\n",
       "      <td>d</td>\n",
       "      <td>5060</td>\n",
       "      <td>5060</td>\n",
       "      <td>2019-10-17 03:03:15.009</td>\n",
       "      <td>0.0</td>\n",
       "    </tr>\n",
       "  </tbody>\n",
       "</table>\n",
       "</div>"
      ],
      "text/plain": [
       "   index      timestamp  solving_id  question_id user_answer  elapsed_time  \\\n",
       "0      0  1565096190868           1         5012           b          38.0   \n",
       "1      1  1565096221062           2         4706           c          24.0   \n",
       "2      2  1565096293432           3         4366           b          68.0   \n",
       "3      3  1565096339668           4         4829           a          42.0   \n",
       "4      4  1565096401774           5         6528           b          59.0   \n",
       "\n",
       "   user_iD correct_answer  bundle_id  explanation_id             deployed_at  \\\n",
       "0        1              c       3544            3544 2019-09-17 02:43:28.616   \n",
       "1        1              c       3238            3238 2019-10-30 05:34:30.723   \n",
       "2        1              b       2898            2898 2019-10-30 05:37:51.451   \n",
       "3        1              c       3361            3361 2019-06-24 09:24:51.347   \n",
       "4        1              d       5060            5060 2019-10-17 03:03:15.009   \n",
       "\n",
       "   correct  \n",
       "0      0.0  \n",
       "1      1.0  \n",
       "2      1.0  \n",
       "3      0.0  \n",
       "4      0.0  "
      ]
     },
     "execution_count": 6,
     "metadata": {},
     "output_type": "execute_result"
    }
   ],
   "source": [
    "df.head()"
   ]
  },
  {
   "cell_type": "code",
   "execution_count": 8,
   "id": "d550ddef",
   "metadata": {},
   "outputs": [
    {
     "data": {
      "text/html": [
       "<div>\n",
       "<style scoped>\n",
       "    .dataframe tbody tr th:only-of-type {\n",
       "        vertical-align: middle;\n",
       "    }\n",
       "\n",
       "    .dataframe tbody tr th {\n",
       "        vertical-align: top;\n",
       "    }\n",
       "\n",
       "    .dataframe thead th {\n",
       "        text-align: right;\n",
       "    }\n",
       "</style>\n",
       "<table border=\"1\" class=\"dataframe\">\n",
       "  <thead>\n",
       "    <tr style=\"text-align: right;\">\n",
       "      <th></th>\n",
       "      <th>user_iD</th>\n",
       "      <th>Total Questions Attempted</th>\n",
       "      <th>Corrected</th>\n",
       "      <th>Incorrected</th>\n",
       "      <th>Percentage</th>\n",
       "      <th>elapsed_time</th>\n",
       "    </tr>\n",
       "  </thead>\n",
       "  <tbody>\n",
       "    <tr>\n",
       "      <th>0</th>\n",
       "      <td>1</td>\n",
       "      <td>1082</td>\n",
       "      <td>753</td>\n",
       "      <td>329</td>\n",
       "      <td>69.593346</td>\n",
       "      <td>36.750</td>\n",
       "    </tr>\n",
       "    <tr>\n",
       "      <th>103211</th>\n",
       "      <td>2</td>\n",
       "      <td>1103</td>\n",
       "      <td>765</td>\n",
       "      <td>338</td>\n",
       "      <td>69.356301</td>\n",
       "      <td>24.000</td>\n",
       "    </tr>\n",
       "    <tr>\n",
       "      <th>205341</th>\n",
       "      <td>3</td>\n",
       "      <td>10</td>\n",
       "      <td>3</td>\n",
       "      <td>7</td>\n",
       "      <td>30.000000</td>\n",
       "      <td>38.000</td>\n",
       "    </tr>\n",
       "    <tr>\n",
       "      <th>305985</th>\n",
       "      <td>4</td>\n",
       "      <td>2699</td>\n",
       "      <td>1932</td>\n",
       "      <td>767</td>\n",
       "      <td>71.582067</td>\n",
       "      <td>27.666</td>\n",
       "    </tr>\n",
       "    <tr>\n",
       "      <th>408468</th>\n",
       "      <td>5</td>\n",
       "      <td>1233</td>\n",
       "      <td>754</td>\n",
       "      <td>479</td>\n",
       "      <td>61.151663</td>\n",
       "      <td>23.250</td>\n",
       "    </tr>\n",
       "  </tbody>\n",
       "</table>\n",
       "</div>"
      ],
      "text/plain": [
       "        user_iD  Total Questions Attempted  Corrected  Incorrected  \\\n",
       "0             1                       1082        753          329   \n",
       "103211        2                       1103        765          338   \n",
       "205341        3                         10          3            7   \n",
       "305985        4                       2699       1932          767   \n",
       "408468        5                       1233        754          479   \n",
       "\n",
       "        Percentage  elapsed_time  \n",
       "0        69.593346        36.750  \n",
       "103211   69.356301        24.000  \n",
       "205341   30.000000        38.000  \n",
       "305985   71.582067        27.666  \n",
       "408468   61.151663        23.250  "
      ]
     },
     "execution_count": 8,
     "metadata": {},
     "output_type": "execute_result"
    }
   ],
   "source": [
    "#SORTING DATAFRAME BY TIMESTAMP AND USER ID\n",
    "dfu= dfu.sort_values(['user_iD'], ascending=[True])\n",
    "dfu.head()"
   ]
  },
  {
   "cell_type": "code",
   "execution_count": 10,
   "id": "8394d442",
   "metadata": {},
   "outputs": [
    {
     "data": {
      "text/html": [
       "<div>\n",
       "<style scoped>\n",
       "    .dataframe tbody tr th:only-of-type {\n",
       "        vertical-align: middle;\n",
       "    }\n",
       "\n",
       "    .dataframe tbody tr th {\n",
       "        vertical-align: top;\n",
       "    }\n",
       "\n",
       "    .dataframe thead th {\n",
       "        text-align: right;\n",
       "    }\n",
       "</style>\n",
       "<table border=\"1\" class=\"dataframe\">\n",
       "  <thead>\n",
       "    <tr style=\"text-align: right;\">\n",
       "      <th></th>\n",
       "      <th>user_iD</th>\n",
       "      <th>Total Questions Attempted</th>\n",
       "      <th>Corrected</th>\n",
       "      <th>Incorrected</th>\n",
       "      <th>Percentage</th>\n",
       "      <th>elapsed_time</th>\n",
       "    </tr>\n",
       "  </thead>\n",
       "  <tbody>\n",
       "    <tr>\n",
       "      <th>488880</th>\n",
       "      <td>58</td>\n",
       "      <td>7216</td>\n",
       "      <td>6568</td>\n",
       "      <td>648</td>\n",
       "      <td>91.019956</td>\n",
       "      <td>36.000</td>\n",
       "    </tr>\n",
       "    <tr>\n",
       "      <th>3150</th>\n",
       "      <td>103</td>\n",
       "      <td>7</td>\n",
       "      <td>6</td>\n",
       "      <td>1</td>\n",
       "      <td>85.714286</td>\n",
       "      <td>22.000</td>\n",
       "    </tr>\n",
       "    <tr>\n",
       "      <th>190937</th>\n",
       "      <td>285</td>\n",
       "      <td>74</td>\n",
       "      <td>73</td>\n",
       "      <td>1</td>\n",
       "      <td>98.648649</td>\n",
       "      <td>0.333</td>\n",
       "    </tr>\n",
       "    <tr>\n",
       "      <th>242583</th>\n",
       "      <td>338</td>\n",
       "      <td>928</td>\n",
       "      <td>792</td>\n",
       "      <td>136</td>\n",
       "      <td>85.344828</td>\n",
       "      <td>20.000</td>\n",
       "    </tr>\n",
       "    <tr>\n",
       "      <th>264909</th>\n",
       "      <td>360</td>\n",
       "      <td>675</td>\n",
       "      <td>574</td>\n",
       "      <td>101</td>\n",
       "      <td>85.037037</td>\n",
       "      <td>24.333</td>\n",
       "    </tr>\n",
       "  </tbody>\n",
       "</table>\n",
       "</div>"
      ],
      "text/plain": [
       "        user_iD  Total Questions Attempted  Corrected  Incorrected  \\\n",
       "488880       58                       7216       6568          648   \n",
       "3150        103                          7          6            1   \n",
       "190937      285                         74         73            1   \n",
       "242583      338                        928        792          136   \n",
       "264909      360                        675        574          101   \n",
       "\n",
       "        Percentage  elapsed_time  \n",
       "488880   91.019956        36.000  \n",
       "3150     85.714286        22.000  \n",
       "190937   98.648649         0.333  \n",
       "242583   85.344828        20.000  \n",
       "264909   85.037037        24.333  "
      ]
     },
     "execution_count": 10,
     "metadata": {},
     "output_type": "execute_result"
    }
   ],
   "source": [
    "df_85 = dfu.loc[dfu['Percentage'] >= 85]\n",
    "df_85.head()"
   ]
  },
  {
   "cell_type": "code",
   "execution_count": 14,
   "id": "faaf67e4",
   "metadata": {},
   "outputs": [
    {
     "data": {
      "text/html": [
       "<div>\n",
       "<style scoped>\n",
       "    .dataframe tbody tr th:only-of-type {\n",
       "        vertical-align: middle;\n",
       "    }\n",
       "\n",
       "    .dataframe tbody tr th {\n",
       "        vertical-align: top;\n",
       "    }\n",
       "\n",
       "    .dataframe thead th {\n",
       "        text-align: right;\n",
       "    }\n",
       "</style>\n",
       "<table border=\"1\" class=\"dataframe\">\n",
       "  <thead>\n",
       "    <tr style=\"text-align: right;\">\n",
       "      <th></th>\n",
       "      <th>user_iD</th>\n",
       "      <th>Total Questions Attempted</th>\n",
       "      <th>Corrected</th>\n",
       "      <th>Incorrected</th>\n",
       "      <th>Percentage</th>\n",
       "      <th>elapsed_time</th>\n",
       "    </tr>\n",
       "  </thead>\n",
       "  <tbody>\n",
       "    <tr>\n",
       "      <th>488880</th>\n",
       "      <td>58</td>\n",
       "      <td>7216</td>\n",
       "      <td>6568</td>\n",
       "      <td>648</td>\n",
       "      <td>91.019956</td>\n",
       "      <td>36.000</td>\n",
       "    </tr>\n",
       "    <tr>\n",
       "      <th>190937</th>\n",
       "      <td>285</td>\n",
       "      <td>74</td>\n",
       "      <td>73</td>\n",
       "      <td>1</td>\n",
       "      <td>98.648649</td>\n",
       "      <td>0.333</td>\n",
       "    </tr>\n",
       "    <tr>\n",
       "      <th>708625</th>\n",
       "      <td>853</td>\n",
       "      <td>38</td>\n",
       "      <td>35</td>\n",
       "      <td>3</td>\n",
       "      <td>92.105263</td>\n",
       "      <td>19.000</td>\n",
       "    </tr>\n",
       "    <tr>\n",
       "      <th>201669</th>\n",
       "      <td>2962</td>\n",
       "      <td>199</td>\n",
       "      <td>183</td>\n",
       "      <td>16</td>\n",
       "      <td>91.959799</td>\n",
       "      <td>24.000</td>\n",
       "    </tr>\n",
       "    <tr>\n",
       "      <th>260175</th>\n",
       "      <td>3554</td>\n",
       "      <td>438</td>\n",
       "      <td>405</td>\n",
       "      <td>33</td>\n",
       "      <td>92.465753</td>\n",
       "      <td>22.000</td>\n",
       "    </tr>\n",
       "  </tbody>\n",
       "</table>\n",
       "</div>"
      ],
      "text/plain": [
       "        user_iD  Total Questions Attempted  Corrected  Incorrected  \\\n",
       "488880       58                       7216       6568          648   \n",
       "190937      285                         74         73            1   \n",
       "708625      853                         38         35            3   \n",
       "201669     2962                        199        183           16   \n",
       "260175     3554                        438        405           33   \n",
       "\n",
       "        Percentage  elapsed_time  \n",
       "488880   91.019956        36.000  \n",
       "190937   98.648649         0.333  \n",
       "708625   92.105263        19.000  \n",
       "201669   91.959799        24.000  \n",
       "260175   92.465753        22.000  "
      ]
     },
     "execution_count": 14,
     "metadata": {},
     "output_type": "execute_result"
    }
   ],
   "source": [
    "df_90 = dfu.loc[dfu['Percentage'] >= 90]\n",
    "df_90.head()"
   ]
  },
  {
   "cell_type": "markdown",
   "id": "0227e0b9",
   "metadata": {},
   "source": [
    "## PLOTS"
   ]
  },
  {
   "cell_type": "code",
   "execution_count": 9,
   "id": "f14be8f7",
   "metadata": {},
   "outputs": [
    {
     "data": {
      "text/plain": [
       "<AxesSubplot:xlabel='user_iD'>"
      ]
     },
     "execution_count": 9,
     "metadata": {},
     "output_type": "execute_result"
    },
    {
     "data": {
      "image/png": "[encoded data removed]",
      "text/plain": [
       "<Figure size 432x288 with 1 Axes>"
      ]
     },
     "metadata": {
      "needs_background": "light"
     },
     "output_type": "display_data"
    }
   ],
   "source": [
    "dfu.plot( x='user_iD', y='Total Questions Attempted')"
   ]
  },
  {
   "cell_type": "code",
   "execution_count": 21,
   "id": "abdf8987",
   "metadata": {},
   "outputs": [
    {
     "data": {
      "text/plain": [
       "<AxesSubplot:ylabel='Frequency'>"
      ]
     },
     "execution_count": 21,
     "metadata": {},
     "output_type": "execute_result"
    },
    {
     "data": {
      "image/png": "[encoded data removed]",
      "text/plain": [
       "<Figure size 432x288 with 1 Axes>"
      ]
     },
     "metadata": {
      "needs_background": "light"
     },
     "output_type": "display_data"
    }
   ],
   "source": [
    "dfu.plot( x='Total Questions Attempted', y='Percentage' , kind ='hist')"
   ]
  },
  {
   "cell_type": "code",
   "execution_count": 13,
   "id": "f325aaa1",
   "metadata": {},
   "outputs": [
    {
     "data": {
      "text/plain": [
       "<AxesSubplot:ylabel='Frequency'>"
      ]
     },
     "execution_count": 13,
     "metadata": {},
     "output_type": "execute_result"
    },
    {
     "data": {
      "image/png": "[encoded data removed]",
      "text/plain": [
       "<Figure size 432x288 with 1 Axes>"
      ]
     },
     "metadata": {
      "needs_background": "light"
     },
     "output_type": "display_data"
    }
   ],
   "source": [
    "df_85.plot( x='Total Questions Attempted', y='user_iD' , kind ='hist')"
   ]
  },
  {
   "cell_type": "code",
   "execution_count": 18,
   "id": "07356579",
   "metadata": {},
   "outputs": [
    {
     "data": {
      "text/plain": [
       "<AxesSubplot:ylabel='Frequency'>"
      ]
     },
     "execution_count": 18,
     "metadata": {},
     "output_type": "execute_result"
    },
    {
     "data": {
      "image/png": "[encoded data removed]",
      "text/plain": [
       "<Figure size 432x288 with 1 Axes>"
      ]
     },
     "metadata": {
      "needs_background": "light"
     },
     "output_type": "display_data"
    }
   ],
   "source": [
    "df_90.plot( x='Total Questions Attempted', y='user_iD' , kind ='hist')"
   ]
  },
  {
   "cell_type": "code",
   "execution_count": 20,
   "id": "7fb103b6",
   "metadata": {},
   "outputs": [
    {
     "data": {
      "text/plain": [
       "<AxesSubplot:ylabel='Frequency'>"
      ]
     },
     "execution_count": 20,
     "metadata": {},
     "output_type": "execute_result"
    },
    {
     "data": {
      "image/png": "[encoded data removed]",
      "text/plain": [
       "<Figure size 432x288 with 1 Axes>"
      ]
     },
     "metadata": {
      "needs_background": "light"
     },
     "output_type": "display_data"
    }
   ],
   "source": [
    "df_90.plot( x='Total Questions Attempted', y='Percentage' , kind ='hist')"
   ]
  },
  {
   "cell_type": "markdown",
   "id": "c4845419",
   "metadata": {},
   "source": [
    "## DESCRIBE THE USERS DATASET QUESTIONS ATTEMPTION"
   ]
  },
  {
   "cell_type": "code",
   "execution_count": 22,
   "id": "ded5c8f1",
   "metadata": {},
   "outputs": [
    {
     "data": {
      "text/plain": [
       "count    724139.000000\n",
       "mean        131.371001\n",
       "std         563.985478\n",
       "min           2.000000\n",
       "25%           7.000000\n",
       "50%          14.000000\n",
       "75%          41.000000\n",
       "max       40157.000000\n",
       "Name: Total Questions Attempted, dtype: float64"
      ]
     },
     "execution_count": 22,
     "metadata": {},
     "output_type": "execute_result"
    }
   ],
   "source": [
    "dfu['Total Questions Attempted'].describe()"
   ]
  },
  {
   "cell_type": "markdown",
   "id": "43bc56d8",
   "metadata": {},
   "source": [
    "## TOP USER "
   ]
  },
  {
   "cell_type": "code",
   "execution_count": 23,
   "id": "400df84f",
   "metadata": {},
   "outputs": [
    {
     "data": {
      "text/html": [
       "<div>\n",
       "<style scoped>\n",
       "    .dataframe tbody tr th:only-of-type {\n",
       "        vertical-align: middle;\n",
       "    }\n",
       "\n",
       "    .dataframe tbody tr th {\n",
       "        vertical-align: top;\n",
       "    }\n",
       "\n",
       "    .dataframe thead th {\n",
       "        text-align: right;\n",
       "    }\n",
       "</style>\n",
       "<table border=\"1\" class=\"dataframe\">\n",
       "  <thead>\n",
       "    <tr style=\"text-align: right;\">\n",
       "      <th></th>\n",
       "      <th>user_iD</th>\n",
       "      <th>Total Questions Attempted</th>\n",
       "      <th>Corrected</th>\n",
       "      <th>Incorrected</th>\n",
       "      <th>Percentage</th>\n",
       "      <th>elapsed_time</th>\n",
       "    </tr>\n",
       "  </thead>\n",
       "  <tbody>\n",
       "    <tr>\n",
       "      <th>278286</th>\n",
       "      <td>373</td>\n",
       "      <td>40157</td>\n",
       "      <td>32139</td>\n",
       "      <td>8018</td>\n",
       "      <td>80.033369</td>\n",
       "      <td>22.25</td>\n",
       "    </tr>\n",
       "  </tbody>\n",
       "</table>\n",
       "</div>"
      ],
      "text/plain": [
       "        user_iD  Total Questions Attempted  Corrected  Incorrected  \\\n",
       "278286      373                      40157      32139         8018   \n",
       "\n",
       "        Percentage  elapsed_time  \n",
       "278286   80.033369         22.25  "
      ]
     },
     "execution_count": 23,
     "metadata": {},
     "output_type": "execute_result"
    }
   ],
   "source": [
    "top_U = dfu.loc[dfu['Total Questions Attempted']== 40157]\n",
    "top_U "
   ]
  },
  {
   "cell_type": "markdown",
   "id": "d6d1d2c7",
   "metadata": {},
   "source": [
    "## LOWEST USERS"
   ]
  },
  {
   "cell_type": "code",
   "execution_count": 25,
   "id": "3c2ac2b7",
   "metadata": {},
   "outputs": [
    {
     "data": {
      "text/html": [
       "<div>\n",
       "<style scoped>\n",
       "    .dataframe tbody tr th:only-of-type {\n",
       "        vertical-align: middle;\n",
       "    }\n",
       "\n",
       "    .dataframe tbody tr th {\n",
       "        vertical-align: top;\n",
       "    }\n",
       "\n",
       "    .dataframe thead th {\n",
       "        text-align: right;\n",
       "    }\n",
       "</style>\n",
       "<table border=\"1\" class=\"dataframe\">\n",
       "  <thead>\n",
       "    <tr style=\"text-align: right;\">\n",
       "      <th></th>\n",
       "      <th>user_iD</th>\n",
       "      <th>Total Questions Attempted</th>\n",
       "      <th>Corrected</th>\n",
       "      <th>Incorrected</th>\n",
       "      <th>Percentage</th>\n",
       "      <th>elapsed_time</th>\n",
       "    </tr>\n",
       "  </thead>\n",
       "  <tbody>\n",
       "    <tr>\n",
       "      <th>715699</th>\n",
       "      <td>92</td>\n",
       "      <td>2</td>\n",
       "      <td>1</td>\n",
       "      <td>1</td>\n",
       "      <td>50.0</td>\n",
       "      <td>13.0</td>\n",
       "    </tr>\n",
       "    <tr>\n",
       "      <th>649148</th>\n",
       "      <td>7552</td>\n",
       "      <td>2</td>\n",
       "      <td>1</td>\n",
       "      <td>1</td>\n",
       "      <td>50.0</td>\n",
       "      <td>28.0</td>\n",
       "    </tr>\n",
       "    <tr>\n",
       "      <th>707724</th>\n",
       "      <td>8445</td>\n",
       "      <td>2</td>\n",
       "      <td>1</td>\n",
       "      <td>1</td>\n",
       "      <td>50.0</td>\n",
       "      <td>27.5</td>\n",
       "    </tr>\n",
       "    <tr>\n",
       "      <th>717627</th>\n",
       "      <td>9381</td>\n",
       "      <td>2</td>\n",
       "      <td>1</td>\n",
       "      <td>1</td>\n",
       "      <td>50.0</td>\n",
       "      <td>46.5</td>\n",
       "    </tr>\n",
       "    <tr>\n",
       "      <th>718413</th>\n",
       "      <td>9454</td>\n",
       "      <td>2</td>\n",
       "      <td>1</td>\n",
       "      <td>1</td>\n",
       "      <td>50.0</td>\n",
       "      <td>11.0</td>\n",
       "    </tr>\n",
       "  </tbody>\n",
       "</table>\n",
       "</div>"
      ],
      "text/plain": [
       "        user_iD  Total Questions Attempted  Corrected  Incorrected  \\\n",
       "715699       92                          2          1            1   \n",
       "649148     7552                          2          1            1   \n",
       "707724     8445                          2          1            1   \n",
       "717627     9381                          2          1            1   \n",
       "718413     9454                          2          1            1   \n",
       "\n",
       "        Percentage  elapsed_time  \n",
       "715699        50.0          13.0  \n",
       "649148        50.0          28.0  \n",
       "707724        50.0          27.5  \n",
       "717627        50.0          46.5  \n",
       "718413        50.0          11.0  "
      ]
     },
     "execution_count": 25,
     "metadata": {},
     "output_type": "execute_result"
    }
   ],
   "source": [
    "low_U = dfu.loc[dfu['Total Questions Attempted']== 2]\n",
    "low_U[0:5] "
   ]
  },
  {
   "cell_type": "code",
   "execution_count": 26,
   "id": "5ed0f424",
   "metadata": {},
   "outputs": [
    {
     "data": {
      "text/plain": [
       "9731"
      ]
     },
     "execution_count": 26,
     "metadata": {},
     "output_type": "execute_result"
    }
   ],
   "source": [
    "len(low_U)"
   ]
  },
  {
   "cell_type": "markdown",
   "id": "e9dd2990",
   "metadata": {},
   "source": [
    "## REPEATED QUESTIONS COUNT BY EACH QUESTION"
   ]
  },
  {
   "cell_type": "code",
   "execution_count": 27,
   "id": "ce3804a1",
   "metadata": {},
   "outputs": [
    {
     "data": {
      "text/html": [
       "<div>\n",
       "<style scoped>\n",
       "    .dataframe tbody tr th:only-of-type {\n",
       "        vertical-align: middle;\n",
       "    }\n",
       "\n",
       "    .dataframe tbody tr th {\n",
       "        vertical-align: top;\n",
       "    }\n",
       "\n",
       "    .dataframe thead th {\n",
       "        text-align: right;\n",
       "    }\n",
       "</style>\n",
       "<table border=\"1\" class=\"dataframe\">\n",
       "  <thead>\n",
       "    <tr style=\"text-align: right;\">\n",
       "      <th></th>\n",
       "      <th>user_iD</th>\n",
       "      <th>question_id</th>\n",
       "      <th>counts</th>\n",
       "    </tr>\n",
       "  </thead>\n",
       "  <tbody>\n",
       "    <tr>\n",
       "      <th>0</th>\n",
       "      <td>1</td>\n",
       "      <td>7</td>\n",
       "      <td>2</td>\n",
       "    </tr>\n",
       "    <tr>\n",
       "      <th>1</th>\n",
       "      <td>1</td>\n",
       "      <td>10</td>\n",
       "      <td>2</td>\n",
       "    </tr>\n",
       "    <tr>\n",
       "      <th>2</th>\n",
       "      <td>1</td>\n",
       "      <td>11</td>\n",
       "      <td>1</td>\n",
       "    </tr>\n",
       "    <tr>\n",
       "      <th>3</th>\n",
       "      <td>1</td>\n",
       "      <td>13</td>\n",
       "      <td>1</td>\n",
       "    </tr>\n",
       "    <tr>\n",
       "      <th>4</th>\n",
       "      <td>1</td>\n",
       "      <td>29</td>\n",
       "      <td>1</td>\n",
       "    </tr>\n",
       "  </tbody>\n",
       "</table>\n",
       "</div>"
      ],
      "text/plain": [
       "   user_iD  question_id  counts\n",
       "0        1            7       2\n",
       "1        1           10       2\n",
       "2        1           11       1\n",
       "3        1           13       1\n",
       "4        1           29       1"
      ]
     },
     "execution_count": 27,
     "metadata": {},
     "output_type": "execute_result"
    }
   ],
   "source": [
    "df_i = df.groupby(['user_iD', 'question_id']).size().reset_index(name='counts')\n",
    "df_i.head()"
   ]
  },
  {
   "cell_type": "markdown",
   "id": "d487f73e",
   "metadata": {},
   "source": [
    "## REPEAT QUESTIONS ATLEAST 2"
   ]
  },
  {
   "cell_type": "code",
   "execution_count": 28,
   "id": "d29135c8",
   "metadata": {},
   "outputs": [
    {
     "data": {
      "text/html": [
       "<div>\n",
       "<style scoped>\n",
       "    .dataframe tbody tr th:only-of-type {\n",
       "        vertical-align: middle;\n",
       "    }\n",
       "\n",
       "    .dataframe tbody tr th {\n",
       "        vertical-align: top;\n",
       "    }\n",
       "\n",
       "    .dataframe thead th {\n",
       "        text-align: right;\n",
       "    }\n",
       "</style>\n",
       "<table border=\"1\" class=\"dataframe\">\n",
       "  <thead>\n",
       "    <tr style=\"text-align: right;\">\n",
       "      <th></th>\n",
       "      <th>user_iD</th>\n",
       "      <th>question_id</th>\n",
       "      <th>counts</th>\n",
       "    </tr>\n",
       "  </thead>\n",
       "  <tbody>\n",
       "    <tr>\n",
       "      <th>0</th>\n",
       "      <td>1</td>\n",
       "      <td>7</td>\n",
       "      <td>2</td>\n",
       "    </tr>\n",
       "    <tr>\n",
       "      <th>1</th>\n",
       "      <td>1</td>\n",
       "      <td>10</td>\n",
       "      <td>2</td>\n",
       "    </tr>\n",
       "    <tr>\n",
       "      <th>7</th>\n",
       "      <td>1</td>\n",
       "      <td>59</td>\n",
       "      <td>2</td>\n",
       "    </tr>\n",
       "    <tr>\n",
       "      <th>20</th>\n",
       "      <td>1</td>\n",
       "      <td>150</td>\n",
       "      <td>2</td>\n",
       "    </tr>\n",
       "    <tr>\n",
       "      <th>26</th>\n",
       "      <td>1</td>\n",
       "      <td>174</td>\n",
       "      <td>2</td>\n",
       "    </tr>\n",
       "  </tbody>\n",
       "</table>\n",
       "</div>"
      ],
      "text/plain": [
       "    user_iD  question_id  counts\n",
       "0         1            7       2\n",
       "1         1           10       2\n",
       "7         1           59       2\n",
       "20        1          150       2\n",
       "26        1          174       2"
      ]
     },
     "execution_count": 28,
     "metadata": {},
     "output_type": "execute_result"
    }
   ],
   "source": [
    "Repeat = df_i.loc[df_i['counts'] > 1]\n",
    "Repeat.head()"
   ]
  },
  {
   "cell_type": "code",
   "execution_count": null,
   "id": "3a3f8c5e",
   "metadata": {},
   "outputs": [],
   "source": [
    "Repeat[0:50]"
   ]
  },
  {
   "cell_type": "code",
   "execution_count": null,
   "id": "e71baa9a",
   "metadata": {},
   "outputs": [],
   "source": []
  }
 ],
 "metadata": {
  "kernelspec": {
   "display_name": "conda_python3",
   "language": "python",
   "name": "conda_python3"
  },
  "language_info": {
   "codemirror_mode": {
    "name": "ipython",
    "version": 3
   },
   "file_extension": ".py",
   "mimetype": "text/x-python",
   "name": "python",
   "nbconvert_exporter": "python",
   "pygments_lexer": "ipython3",
   "version": "3.6.13"
  }
 },
 "nbformat": 4,
 "nbformat_minor": 5
}
