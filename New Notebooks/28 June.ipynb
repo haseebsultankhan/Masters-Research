{
 "cells": [
  {
   "cell_type": "code",
   "execution_count": 13,
   "id": "0dd3ce21",
   "metadata": {},
   "outputs": [],
   "source": [
    "import pandas as pd\n",
    "import feather\n",
    "import numpy as np\n",
    "import boto3"
   ]
  },
  {
   "cell_type": "code",
   "execution_count": 2,
   "id": "ee386b87",
   "metadata": {},
   "outputs": [
    {
     "name": "stdout",
     "output_type": "stream",
     "text": [
      "Collecting parquet\n",
      "  Downloading parquet-1.3.1-py3-none-any.whl (24 kB)\n",
      "Collecting thriftpy2\n",
      "  Downloading thriftpy2-0.4.14.tar.gz (361 kB)\n",
      "\u001b[K     |████████████████████████████████| 361 kB 22.3 MB/s eta 0:00:01\n",
      "\u001b[?25hRequirement already satisfied: ply<4.0,>=3.4 in /home/ec2-user/anaconda3/envs/python3/lib/python3.6/site-packages (from thriftpy2->parquet) (3.11)\n",
      "Building wheels for collected packages: thriftpy2\n",
      "  Building wheel for thriftpy2 (setup.py) ... \u001b[?25ldone\n",
      "\u001b[?25h  Created wheel for thriftpy2: filename=thriftpy2-0.4.14-cp36-cp36m-linux_x86_64.whl size=504661 sha256=75db2ad4cead7e69e3c43c1ff1a836d4c7eeb5d511831f728d67719a43aaf0c0\n",
      "  Stored in directory: /home/ec2-user/.cache/pip/wheels/84/3c/2f/9b4cb4a4d3c9b7b29539daf52f6b2ecd68b78dd4d39853fff4\n",
      "Successfully built thriftpy2\n",
      "\u001b[33mWARNING: Error parsing requirements for urllib3: [Errno 2] No such file or directory: '/home/ec2-user/anaconda3/envs/python3/lib/python3.6/site-packages/urllib3-1.26.4.dist-info/METADATA'\u001b[0m\n",
      "\u001b[33mWARNING: Error parsing requirements for lxml: [Errno 2] No such file or directory: '/home/ec2-user/anaconda3/envs/python3/lib/python3.6/site-packages/lxml-4.6.3.dist-info/METADATA'\u001b[0m\n",
      "Installing collected packages: thriftpy2, parquet\n",
      "Successfully installed parquet-1.3.1 thriftpy2-0.4.14\n",
      "Note: you may need to restart the kernel to use updated packages.\n"
     ]
    }
   ],
   "source": [
    "pip install parquet"
   ]
  },
  {
   "cell_type": "code",
   "execution_count": 3,
   "id": "cfdd17b0",
   "metadata": {},
   "outputs": [],
   "source": [
    "KT1 = pd.read_feather('s3://haseebdata/EDNET DATA/KT1.ftr')"
   ]
  },
  {
   "cell_type": "code",
   "execution_count": 4,
   "id": "8eba9f77",
   "metadata": {},
   "outputs": [],
   "source": [
    "KT3 = pd.read_feather ('s3://haseebdata/EDNET DATA/KT3.ftr')"
   ]
  },
  {
   "cell_type": "code",
   "execution_count": 5,
   "id": "b35d57fe",
   "metadata": {},
   "outputs": [],
   "source": [
    "KT4 = pd.read_feather ('s3://haseebdata/EDNET DATA/KT4.ftr')"
   ]
  },
  {
   "cell_type": "markdown",
   "id": "485943e5",
   "metadata": {},
   "source": [
    "## CONVERTING TO PARAQET"
   ]
  },
  {
   "cell_type": "code",
   "execution_count": 9,
   "id": "f4d3a163",
   "metadata": {},
   "outputs": [],
   "source": [
    "KT1.to_parquet('K1.parquet')"
   ]
  },
  {
   "cell_type": "code",
   "execution_count": 10,
   "id": "c6206507",
   "metadata": {},
   "outputs": [],
   "source": [
    "KT3.to_parquet('K3.parquet')"
   ]
  },
  {
   "cell_type": "code",
   "execution_count": 11,
   "id": "d4537f1d",
   "metadata": {},
   "outputs": [],
   "source": [
    "KT4.to_parquet('K4.parquet')"
   ]
  },
  {
   "cell_type": "code",
   "execution_count": 18,
   "id": "dda6ff77",
   "metadata": {},
   "outputs": [],
   "source": [
    "path = 's3://haseebdata/EDNET DATA/KT-3 CSV/'"
   ]
  },
  {
   "cell_type": "code",
   "execution_count": 19,
   "id": "0738fef5",
   "metadata": {},
   "outputs": [
    {
     "data": {
      "text/plain": [
       "'s3://haseebdata/EDNET DATA/KT-3 CSV/'"
      ]
     },
     "execution_count": 19,
     "metadata": {},
     "output_type": "execute_result"
    }
   ],
   "source": [
    "path"
   ]
  },
  {
   "cell_type": "code",
   "execution_count": null,
   "id": "2970f9cd",
   "metadata": {},
   "outputs": [],
   "source": [
    "import glob\n",
    "src = \n",
    "dst = \n",
    "path = r's3://haseebdata/EDNET DATA/KT-3 CSV/' # use your path\n",
    "all_files = glob.glob(path + \"/*.csv\")\n",
    "\n",
    "if all_files[all_files.loc['action_type'].isin(['respond'>=30])]:\n",
    "    os.makedirs(os.pathdirname(dst), exist_ok=True)\n",
    "    copy2(src, dst)\n",
    "else:\n",
    "    print(\"Nothing Happened\")"
   ]
  },
  {
   "cell_type": "code",
   "execution_count": 4,
   "id": "486927ed",
   "metadata": {},
   "outputs": [
    {
     "ename": "FileNotFoundError",
     "evalue": "[Errno 2] No such file or directory: 's3://haseebdata/EDNET DATA/KT-3 CSV/'",
     "output_type": "error",
     "traceback": [
      "\u001b[0;31m---------------------------------------------------------------------------\u001b[0m",
      "\u001b[0;31mFileNotFoundError\u001b[0m                         Traceback (most recent call last)",
      "\u001b[0;32m<ipython-input-4-cf91aa07e9e4>\u001b[0m in \u001b[0;36m<module>\u001b[0;34m\u001b[0m\n\u001b[1;32m      2\u001b[0m \u001b[0;34m\u001b[0m\u001b[0m\n\u001b[1;32m      3\u001b[0m \u001b[0;31m# current directory csv files\u001b[0m\u001b[0;34m\u001b[0m\u001b[0;34m\u001b[0m\u001b[0;34m\u001b[0m\u001b[0m\n\u001b[0;32m----> 4\u001b[0;31m \u001b[0mcsvs\u001b[0m \u001b[0;34m=\u001b[0m \u001b[0;34m[\u001b[0m\u001b[0mx\u001b[0m \u001b[0;32mfor\u001b[0m \u001b[0mx\u001b[0m \u001b[0;32min\u001b[0m \u001b[0mos\u001b[0m\u001b[0;34m.\u001b[0m\u001b[0mlistdir\u001b[0m\u001b[0;34m(\u001b[0m\u001b[0mpath\u001b[0m\u001b[0;34m)\u001b[0m \u001b[0;32mif\u001b[0m \u001b[0mx\u001b[0m\u001b[0;34m.\u001b[0m\u001b[0mendswith\u001b[0m\u001b[0;34m(\u001b[0m\u001b[0;34m'.csv'\u001b[0m\u001b[0;34m)\u001b[0m\u001b[0;34m]\u001b[0m\u001b[0;34m\u001b[0m\u001b[0;34m\u001b[0m\u001b[0m\n\u001b[0m\u001b[1;32m      5\u001b[0m \u001b[0;31m# stats.csv -> stats\u001b[0m\u001b[0;34m\u001b[0m\u001b[0;34m\u001b[0m\u001b[0;34m\u001b[0m\u001b[0m\n\u001b[1;32m      6\u001b[0m \u001b[0mfns\u001b[0m \u001b[0;34m=\u001b[0m \u001b[0;34m[\u001b[0m\u001b[0mos\u001b[0m\u001b[0;34m.\u001b[0m\u001b[0mpath\u001b[0m\u001b[0;34m.\u001b[0m\u001b[0msplitext\u001b[0m\u001b[0;34m(\u001b[0m\u001b[0mos\u001b[0m\u001b[0;34m.\u001b[0m\u001b[0mpath\u001b[0m\u001b[0;34m.\u001b[0m\u001b[0mbasename\u001b[0m\u001b[0;34m(\u001b[0m\u001b[0mx\u001b[0m\u001b[0;34m)\u001b[0m\u001b[0;34m)\u001b[0m\u001b[0;34m[\u001b[0m\u001b[0;36m0\u001b[0m\u001b[0;34m]\u001b[0m \u001b[0;32mfor\u001b[0m \u001b[0mx\u001b[0m \u001b[0;32min\u001b[0m \u001b[0mcsvs\u001b[0m\u001b[0;34m]\u001b[0m\u001b[0;34m\u001b[0m\u001b[0;34m\u001b[0m\u001b[0m\n",
      "\u001b[0;31mFileNotFoundError\u001b[0m: [Errno 2] No such file or directory: 's3://haseebdata/EDNET DATA/KT-3 CSV/'"
     ]
    }
   ],
   "source": [
    "import os\n",
    "\n",
    "# current directory csv files\n",
    "csvs = [x for x in os.listdir(path) if x.endswith('.csv')]\n",
    "# stats.csv -> stats\n",
    "fns = [os.path.splitext(os.path.basename(x))[0] for x in csvs]\n",
    "\n",
    "d = {}\n",
    "for i in range(len(fns)):\n",
    "    d[fns[i]] = pd.read_csv(csvs[i])"
   ]
  },
  {
   "cell_type": "code",
   "execution_count": null,
   "id": "8731183b",
   "metadata": {},
   "outputs": [],
   "source": []
  }
 ],
 "metadata": {
  "kernelspec": {
   "display_name": "conda_python3",
   "language": "python",
   "name": "conda_python3"
  },
  "language_info": {
   "codemirror_mode": {
    "name": "ipython",
    "version": 3
   },
   "file_extension": ".py",
   "mimetype": "text/x-python",
   "name": "python",
   "nbconvert_exporter": "python",
   "pygments_lexer": "ipython3",
   "version": "3.6.13"
  }
 },
 "nbformat": 4,
 "nbformat_minor": 5
}
