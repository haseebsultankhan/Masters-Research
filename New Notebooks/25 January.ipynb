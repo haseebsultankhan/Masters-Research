{
 "cells": [
  {
   "cell_type": "code",
   "execution_count": 5,
   "id": "42d7d554",
   "metadata": {},
   "outputs": [],
   "source": [
    "import pandas as pd\n",
    "import numpy as np\n",
    "import seaborn as sns\n",
    "#import sagemaker\n",
    "#import boto3\n",
    "import matplotlib.pyplot as plt \n",
    "pd.set_option('display.max_columns',None) # To display all columns\n",
    "pd.set_option('display.max_rows',None) # To display all columns\n",
    "#client = boto3.client('s3')\n",
    "import feather\n",
    "import matplotlib.pyplot as plt\n",
    "from matplotlib.ticker import FuncFormatter\n",
    "from functools import reduce\n",
    "from datetime import datetime\n",
    "from dateutil.relativedelta import relativedelta\n",
    "import io\n",
    "import sys"
   ]
  },
  {
   "cell_type": "code",
   "execution_count": 2,
   "id": "7aaa17ce",
   "metadata": {},
   "outputs": [],
   "source": [
    "df = pd.read_feather('Dataframe27.ftr')\n",
    "#dfq=pd.read_feather('dfq.ftr')"
   ]
  },
  {
   "cell_type": "code",
   "execution_count": 3,
   "id": "a58ea026",
   "metadata": {},
   "outputs": [],
   "source": [
    "df['bundle_id'] ='b' + df['bundle_id'].astype(str)"
   ]
  },
  {
   "cell_type": "code",
   "execution_count": null,
   "id": "05048b6e",
   "metadata": {},
   "outputs": [],
   "source": [
    "df_aux = df[['user_iD','bundle_id','correct', 'timestamp']].sort_values(by=['timestamp']) \n",
    "\n",
    "# hard coded new headers (possible to build from real 'bundle_id's)\n",
    "df_new_headers = ['b{}'.format(x+1) for x in range(8933)]\n",
    "df_new_headers.insert(0, 'user_iD')\n",
    "\n",
    "dict_answered = {}\n",
    "# create a new dataframe (I'm sure that there is a more Pythonish solution)\n",
    "df_new_data = []\n",
    "user_ids = sorted(set( [x for label, x in df_aux.user_iD.items()]))\n",
    "for user_id in user_ids:\n",
    "    dict_answered[user_id] = 0\n",
    "    if len( sys.argv) > 1 and sys.argv[1]:\n",
    "        # supplied arg in the next line for better result readability\n",
    "        df_new_values = [sys.argv[1].strip('\"').strip(\"'\")\n",
    "            for x in range(len(df_new_headers)-1)]\n",
    "    else:\n",
    "        # zeroes (original assignment)\n",
    "        df_new_values = [0 for x in range(len(df_new_headers)-1)]\n",
    "    \n",
    "    df_new_values.insert(0, user_id)\n",
    "    df_new_data.append(df_new_values)\n",
    "\n",
    "df_new = pd.DataFrame(data=df_new_data, columns=df_new_headers)\n",
    "\n",
    "# fill the new dataframe using values from the original one\n",
    "for aux in df_aux.itertuples(index=True, name=None):\n",
    "    if aux[3] == 1.0:\n",
    "        # add 1 to number of already answered questions for current user \n",
    "        dict_answered[aux[1]] += 1\n",
    "        df_new.loc[ df_new[\"user_iD\"] == aux[1], aux[2]] = dict_answered[aux[1]]    \n",
    "\n",
    "#print( df_new)"
   ]
  },
  {
   "cell_type": "code",
   "execution_count": null,
   "id": "2ce2581b",
   "metadata": {},
   "outputs": [],
   "source": [
    "df_new.head()"
   ]
  },
  {
   "cell_type": "code",
   "execution_count": null,
   "id": "f01b7d7c",
   "metadata": {},
   "outputs": [],
   "source": [
    "df_new.to_feather('Out.ftr')"
   ]
  },
  {
   "cell_type": "code",
   "execution_count": null,
   "id": "8c29f30b",
   "metadata": {},
   "outputs": [],
   "source": []
  }
 ],
 "metadata": {
  "kernelspec": {
   "display_name": "conda_python3",
   "language": "python",
   "name": "conda_python3"
  },
  "language_info": {
   "codemirror_mode": {
    "name": "ipython",
    "version": 3
   },
   "file_extension": ".py",
   "mimetype": "text/x-python",
   "name": "python",
   "nbconvert_exporter": "python",
   "pygments_lexer": "ipython3",
   "version": "3.6.13"
  }
 },
 "nbformat": 4,
 "nbformat_minor": 5
}
